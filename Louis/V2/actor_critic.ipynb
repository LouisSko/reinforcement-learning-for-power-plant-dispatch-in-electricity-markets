{
 "cells": [
  {
   "cell_type": "code",
   "execution_count": 1,
   "outputs": [],
   "source": [
    "%load_ext autoreload\n",
    "%autoreload 2"
   ],
   "metadata": {
    "collapsed": false,
    "ExecuteTime": {
     "end_time": "2023-06-08T08:12:08.435988Z",
     "start_time": "2023-06-08T08:12:08.403417Z"
    }
   }
  },
  {
   "cell_type": "code",
   "execution_count": 2,
   "outputs": [],
   "source": [
    "from import_data import get_demand, get_gen, get_mcp, get_vre, read_processed_files\n",
    "from environment import market_env\n",
    "from actor_critic import ActorCriticAgent\n",
    "from utils import plot_learning_curve\n",
    "import numpy as np"
   ],
   "metadata": {
    "collapsed": false,
    "ExecuteTime": {
     "end_time": "2023-06-08T08:12:12.955552Z",
     "start_time": "2023-06-08T08:12:08.436816Z"
    }
   }
  },
  {
   "cell_type": "markdown",
   "source": [
    "# Get Data"
   ],
   "metadata": {
    "collapsed": false
   }
  },
  {
   "cell_type": "code",
   "execution_count": 5,
   "outputs": [],
   "source": [
    "df_demand, df_demand_scaled, df_vre, df_vre_scaled, df_gen, df_gen_scaled, df_mcp = read_processed_files()"
   ],
   "metadata": {
    "collapsed": false,
    "ExecuteTime": {
     "end_time": "2023-05-25T11:27:56.101660Z",
     "start_time": "2023-05-25T11:27:55.833940Z"
    }
   }
  },
  {
   "cell_type": "code",
   "execution_count": 17,
   "outputs": [
    {
     "name": "stderr",
     "output_type": "stream",
     "text": [
      "/Users/louis.skowronek/miniforge3/envs/bda_env/lib/python3.9/site-packages/gym/spaces/box.py:127: UserWarning: \u001B[33mWARN: Box bound precision lowered by casting to float32\u001B[0m\n",
      "  logger.warn(f\"Box bound precision lowered by casting to {self.dtype}\")\n"
     ]
    }
   ],
   "source": [
    "# Example usage\n",
    "env = market_env(demand=df_demand_scaled, re=df_vre_scaled, prices=df_mcp, eps_length=24, capacity=200, mc=30)\n",
    "\n",
    "# Assuming you have a gym environment called 'env'\n",
    "input_size = env.observation_space.shape[0]\n",
    "n_actions = env.action_space.n\n",
    "n_games = 1000\n",
    "\n",
    "agent = ActorCriticAgent(input_size, n_actions)\n",
    "\n",
    "filename = 'power_plant.png'\n",
    "\n",
    "figure_file = 'plots/' + filename\n",
    "\n",
    "best_score = env.reward_range[0]\n",
    "score_history = []\n",
    "load_checkpoint = False"
   ],
   "metadata": {
    "collapsed": false,
    "ExecuteTime": {
     "end_time": "2023-05-25T12:03:17.589050Z",
     "start_time": "2023-05-25T12:03:16.533223Z"
    }
   }
  },
  {
   "cell_type": "code",
   "execution_count": 18,
   "outputs": [
    {
     "name": "stdout",
     "output_type": "stream",
     "text": [
      "... saving models ...\n",
      "episode  0 score 28.8 avg_score 28.8\n",
      "episode  1 score 8.2 avg_score 18.5\n",
      "episode  2 score 15.4 avg_score 17.5\n",
      "episode  3 score 8.9 avg_score 15.3\n",
      "episode  4 score 38.9 avg_score 20.0\n",
      "episode  5 score 16.4 avg_score 19.4\n",
      "episode  6 score 14.8 avg_score 18.8\n",
      "episode  7 score 65.4 avg_score 24.6\n",
      "... saving models ...\n",
      "episode  8 score 161.8 avg_score 39.8\n",
      "... saving models ...\n",
      "episode  9 score 77.2 avg_score 43.6\n",
      "... saving models ...\n",
      "episode  10 score 50.1 avg_score 44.2\n",
      "episode  11 score 7.3 avg_score 41.1\n",
      "... saving models ...\n",
      "episode  12 score 92.2 avg_score 45.0\n",
      "episode  13 score 41.8 avg_score 44.8\n",
      "... saving models ...\n",
      "episode  14 score 168.6 avg_score 53.1\n",
      "episode  15 score 43.3 avg_score 52.4\n",
      "... saving models ...\n",
      "episode  16 score 115.6 avg_score 56.2\n",
      "episode  17 score 8.5 avg_score 53.5\n",
      "episode  18 score 86.9 avg_score 55.3\n",
      "... saving models ...\n",
      "episode  19 score 265.5 avg_score 65.8\n",
      "... saving models ...\n",
      "episode  20 score 138.5 avg_score 69.2\n",
      "... saving models ...\n",
      "episode  21 score 89.1 avg_score 70.1\n",
      "episode  22 score 20.3 avg_score 68.0\n",
      "episode  23 score 77.8 avg_score 68.4\n",
      "episode  24 score 6.3 avg_score 65.9\n",
      "episode  25 score 148.5 avg_score 69.1\n",
      "episode  26 score 61.1 avg_score 68.8\n",
      "episode  27 score 57.8 avg_score 68.4\n",
      "... saving models ...\n",
      "episode  28 score 123.4 avg_score 70.3\n",
      "episode  29 score -8.6 avg_score 67.7\n",
      "episode  30 score 69.5 avg_score 67.7\n",
      "... saving models ...\n",
      "episode  31 score 156.0 avg_score 70.5\n",
      "... saving models ...\n",
      "episode  32 score 101.5 avg_score 71.4\n",
      "episode  33 score 7.3 avg_score 69.5\n",
      "episode  34 score 105.4 avg_score 70.6\n",
      "episode  35 score 67.3 avg_score 70.5\n",
      "... saving models ...\n",
      "episode  36 score 117.5 avg_score 71.7\n",
      "... saving models ...\n",
      "episode  37 score 126.0 avg_score 73.2\n",
      "... saving models ...\n",
      "episode  38 score 80.0 avg_score 73.3\n",
      "... saving models ...\n",
      "episode  39 score 124.9 avg_score 74.6\n",
      "episode  40 score 46.4 avg_score 73.9\n",
      "... saving models ...\n",
      "episode  41 score 159.9 avg_score 76.0\n",
      "... saving models ...\n",
      "episode  42 score 262.8 avg_score 80.3\n",
      "... saving models ...\n",
      "episode  43 score 123.8 avg_score 81.3\n",
      "... saving models ...\n",
      "episode  44 score 96.1 avg_score 81.7\n",
      "... saving models ...\n",
      "episode  45 score 234.9 avg_score 85.0\n",
      "... saving models ...\n",
      "episode  46 score 170.5 avg_score 86.8\n",
      "episode  47 score 0.0 avg_score 85.0\n",
      "episode  48 score 123.7 avg_score 85.8\n",
      "... saving models ...\n",
      "episode  49 score 262.8 avg_score 89.3\n",
      "... saving models ...\n",
      "episode  50 score 174.2 avg_score 91.0\n",
      "... saving models ...\n",
      "episode  51 score 279.2 avg_score 94.6\n",
      "... saving models ...\n",
      "episode  52 score 212.6 avg_score 96.8\n",
      "... saving models ...\n",
      "episode  53 score 227.1 avg_score 99.2\n",
      "... saving models ...\n",
      "episode  54 score 117.7 avg_score 99.6\n",
      "... saving models ...\n",
      "episode  55 score 223.8 avg_score 101.8\n",
      "... saving models ...\n",
      "episode  56 score 280.2 avg_score 104.9\n",
      "... saving models ...\n",
      "episode  57 score 198.8 avg_score 106.5\n",
      "... saving models ...\n",
      "episode  58 score 228.2 avg_score 108.6\n",
      "... saving models ...\n",
      "episode  59 score 125.9 avg_score 108.9\n",
      "... saving models ...\n",
      "episode  60 score 183.3 avg_score 110.1\n",
      "... saving models ...\n",
      "episode  61 score 207.2 avg_score 111.7\n",
      "episode  62 score 89.8 avg_score 111.3\n",
      "... saving models ...\n",
      "episode  63 score 175.1 avg_score 112.3\n",
      "... saving models ...\n",
      "episode  64 score 204.9 avg_score 113.8\n",
      "... saving models ...\n",
      "episode  65 score 159.3 avg_score 114.4\n",
      "... saving models ...\n",
      "episode  66 score 125.4 avg_score 114.6\n",
      "... saving models ...\n",
      "episode  67 score 228.7 avg_score 116.3\n",
      "... saving models ...\n",
      "episode  68 score 195.8 avg_score 117.4\n",
      "... saving models ...\n",
      "episode  69 score 120.9 avg_score 117.5\n",
      "... saving models ...\n",
      "episode  70 score 196.7 avg_score 118.6\n",
      "... saving models ...\n",
      "episode  71 score 207.3 avg_score 119.8\n",
      "... saving models ...\n",
      "episode  72 score 180.1 avg_score 120.7\n",
      "episode  73 score 0.0 avg_score 119.0\n",
      "episode  74 score 0.0 avg_score 117.4\n",
      "episode  75 score 222.9 avg_score 118.8\n",
      "episode  76 score 241.6 avg_score 120.4\n",
      "... saving models ...\n",
      "episode  77 score 206.4 avg_score 121.5\n",
      "episode  78 score 16.4 avg_score 120.2\n",
      "... saving models ...\n",
      "episode  79 score 229.9 avg_score 121.6\n",
      "episode  80 score 116.4 avg_score 121.5\n",
      "episode  81 score 113.0 avg_score 121.4\n",
      "episode  82 score 129.3 avg_score 121.5\n",
      "... saving models ...\n",
      "episode  83 score 243.7 avg_score 123.0\n",
      "... saving models ...\n",
      "episode  84 score 230.7 avg_score 124.2\n",
      "... saving models ...\n",
      "episode  85 score 207.4 avg_score 125.2\n",
      "... saving models ...\n",
      "episode  86 score 197.8 avg_score 126.0\n",
      "... saving models ...\n",
      "episode  87 score 263.6 avg_score 127.6\n",
      "... saving models ...\n",
      "episode  88 score 231.1 avg_score 128.7\n",
      "... saving models ...\n",
      "episode  89 score 193.8 avg_score 129.5\n",
      "... saving models ...\n",
      "episode  90 score 180.1 avg_score 130.0\n",
      "... saving models ...\n",
      "episode  91 score 254.8 avg_score 131.4\n",
      "episode  92 score 28.2 avg_score 130.3\n",
      "episode  93 score 141.7 avg_score 130.4\n",
      "episode  94 score 200.9 avg_score 131.1\n",
      "... saving models ...\n",
      "episode  95 score 234.0 avg_score 132.2\n",
      "episode  96 score 31.3 avg_score 131.2\n",
      "episode  97 score 93.3 avg_score 130.8\n",
      "episode  98 score 265.8 avg_score 132.1\n",
      "... saving models ...\n",
      "episode  99 score 184.4 avg_score 132.7\n",
      "... saving models ...\n",
      "episode  100 score 197.6 avg_score 134.4\n",
      "... saving models ...\n",
      "episode  101 score 148.4 avg_score 135.8\n",
      "... saving models ...\n",
      "episode  102 score 242.9 avg_score 138.0\n",
      "... saving models ...\n",
      "episode  103 score 127.8 avg_score 139.2\n",
      "... saving models ...\n",
      "episode  104 score 231.0 avg_score 141.1\n",
      "... saving models ...\n",
      "episode  105 score 149.4 avg_score 142.5\n",
      "episode  106 score 0.0 avg_score 142.3\n",
      "... saving models ...\n",
      "episode  107 score 239.3 avg_score 144.1\n",
      "... saving models ...\n",
      "episode  108 score 244.0 avg_score 144.9\n",
      "... saving models ...\n",
      "episode  109 score 184.5 avg_score 146.0\n",
      "... saving models ...\n",
      "episode  110 score 222.4 avg_score 147.7\n",
      "... saving models ...\n",
      "episode  111 score 230.0 avg_score 149.9\n",
      "episode  112 score 54.9 avg_score 149.5\n",
      "... saving models ...\n",
      "episode  113 score 109.7 avg_score 150.2\n",
      "... saving models ...\n",
      "episode  114 score 213.4 avg_score 150.7\n",
      "episode  115 score 26.4 avg_score 150.5\n",
      "... saving models ...\n",
      "episode  116 score 264.4 avg_score 152.0\n",
      "... saving models ...\n",
      "episode  117 score 227.9 avg_score 154.2\n",
      "... saving models ...\n",
      "episode  118 score 142.5 avg_score 154.7\n",
      "episode  119 score 242.7 avg_score 154.5\n",
      "... saving models ...\n",
      "episode  120 score 181.8 avg_score 154.9\n",
      "episode  121 score 0.0 avg_score 154.0\n",
      "... saving models ...\n",
      "episode  122 score 233.7 avg_score 156.2\n",
      "... saving models ...\n",
      "episode  123 score 226.3 avg_score 157.7\n",
      "episode  124 score 0.0 avg_score 157.6\n",
      "... saving models ...\n",
      "episode  125 score 231.3 avg_score 158.4\n",
      "... saving models ...\n",
      "episode  126 score 205.2 avg_score 159.9\n",
      "... saving models ...\n",
      "episode  127 score 251.6 avg_score 161.8\n",
      "... saving models ...\n",
      "episode  128 score 146.8 avg_score 162.0\n",
      "... saving models ...\n",
      "episode  129 score 144.1 avg_score 163.6\n",
      "... saving models ...\n",
      "episode  130 score 249.2 avg_score 165.4\n",
      "... saving models ...\n",
      "episode  131 score 186.9 avg_score 165.7\n",
      "... saving models ...\n",
      "episode  132 score 191.5 avg_score 166.6\n",
      "... saving models ...\n",
      "episode  133 score 131.0 avg_score 167.8\n",
      "... saving models ...\n",
      "episode  134 score 189.5 avg_score 168.7\n",
      "... saving models ...\n",
      "episode  135 score 211.7 avg_score 170.1\n",
      "... saving models ...\n",
      "episode  136 score 150.7 avg_score 170.4\n",
      "... saving models ...\n",
      "episode  137 score 196.2 avg_score 171.1\n",
      "episode  138 score 25.4 avg_score 170.6\n",
      "episode  139 score 56.2 avg_score 169.9\n",
      "... saving models ...\n",
      "episode  140 score 257.9 avg_score 172.0\n",
      "episode  141 score 79.0 avg_score 171.2\n",
      "episode  142 score 0.0 avg_score 168.6\n",
      "episode  143 score 274.0 avg_score 170.1\n",
      "episode  144 score 10.9 avg_score 169.2\n",
      "episode  145 score 210.7 avg_score 169.0\n",
      "episode  146 score -0.8 avg_score 167.3\n",
      "episode  147 score 132.8 avg_score 168.6\n",
      "episode  148 score 170.9 avg_score 169.1\n",
      "episode  149 score 257.2 avg_score 169.0\n",
      "episode  150 score 127.8 avg_score 168.6\n",
      "episode  151 score 183.7 avg_score 167.6\n",
      "episode  152 score 136.5 avg_score 166.8\n",
      "episode  153 score 118.9 avg_score 165.8\n",
      "episode  154 score 134.8 avg_score 165.9\n",
      "episode  155 score 111.1 avg_score 164.8\n",
      "episode  156 score 250.5 avg_score 164.5\n",
      "episode  157 score 218.9 avg_score 164.7\n",
      "episode  158 score 248.0 avg_score 164.9\n",
      "episode  159 score 144.8 avg_score 165.1\n",
      "episode  160 score 137.8 avg_score 164.6\n",
      "episode  161 score 202.0 avg_score 164.6\n",
      "episode  162 score 60.0 avg_score 164.3\n",
      "episode  163 score 277.7 avg_score 165.3\n",
      "episode  164 score 192.9 avg_score 165.2\n",
      "episode  165 score 31.7 avg_score 163.9\n",
      "episode  166 score 78.0 avg_score 163.4\n",
      "episode  167 score 242.6 avg_score 163.6\n",
      "episode  168 score 65.9 avg_score 162.3\n",
      "episode  169 score 79.9 avg_score 161.9\n",
      "episode  170 score 207.3 avg_score 162.0\n",
      "episode  171 score 242.5 avg_score 162.3\n",
      "episode  172 score 152.1 avg_score 162.0\n",
      "episode  173 score 93.0 avg_score 163.0\n",
      "episode  174 score 82.6 avg_score 163.8\n",
      "episode  175 score 92.5 avg_score 162.5\n",
      "episode  176 score 131.9 avg_score 161.4\n",
      "episode  177 score 204.1 avg_score 161.4\n",
      "episode  178 score 217.5 avg_score 163.4\n",
      "episode  179 score 102.7 avg_score 162.1\n",
      "episode  180 score 152.6 avg_score 162.5\n",
      "episode  181 score 187.3 avg_score 163.2\n",
      "episode  182 score 264.4 avg_score 164.6\n",
      "episode  183 score 227.4 avg_score 164.4\n",
      "episode  184 score 119.5 avg_score 163.3\n",
      "episode  185 score 226.3 avg_score 163.5\n",
      "episode  186 score 267.6 avg_score 164.2\n",
      "episode  187 score 204.6 avg_score 163.6\n",
      "episode  188 score 140.1 avg_score 162.7\n",
      "episode  189 score 245.1 avg_score 163.2\n",
      "episode  190 score 192.7 avg_score 163.3\n",
      "episode  191 score 143.8 avg_score 162.2\n",
      "episode  192 score 207.1 avg_score 164.0\n",
      "episode  193 score 264.2 avg_score 165.2\n",
      "episode  194 score 99.1 avg_score 164.2\n",
      "episode  195 score 249.2 avg_score 164.4\n",
      "episode  196 score 119.5 avg_score 165.2\n",
      "episode  197 score 189.6 avg_score 166.2\n",
      "episode  198 score 229.2 avg_score 165.8\n",
      "episode  199 score 145.4 avg_score 165.5\n",
      "episode  200 score 31.5 avg_score 163.8\n",
      "episode  201 score 5.1 avg_score 162.4\n",
      "episode  202 score 186.3 avg_score 161.8\n",
      "episode  203 score 7.8 avg_score 160.6\n",
      "episode  204 score 136.2 avg_score 159.6\n",
      "episode  205 score 63.1 avg_score 158.8\n",
      "episode  206 score 185.2 avg_score 160.6\n",
      "episode  207 score 239.9 avg_score 160.6\n",
      "episode  208 score 189.3 avg_score 160.1\n",
      "episode  209 score 204.2 avg_score 160.3\n",
      "episode  210 score 226.5 avg_score 160.3\n",
      "episode  211 score 191.8 avg_score 159.9\n",
      "episode  212 score 227.9 avg_score 161.7\n",
      "episode  213 score 203.2 avg_score 162.6\n",
      "episode  214 score 199.9 avg_score 162.5\n",
      "episode  215 score 231.4 avg_score 164.5\n",
      "episode  216 score 176.6 avg_score 163.7\n",
      "episode  217 score 262.5 avg_score 164.0\n",
      "episode  218 score 184.7 avg_score 164.4\n",
      "episode  219 score 246.0 avg_score 164.5\n",
      "episode  220 score 239.3 avg_score 165.0\n",
      "episode  221 score 141.7 avg_score 166.4\n",
      "episode  222 score 247.8 avg_score 166.6\n",
      "episode  223 score 212.7 avg_score 166.4\n",
      "episode  224 score 0.0 avg_score 166.4\n",
      "episode  225 score 28.2 avg_score 164.4\n",
      "episode  226 score 56.8 avg_score 162.9\n",
      "episode  227 score 253.4 avg_score 163.0\n",
      "episode  228 score 241.4 avg_score 163.9\n",
      "episode  229 score 200.5 avg_score 164.5\n",
      "episode  230 score 261.6 avg_score 164.6\n",
      "episode  231 score 233.3 avg_score 165.1\n",
      "episode  232 score 215.3 avg_score 165.3\n",
      "episode  233 score 234.0 avg_score 166.3\n",
      "episode  234 score 199.6 avg_score 166.4\n",
      "episode  235 score 214.3 avg_score 166.4\n",
      "episode  236 score 88.4 avg_score 165.8\n",
      "episode  237 score 82.4 avg_score 164.7\n",
      "episode  238 score 26.8 avg_score 164.7\n",
      "episode  239 score 39.3 avg_score 164.5\n",
      "episode  240 score 269.6 avg_score 164.7\n",
      "episode  241 score 134.3 avg_score 165.2\n",
      "episode  242 score 188.7 avg_score 167.1\n",
      "episode  243 score 107.9 avg_score 165.4\n",
      "episode  244 score 241.8 avg_score 167.7\n",
      "episode  245 score 143.4 avg_score 167.1\n",
      "episode  246 score 251.7 avg_score 169.6\n",
      "episode  247 score 64.1 avg_score 168.9\n",
      "episode  248 score 209.7 avg_score 169.3\n",
      "episode  249 score 194.0 avg_score 168.7\n",
      "episode  250 score 212.4 avg_score 169.5\n",
      "episode  251 score 244.6 avg_score 170.1\n",
      "episode  252 score 270.2 avg_score 171.5\n",
      "... saving models ...\n",
      "episode  253 score 239.5 avg_score 172.7\n",
      "episode  254 score 109.3 avg_score 172.4\n",
      "episode  255 score 5.1 avg_score 171.3\n",
      "episode  256 score 189.7 avg_score 170.7\n",
      "episode  257 score 191.1 avg_score 170.5\n",
      "episode  258 score 120.4 avg_score 169.2\n",
      "episode  259 score 125.1 avg_score 169.0\n",
      "episode  260 score 166.0 avg_score 169.3\n",
      "episode  261 score 200.2 avg_score 169.2\n",
      "episode  262 score 52.8 avg_score 169.2\n",
      "episode  263 score 139.6 avg_score 167.8\n",
      "episode  264 score 148.4 avg_score 167.4\n",
      "episode  265 score 249.5 avg_score 169.5\n",
      "episode  266 score 230.0 avg_score 171.0\n",
      "episode  267 score 233.1 avg_score 171.0\n",
      "episode  268 score 208.9 avg_score 172.4\n",
      "... saving models ...\n",
      "episode  269 score 240.5 avg_score 174.0\n",
      "episode  270 score 194.8 avg_score 173.9\n",
      "episode  271 score 78.0 avg_score 172.2\n",
      "episode  272 score 191.8 avg_score 172.6\n",
      "episode  273 score 225.6 avg_score 173.9\n",
      "... saving models ...\n",
      "episode  274 score 207.5 avg_score 175.2\n",
      "... saving models ...\n",
      "episode  275 score 237.2 avg_score 176.6\n",
      "... saving models ...\n",
      "episode  276 score 250.3 avg_score 177.8\n",
      "episode  277 score 150.0 avg_score 177.3\n",
      "... saving models ...\n",
      "episode  278 score 279.6 avg_score 177.9\n",
      "episode  279 score 0.0 avg_score 176.9\n",
      "episode  280 score 0.0 avg_score 175.3\n",
      "episode  281 score 53.9 avg_score 174.0\n",
      "episode  282 score 178.1 avg_score 173.2\n",
      "episode  283 score 0.0 avg_score 170.9\n",
      "episode  284 score 246.7 avg_score 172.1\n",
      "episode  285 score 123.9 avg_score 171.1\n",
      "episode  286 score 123.3 avg_score 169.7\n",
      "episode  287 score 265.6 avg_score 170.3\n",
      "episode  288 score 182.0 avg_score 170.7\n",
      "episode  289 score 208.8 avg_score 170.3\n",
      "episode  290 score 192.8 avg_score 170.3\n",
      "episode  291 score 191.5 avg_score 170.8\n",
      "episode  292 score 208.4 avg_score 170.8\n",
      "episode  293 score 82.4 avg_score 169.0\n",
      "episode  294 score 230.4 avg_score 170.3\n",
      "episode  295 score 166.6 avg_score 169.5\n",
      "episode  296 score 190.4 avg_score 170.2\n",
      "episode  297 score 143.8 avg_score 169.8\n",
      "episode  298 score 258.7 avg_score 170.1\n",
      "episode  299 score 197.6 avg_score 170.6\n",
      "episode  300 score 140.1 avg_score 171.7\n",
      "episode  301 score 249.2 avg_score 174.1\n",
      "episode  302 score 183.7 avg_score 174.1\n",
      "episode  303 score 175.9 avg_score 175.8\n",
      "episode  304 score 186.7 avg_score 176.3\n",
      "... saving models ...\n",
      "episode  305 score 235.8 avg_score 178.0\n",
      "... saving models ...\n",
      "episode  306 score 241.6 avg_score 178.6\n",
      "episode  307 score 191.6 avg_score 178.1\n",
      "episode  308 score 164.8 avg_score 177.8\n",
      "episode  309 score 225.6 avg_score 178.0\n",
      "episode  310 score 254.6 avg_score 178.3\n",
      "episode  311 score 210.2 avg_score 178.5\n",
      "episode  312 score 136.5 avg_score 177.6\n",
      "episode  313 score 35.1 avg_score 175.9\n",
      "episode  314 score 186.1 avg_score 175.8\n",
      "episode  315 score 238.0 avg_score 175.8\n",
      "episode  316 score 202.7 avg_score 176.1\n",
      "episode  317 score 150.7 avg_score 175.0\n",
      "episode  318 score 229.9 avg_score 175.4\n",
      "episode  319 score 121.1 avg_score 174.2\n",
      "episode  320 score 266.8 avg_score 174.5\n",
      "episode  321 score 203.3 avg_score 175.1\n",
      "episode  322 score 256.4 avg_score 175.2\n",
      "episode  323 score 140.7 avg_score 174.4\n",
      "episode  324 score 60.5 avg_score 175.0\n",
      "episode  325 score 255.3 avg_score 177.3\n",
      "... saving models ...\n",
      "episode  326 score 247.0 avg_score 179.2\n",
      "episode  327 score 3.9 avg_score 176.7\n",
      "episode  328 score 224.1 avg_score 176.5\n",
      "episode  329 score 209.4 avg_score 176.6\n",
      "episode  330 score 197.2 avg_score 176.0\n",
      "episode  331 score 156.8 avg_score 175.2\n",
      "episode  332 score 251.0 avg_score 175.6\n",
      "episode  333 score 227.1 avg_score 175.5\n",
      "episode  334 score 261.6 avg_score 176.1\n",
      "episode  335 score 233.4 avg_score 176.3\n",
      "episode  336 score 201.5 avg_score 177.5\n",
      "episode  337 score 236.7 avg_score 179.0\n",
      "... saving models ...\n",
      "episode  338 score 56.2 avg_score 179.3\n",
      "... saving models ...\n",
      "episode  339 score 249.2 avg_score 181.4\n",
      "episode  340 score 267.7 avg_score 181.4\n",
      "... saving models ...\n",
      "episode  341 score 194.9 avg_score 182.0\n",
      "... saving models ...\n",
      "episode  342 score 232.3 avg_score 182.4\n",
      "episode  343 score 30.1 avg_score 181.6\n",
      "episode  344 score 227.1 avg_score 181.5\n",
      "... saving models ...\n",
      "episode  345 score 254.2 avg_score 182.6\n",
      "episode  346 score 23.6 avg_score 180.3\n",
      "episode  347 score 218.9 avg_score 181.9\n",
      "episode  348 score 257.5 avg_score 182.3\n",
      "episode  349 score 207.6 avg_score 182.5\n",
      "episode  350 score 174.4 avg_score 182.1\n",
      "episode  351 score 137.2 avg_score 181.0\n",
      "episode  352 score 184.5 avg_score 180.2\n",
      "episode  353 score 162.5 avg_score 179.4\n",
      "episode  354 score 206.9 avg_score 180.4\n",
      "episode  355 score 134.2 avg_score 181.7\n",
      "episode  356 score 247.6 avg_score 182.2\n",
      "episode  357 score 223.1 avg_score 182.6\n",
      "... saving models ...\n",
      "episode  358 score 189.1 avg_score 183.3\n",
      "episode  359 score 41.3 avg_score 182.4\n",
      "episode  360 score 127.8 avg_score 182.0\n",
      "episode  361 score 173.9 avg_score 181.8\n",
      "... saving models ...\n",
      "episode  362 score 249.2 avg_score 183.7\n",
      "... saving models ...\n",
      "episode  363 score 193.0 avg_score 184.3\n",
      "... saving models ...\n",
      "episode  364 score 245.7 avg_score 185.2\n",
      "... saving models ...\n",
      "episode  365 score 255.4 avg_score 185.3\n",
      "episode  366 score 227.1 avg_score 185.3\n",
      "episode  367 score 213.4 avg_score 185.1\n",
      "episode  368 score 213.4 avg_score 185.1\n",
      "episode  369 score 190.5 avg_score 184.6\n",
      "episode  370 score 231.0 avg_score 185.0\n",
      "... saving models ...\n",
      "episode  371 score 123.5 avg_score 185.4\n",
      "... saving models ...\n",
      "episode  372 score 199.7 avg_score 185.5\n",
      "episode  373 score 204.3 avg_score 185.3\n",
      "episode  374 score 34.7 avg_score 183.6\n",
      "episode  375 score 142.3 avg_score 182.6\n",
      "episode  376 score 101.9 avg_score 181.1\n",
      "episode  377 score 242.9 avg_score 182.1\n",
      "episode  378 score 0.0 avg_score 179.3\n",
      "episode  379 score 257.5 avg_score 181.8\n",
      "episode  380 score 170.1 avg_score 183.5\n",
      "episode  381 score 196.1 avg_score 185.0\n",
      "... saving models ...\n",
      "episode  382 score 245.9 avg_score 185.6\n",
      "... saving models ...\n",
      "episode  383 score 189.1 avg_score 187.5\n",
      "... saving models ...\n",
      "episode  384 score 259.8 avg_score 187.7\n",
      "... saving models ...\n",
      "episode  385 score 255.0 avg_score 189.0\n",
      "... saving models ...\n",
      "episode  386 score 153.8 avg_score 189.3\n",
      "episode  387 score 237.0 avg_score 189.0\n",
      "episode  388 score 208.6 avg_score 189.3\n",
      "episode  389 score 161.9 avg_score 188.8\n",
      "... saving models ...\n",
      "episode  390 score 249.2 avg_score 189.4\n",
      "... saving models ...\n",
      "episode  391 score 251.7 avg_score 190.0\n",
      "... saving models ...\n",
      "episode  392 score 266.2 avg_score 190.5\n",
      "... saving models ...\n",
      "episode  393 score 144.8 avg_score 191.2\n",
      "... saving models ...\n",
      "episode  394 score 267.3 avg_score 191.5\n",
      "episode  395 score 0.0 avg_score 189.9\n",
      "episode  396 score 131.9 avg_score 189.3\n",
      "episode  397 score 70.8 avg_score 188.6\n",
      "episode  398 score 240.1 avg_score 188.4\n",
      "episode  399 score 210.0 avg_score 188.5\n",
      "episode  400 score 212.9 avg_score 189.2\n",
      "episode  401 score 242.1 avg_score 189.2\n",
      "episode  402 score 233.0 avg_score 189.6\n",
      "episode  403 score 197.8 avg_score 189.9\n",
      "episode  404 score 171.3 avg_score 189.7\n",
      "episode  405 score 156.7 avg_score 188.9\n",
      "episode  406 score 26.8 avg_score 186.8\n",
      "episode  407 score 97.3 avg_score 185.8\n",
      "episode  408 score 7.1 avg_score 184.2\n",
      "episode  409 score 181.4 avg_score 183.8\n",
      "episode  410 score 109.7 avg_score 182.4\n",
      "episode  411 score 225.0 avg_score 182.5\n",
      "episode  412 score 251.7 avg_score 183.7\n",
      "episode  413 score 191.1 avg_score 185.2\n",
      "episode  414 score 243.7 avg_score 185.8\n",
      "episode  415 score 111.0 avg_score 184.5\n",
      "episode  416 score 208.5 avg_score 184.6\n",
      "episode  417 score 206.4 avg_score 185.1\n",
      "episode  418 score 239.1 avg_score 185.2\n",
      "episode  419 score 209.1 avg_score 186.1\n",
      "episode  420 score 175.4 avg_score 185.2\n",
      "episode  421 score 0.0 avg_score 183.2\n",
      "episode  422 score 200.5 avg_score 182.6\n",
      "episode  423 score 166.8 avg_score 182.9\n",
      "episode  424 score 234.1 avg_score 184.6\n",
      "episode  425 score 0.0 avg_score 182.0\n",
      "episode  426 score 72.8 avg_score 180.3\n",
      "episode  427 score 267.7 avg_score 182.9\n",
      "episode  428 score 100.9 avg_score 181.7\n",
      "episode  429 score 187.6 avg_score 181.5\n",
      "episode  430 score 191.4 avg_score 181.4\n",
      "episode  431 score 275.5 avg_score 182.6\n",
      "episode  432 score 109.3 avg_score 181.2\n",
      "episode  433 score 136.4 avg_score 180.3\n",
      "episode  434 score 140.0 avg_score 179.1\n",
      "episode  435 score 135.1 avg_score 178.1\n",
      "episode  436 score 216.4 avg_score 178.3\n",
      "episode  437 score 243.9 avg_score 178.3\n",
      "episode  438 score 191.1 avg_score 179.7\n",
      "episode  439 score 189.6 avg_score 179.1\n",
      "episode  440 score 244.3 avg_score 178.8\n",
      "episode  441 score 152.0 avg_score 178.4\n",
      "episode  442 score 80.6 avg_score 176.9\n",
      "episode  443 score 125.6 avg_score 177.8\n",
      "episode  444 score 0.0 avg_score 175.6\n",
      "episode  445 score 172.2 avg_score 174.8\n",
      "episode  446 score 130.4 avg_score 175.8\n",
      "episode  447 score 125.0 avg_score 174.9\n",
      "episode  448 score 49.9 avg_score 172.8\n",
      "episode  449 score 152.0 avg_score 172.3\n",
      "episode  450 score 155.1 avg_score 172.1\n",
      "episode  451 score 220.0 avg_score 172.9\n",
      "episode  452 score 184.9 avg_score 172.9\n",
      "episode  453 score 94.7 avg_score 172.2\n",
      "episode  454 score 219.2 avg_score 172.3\n",
      "episode  455 score 205.4 avg_score 173.1\n",
      "episode  456 score 174.2 avg_score 172.3\n",
      "episode  457 score 270.7 avg_score 172.8\n",
      "episode  458 score 116.5 avg_score 172.1\n",
      "episode  459 score 105.5 avg_score 172.7\n",
      "episode  460 score 245.9 avg_score 173.9\n",
      "episode  461 score 252.5 avg_score 174.7\n",
      "episode  462 score 74.5 avg_score 172.9\n",
      "episode  463 score 31.7 avg_score 171.3\n",
      "episode  464 score 212.8 avg_score 171.0\n",
      "episode  465 score 164.9 avg_score 170.1\n",
      "episode  466 score 128.2 avg_score 169.1\n",
      "episode  467 score 190.2 avg_score 168.9\n",
      "episode  468 score 196.2 avg_score 168.7\n",
      "episode  469 score 235.6 avg_score 169.1\n",
      "episode  470 score 89.9 avg_score 167.7\n",
      "episode  471 score 247.6 avg_score 169.0\n",
      "episode  472 score 245.8 avg_score 169.4\n",
      "episode  473 score 233.9 avg_score 169.7\n",
      "episode  474 score 183.3 avg_score 171.2\n",
      "episode  475 score 152.3 avg_score 171.3\n",
      "episode  476 score 242.6 avg_score 172.7\n",
      "episode  477 score 79.8 avg_score 171.1\n",
      "episode  478 score 269.2 avg_score 173.8\n",
      "episode  479 score 236.7 avg_score 173.6\n",
      "episode  480 score 36.7 avg_score 172.2\n",
      "episode  481 score 238.7 avg_score 172.7\n",
      "episode  482 score 72.2 avg_score 170.9\n",
      "episode  483 score 188.4 avg_score 170.9\n",
      "episode  484 score 213.6 avg_score 170.5\n",
      "episode  485 score 112.7 avg_score 169.0\n",
      "episode  486 score 237.5 avg_score 169.9\n",
      "episode  487 score 175.4 avg_score 169.3\n",
      "episode  488 score 248.0 avg_score 169.6\n",
      "episode  489 score 52.0 avg_score 168.5\n",
      "episode  490 score 248.1 avg_score 168.5\n",
      "episode  491 score 156.2 avg_score 167.6\n",
      "episode  492 score 264.0 avg_score 167.6\n",
      "episode  493 score 0.0 avg_score 166.1\n",
      "episode  494 score 252.8 avg_score 166.0\n",
      "episode  495 score 130.4 avg_score 167.3\n",
      "episode  496 score 267.6 avg_score 168.6\n",
      "episode  497 score 264.8 avg_score 170.6\n",
      "episode  498 score 0.0 avg_score 168.2\n",
      "episode  499 score 13.3 avg_score 166.2\n",
      "episode  500 score 152.6 avg_score 165.6\n",
      "episode  501 score 10.9 avg_score 163.3\n",
      "episode  502 score 123.5 avg_score 162.2\n",
      "episode  503 score 0.0 avg_score 160.2\n",
      "episode  504 score 232.1 avg_score 160.8\n",
      "episode  505 score 138.6 avg_score 160.6\n",
      "episode  506 score 254.6 avg_score 162.9\n",
      "episode  507 score 201.5 avg_score 164.0\n",
      "episode  508 score 0.0 avg_score 163.9\n",
      "episode  509 score 133.4 avg_score 163.4\n",
      "episode  510 score 233.6 avg_score 164.6\n",
      "episode  511 score 140.4 avg_score 163.8\n",
      "episode  512 score 60.5 avg_score 161.9\n",
      "episode  513 score 202.7 avg_score 162.0\n",
      "episode  514 score 127.8 avg_score 160.8\n",
      "episode  515 score 209.1 avg_score 161.8\n",
      "episode  516 score 0.0 avg_score 159.7\n",
      "episode  517 score 231.0 avg_score 160.0\n",
      "episode  518 score 224.6 avg_score 159.8\n",
      "episode  519 score 64.1 avg_score 158.4\n",
      "episode  520 score 270.5 avg_score 159.3\n",
      "episode  521 score 216.2 avg_score 161.5\n",
      "episode  522 score 251.4 avg_score 162.0\n",
      "episode  523 score 208.9 avg_score 162.4\n",
      "episode  524 score 163.6 avg_score 161.7\n",
      "episode  525 score 238.0 avg_score 164.1\n",
      "episode  526 score 0.0 avg_score 163.4\n",
      "episode  527 score 122.1 avg_score 161.9\n",
      "episode  528 score 189.7 avg_score 162.8\n",
      "episode  529 score 208.9 avg_score 163.0\n",
      "episode  530 score 201.5 avg_score 163.1\n",
      "episode  531 score 137.9 avg_score 161.8\n",
      "episode  532 score 264.9 avg_score 163.3\n",
      "episode  533 score 130.6 avg_score 163.2\n",
      "episode  534 score 203.1 avg_score 163.9\n",
      "episode  535 score 226.6 avg_score 164.8\n",
      "episode  536 score 237.8 avg_score 165.0\n",
      "episode  537 score 41.9 avg_score 163.0\n",
      "episode  538 score 272.5 avg_score 163.8\n",
      "episode  539 score 253.5 avg_score 164.4\n",
      "episode  540 score 191.1 avg_score 163.9\n",
      "episode  541 score 213.6 avg_score 164.5\n",
      "episode  542 score 226.3 avg_score 166.0\n",
      "episode  543 score 227.9 avg_score 167.0\n",
      "episode  544 score 148.3 avg_score 168.5\n",
      "episode  545 score 189.7 avg_score 168.7\n",
      "episode  546 score 189.1 avg_score 169.3\n",
      "episode  547 score 129.6 avg_score 169.3\n",
      "episode  548 score 241.8 avg_score 171.2\n",
      "episode  549 score 209.8 avg_score 171.8\n",
      "episode  550 score 200.4 avg_score 172.2\n",
      "episode  551 score 232.3 avg_score 172.4\n",
      "episode  552 score 217.4 avg_score 172.7\n",
      "episode  553 score 254.5 avg_score 174.3\n",
      "episode  554 score 191.4 avg_score 174.0\n",
      "episode  555 score 227.0 avg_score 174.2\n",
      "episode  556 score 204.2 avg_score 174.5\n",
      "episode  557 score 185.2 avg_score 173.7\n",
      "episode  558 score 184.7 avg_score 174.4\n",
      "episode  559 score 201.7 avg_score 175.3\n",
      "episode  560 score 194.2 avg_score 174.8\n",
      "episode  561 score 7.1 avg_score 172.4\n",
      "episode  562 score 205.3 avg_score 173.7\n",
      "episode  563 score 121.9 avg_score 174.6\n",
      "episode  564 score 243.9 avg_score 174.9\n",
      "episode  565 score 256.1 avg_score 175.8\n",
      "episode  566 score 171.5 avg_score 176.2\n",
      "episode  567 score 225.3 avg_score 176.6\n",
      "episode  568 score 232.1 avg_score 176.9\n",
      "episode  569 score 210.7 avg_score 176.7\n",
      "episode  570 score 152.6 avg_score 177.3\n",
      "episode  571 score 144.9 avg_score 176.3\n",
      "episode  572 score 216.2 avg_score 176.0\n",
      "episode  573 score 172.8 avg_score 175.4\n",
      "episode  574 score 187.9 avg_score 175.4\n",
      "episode  575 score 213.6 avg_score 176.0\n",
      "episode  576 score 261.4 avg_score 176.2\n",
      "episode  577 score 30.1 avg_score 175.7\n",
      "episode  578 score 146.8 avg_score 174.5\n",
      "episode  579 score 246.8 avg_score 174.6\n",
      "episode  580 score 140.0 avg_score 175.6\n",
      "episode  581 score 13.7 avg_score 173.4\n",
      "episode  582 score 42.5 avg_score 173.1\n",
      "episode  583 score 26.8 avg_score 171.5\n",
      "episode  584 score 199.4 avg_score 171.3\n",
      "episode  585 score 262.2 avg_score 172.8\n",
      "episode  586 score 271.4 avg_score 173.2\n",
      "episode  587 score 179.5 avg_score 173.2\n",
      "episode  588 score 184.7 avg_score 172.6\n",
      "episode  589 score 142.9 avg_score 173.5\n",
      "episode  590 score 77.3 avg_score 171.8\n",
      "episode  591 score 195.9 avg_score 172.2\n",
      "episode  592 score 34.7 avg_score 169.9\n",
      "episode  593 score 149.0 avg_score 171.4\n",
      "episode  594 score 43.3 avg_score 169.3\n",
      "episode  595 score 203.8 avg_score 170.0\n",
      "episode  596 score 169.7 avg_score 169.0\n",
      "episode  597 score 193.3 avg_score 168.3\n",
      "episode  598 score 88.6 avg_score 169.2\n",
      "episode  599 score 138.7 avg_score 170.5\n",
      "episode  600 score 97.4 avg_score 169.9\n",
      "episode  601 score 95.6 avg_score 170.7\n",
      "episode  602 score 185.2 avg_score 171.4\n",
      "episode  603 score 208.9 avg_score 173.5\n",
      "episode  604 score 236.1 avg_score 173.5\n",
      "episode  605 score 236.1 avg_score 174.5\n",
      "episode  606 score 194.0 avg_score 173.9\n",
      "episode  607 score 234.7 avg_score 174.2\n",
      "episode  608 score 46.2 avg_score 174.7\n",
      "episode  609 score 164.4 avg_score 175.0\n",
      "episode  610 score 261.4 avg_score 175.2\n",
      "episode  611 score 143.2 avg_score 175.3\n",
      "episode  612 score 145.4 avg_score 176.1\n",
      "episode  613 score 253.6 avg_score 176.6\n",
      "episode  614 score 23.6 avg_score 175.6\n",
      "episode  615 score 168.8 avg_score 175.2\n",
      "episode  616 score 162.4 avg_score 176.8\n",
      "episode  617 score 244.6 avg_score 176.9\n",
      "episode  618 score 184.7 avg_score 176.5\n",
      "episode  619 score 0.0 avg_score 175.9\n",
      "episode  620 score 56.8 avg_score 173.8\n",
      "episode  621 score 108.5 avg_score 172.7\n",
      "episode  622 score 231.0 avg_score 172.5\n",
      "episode  623 score 195.0 avg_score 172.4\n",
      "episode  624 score 245.7 avg_score 173.2\n",
      "episode  625 score 255.0 avg_score 173.3\n",
      "episode  626 score 188.6 avg_score 175.2\n",
      "episode  627 score 227.1 avg_score 176.3\n",
      "episode  628 score 192.1 avg_score 176.3\n",
      "episode  629 score 239.4 avg_score 176.6\n",
      "episode  630 score 240.4 avg_score 177.0\n",
      "episode  631 score 71.4 avg_score 176.3\n",
      "episode  632 score 266.4 avg_score 176.3\n",
      "episode  633 score 255.0 avg_score 177.6\n",
      "episode  634 score 35.2 avg_score 175.9\n",
      "episode  635 score 5.1 avg_score 173.7\n",
      "episode  636 score 259.2 avg_score 173.9\n",
      "episode  637 score 239.9 avg_score 175.9\n",
      "episode  638 score 207.9 avg_score 175.2\n",
      "episode  639 score 135.1 avg_score 174.1\n",
      "episode  640 score 237.5 avg_score 174.5\n",
      "episode  641 score 165.5 avg_score 174.0\n",
      "episode  642 score 242.1 avg_score 174.2\n",
      "episode  643 score 246.4 avg_score 174.4\n",
      "episode  644 score 60.5 avg_score 173.5\n",
      "episode  645 score 241.6 avg_score 174.0\n",
      "episode  646 score 249.2 avg_score 174.6\n",
      "episode  647 score 109.7 avg_score 174.4\n",
      "episode  648 score 30.1 avg_score 172.3\n",
      "episode  649 score 194.9 avg_score 172.2\n",
      "episode  650 score 231.2 avg_score 172.5\n",
      "episode  651 score 85.8 avg_score 171.0\n",
      "episode  652 score 100.6 avg_score 169.8\n",
      "episode  653 score 180.3 avg_score 169.1\n",
      "episode  654 score 213.6 avg_score 169.3\n",
      "episode  655 score 188.6 avg_score 168.9\n",
      "episode  656 score 208.6 avg_score 169.0\n",
      "episode  657 score 236.7 avg_score 169.5\n",
      "episode  658 score 236.1 avg_score 170.0\n",
      "episode  659 score 222.5 avg_score 170.2\n",
      "episode  660 score 177.1 avg_score 170.0\n",
      "episode  661 score 207.1 avg_score 172.0\n",
      "episode  662 score 35.6 avg_score 170.3\n",
      "episode  663 score 118.9 avg_score 170.3\n",
      "episode  664 score 262.2 avg_score 170.5\n",
      "episode  665 score 147.5 avg_score 169.4\n",
      "episode  666 score 196.7 avg_score 169.7\n",
      "episode  667 score 224.2 avg_score 169.7\n",
      "episode  668 score 131.9 avg_score 168.6\n",
      "episode  669 score 266.7 avg_score 169.2\n",
      "episode  670 score 184.3 avg_score 169.5\n",
      "episode  671 score 0.0 avg_score 168.1\n",
      "episode  672 score 58.7 avg_score 166.5\n",
      "episode  673 score 267.3 avg_score 167.4\n",
      "episode  674 score 267.1 avg_score 168.2\n",
      "episode  675 score 54.9 avg_score 166.7\n",
      "episode  676 score 264.9 avg_score 166.7\n",
      "episode  677 score 190.0 avg_score 168.3\n",
      "episode  678 score 267.6 avg_score 169.5\n",
      "episode  679 score 212.6 avg_score 169.2\n",
      "episode  680 score 56.2 avg_score 168.3\n",
      "episode  681 score 0.0 avg_score 168.2\n",
      "episode  682 score 207.5 avg_score 169.8\n",
      "episode  683 score 56.2 avg_score 170.1\n",
      "episode  684 score 224.7 avg_score 170.4\n",
      "episode  685 score 237.7 avg_score 170.1\n",
      "episode  686 score 224.9 avg_score 169.7\n",
      "episode  687 score 261.6 avg_score 170.5\n",
      "episode  688 score 99.7 avg_score 169.6\n",
      "episode  689 score 0.0 avg_score 168.2\n",
      "episode  690 score 103.7 avg_score 168.5\n",
      "episode  691 score 226.8 avg_score 168.8\n",
      "episode  692 score 197.3 avg_score 170.4\n",
      "episode  693 score 217.2 avg_score 171.1\n",
      "episode  694 score 237.5 avg_score 173.0\n",
      "episode  695 score 56.6 avg_score 171.6\n",
      "episode  696 score 139.6 avg_score 171.3\n",
      "episode  697 score 256.3 avg_score 171.9\n",
      "episode  698 score 32.8 avg_score 171.3\n",
      "episode  699 score 100.6 avg_score 170.9\n",
      "episode  700 score 52.4 avg_score 170.5\n",
      "episode  701 score 266.4 avg_score 172.2\n",
      "episode  702 score 233.7 avg_score 172.7\n",
      "episode  703 score 197.7 avg_score 172.6\n",
      "episode  704 score 196.5 avg_score 172.2\n",
      "episode  705 score 258.7 avg_score 172.4\n",
      "episode  706 score 170.3 avg_score 172.2\n",
      "episode  707 score 238.7 avg_score 172.2\n",
      "episode  708 score 184.9 avg_score 173.6\n",
      "episode  709 score 97.3 avg_score 172.9\n",
      "episode  710 score 255.7 avg_score 172.9\n",
      "episode  711 score 145.4 avg_score 172.9\n",
      "episode  712 score 155.8 avg_score 173.0\n",
      "episode  713 score 224.5 avg_score 172.7\n",
      "episode  714 score 168.2 avg_score 174.2\n",
      "episode  715 score 88.4 avg_score 173.4\n",
      "episode  716 score 233.3 avg_score 174.1\n",
      "episode  717 score 143.4 avg_score 173.0\n",
      "episode  718 score 222.0 avg_score 173.4\n",
      "episode  719 score 141.5 avg_score 174.8\n",
      "episode  720 score 194.9 avg_score 176.2\n",
      "episode  721 score 252.8 avg_score 177.7\n",
      "episode  722 score 230.9 avg_score 177.7\n",
      "episode  723 score 46.1 avg_score 176.2\n",
      "episode  724 score 228.7 avg_score 176.0\n",
      "episode  725 score 123.3 avg_score 174.7\n",
      "episode  726 score 172.9 avg_score 174.5\n",
      "episode  727 score 201.9 avg_score 174.3\n",
      "episode  728 score 214.2 avg_score 174.5\n",
      "episode  729 score 235.5 avg_score 174.5\n",
      "episode  730 score 207.4 avg_score 174.1\n",
      "episode  731 score 172.9 avg_score 175.1\n",
      "episode  732 score 208.6 avg_score 174.6\n",
      "episode  733 score 214.2 avg_score 174.2\n",
      "episode  734 score 119.5 avg_score 175.0\n",
      "episode  735 score 203.8 avg_score 177.0\n",
      "episode  736 score 108.5 avg_score 175.5\n",
      "episode  737 score 191.6 avg_score 175.0\n",
      "episode  738 score 230.6 avg_score 175.2\n",
      "episode  739 score 174.7 avg_score 175.6\n",
      "episode  740 score 22.9 avg_score 173.5\n",
      "episode  741 score 36.1 avg_score 172.2\n",
      "episode  742 score 137.2 avg_score 171.1\n",
      "episode  743 score 84.7 avg_score 169.5\n",
      "episode  744 score 207.4 avg_score 171.0\n",
      "episode  745 score 192.1 avg_score 170.5\n",
      "episode  746 score 243.8 avg_score 170.4\n",
      "episode  747 score 56.8 avg_score 169.9\n",
      "episode  748 score 216.3 avg_score 171.8\n",
      "episode  749 score 227.1 avg_score 172.1\n",
      "episode  750 score 240.4 avg_score 172.2\n",
      "episode  751 score 174.4 avg_score 173.1\n",
      "episode  752 score 262.5 avg_score 174.7\n",
      "episode  753 score 187.3 avg_score 174.8\n",
      "episode  754 score 180.3 avg_score 174.4\n",
      "episode  755 score 209.4 avg_score 174.6\n",
      "episode  756 score 189.9 avg_score 174.4\n",
      "episode  757 score 228.6 avg_score 174.4\n",
      "episode  758 score 202.4 avg_score 174.0\n",
      "episode  759 score 77.0 avg_score 172.6\n",
      "episode  760 score 262.5 avg_score 173.4\n",
      "episode  761 score 217.1 avg_score 173.5\n",
      "episode  762 score 160.2 avg_score 174.8\n",
      "episode  763 score 245.1 avg_score 176.0\n",
      "episode  764 score 231.2 avg_score 175.7\n",
      "episode  765 score 48.7 avg_score 174.7\n",
      "episode  766 score 0.0 avg_score 172.8\n",
      "episode  767 score 193.4 avg_score 172.5\n",
      "episode  768 score 22.7 avg_score 171.4\n",
      "episode  769 score 214.5 avg_score 170.8\n",
      "episode  770 score 153.9 avg_score 170.5\n",
      "episode  771 score 53.9 avg_score 171.1\n",
      "episode  772 score 226.5 avg_score 172.8\n",
      "episode  773 score 224.4 avg_score 172.3\n",
      "episode  774 score 207.6 avg_score 171.7\n",
      "episode  775 score 178.5 avg_score 173.0\n",
      "episode  776 score 254.2 avg_score 172.9\n",
      "episode  777 score 225.0 avg_score 173.2\n",
      "episode  778 score 253.9 avg_score 173.1\n",
      "episode  779 score 259.4 avg_score 173.5\n",
      "episode  780 score 186.4 avg_score 174.8\n",
      "episode  781 score 224.9 avg_score 177.1\n",
      "episode  782 score 148.9 avg_score 176.5\n",
      "episode  783 score 197.4 avg_score 177.9\n",
      "episode  784 score 244.3 avg_score 178.1\n",
      "episode  785 score 141.1 avg_score 177.2\n",
      "episode  786 score 239.9 avg_score 177.3\n",
      "episode  787 score 252.2 avg_score 177.2\n",
      "episode  788 score 150.4 avg_score 177.7\n",
      "episode  789 score 229.7 avg_score 180.0\n",
      "episode  790 score 182.7 avg_score 180.8\n",
      "episode  791 score 220.0 avg_score 180.7\n",
      "episode  792 score 56.9 avg_score 179.3\n",
      "episode  793 score 184.2 avg_score 179.0\n",
      "episode  794 score 192.0 avg_score 178.5\n",
      "episode  795 score 201.1 avg_score 180.0\n",
      "episode  796 score 194.9 avg_score 180.5\n",
      "episode  797 score 161.1 avg_score 179.6\n",
      "episode  798 score 267.4 avg_score 181.9\n",
      "episode  799 score 267.6 avg_score 183.6\n",
      "episode  800 score 270.7 avg_score 185.8\n",
      "episode  801 score 268.1 avg_score 185.8\n",
      "episode  802 score 269.6 avg_score 186.2\n",
      "episode  803 score 150.3 avg_score 185.7\n",
      "episode  804 score 235.9 avg_score 186.1\n",
      "episode  805 score 0.0 avg_score 183.5\n",
      "episode  806 score 243.8 avg_score 184.2\n",
      "episode  807 score 140.7 avg_score 183.3\n",
      "episode  808 score 212.3 avg_score 183.5\n",
      "episode  809 score 213.6 avg_score 184.7\n",
      "episode  810 score 262.4 avg_score 184.8\n",
      "episode  811 score 204.8 avg_score 185.4\n",
      "episode  812 score 185.0 avg_score 185.6\n",
      "episode  813 score 256.9 avg_score 186.0\n",
      "episode  814 score 0.0 avg_score 184.3\n",
      "episode  815 score 274.0 avg_score 186.1\n",
      "episode  816 score 224.9 avg_score 186.1\n",
      "episode  817 score 141.7 avg_score 186.0\n",
      "episode  818 score 193.0 avg_score 185.7\n",
      "episode  819 score 56.6 avg_score 184.9\n",
      "episode  820 score 243.9 avg_score 185.4\n",
      "episode  821 score 49.2 avg_score 183.4\n",
      "episode  822 score 189.9 avg_score 182.9\n",
      "episode  823 score 53.9 avg_score 183.0\n",
      "episode  824 score 5.7 avg_score 180.8\n",
      "episode  825 score 247.0 avg_score 182.0\n",
      "episode  826 score 245.4 avg_score 182.8\n",
      "episode  827 score 86.1 avg_score 181.6\n",
      "episode  828 score 244.7 avg_score 181.9\n",
      "episode  829 score 117.4 avg_score 180.7\n",
      "episode  830 score 189.9 avg_score 180.5\n",
      "episode  831 score 230.9 avg_score 181.1\n",
      "episode  832 score 199.5 avg_score 181.0\n",
      "episode  833 score 106.2 avg_score 180.0\n",
      "episode  834 score 101.2 avg_score 179.8\n",
      "episode  835 score 189.6 avg_score 179.6\n",
      "episode  836 score 166.0 avg_score 180.2\n",
      "episode  837 score 248.3 avg_score 180.8\n",
      "episode  838 score 100.9 avg_score 179.5\n",
      "episode  839 score 235.4 avg_score 180.1\n",
      "episode  840 score 194.9 avg_score 181.8\n",
      "episode  841 score 224.3 avg_score 183.7\n",
      "episode  842 score 257.5 avg_score 184.9\n",
      "episode  843 score 194.9 avg_score 186.0\n",
      "episode  844 score 197.9 avg_score 185.9\n",
      "episode  845 score 134.1 avg_score 185.3\n",
      "episode  846 score 200.4 avg_score 184.9\n",
      "episode  847 score 205.9 avg_score 186.4\n",
      "episode  848 score 226.0 avg_score 186.5\n",
      "episode  849 score 82.6 avg_score 185.0\n",
      "episode  850 score 6.0 avg_score 182.7\n",
      "episode  851 score 254.6 avg_score 183.5\n",
      "episode  852 score 177.9 avg_score 182.6\n",
      "episode  853 score 209.8 avg_score 182.9\n",
      "episode  854 score 240.4 avg_score 183.5\n",
      "episode  855 score 246.5 avg_score 183.8\n",
      "episode  856 score 185.2 avg_score 183.8\n",
      "episode  857 score 197.4 avg_score 183.5\n",
      "episode  858 score 210.0 avg_score 183.5\n",
      "episode  859 score 227.0 avg_score 185.0\n",
      "episode  860 score 199.4 avg_score 184.4\n",
      "episode  861 score 204.6 avg_score 184.3\n",
      "episode  862 score 143.8 avg_score 184.1\n",
      "episode  863 score 264.2 avg_score 184.3\n",
      "episode  864 score 232.3 avg_score 184.3\n",
      "episode  865 score 112.7 avg_score 185.0\n",
      "episode  866 score 216.2 avg_score 187.1\n",
      "episode  867 score 182.5 avg_score 187.0\n",
      "episode  868 score 220.2 avg_score 189.0\n",
      "episode  869 score 240.8 avg_score 189.3\n",
      "episode  870 score 191.5 avg_score 189.6\n",
      "episode  871 score 189.4 avg_score 191.0\n",
      "episode  872 score 109.7 avg_score 189.8\n",
      "episode  873 score 122.1 avg_score 188.8\n",
      "episode  874 score 130.4 avg_score 188.0\n",
      "episode  875 score 167.4 avg_score 187.9\n",
      "episode  876 score 245.6 avg_score 187.8\n",
      "episode  877 score 251.4 avg_score 188.1\n",
      "episode  878 score 111.0 avg_score 186.7\n",
      "episode  879 score 195.1 avg_score 186.0\n",
      "episode  880 score 32.8 avg_score 184.5\n",
      "episode  881 score 184.9 avg_score 184.1\n",
      "episode  882 score 57.2 avg_score 183.2\n",
      "episode  883 score 228.1 avg_score 183.5\n",
      "episode  884 score 127.8 avg_score 182.3\n",
      "episode  885 score 266.1 avg_score 183.6\n",
      "episode  886 score 134.1 avg_score 182.5\n",
      "episode  887 score 152.2 avg_score 181.5\n",
      "episode  888 score 231.2 avg_score 182.3\n",
      "episode  889 score 233.9 avg_score 182.4\n",
      "episode  890 score 236.7 avg_score 182.9\n",
      "episode  891 score 263.5 avg_score 183.3\n",
      "episode  892 score 113.6 avg_score 183.9\n",
      "episode  893 score 269.7 avg_score 184.8\n",
      "episode  894 score 227.0 avg_score 185.1\n",
      "episode  895 score 258.5 avg_score 185.7\n",
      "episode  896 score 224.1 avg_score 186.0\n",
      "episode  897 score 228.1 avg_score 186.6\n",
      "episode  898 score 32.3 avg_score 184.3\n",
      "episode  899 score 217.4 avg_score 183.8\n",
      "episode  900 score 246.1 avg_score 183.5\n",
      "episode  901 score 231.8 avg_score 183.2\n",
      "episode  902 score 143.4 avg_score 181.9\n",
      "episode  903 score 180.5 avg_score 182.2\n",
      "episode  904 score 12.5 avg_score 180.0\n",
      "episode  905 score 152.3 avg_score 181.5\n",
      "episode  906 score 235.6 avg_score 181.4\n",
      "episode  907 score 223.7 avg_score 182.3\n",
      "episode  908 score 241.1 avg_score 182.5\n",
      "episode  909 score 100.9 avg_score 181.4\n",
      "episode  910 score 230.8 avg_score 181.1\n",
      "episode  911 score 241.2 avg_score 181.5\n",
      "episode  912 score 246.9 avg_score 182.1\n",
      "episode  913 score 228.6 avg_score 181.8\n",
      "episode  914 score 190.5 avg_score 183.7\n",
      "episode  915 score 94.0 avg_score 181.9\n",
      "episode  916 score 152.9 avg_score 181.2\n",
      "episode  917 score 243.0 avg_score 182.2\n",
      "episode  918 score 0.0 avg_score 180.3\n",
      "episode  919 score 191.4 avg_score 181.6\n",
      "episode  920 score 162.5 avg_score 180.8\n",
      "episode  921 score 231.0 avg_score 182.6\n",
      "episode  922 score 215.3 avg_score 182.9\n",
      "episode  923 score 244.0 avg_score 184.8\n",
      "episode  924 score 165.5 avg_score 186.4\n",
      "episode  925 score 112.7 avg_score 185.0\n",
      "episode  926 score 152.4 avg_score 184.1\n",
      "episode  927 score 233.9 avg_score 185.6\n",
      "episode  928 score 204.0 avg_score 185.2\n",
      "episode  929 score 210.5 avg_score 186.1\n",
      "episode  930 score 38.1 avg_score 184.6\n",
      "episode  931 score 252.5 avg_score 184.8\n",
      "episode  932 score 194.6 avg_score 184.8\n",
      "episode  933 score 0.0 avg_score 183.7\n",
      "episode  934 score 206.4 avg_score 184.7\n",
      "episode  935 score 224.6 avg_score 185.1\n",
      "episode  936 score 201.1 avg_score 185.4\n",
      "episode  937 score 179.2 avg_score 184.8\n",
      "episode  938 score 88.2 avg_score 184.6\n",
      "episode  939 score 0.0 avg_score 182.3\n",
      "episode  940 score 13.9 avg_score 180.5\n",
      "episode  941 score 183.9 avg_score 180.1\n",
      "episode  942 score 77.3 avg_score 178.3\n",
      "episode  943 score 173.5 avg_score 178.0\n",
      "episode  944 score 265.5 avg_score 178.7\n",
      "episode  945 score 254.8 avg_score 179.9\n",
      "episode  946 score 131.0 avg_score 179.2\n",
      "episode  947 score 188.6 avg_score 179.1\n",
      "episode  948 score 6.0 avg_score 176.9\n",
      "episode  949 score 2.8 avg_score 176.1\n",
      "episode  950 score 125.0 avg_score 177.2\n",
      "episode  951 score 140.2 avg_score 176.1\n",
      "episode  952 score 180.2 avg_score 176.1\n",
      "episode  953 score 188.2 avg_score 175.9\n",
      "episode  954 score 0.0 avg_score 173.5\n",
      "episode  955 score 155.9 avg_score 172.6\n",
      "episode  956 score 122.5 avg_score 172.0\n",
      "episode  957 score 239.3 avg_score 172.4\n",
      "episode  958 score 205.3 avg_score 172.3\n",
      "episode  959 score 130.3 avg_score 171.4\n",
      "episode  960 score 199.3 avg_score 171.4\n",
      "episode  961 score 202.5 avg_score 171.4\n",
      "episode  962 score 0.0 avg_score 169.9\n",
      "episode  963 score 99.9 avg_score 168.3\n",
      "episode  964 score 231.1 avg_score 168.3\n",
      "episode  965 score 141.0 avg_score 168.5\n",
      "episode  966 score 250.2 avg_score 168.9\n",
      "episode  967 score 195.9 avg_score 169.0\n",
      "episode  968 score 77.2 avg_score 167.6\n",
      "episode  969 score 226.3 avg_score 167.4\n",
      "episode  970 score 37.4 avg_score 165.9\n",
      "episode  971 score 182.5 avg_score 165.8\n",
      "episode  972 score 191.8 avg_score 166.7\n",
      "episode  973 score 35.1 avg_score 165.8\n",
      "episode  974 score 181.3 avg_score 166.3\n",
      "episode  975 score 244.3 avg_score 167.1\n",
      "episode  976 score 197.8 avg_score 166.6\n",
      "episode  977 score 204.1 avg_score 166.1\n",
      "episode  978 score 283.1 avg_score 167.8\n",
      "episode  979 score 233.6 avg_score 168.2\n",
      "episode  980 score 188.6 avg_score 169.8\n",
      "episode  981 score 247.3 avg_score 170.4\n",
      "episode  982 score 224.8 avg_score 172.1\n",
      "episode  983 score 183.6 avg_score 171.6\n",
      "episode  984 score 110.3 avg_score 171.5\n",
      "episode  985 score 155.8 avg_score 170.4\n",
      "episode  986 score 86.1 avg_score 169.9\n",
      "episode  987 score 239.1 avg_score 170.7\n",
      "episode  988 score 262.4 avg_score 171.1\n",
      "episode  989 score 262.8 avg_score 171.3\n",
      "episode  990 score 267.7 avg_score 171.7\n",
      "episode  991 score 244.0 avg_score 171.5\n",
      "episode  992 score 0.0 avg_score 170.3\n",
      "episode  993 score 0.0 avg_score 167.6\n",
      "episode  994 score 202.3 avg_score 167.4\n",
      "episode  995 score 246.8 avg_score 167.3\n",
      "episode  996 score 224.9 avg_score 167.3\n",
      "episode  997 score 230.4 avg_score 167.3\n",
      "episode  998 score 271.5 avg_score 169.7\n",
      "episode  999 score 177.1 avg_score 169.3\n"
     ]
    }
   ],
   "source": [
    "reward_history = []\n",
    "\n",
    "if load_checkpoint:\n",
    "    agent.load_models()\n",
    "\n",
    "for i in range(n_games):\n",
    "    observation = env.reset()\n",
    "    done = False\n",
    "    score = 0\n",
    "\n",
    "\n",
    "    while not done:\n",
    "\n",
    "        action = agent.choose_action(observation)\n",
    "\n",
    "        observation_next, reward, done, _ = env.step(action)\n",
    "        score += reward\n",
    "        if not load_checkpoint:\n",
    "            agent.update(observation, reward, observation_next, done)\n",
    "        observation = observation_next\n",
    "\n",
    "    score_history.append(score)\n",
    "    avg_score = np.mean(score_history[-100:])\n",
    "\n",
    "    if avg_score > best_score:\n",
    "        best_score = avg_score\n",
    "        if not load_checkpoint:\n",
    "            agent.save_models()\n",
    "\n",
    "    print('episode ', i, 'score %.1f' % score, 'avg_score %.1f' % avg_score)"
   ],
   "metadata": {
    "collapsed": false,
    "ExecuteTime": {
     "end_time": "2023-05-25T12:03:53.989700Z",
     "start_time": "2023-05-25T12:03:17.593040Z"
    }
   }
  },
  {
   "cell_type": "code",
   "execution_count": 19,
   "outputs": [
    {
     "data": {
      "text/plain": "             reward  market price     bid price  bid volume\ncount  18336.000000  18336.000000  18336.000000     18336.0\nmean       7.130496     97.223395     33.787304       200.0\nstd        3.793304    108.177987     27.562829         0.0\nmin       -6.333300    -90.010000      0.000000       200.0\n25%        6.709900     35.150000     30.000000       200.0\n50%        8.402900     53.070000     30.000000       200.0\n75%        9.760950    117.992500     30.000000       200.0\nmax       12.007600    850.000000    294.000000       200.0",
      "text/html": "<div>\n<style scoped>\n    .dataframe tbody tr th:only-of-type {\n        vertical-align: middle;\n    }\n\n    .dataframe tbody tr th {\n        vertical-align: top;\n    }\n\n    .dataframe thead th {\n        text-align: right;\n    }\n</style>\n<table border=\"1\" class=\"dataframe\">\n  <thead>\n    <tr style=\"text-align: right;\">\n      <th></th>\n      <th>reward</th>\n      <th>market price</th>\n      <th>bid price</th>\n      <th>bid volume</th>\n    </tr>\n  </thead>\n  <tbody>\n    <tr>\n      <th>count</th>\n      <td>18336.000000</td>\n      <td>18336.000000</td>\n      <td>18336.000000</td>\n      <td>18336.0</td>\n    </tr>\n    <tr>\n      <th>mean</th>\n      <td>7.130496</td>\n      <td>97.223395</td>\n      <td>33.787304</td>\n      <td>200.0</td>\n    </tr>\n    <tr>\n      <th>std</th>\n      <td>3.793304</td>\n      <td>108.177987</td>\n      <td>27.562829</td>\n      <td>0.0</td>\n    </tr>\n    <tr>\n      <th>min</th>\n      <td>-6.333300</td>\n      <td>-90.010000</td>\n      <td>0.000000</td>\n      <td>200.0</td>\n    </tr>\n    <tr>\n      <th>25%</th>\n      <td>6.709900</td>\n      <td>35.150000</td>\n      <td>30.000000</td>\n      <td>200.0</td>\n    </tr>\n    <tr>\n      <th>50%</th>\n      <td>8.402900</td>\n      <td>53.070000</td>\n      <td>30.000000</td>\n      <td>200.0</td>\n    </tr>\n    <tr>\n      <th>75%</th>\n      <td>9.760950</td>\n      <td>117.992500</td>\n      <td>30.000000</td>\n      <td>200.0</td>\n    </tr>\n    <tr>\n      <th>max</th>\n      <td>12.007600</td>\n      <td>850.000000</td>\n      <td>294.000000</td>\n      <td>200.0</td>\n    </tr>\n  </tbody>\n</table>\n</div>"
     },
     "execution_count": 19,
     "metadata": {},
     "output_type": "execute_result"
    }
   ],
   "source": [
    "env.results_ep.describe()"
   ],
   "metadata": {
    "collapsed": false,
    "ExecuteTime": {
     "end_time": "2023-05-25T12:04:28.925537Z",
     "start_time": "2023-05-25T12:04:28.627561Z"
    }
   }
  },
  {
   "cell_type": "code",
   "execution_count": 20,
   "outputs": [
    {
     "data": {
      "text/plain": "                           reward  market price  bid price  bid volume\n2021-09-12 00:00:00+02:00  0.0000        105.05      294.0       200.0\n2021-09-12 01:00:00+02:00  0.0000         99.17      156.0       200.0\n2021-09-12 02:00:00+02:00  0.0000         99.02      282.0       200.0\n2021-09-12 03:00:00+02:00  0.0000         95.38      246.0       200.0\n2021-09-12 04:00:00+02:00  0.0000         97.57      132.0       200.0\n...                           ...           ...        ...         ...\n2019-03-29 19:00:00+01:00  8.2602         49.33       30.0       200.0\n2019-03-29 20:00:00+01:00  8.1856         47.94       30.0       200.0\n2019-03-29 21:00:00+01:00  7.8667         43.04       30.0       200.0\n2019-03-29 22:00:00+01:00  7.8442         42.75       30.0       200.0\n2019-03-29 23:00:00+01:00  7.5310         39.32       30.0       200.0\n\n[18336 rows x 4 columns]",
      "text/html": "<div>\n<style scoped>\n    .dataframe tbody tr th:only-of-type {\n        vertical-align: middle;\n    }\n\n    .dataframe tbody tr th {\n        vertical-align: top;\n    }\n\n    .dataframe thead th {\n        text-align: right;\n    }\n</style>\n<table border=\"1\" class=\"dataframe\">\n  <thead>\n    <tr style=\"text-align: right;\">\n      <th></th>\n      <th>reward</th>\n      <th>market price</th>\n      <th>bid price</th>\n      <th>bid volume</th>\n    </tr>\n  </thead>\n  <tbody>\n    <tr>\n      <th>2021-09-12 00:00:00+02:00</th>\n      <td>0.0000</td>\n      <td>105.05</td>\n      <td>294.0</td>\n      <td>200.0</td>\n    </tr>\n    <tr>\n      <th>2021-09-12 01:00:00+02:00</th>\n      <td>0.0000</td>\n      <td>99.17</td>\n      <td>156.0</td>\n      <td>200.0</td>\n    </tr>\n    <tr>\n      <th>2021-09-12 02:00:00+02:00</th>\n      <td>0.0000</td>\n      <td>99.02</td>\n      <td>282.0</td>\n      <td>200.0</td>\n    </tr>\n    <tr>\n      <th>2021-09-12 03:00:00+02:00</th>\n      <td>0.0000</td>\n      <td>95.38</td>\n      <td>246.0</td>\n      <td>200.0</td>\n    </tr>\n    <tr>\n      <th>2021-09-12 04:00:00+02:00</th>\n      <td>0.0000</td>\n      <td>97.57</td>\n      <td>132.0</td>\n      <td>200.0</td>\n    </tr>\n    <tr>\n      <th>...</th>\n      <td>...</td>\n      <td>...</td>\n      <td>...</td>\n      <td>...</td>\n    </tr>\n    <tr>\n      <th>2019-03-29 19:00:00+01:00</th>\n      <td>8.2602</td>\n      <td>49.33</td>\n      <td>30.0</td>\n      <td>200.0</td>\n    </tr>\n    <tr>\n      <th>2019-03-29 20:00:00+01:00</th>\n      <td>8.1856</td>\n      <td>47.94</td>\n      <td>30.0</td>\n      <td>200.0</td>\n    </tr>\n    <tr>\n      <th>2019-03-29 21:00:00+01:00</th>\n      <td>7.8667</td>\n      <td>43.04</td>\n      <td>30.0</td>\n      <td>200.0</td>\n    </tr>\n    <tr>\n      <th>2019-03-29 22:00:00+01:00</th>\n      <td>7.8442</td>\n      <td>42.75</td>\n      <td>30.0</td>\n      <td>200.0</td>\n    </tr>\n    <tr>\n      <th>2019-03-29 23:00:00+01:00</th>\n      <td>7.5310</td>\n      <td>39.32</td>\n      <td>30.0</td>\n      <td>200.0</td>\n    </tr>\n  </tbody>\n</table>\n<p>18336 rows × 4 columns</p>\n</div>"
     },
     "execution_count": 20,
     "metadata": {},
     "output_type": "execute_result"
    }
   ],
   "source": [
    "env.results_ep"
   ],
   "metadata": {
    "collapsed": false,
    "ExecuteTime": {
     "end_time": "2023-05-25T12:04:31.015489Z",
     "start_time": "2023-05-25T12:04:30.945903Z"
    }
   }
  },
  {
   "cell_type": "code",
   "execution_count": 21,
   "outputs": [
    {
     "data": {
      "text/plain": "<Axes: >"
     },
     "execution_count": 21,
     "metadata": {},
     "output_type": "execute_result"
    },
    {
     "data": {
      "text/plain": "<Figure size 640x480 with 1 Axes>",
      "image/png": "[encoded data removed]"
     },
     "metadata": {},
     "output_type": "display_data"
    }
   ],
   "source": [
    "env.results_ep.reset_index().plot(y=['bid price'])"
   ],
   "metadata": {
    "collapsed": false,
    "ExecuteTime": {
     "end_time": "2023-05-25T12:04:37.258681Z",
     "start_time": "2023-05-25T12:04:37.075148Z"
    }
   }
  },
  {
   "cell_type": "code",
   "execution_count": 22,
   "outputs": [
    {
     "data": {
      "text/plain": "<Figure size 640x480 with 1 Axes>",
      "image/png": "[encoded data removed]"
     },
     "metadata": {},
     "output_type": "display_data"
    }
   ],
   "source": [
    "x = [i + 1 for i in range(len(score_history))]\n",
    "plot_learning_curve(x, score_history)"
   ],
   "metadata": {
    "collapsed": false,
    "ExecuteTime": {
     "end_time": "2023-05-25T12:05:40.493783Z",
     "start_time": "2023-05-25T12:05:40.137503Z"
    }
   }
  },
  {
   "cell_type": "code",
   "execution_count": 3,
   "outputs": [],
   "source": [
    "import gym\n",
    "from gym.spaces import Box, Discrete"
   ],
   "metadata": {
    "collapsed": false,
    "ExecuteTime": {
     "end_time": "2023-06-08T08:12:28.757874Z",
     "start_time": "2023-06-08T08:12:28.636286Z"
    }
   }
  },
  {
   "cell_type": "markdown",
   "source": [
    "# New Tests"
   ],
   "metadata": {
    "collapsed": false
   }
  },
  {
   "cell_type": "code",
   "execution_count": 10,
   "outputs": [],
   "source": [
    "from entsoe import EntsoePandasClient\n",
    "import pandas as pd\n",
    "import os\n",
    "from sklearn.preprocessing import MinMaxScaler\n",
    "from import_data import aggregate_hourly, drop_incomplete_datapoints"
   ],
   "metadata": {
    "collapsed": false,
    "ExecuteTime": {
     "end_time": "2023-06-08T08:40:54.208855Z",
     "start_time": "2023-06-08T08:40:53.939223Z"
    }
   }
  },
  {
   "cell_type": "code",
   "execution_count": 163,
   "outputs": [],
   "source": [
    "# your_key = '9ab2e188-d454-44be-bce7-ea9dc8863723'\n",
    "your_key = '3a72c137-c318-4dd5-ac00-2d3be87966a8'\n",
    "\n",
    "country_code = 'DE_LU'  # Germany-Luxembourg\n",
    "\n",
    "client = EntsoePandasClient(api_key=your_key)"
   ],
   "metadata": {
    "collapsed": false,
    "ExecuteTime": {
     "end_time": "2023-06-08T09:27:00.597373Z",
     "start_time": "2023-06-08T09:27:00.306817Z"
    }
   }
  },
  {
   "cell_type": "code",
   "execution_count": 164,
   "outputs": [],
   "source": [
    "start = pd.Timestamp(year=2022, month=1, day=1, tz=\"europe/brussels\")\n",
    "end = pd.Timestamp.now(tz=\"europe/brussels\").floor('D') + pd.Timedelta(days=2)\n",
    "\n",
    "# make api call\n",
    "df_re_prog = pd.DataFrame(client.query_wind_and_solar_forecast(country_code, start=start, end=end, psr_type=None))\n",
    "\n",
    "# rename columns\n",
    "df_re_prog.columns = ['Forecasted Solar [MWh]', 'Forecasted Wind Offshore [MWh]', 'Forecasted Wind Onshore [MWh]']\n",
    "\n",
    "# 15 min candles? -> aggregate hourly\n",
    "df_re_prog = aggregate_hourly(df_re_prog)\n",
    "\n",
    "# drop days with incomplete number of observations (!=24) per day. -> leap years\n",
    "df_re_prog = drop_incomplete_datapoints(df_re_prog)"
   ],
   "metadata": {
    "collapsed": false,
    "ExecuteTime": {
     "end_time": "2023-06-08T09:27:35.872133Z",
     "start_time": "2023-06-08T09:27:01.534489Z"
    }
   }
  },
  {
   "cell_type": "code",
   "execution_count": 172,
   "outputs": [],
   "source": [
    "forecast_solar = df_re_prog[['Forecasted Solar [MWh]']].copy()"
   ],
   "metadata": {
    "collapsed": false,
    "ExecuteTime": {
     "end_time": "2023-06-08T09:29:40.033113Z",
     "start_time": "2023-06-08T09:29:39.994251Z"
    }
   }
  },
  {
   "cell_type": "code",
   "execution_count": 173,
   "outputs": [],
   "source": [
    "daily_total_solar_energy = forecast_solar.groupby([forecast_solar.index.date]).sum()"
   ],
   "metadata": {
    "collapsed": false,
    "ExecuteTime": {
     "end_time": "2023-06-08T09:29:40.885109Z",
     "start_time": "2023-06-08T09:29:40.840127Z"
    }
   }
  },
  {
   "cell_type": "code",
   "execution_count": 174,
   "outputs": [],
   "source": [
    "daily_total_solar_energy = forecast_solar.groupby([forecast_solar.index.date]).sum()\n",
    "# set index to a datetime index\n",
    "daily_total_solar_energy.index = pd.to_datetime(daily_total_solar_energy.index)"
   ],
   "metadata": {
    "collapsed": false,
    "ExecuteTime": {
     "end_time": "2023-06-08T09:29:41.028787Z",
     "start_time": "2023-06-08T09:29:40.985234Z"
    }
   }
  },
  {
   "cell_type": "code",
   "execution_count": 178,
   "outputs": [],
   "source": [
    "forecast_solar['day'] = forecast_solar.apply(lambda x: x.index.date)"
   ],
   "metadata": {
    "collapsed": false,
    "ExecuteTime": {
     "end_time": "2023-06-08T09:30:04.909139Z",
     "start_time": "2023-06-08T09:30:04.854811Z"
    }
   }
  },
  {
   "cell_type": "code",
   "execution_count": 180,
   "outputs": [
    {
     "data": {
      "text/plain": "            Forecasted Solar [MWh]\n2022-01-01                130566.0\n2022-01-02                 94954.0\n2022-01-03                102006.0\n2022-01-04                 43926.0\n2022-01-05                110089.0\n...                            ...\n2023-06-04               1448283.0\n2023-06-05               1336448.0\n2023-06-06               1070144.0\n2023-06-07               1113397.0\n2023-06-08               1197651.0\n\n[521 rows x 1 columns]",
      "text/html": "<div>\n<style scoped>\n    .dataframe tbody tr th:only-of-type {\n        vertical-align: middle;\n    }\n\n    .dataframe tbody tr th {\n        vertical-align: top;\n    }\n\n    .dataframe thead th {\n        text-align: right;\n    }\n</style>\n<table border=\"1\" class=\"dataframe\">\n  <thead>\n    <tr style=\"text-align: right;\">\n      <th></th>\n      <th>Forecasted Solar [MWh]</th>\n    </tr>\n  </thead>\n  <tbody>\n    <tr>\n      <th>2022-01-01</th>\n      <td>130566.0</td>\n    </tr>\n    <tr>\n      <th>2022-01-02</th>\n      <td>94954.0</td>\n    </tr>\n    <tr>\n      <th>2022-01-03</th>\n      <td>102006.0</td>\n    </tr>\n    <tr>\n      <th>2022-01-04</th>\n      <td>43926.0</td>\n    </tr>\n    <tr>\n      <th>2022-01-05</th>\n      <td>110089.0</td>\n    </tr>\n    <tr>\n      <th>...</th>\n      <td>...</td>\n    </tr>\n    <tr>\n      <th>2023-06-04</th>\n      <td>1448283.0</td>\n    </tr>\n    <tr>\n      <th>2023-06-05</th>\n      <td>1336448.0</td>\n    </tr>\n    <tr>\n      <th>2023-06-06</th>\n      <td>1070144.0</td>\n    </tr>\n    <tr>\n      <th>2023-06-07</th>\n      <td>1113397.0</td>\n    </tr>\n    <tr>\n      <th>2023-06-08</th>\n      <td>1197651.0</td>\n    </tr>\n  </tbody>\n</table>\n<p>521 rows × 1 columns</p>\n</div>"
     },
     "execution_count": 180,
     "metadata": {},
     "output_type": "execute_result"
    }
   ],
   "source": [
    "daily_total_solar_energy"
   ],
   "metadata": {
    "collapsed": false,
    "ExecuteTime": {
     "end_time": "2023-06-08T09:30:16.506700Z",
     "start_time": "2023-06-08T09:30:16.433100Z"
    }
   }
  },
  {
   "cell_type": "code",
   "execution_count": 179,
   "outputs": [
    {
     "data": {
      "text/plain": "                           Forecasted Solar [MWh]         day\n2022-01-01 00:00:00+01:00                     0.0  2022-01-01\n2022-01-01 01:00:00+01:00                     0.0  2022-01-01\n2022-01-01 02:00:00+01:00                     0.0  2022-01-01\n2022-01-01 03:00:00+01:00                     0.0  2022-01-01\n2022-01-01 04:00:00+01:00                     0.0  2022-01-01\n...                                           ...         ...\n2023-06-08 19:00:00+02:00                 21169.0  2023-06-08\n2023-06-08 20:00:00+02:00                  6610.0  2023-06-08\n2023-06-08 21:00:00+02:00                   594.0  2023-06-08\n2023-06-08 22:00:00+02:00                    12.0  2023-06-08\n2023-06-08 23:00:00+02:00                     0.0  2023-06-08\n\n[12504 rows x 2 columns]",
      "text/html": "<div>\n<style scoped>\n    .dataframe tbody tr th:only-of-type {\n        vertical-align: middle;\n    }\n\n    .dataframe tbody tr th {\n        vertical-align: top;\n    }\n\n    .dataframe thead th {\n        text-align: right;\n    }\n</style>\n<table border=\"1\" class=\"dataframe\">\n  <thead>\n    <tr style=\"text-align: right;\">\n      <th></th>\n      <th>Forecasted Solar [MWh]</th>\n      <th>day</th>\n    </tr>\n  </thead>\n  <tbody>\n    <tr>\n      <th>2022-01-01 00:00:00+01:00</th>\n      <td>0.0</td>\n      <td>2022-01-01</td>\n    </tr>\n    <tr>\n      <th>2022-01-01 01:00:00+01:00</th>\n      <td>0.0</td>\n      <td>2022-01-01</td>\n    </tr>\n    <tr>\n      <th>2022-01-01 02:00:00+01:00</th>\n      <td>0.0</td>\n      <td>2022-01-01</td>\n    </tr>\n    <tr>\n      <th>2022-01-01 03:00:00+01:00</th>\n      <td>0.0</td>\n      <td>2022-01-01</td>\n    </tr>\n    <tr>\n      <th>2022-01-01 04:00:00+01:00</th>\n      <td>0.0</td>\n      <td>2022-01-01</td>\n    </tr>\n    <tr>\n      <th>...</th>\n      <td>...</td>\n      <td>...</td>\n    </tr>\n    <tr>\n      <th>2023-06-08 19:00:00+02:00</th>\n      <td>21169.0</td>\n      <td>2023-06-08</td>\n    </tr>\n    <tr>\n      <th>2023-06-08 20:00:00+02:00</th>\n      <td>6610.0</td>\n      <td>2023-06-08</td>\n    </tr>\n    <tr>\n      <th>2023-06-08 21:00:00+02:00</th>\n      <td>594.0</td>\n      <td>2023-06-08</td>\n    </tr>\n    <tr>\n      <th>2023-06-08 22:00:00+02:00</th>\n      <td>12.0</td>\n      <td>2023-06-08</td>\n    </tr>\n    <tr>\n      <th>2023-06-08 23:00:00+02:00</th>\n      <td>0.0</td>\n      <td>2023-06-08</td>\n    </tr>\n  </tbody>\n</table>\n<p>12504 rows × 2 columns</p>\n</div>"
     },
     "execution_count": 179,
     "metadata": {},
     "output_type": "execute_result"
    }
   ],
   "source": [
    "forecast_solar"
   ],
   "metadata": {
    "collapsed": false,
    "ExecuteTime": {
     "end_time": "2023-06-08T09:30:06.946957Z",
     "start_time": "2023-06-08T09:30:06.907170Z"
    }
   }
  },
  {
   "cell_type": "code",
   "execution_count": null,
   "outputs": [],
   "source": [
    "daily_total_solar_energy = forecast_solar.groupby([forecast_solar.index.date]).sum()\n",
    "# set index to a datetime index\n",
    "daily_total_solar_energy.index = pd.to_datetime(daily_total_solar_energy.index)\n",
    "\n",
    "forecast_solar['forecast_day']=forecast_solar.apply(lambda x: x.index.date)\n",
    "forecast_solar['forecast_day'] = pd.to_datetime(forecast_solar['forecast_day'])"
   ],
   "metadata": {
    "collapsed": false
   }
  },
  {
   "cell_type": "code",
   "execution_count": null,
   "outputs": [],
   "source": [
    "df_demand_scaled"
   ],
   "metadata": {
    "collapsed": false
   }
  },
  {
   "cell_type": "code",
   "execution_count": 181,
   "outputs": [],
   "source": [
    "scaler = MinMaxScaler((0,1))\n",
    "forecast_solar = df_re_prog['Forecasted Solar [MWh]'].copy()\n",
    "forecast_solar.groupby(lambda x: scaler.fit_transform(x['Forecasted Solar [MWh]'].values))"
   ],
   "metadata": {
    "collapsed": false,
    "ExecuteTime": {
     "end_time": "2023-06-08T09:33:09.615662Z",
     "start_time": "2023-06-08T09:33:09.353454Z"
    }
   }
  },
  {
   "cell_type": "code",
   "execution_count": 186,
   "outputs": [],
   "source": [
    "# Group the data by day and apply scaling to each day's values\n",
    "df_re_prog['scaled_solar'] = df_re_prog.groupby(df_re_prog.index.date)['Forecasted Solar [MWh]'].transform(lambda x: scaler.fit_transform(x.values.reshape(-1, 1)).flatten())"
   ],
   "metadata": {
    "collapsed": false,
    "ExecuteTime": {
     "end_time": "2023-06-08T09:35:34.038524Z",
     "start_time": "2023-06-08T09:35:33.888325Z"
    }
   }
  },
  {
   "cell_type": "code",
   "execution_count": null,
   "outputs": [],
   "source": [],
   "metadata": {
    "collapsed": false
   }
  },
  {
   "cell_type": "code",
   "execution_count": null,
   "outputs": [],
   "source": [],
   "metadata": {
    "collapsed": false
   }
  },
  {
   "cell_type": "code",
   "execution_count": null,
   "outputs": [],
   "source": [],
   "metadata": {
    "collapsed": false
   }
  },
  {
   "cell_type": "code",
   "execution_count": null,
   "outputs": [],
   "source": [],
   "metadata": {
    "collapsed": false
   }
  },
  {
   "cell_type": "code",
   "execution_count": null,
   "outputs": [],
   "source": [],
   "metadata": {
    "collapsed": false
   }
  },
  {
   "cell_type": "code",
   "execution_count": 150,
   "outputs": [],
   "source": [
    "\n",
    "\n",
    "# calculate total energy per day\n",
    "daily_total_solar_energy = forecast_solar.groupby([forecast_solar.index.date]).sum()\n",
    "# set index to a datetime index\n",
    "daily_total_solar_energy.index = pd.to_datetime(daily_total_solar_energy.index)\n",
    "\n",
    "forecast_solar['forecast_day']=forecast_solar.apply(lambda x: x.index.date)\n",
    "forecast_solar['forecast_day'] = pd.to_datetime(forecast_solar['forecast_day'])"
   ],
   "metadata": {
    "collapsed": false,
    "ExecuteTime": {
     "end_time": "2023-06-08T09:21:42.355584Z",
     "start_time": "2023-06-08T09:21:42.319763Z"
    }
   }
  },
  {
   "cell_type": "code",
   "execution_count": 152,
   "outputs": [
    {
     "data": {
      "text/plain": "            Forecasted Solar [MWh]\n2022-01-01                130566.0\n2022-01-02                 94954.0\n2022-01-03                102006.0\n2022-01-04                 43926.0\n2022-01-05                110089.0\n...                            ...\n2023-06-04               1448283.0\n2023-06-05               1336448.0\n2023-06-06               1070144.0\n2023-06-07               1113397.0\n2023-06-08               1197651.0\n\n[521 rows x 1 columns]",
      "text/html": "<div>\n<style scoped>\n    .dataframe tbody tr th:only-of-type {\n        vertical-align: middle;\n    }\n\n    .dataframe tbody tr th {\n        vertical-align: top;\n    }\n\n    .dataframe thead th {\n        text-align: right;\n    }\n</style>\n<table border=\"1\" class=\"dataframe\">\n  <thead>\n    <tr style=\"text-align: right;\">\n      <th></th>\n      <th>Forecasted Solar [MWh]</th>\n    </tr>\n  </thead>\n  <tbody>\n    <tr>\n      <th>2022-01-01</th>\n      <td>130566.0</td>\n    </tr>\n    <tr>\n      <th>2022-01-02</th>\n      <td>94954.0</td>\n    </tr>\n    <tr>\n      <th>2022-01-03</th>\n      <td>102006.0</td>\n    </tr>\n    <tr>\n      <th>2022-01-04</th>\n      <td>43926.0</td>\n    </tr>\n    <tr>\n      <th>2022-01-05</th>\n      <td>110089.0</td>\n    </tr>\n    <tr>\n      <th>...</th>\n      <td>...</td>\n    </tr>\n    <tr>\n      <th>2023-06-04</th>\n      <td>1448283.0</td>\n    </tr>\n    <tr>\n      <th>2023-06-05</th>\n      <td>1336448.0</td>\n    </tr>\n    <tr>\n      <th>2023-06-06</th>\n      <td>1070144.0</td>\n    </tr>\n    <tr>\n      <th>2023-06-07</th>\n      <td>1113397.0</td>\n    </tr>\n    <tr>\n      <th>2023-06-08</th>\n      <td>1197651.0</td>\n    </tr>\n  </tbody>\n</table>\n<p>521 rows × 1 columns</p>\n</div>"
     },
     "execution_count": 152,
     "metadata": {},
     "output_type": "execute_result"
    }
   ],
   "source": [
    "daily_total_solar_energy"
   ],
   "metadata": {
    "collapsed": false,
    "ExecuteTime": {
     "end_time": "2023-06-08T09:22:00.664440Z",
     "start_time": "2023-06-08T09:22:00.606498Z"
    }
   }
  },
  {
   "cell_type": "code",
   "execution_count": 119,
   "outputs": [],
   "source": [
    "daily_total_solar_energy[forecast_solar.index.date[0]]"
   ],
   "metadata": {
    "collapsed": false,
    "ExecuteTime": {
     "end_time": "2023-06-08T09:14:48.717536Z",
     "start_time": "2023-06-08T09:14:48.682378Z"
    }
   }
  },
  {
   "cell_type": "code",
   "execution_count": 140,
   "outputs": [
    {
     "data": {
      "text/plain": "            Forecasted Solar [MWh]\n2022-01-01                130566.0\n2022-01-02                 94954.0\n2022-01-03                102006.0\n2022-01-04                 43926.0\n2022-01-05                110089.0\n...                            ...\n2023-06-04               1448283.0\n2023-06-05               1336448.0\n2023-06-06               1070144.0\n2023-06-07               1113397.0\n2023-06-08               1197651.0\n\n[521 rows x 1 columns]",
      "text/html": "<div>\n<style scoped>\n    .dataframe tbody tr th:only-of-type {\n        vertical-align: middle;\n    }\n\n    .dataframe tbody tr th {\n        vertical-align: top;\n    }\n\n    .dataframe thead th {\n        text-align: right;\n    }\n</style>\n<table border=\"1\" class=\"dataframe\">\n  <thead>\n    <tr style=\"text-align: right;\">\n      <th></th>\n      <th>Forecasted Solar [MWh]</th>\n    </tr>\n  </thead>\n  <tbody>\n    <tr>\n      <th>2022-01-01</th>\n      <td>130566.0</td>\n    </tr>\n    <tr>\n      <th>2022-01-02</th>\n      <td>94954.0</td>\n    </tr>\n    <tr>\n      <th>2022-01-03</th>\n      <td>102006.0</td>\n    </tr>\n    <tr>\n      <th>2022-01-04</th>\n      <td>43926.0</td>\n    </tr>\n    <tr>\n      <th>2022-01-05</th>\n      <td>110089.0</td>\n    </tr>\n    <tr>\n      <th>...</th>\n      <td>...</td>\n    </tr>\n    <tr>\n      <th>2023-06-04</th>\n      <td>1448283.0</td>\n    </tr>\n    <tr>\n      <th>2023-06-05</th>\n      <td>1336448.0</td>\n    </tr>\n    <tr>\n      <th>2023-06-06</th>\n      <td>1070144.0</td>\n    </tr>\n    <tr>\n      <th>2023-06-07</th>\n      <td>1113397.0</td>\n    </tr>\n    <tr>\n      <th>2023-06-08</th>\n      <td>1197651.0</td>\n    </tr>\n  </tbody>\n</table>\n<p>521 rows × 1 columns</p>\n</div>"
     },
     "execution_count": 140,
     "metadata": {},
     "output_type": "execute_result"
    }
   ],
   "source": [
    "daily_total_solar_energy"
   ],
   "metadata": {
    "collapsed": false,
    "ExecuteTime": {
     "end_time": "2023-06-08T09:18:24.999215Z",
     "start_time": "2023-06-08T09:18:24.735143Z"
    }
   }
  },
  {
   "cell_type": "code",
   "execution_count": 148,
   "outputs": [
    {
     "ename": "KeyError",
     "evalue": "Timestamp('2022-01-01 00:00:00')",
     "output_type": "error",
     "traceback": [
      "\u001B[0;31m---------------------------------------------------------------------------\u001B[0m",
      "\u001B[0;31mKeyError\u001B[0m                                  Traceback (most recent call last)",
      "File \u001B[0;32m~/miniforge3/envs/bda_env/lib/python3.9/site-packages/pandas/core/indexes/base.py:3652\u001B[0m, in \u001B[0;36mIndex.get_loc\u001B[0;34m(self, key)\u001B[0m\n\u001B[1;32m   3651\u001B[0m \u001B[38;5;28;01mtry\u001B[39;00m:\n\u001B[0;32m-> 3652\u001B[0m     \u001B[38;5;28;01mreturn\u001B[39;00m \u001B[38;5;28;43mself\u001B[39;49m\u001B[38;5;241;43m.\u001B[39;49m\u001B[43m_engine\u001B[49m\u001B[38;5;241;43m.\u001B[39;49m\u001B[43mget_loc\u001B[49m\u001B[43m(\u001B[49m\u001B[43mcasted_key\u001B[49m\u001B[43m)\u001B[49m\n\u001B[1;32m   3653\u001B[0m \u001B[38;5;28;01mexcept\u001B[39;00m \u001B[38;5;167;01mKeyError\u001B[39;00m \u001B[38;5;28;01mas\u001B[39;00m err:\n",
      "File \u001B[0;32m~/miniforge3/envs/bda_env/lib/python3.9/site-packages/pandas/_libs/index.pyx:147\u001B[0m, in \u001B[0;36mpandas._libs.index.IndexEngine.get_loc\u001B[0;34m()\u001B[0m\n",
      "File \u001B[0;32m~/miniforge3/envs/bda_env/lib/python3.9/site-packages/pandas/_libs/index.pyx:176\u001B[0m, in \u001B[0;36mpandas._libs.index.IndexEngine.get_loc\u001B[0;34m()\u001B[0m\n",
      "File \u001B[0;32mpandas/_libs/hashtable_class_helper.pxi:7080\u001B[0m, in \u001B[0;36mpandas._libs.hashtable.PyObjectHashTable.get_item\u001B[0;34m()\u001B[0m\n",
      "File \u001B[0;32mpandas/_libs/hashtable_class_helper.pxi:7088\u001B[0m, in \u001B[0;36mpandas._libs.hashtable.PyObjectHashTable.get_item\u001B[0;34m()\u001B[0m\n",
      "\u001B[0;31mKeyError\u001B[0m: Timestamp('2022-01-01 00:00:00')",
      "\nThe above exception was the direct cause of the following exception:\n",
      "\u001B[0;31mKeyError\u001B[0m                                  Traceback (most recent call last)",
      "Cell \u001B[0;32mIn[148], line 1\u001B[0m\n\u001B[0;32m----> 1\u001B[0m \u001B[43mdaily_total_solar_energy\u001B[49m\u001B[43m[\u001B[49m\u001B[43mpd\u001B[49m\u001B[38;5;241;43m.\u001B[39;49m\u001B[43mto_datetime\u001B[49m\u001B[43m(\u001B[49m\u001B[43mforecast_solar\u001B[49m\u001B[38;5;241;43m.\u001B[39;49m\u001B[43mindex\u001B[49m\u001B[38;5;241;43m.\u001B[39;49m\u001B[43mdate\u001B[49m\u001B[43m[\u001B[49m\u001B[38;5;241;43m0\u001B[39;49m\u001B[43m]\u001B[49m\u001B[43m)\u001B[49m\u001B[43m]\u001B[49m\n",
      "File \u001B[0;32m~/miniforge3/envs/bda_env/lib/python3.9/site-packages/pandas/core/frame.py:3761\u001B[0m, in \u001B[0;36mDataFrame.__getitem__\u001B[0;34m(self, key)\u001B[0m\n\u001B[1;32m   3759\u001B[0m \u001B[38;5;28;01mif\u001B[39;00m \u001B[38;5;28mself\u001B[39m\u001B[38;5;241m.\u001B[39mcolumns\u001B[38;5;241m.\u001B[39mnlevels \u001B[38;5;241m>\u001B[39m \u001B[38;5;241m1\u001B[39m:\n\u001B[1;32m   3760\u001B[0m     \u001B[38;5;28;01mreturn\u001B[39;00m \u001B[38;5;28mself\u001B[39m\u001B[38;5;241m.\u001B[39m_getitem_multilevel(key)\n\u001B[0;32m-> 3761\u001B[0m indexer \u001B[38;5;241m=\u001B[39m \u001B[38;5;28;43mself\u001B[39;49m\u001B[38;5;241;43m.\u001B[39;49m\u001B[43mcolumns\u001B[49m\u001B[38;5;241;43m.\u001B[39;49m\u001B[43mget_loc\u001B[49m\u001B[43m(\u001B[49m\u001B[43mkey\u001B[49m\u001B[43m)\u001B[49m\n\u001B[1;32m   3762\u001B[0m \u001B[38;5;28;01mif\u001B[39;00m is_integer(indexer):\n\u001B[1;32m   3763\u001B[0m     indexer \u001B[38;5;241m=\u001B[39m [indexer]\n",
      "File \u001B[0;32m~/miniforge3/envs/bda_env/lib/python3.9/site-packages/pandas/core/indexes/base.py:3654\u001B[0m, in \u001B[0;36mIndex.get_loc\u001B[0;34m(self, key)\u001B[0m\n\u001B[1;32m   3652\u001B[0m     \u001B[38;5;28;01mreturn\u001B[39;00m \u001B[38;5;28mself\u001B[39m\u001B[38;5;241m.\u001B[39m_engine\u001B[38;5;241m.\u001B[39mget_loc(casted_key)\n\u001B[1;32m   3653\u001B[0m \u001B[38;5;28;01mexcept\u001B[39;00m \u001B[38;5;167;01mKeyError\u001B[39;00m \u001B[38;5;28;01mas\u001B[39;00m err:\n\u001B[0;32m-> 3654\u001B[0m     \u001B[38;5;28;01mraise\u001B[39;00m \u001B[38;5;167;01mKeyError\u001B[39;00m(key) \u001B[38;5;28;01mfrom\u001B[39;00m \u001B[38;5;21;01merr\u001B[39;00m\n\u001B[1;32m   3655\u001B[0m \u001B[38;5;28;01mexcept\u001B[39;00m \u001B[38;5;167;01mTypeError\u001B[39;00m:\n\u001B[1;32m   3656\u001B[0m     \u001B[38;5;66;03m# If we have a listlike key, _check_indexing_error will raise\u001B[39;00m\n\u001B[1;32m   3657\u001B[0m     \u001B[38;5;66;03m#  InvalidIndexError. Otherwise we fall through and re-raise\u001B[39;00m\n\u001B[1;32m   3658\u001B[0m     \u001B[38;5;66;03m#  the TypeError.\u001B[39;00m\n\u001B[1;32m   3659\u001B[0m     \u001B[38;5;28mself\u001B[39m\u001B[38;5;241m.\u001B[39m_check_indexing_error(key)\n",
      "\u001B[0;31mKeyError\u001B[0m: Timestamp('2022-01-01 00:00:00')"
     ]
    }
   ],
   "source": [
    "daily_total_solar_energy[forecast_solar.index.date[0]]"
   ],
   "metadata": {
    "collapsed": false,
    "ExecuteTime": {
     "end_time": "2023-06-08T09:20:25.908352Z",
     "start_time": "2023-06-08T09:20:25.835519Z"
    }
   }
  },
  {
   "cell_type": "code",
   "execution_count": 146,
   "outputs": [
    {
     "data": {
      "text/plain": "pandas._libs.tslibs.timestamps.Timestamp"
     },
     "execution_count": 146,
     "metadata": {},
     "output_type": "execute_result"
    }
   ],
   "source": [
    "daily_total_solar_energy"
   ],
   "metadata": {
    "collapsed": false,
    "ExecuteTime": {
     "end_time": "2023-06-08T09:20:12.320577Z",
     "start_time": "2023-06-08T09:20:12.239964Z"
    }
   }
  },
  {
   "cell_type": "code",
   "execution_count": 129,
   "outputs": [
    {
     "ename": "KeyError",
     "evalue": "'forecast_day'",
     "output_type": "error",
     "traceback": [
      "\u001B[0;31m---------------------------------------------------------------------------\u001B[0m",
      "\u001B[0;31mKeyError\u001B[0m                                  Traceback (most recent call last)",
      "File \u001B[0;32m~/miniforge3/envs/bda_env/lib/python3.9/site-packages/pandas/core/indexes/base.py:3652\u001B[0m, in \u001B[0;36mIndex.get_loc\u001B[0;34m(self, key)\u001B[0m\n\u001B[1;32m   3651\u001B[0m \u001B[38;5;28;01mtry\u001B[39;00m:\n\u001B[0;32m-> 3652\u001B[0m     \u001B[38;5;28;01mreturn\u001B[39;00m \u001B[38;5;28;43mself\u001B[39;49m\u001B[38;5;241;43m.\u001B[39;49m\u001B[43m_engine\u001B[49m\u001B[38;5;241;43m.\u001B[39;49m\u001B[43mget_loc\u001B[49m\u001B[43m(\u001B[49m\u001B[43mcasted_key\u001B[49m\u001B[43m)\u001B[49m\n\u001B[1;32m   3653\u001B[0m \u001B[38;5;28;01mexcept\u001B[39;00m \u001B[38;5;167;01mKeyError\u001B[39;00m \u001B[38;5;28;01mas\u001B[39;00m err:\n",
      "File \u001B[0;32m~/miniforge3/envs/bda_env/lib/python3.9/site-packages/pandas/_libs/index.pyx:147\u001B[0m, in \u001B[0;36mpandas._libs.index.IndexEngine.get_loc\u001B[0;34m()\u001B[0m\n",
      "File \u001B[0;32m~/miniforge3/envs/bda_env/lib/python3.9/site-packages/pandas/_libs/index.pyx:176\u001B[0m, in \u001B[0;36mpandas._libs.index.IndexEngine.get_loc\u001B[0;34m()\u001B[0m\n",
      "File \u001B[0;32mpandas/_libs/hashtable_class_helper.pxi:7080\u001B[0m, in \u001B[0;36mpandas._libs.hashtable.PyObjectHashTable.get_item\u001B[0;34m()\u001B[0m\n",
      "File \u001B[0;32mpandas/_libs/hashtable_class_helper.pxi:7088\u001B[0m, in \u001B[0;36mpandas._libs.hashtable.PyObjectHashTable.get_item\u001B[0;34m()\u001B[0m\n",
      "\u001B[0;31mKeyError\u001B[0m: 'forecast_day'",
      "\nThe above exception was the direct cause of the following exception:\n",
      "\u001B[0;31mKeyError\u001B[0m                                  Traceback (most recent call last)",
      "Cell \u001B[0;32mIn[129], line 1\u001B[0m\n\u001B[0;32m----> 1\u001B[0m \u001B[43mforecast_solar\u001B[49m\u001B[43m[\u001B[49m\u001B[38;5;124;43m'\u001B[39;49m\u001B[38;5;124;43mforecast_day\u001B[39;49m\u001B[38;5;124;43m'\u001B[39;49m\u001B[43m]\u001B[49m\u001B[38;5;241m.\u001B[39mmap(\u001B[38;5;28;01mlambda\u001B[39;00m x: daily_total_solar_energy[x])\n",
      "File \u001B[0;32m~/miniforge3/envs/bda_env/lib/python3.9/site-packages/pandas/core/frame.py:3761\u001B[0m, in \u001B[0;36mDataFrame.__getitem__\u001B[0;34m(self, key)\u001B[0m\n\u001B[1;32m   3759\u001B[0m \u001B[38;5;28;01mif\u001B[39;00m \u001B[38;5;28mself\u001B[39m\u001B[38;5;241m.\u001B[39mcolumns\u001B[38;5;241m.\u001B[39mnlevels \u001B[38;5;241m>\u001B[39m \u001B[38;5;241m1\u001B[39m:\n\u001B[1;32m   3760\u001B[0m     \u001B[38;5;28;01mreturn\u001B[39;00m \u001B[38;5;28mself\u001B[39m\u001B[38;5;241m.\u001B[39m_getitem_multilevel(key)\n\u001B[0;32m-> 3761\u001B[0m indexer \u001B[38;5;241m=\u001B[39m \u001B[38;5;28;43mself\u001B[39;49m\u001B[38;5;241;43m.\u001B[39;49m\u001B[43mcolumns\u001B[49m\u001B[38;5;241;43m.\u001B[39;49m\u001B[43mget_loc\u001B[49m\u001B[43m(\u001B[49m\u001B[43mkey\u001B[49m\u001B[43m)\u001B[49m\n\u001B[1;32m   3762\u001B[0m \u001B[38;5;28;01mif\u001B[39;00m is_integer(indexer):\n\u001B[1;32m   3763\u001B[0m     indexer \u001B[38;5;241m=\u001B[39m [indexer]\n",
      "File \u001B[0;32m~/miniforge3/envs/bda_env/lib/python3.9/site-packages/pandas/core/indexes/base.py:3654\u001B[0m, in \u001B[0;36mIndex.get_loc\u001B[0;34m(self, key)\u001B[0m\n\u001B[1;32m   3652\u001B[0m     \u001B[38;5;28;01mreturn\u001B[39;00m \u001B[38;5;28mself\u001B[39m\u001B[38;5;241m.\u001B[39m_engine\u001B[38;5;241m.\u001B[39mget_loc(casted_key)\n\u001B[1;32m   3653\u001B[0m \u001B[38;5;28;01mexcept\u001B[39;00m \u001B[38;5;167;01mKeyError\u001B[39;00m \u001B[38;5;28;01mas\u001B[39;00m err:\n\u001B[0;32m-> 3654\u001B[0m     \u001B[38;5;28;01mraise\u001B[39;00m \u001B[38;5;167;01mKeyError\u001B[39;00m(key) \u001B[38;5;28;01mfrom\u001B[39;00m \u001B[38;5;21;01merr\u001B[39;00m\n\u001B[1;32m   3655\u001B[0m \u001B[38;5;28;01mexcept\u001B[39;00m \u001B[38;5;167;01mTypeError\u001B[39;00m:\n\u001B[1;32m   3656\u001B[0m     \u001B[38;5;66;03m# If we have a listlike key, _check_indexing_error will raise\u001B[39;00m\n\u001B[1;32m   3657\u001B[0m     \u001B[38;5;66;03m#  InvalidIndexError. Otherwise we fall through and re-raise\u001B[39;00m\n\u001B[1;32m   3658\u001B[0m     \u001B[38;5;66;03m#  the TypeError.\u001B[39;00m\n\u001B[1;32m   3659\u001B[0m     \u001B[38;5;28mself\u001B[39m\u001B[38;5;241m.\u001B[39m_check_indexing_error(key)\n",
      "\u001B[0;31mKeyError\u001B[0m: 'forecast_day'"
     ]
    }
   ],
   "source": [
    "forecast_solar['forecast_day'].map(lambda x: daily_total_solar_energy[x])"
   ],
   "metadata": {
    "collapsed": false,
    "ExecuteTime": {
     "end_time": "2023-06-08T09:16:13.733238Z",
     "start_time": "2023-06-08T09:16:13.633764Z"
    }
   }
  },
  {
   "cell_type": "code",
   "execution_count": 130,
   "outputs": [
    {
     "ename": "TypeError",
     "evalue": "function missing required argument 'year' (pos 1)",
     "output_type": "error",
     "traceback": [
      "\u001B[0;31m---------------------------------------------------------------------------\u001B[0m",
      "\u001B[0;31mTypeError\u001B[0m                                 Traceback (most recent call last)",
      "Cell \u001B[0;32mIn[130], line 1\u001B[0m\n\u001B[0;32m----> 1\u001B[0m daily_total_solar_energy[\u001B[43mpd\u001B[49m\u001B[38;5;241;43m.\u001B[39;49m\u001B[43mTimestamp\u001B[49m\u001B[43m(\u001B[49m\u001B[43m)\u001B[49m]\n",
      "File \u001B[0;32m~/miniforge3/envs/bda_env/lib/python3.9/site-packages/pandas/_libs/tslibs/timestamps.pyx:1642\u001B[0m, in \u001B[0;36mpandas._libs.tslibs.timestamps.Timestamp.__new__\u001B[0;34m()\u001B[0m\n",
      "\u001B[0;31mTypeError\u001B[0m: function missing required argument 'year' (pos 1)"
     ]
    }
   ],
   "source": [
    "daily_total_solar_energy[pd.Timestamp()]"
   ],
   "metadata": {
    "collapsed": false,
    "ExecuteTime": {
     "end_time": "2023-06-08T09:16:15.629156Z",
     "start_time": "2023-06-08T09:16:15.573220Z"
    }
   }
  },
  {
   "cell_type": "code",
   "execution_count": 110,
   "outputs": [
    {
     "ename": "KeyError",
     "evalue": "'2022-01-01'",
     "output_type": "error",
     "traceback": [
      "\u001B[0;31m---------------------------------------------------------------------------\u001B[0m",
      "\u001B[0;31mKeyError\u001B[0m                                  Traceback (most recent call last)",
      "File \u001B[0;32m~/miniforge3/envs/bda_env/lib/python3.9/site-packages/pandas/core/indexes/base.py:3652\u001B[0m, in \u001B[0;36mIndex.get_loc\u001B[0;34m(self, key)\u001B[0m\n\u001B[1;32m   3651\u001B[0m \u001B[38;5;28;01mtry\u001B[39;00m:\n\u001B[0;32m-> 3652\u001B[0m     \u001B[38;5;28;01mreturn\u001B[39;00m \u001B[38;5;28;43mself\u001B[39;49m\u001B[38;5;241;43m.\u001B[39;49m\u001B[43m_engine\u001B[49m\u001B[38;5;241;43m.\u001B[39;49m\u001B[43mget_loc\u001B[49m\u001B[43m(\u001B[49m\u001B[43mcasted_key\u001B[49m\u001B[43m)\u001B[49m\n\u001B[1;32m   3653\u001B[0m \u001B[38;5;28;01mexcept\u001B[39;00m \u001B[38;5;167;01mKeyError\u001B[39;00m \u001B[38;5;28;01mas\u001B[39;00m err:\n",
      "File \u001B[0;32m~/miniforge3/envs/bda_env/lib/python3.9/site-packages/pandas/_libs/index.pyx:147\u001B[0m, in \u001B[0;36mpandas._libs.index.IndexEngine.get_loc\u001B[0;34m()\u001B[0m\n",
      "File \u001B[0;32m~/miniforge3/envs/bda_env/lib/python3.9/site-packages/pandas/_libs/index.pyx:176\u001B[0m, in \u001B[0;36mpandas._libs.index.IndexEngine.get_loc\u001B[0;34m()\u001B[0m\n",
      "File \u001B[0;32mpandas/_libs/hashtable_class_helper.pxi:7080\u001B[0m, in \u001B[0;36mpandas._libs.hashtable.PyObjectHashTable.get_item\u001B[0;34m()\u001B[0m\n",
      "File \u001B[0;32mpandas/_libs/hashtable_class_helper.pxi:7088\u001B[0m, in \u001B[0;36mpandas._libs.hashtable.PyObjectHashTable.get_item\u001B[0;34m()\u001B[0m\n",
      "\u001B[0;31mKeyError\u001B[0m: '2022-01-01'",
      "\nThe above exception was the direct cause of the following exception:\n",
      "\u001B[0;31mKeyError\u001B[0m                                  Traceback (most recent call last)",
      "Cell \u001B[0;32mIn[110], line 1\u001B[0m\n\u001B[0;32m----> 1\u001B[0m \u001B[43mdaily_total_solar_energy\u001B[49m\u001B[43m[\u001B[49m\u001B[38;5;124;43m'\u001B[39;49m\u001B[38;5;124;43m2022-01-01\u001B[39;49m\u001B[38;5;124;43m'\u001B[39;49m\u001B[43m]\u001B[49m\n",
      "File \u001B[0;32m~/miniforge3/envs/bda_env/lib/python3.9/site-packages/pandas/core/frame.py:3761\u001B[0m, in \u001B[0;36mDataFrame.__getitem__\u001B[0;34m(self, key)\u001B[0m\n\u001B[1;32m   3759\u001B[0m \u001B[38;5;28;01mif\u001B[39;00m \u001B[38;5;28mself\u001B[39m\u001B[38;5;241m.\u001B[39mcolumns\u001B[38;5;241m.\u001B[39mnlevels \u001B[38;5;241m>\u001B[39m \u001B[38;5;241m1\u001B[39m:\n\u001B[1;32m   3760\u001B[0m     \u001B[38;5;28;01mreturn\u001B[39;00m \u001B[38;5;28mself\u001B[39m\u001B[38;5;241m.\u001B[39m_getitem_multilevel(key)\n\u001B[0;32m-> 3761\u001B[0m indexer \u001B[38;5;241m=\u001B[39m \u001B[38;5;28;43mself\u001B[39;49m\u001B[38;5;241;43m.\u001B[39;49m\u001B[43mcolumns\u001B[49m\u001B[38;5;241;43m.\u001B[39;49m\u001B[43mget_loc\u001B[49m\u001B[43m(\u001B[49m\u001B[43mkey\u001B[49m\u001B[43m)\u001B[49m\n\u001B[1;32m   3762\u001B[0m \u001B[38;5;28;01mif\u001B[39;00m is_integer(indexer):\n\u001B[1;32m   3763\u001B[0m     indexer \u001B[38;5;241m=\u001B[39m [indexer]\n",
      "File \u001B[0;32m~/miniforge3/envs/bda_env/lib/python3.9/site-packages/pandas/core/indexes/base.py:3654\u001B[0m, in \u001B[0;36mIndex.get_loc\u001B[0;34m(self, key)\u001B[0m\n\u001B[1;32m   3652\u001B[0m     \u001B[38;5;28;01mreturn\u001B[39;00m \u001B[38;5;28mself\u001B[39m\u001B[38;5;241m.\u001B[39m_engine\u001B[38;5;241m.\u001B[39mget_loc(casted_key)\n\u001B[1;32m   3653\u001B[0m \u001B[38;5;28;01mexcept\u001B[39;00m \u001B[38;5;167;01mKeyError\u001B[39;00m \u001B[38;5;28;01mas\u001B[39;00m err:\n\u001B[0;32m-> 3654\u001B[0m     \u001B[38;5;28;01mraise\u001B[39;00m \u001B[38;5;167;01mKeyError\u001B[39;00m(key) \u001B[38;5;28;01mfrom\u001B[39;00m \u001B[38;5;21;01merr\u001B[39;00m\n\u001B[1;32m   3655\u001B[0m \u001B[38;5;28;01mexcept\u001B[39;00m \u001B[38;5;167;01mTypeError\u001B[39;00m:\n\u001B[1;32m   3656\u001B[0m     \u001B[38;5;66;03m# If we have a listlike key, _check_indexing_error will raise\u001B[39;00m\n\u001B[1;32m   3657\u001B[0m     \u001B[38;5;66;03m#  InvalidIndexError. Otherwise we fall through and re-raise\u001B[39;00m\n\u001B[1;32m   3658\u001B[0m     \u001B[38;5;66;03m#  the TypeError.\u001B[39;00m\n\u001B[1;32m   3659\u001B[0m     \u001B[38;5;28mself\u001B[39m\u001B[38;5;241m.\u001B[39m_check_indexing_error(key)\n",
      "\u001B[0;31mKeyError\u001B[0m: '2022-01-01'"
     ]
    }
   ],
   "source": [
    "daily_total_solar_energy['2022-01-01']"
   ],
   "metadata": {
    "collapsed": false,
    "ExecuteTime": {
     "end_time": "2023-06-08T09:13:16.313903Z",
     "start_time": "2023-06-08T09:13:16.239541Z"
    }
   }
  },
  {
   "cell_type": "code",
   "execution_count": null,
   "outputs": [],
   "source": [],
   "metadata": {
    "collapsed": false
   }
  },
  {
   "cell_type": "code",
   "execution_count": null,
   "outputs": [],
   "source": [],
   "metadata": {
    "collapsed": false
   }
  },
  {
   "cell_type": "code",
   "execution_count": 94,
   "outputs": [
    {
     "ename": "KeyError",
     "evalue": "datetime.date(2022, 1, 1)",
     "output_type": "error",
     "traceback": [
      "\u001B[0;31m---------------------------------------------------------------------------\u001B[0m",
      "\u001B[0;31mTypeError\u001B[0m                                 Traceback (most recent call last)",
      "File \u001B[0;32m~/miniforge3/envs/bda_env/lib/python3.9/site-packages/pandas/core/indexes/extension.py:161\u001B[0m, in \u001B[0;36mExtensionIndex.map\u001B[0;34m(self, mapper, na_action)\u001B[0m\n\u001B[1;32m    160\u001B[0m \u001B[38;5;28;01mtry\u001B[39;00m:\n\u001B[0;32m--> 161\u001B[0m     result \u001B[38;5;241m=\u001B[39m \u001B[43mmapper\u001B[49m\u001B[43m(\u001B[49m\u001B[38;5;28;43mself\u001B[39;49m\u001B[43m)\u001B[49m\n\u001B[1;32m    163\u001B[0m     \u001B[38;5;66;03m# Try to use this result if we can\u001B[39;00m\n",
      "Cell \u001B[0;32mIn[94], line 2\u001B[0m, in \u001B[0;36m<lambda>\u001B[0;34m(x)\u001B[0m\n\u001B[1;32m      1\u001B[0m \u001B[38;5;66;03m# Calculate the relative value of solar energy for each hour\u001B[39;00m\n\u001B[0;32m----> 2\u001B[0m forecast_solar[\u001B[38;5;124m'\u001B[39m\u001B[38;5;124mrelative_value\u001B[39m\u001B[38;5;124m'\u001B[39m] \u001B[38;5;241m=\u001B[39m forecast_solar[\u001B[38;5;124m'\u001B[39m\u001B[38;5;124mForecasted Solar [MWh]\u001B[39m\u001B[38;5;124m'\u001B[39m] \u001B[38;5;241m/\u001B[39m forecast_solar\u001B[38;5;241m.\u001B[39mindex\u001B[38;5;241m.\u001B[39mmap(\u001B[38;5;28;01mlambda\u001B[39;00m x: daily_total_solar_energy[\u001B[43mx\u001B[49m\u001B[38;5;241;43m.\u001B[39;49m\u001B[43mdate\u001B[49m\u001B[43m(\u001B[49m\u001B[43m)\u001B[49m])\n",
      "\u001B[0;31mTypeError\u001B[0m: 'numpy.ndarray' object is not callable",
      "\nDuring handling of the above exception, another exception occurred:\n",
      "\u001B[0;31mKeyError\u001B[0m                                  Traceback (most recent call last)",
      "File \u001B[0;32m~/miniforge3/envs/bda_env/lib/python3.9/site-packages/pandas/core/indexes/base.py:3652\u001B[0m, in \u001B[0;36mIndex.get_loc\u001B[0;34m(self, key)\u001B[0m\n\u001B[1;32m   3651\u001B[0m \u001B[38;5;28;01mtry\u001B[39;00m:\n\u001B[0;32m-> 3652\u001B[0m     \u001B[38;5;28;01mreturn\u001B[39;00m \u001B[38;5;28;43mself\u001B[39;49m\u001B[38;5;241;43m.\u001B[39;49m\u001B[43m_engine\u001B[49m\u001B[38;5;241;43m.\u001B[39;49m\u001B[43mget_loc\u001B[49m\u001B[43m(\u001B[49m\u001B[43mcasted_key\u001B[49m\u001B[43m)\u001B[49m\n\u001B[1;32m   3653\u001B[0m \u001B[38;5;28;01mexcept\u001B[39;00m \u001B[38;5;167;01mKeyError\u001B[39;00m \u001B[38;5;28;01mas\u001B[39;00m err:\n",
      "File \u001B[0;32m~/miniforge3/envs/bda_env/lib/python3.9/site-packages/pandas/_libs/index.pyx:147\u001B[0m, in \u001B[0;36mpandas._libs.index.IndexEngine.get_loc\u001B[0;34m()\u001B[0m\n",
      "File \u001B[0;32m~/miniforge3/envs/bda_env/lib/python3.9/site-packages/pandas/_libs/index.pyx:176\u001B[0m, in \u001B[0;36mpandas._libs.index.IndexEngine.get_loc\u001B[0;34m()\u001B[0m\n",
      "File \u001B[0;32mpandas/_libs/hashtable_class_helper.pxi:7080\u001B[0m, in \u001B[0;36mpandas._libs.hashtable.PyObjectHashTable.get_item\u001B[0;34m()\u001B[0m\n",
      "File \u001B[0;32mpandas/_libs/hashtable_class_helper.pxi:7088\u001B[0m, in \u001B[0;36mpandas._libs.hashtable.PyObjectHashTable.get_item\u001B[0;34m()\u001B[0m\n",
      "\u001B[0;31mKeyError\u001B[0m: datetime.date(2022, 1, 1)",
      "\nThe above exception was the direct cause of the following exception:\n",
      "\u001B[0;31mKeyError\u001B[0m                                  Traceback (most recent call last)",
      "Cell \u001B[0;32mIn[94], line 2\u001B[0m\n\u001B[1;32m      1\u001B[0m \u001B[38;5;66;03m# Calculate the relative value of solar energy for each hour\u001B[39;00m\n\u001B[0;32m----> 2\u001B[0m forecast_solar[\u001B[38;5;124m'\u001B[39m\u001B[38;5;124mrelative_value\u001B[39m\u001B[38;5;124m'\u001B[39m] \u001B[38;5;241m=\u001B[39m forecast_solar[\u001B[38;5;124m'\u001B[39m\u001B[38;5;124mForecasted Solar [MWh]\u001B[39m\u001B[38;5;124m'\u001B[39m] \u001B[38;5;241m/\u001B[39m \u001B[43mforecast_solar\u001B[49m\u001B[38;5;241;43m.\u001B[39;49m\u001B[43mindex\u001B[49m\u001B[38;5;241;43m.\u001B[39;49m\u001B[43mmap\u001B[49m\u001B[43m(\u001B[49m\u001B[38;5;28;43;01mlambda\u001B[39;49;00m\u001B[43m \u001B[49m\u001B[43mx\u001B[49m\u001B[43m:\u001B[49m\u001B[43m \u001B[49m\u001B[43mdaily_total_solar_energy\u001B[49m\u001B[43m[\u001B[49m\u001B[43mx\u001B[49m\u001B[38;5;241;43m.\u001B[39;49m\u001B[43mdate\u001B[49m\u001B[43m(\u001B[49m\u001B[43m)\u001B[49m\u001B[43m]\u001B[49m\u001B[43m)\u001B[49m\n",
      "File \u001B[0;32m~/miniforge3/envs/bda_env/lib/python3.9/site-packages/pandas/core/indexes/extension.py:171\u001B[0m, in \u001B[0;36mExtensionIndex.map\u001B[0;34m(self, mapper, na_action)\u001B[0m\n\u001B[1;32m    169\u001B[0m     \u001B[38;5;28;01mreturn\u001B[39;00m result\n\u001B[1;32m    170\u001B[0m \u001B[38;5;28;01mexcept\u001B[39;00m \u001B[38;5;167;01mException\u001B[39;00m:\n\u001B[0;32m--> 171\u001B[0m     \u001B[38;5;28;01mreturn\u001B[39;00m \u001B[38;5;28;43mself\u001B[39;49m\u001B[38;5;241;43m.\u001B[39;49m\u001B[43mastype\u001B[49m\u001B[43m(\u001B[49m\u001B[38;5;28;43mobject\u001B[39;49m\u001B[43m)\u001B[49m\u001B[38;5;241;43m.\u001B[39;49m\u001B[43mmap\u001B[49m\u001B[43m(\u001B[49m\u001B[43mmapper\u001B[49m\u001B[43m)\u001B[49m\n",
      "File \u001B[0;32m~/miniforge3/envs/bda_env/lib/python3.9/site-packages/pandas/core/indexes/base.py:6158\u001B[0m, in \u001B[0;36mIndex.map\u001B[0;34m(self, mapper, na_action)\u001B[0m\n\u001B[1;32m   6138\u001B[0m \u001B[38;5;250m\u001B[39m\u001B[38;5;124;03m\"\"\"\u001B[39;00m\n\u001B[1;32m   6139\u001B[0m \u001B[38;5;124;03mMap values using an input mapping or function.\u001B[39;00m\n\u001B[1;32m   6140\u001B[0m \n\u001B[0;32m   (...)\u001B[0m\n\u001B[1;32m   6154\u001B[0m \u001B[38;5;124;03m    a MultiIndex will be returned.\u001B[39;00m\n\u001B[1;32m   6155\u001B[0m \u001B[38;5;124;03m\"\"\"\u001B[39;00m\n\u001B[1;32m   6156\u001B[0m \u001B[38;5;28;01mfrom\u001B[39;00m \u001B[38;5;21;01mpandas\u001B[39;00m\u001B[38;5;21;01m.\u001B[39;00m\u001B[38;5;21;01mcore\u001B[39;00m\u001B[38;5;21;01m.\u001B[39;00m\u001B[38;5;21;01mindexes\u001B[39;00m\u001B[38;5;21;01m.\u001B[39;00m\u001B[38;5;21;01mmulti\u001B[39;00m \u001B[38;5;28;01mimport\u001B[39;00m MultiIndex\n\u001B[0;32m-> 6158\u001B[0m new_values \u001B[38;5;241m=\u001B[39m \u001B[38;5;28;43mself\u001B[39;49m\u001B[38;5;241;43m.\u001B[39;49m\u001B[43m_map_values\u001B[49m\u001B[43m(\u001B[49m\u001B[43mmapper\u001B[49m\u001B[43m,\u001B[49m\u001B[43m \u001B[49m\u001B[43mna_action\u001B[49m\u001B[38;5;241;43m=\u001B[39;49m\u001B[43mna_action\u001B[49m\u001B[43m)\u001B[49m\n\u001B[1;32m   6160\u001B[0m \u001B[38;5;66;03m# we can return a MultiIndex\u001B[39;00m\n\u001B[1;32m   6161\u001B[0m \u001B[38;5;28;01mif\u001B[39;00m new_values\u001B[38;5;241m.\u001B[39msize \u001B[38;5;129;01mand\u001B[39;00m \u001B[38;5;28misinstance\u001B[39m(new_values[\u001B[38;5;241m0\u001B[39m], \u001B[38;5;28mtuple\u001B[39m):\n",
      "File \u001B[0;32m~/miniforge3/envs/bda_env/lib/python3.9/site-packages/pandas/core/base.py:924\u001B[0m, in \u001B[0;36mIndexOpsMixin._map_values\u001B[0;34m(self, mapper, na_action)\u001B[0m\n\u001B[1;32m    921\u001B[0m         \u001B[38;5;28;01mraise\u001B[39;00m \u001B[38;5;167;01mValueError\u001B[39;00m(msg)\n\u001B[1;32m    923\u001B[0m \u001B[38;5;66;03m# mapper is a function\u001B[39;00m\n\u001B[0;32m--> 924\u001B[0m new_values \u001B[38;5;241m=\u001B[39m \u001B[43mmap_f\u001B[49m\u001B[43m(\u001B[49m\u001B[43mvalues\u001B[49m\u001B[43m,\u001B[49m\u001B[43m \u001B[49m\u001B[43mmapper\u001B[49m\u001B[43m)\u001B[49m\n\u001B[1;32m    926\u001B[0m \u001B[38;5;28;01mreturn\u001B[39;00m new_values\n",
      "File \u001B[0;32m~/miniforge3/envs/bda_env/lib/python3.9/site-packages/pandas/_libs/lib.pyx:2834\u001B[0m, in \u001B[0;36mpandas._libs.lib.map_infer\u001B[0;34m()\u001B[0m\n",
      "Cell \u001B[0;32mIn[94], line 2\u001B[0m, in \u001B[0;36m<lambda>\u001B[0;34m(x)\u001B[0m\n\u001B[1;32m      1\u001B[0m \u001B[38;5;66;03m# Calculate the relative value of solar energy for each hour\u001B[39;00m\n\u001B[0;32m----> 2\u001B[0m forecast_solar[\u001B[38;5;124m'\u001B[39m\u001B[38;5;124mrelative_value\u001B[39m\u001B[38;5;124m'\u001B[39m] \u001B[38;5;241m=\u001B[39m forecast_solar[\u001B[38;5;124m'\u001B[39m\u001B[38;5;124mForecasted Solar [MWh]\u001B[39m\u001B[38;5;124m'\u001B[39m] \u001B[38;5;241m/\u001B[39m forecast_solar\u001B[38;5;241m.\u001B[39mindex\u001B[38;5;241m.\u001B[39mmap(\u001B[38;5;28;01mlambda\u001B[39;00m x: \u001B[43mdaily_total_solar_energy\u001B[49m\u001B[43m[\u001B[49m\u001B[43mx\u001B[49m\u001B[38;5;241;43m.\u001B[39;49m\u001B[43mdate\u001B[49m\u001B[43m(\u001B[49m\u001B[43m)\u001B[49m\u001B[43m]\u001B[49m)\n",
      "File \u001B[0;32m~/miniforge3/envs/bda_env/lib/python3.9/site-packages/pandas/core/frame.py:3761\u001B[0m, in \u001B[0;36mDataFrame.__getitem__\u001B[0;34m(self, key)\u001B[0m\n\u001B[1;32m   3759\u001B[0m \u001B[38;5;28;01mif\u001B[39;00m \u001B[38;5;28mself\u001B[39m\u001B[38;5;241m.\u001B[39mcolumns\u001B[38;5;241m.\u001B[39mnlevels \u001B[38;5;241m>\u001B[39m \u001B[38;5;241m1\u001B[39m:\n\u001B[1;32m   3760\u001B[0m     \u001B[38;5;28;01mreturn\u001B[39;00m \u001B[38;5;28mself\u001B[39m\u001B[38;5;241m.\u001B[39m_getitem_multilevel(key)\n\u001B[0;32m-> 3761\u001B[0m indexer \u001B[38;5;241m=\u001B[39m \u001B[38;5;28;43mself\u001B[39;49m\u001B[38;5;241;43m.\u001B[39;49m\u001B[43mcolumns\u001B[49m\u001B[38;5;241;43m.\u001B[39;49m\u001B[43mget_loc\u001B[49m\u001B[43m(\u001B[49m\u001B[43mkey\u001B[49m\u001B[43m)\u001B[49m\n\u001B[1;32m   3762\u001B[0m \u001B[38;5;28;01mif\u001B[39;00m is_integer(indexer):\n\u001B[1;32m   3763\u001B[0m     indexer \u001B[38;5;241m=\u001B[39m [indexer]\n",
      "File \u001B[0;32m~/miniforge3/envs/bda_env/lib/python3.9/site-packages/pandas/core/indexes/base.py:3654\u001B[0m, in \u001B[0;36mIndex.get_loc\u001B[0;34m(self, key)\u001B[0m\n\u001B[1;32m   3652\u001B[0m     \u001B[38;5;28;01mreturn\u001B[39;00m \u001B[38;5;28mself\u001B[39m\u001B[38;5;241m.\u001B[39m_engine\u001B[38;5;241m.\u001B[39mget_loc(casted_key)\n\u001B[1;32m   3653\u001B[0m \u001B[38;5;28;01mexcept\u001B[39;00m \u001B[38;5;167;01mKeyError\u001B[39;00m \u001B[38;5;28;01mas\u001B[39;00m err:\n\u001B[0;32m-> 3654\u001B[0m     \u001B[38;5;28;01mraise\u001B[39;00m \u001B[38;5;167;01mKeyError\u001B[39;00m(key) \u001B[38;5;28;01mfrom\u001B[39;00m \u001B[38;5;21;01merr\u001B[39;00m\n\u001B[1;32m   3655\u001B[0m \u001B[38;5;28;01mexcept\u001B[39;00m \u001B[38;5;167;01mTypeError\u001B[39;00m:\n\u001B[1;32m   3656\u001B[0m     \u001B[38;5;66;03m# If we have a listlike key, _check_indexing_error will raise\u001B[39;00m\n\u001B[1;32m   3657\u001B[0m     \u001B[38;5;66;03m#  InvalidIndexError. Otherwise we fall through and re-raise\u001B[39;00m\n\u001B[1;32m   3658\u001B[0m     \u001B[38;5;66;03m#  the TypeError.\u001B[39;00m\n\u001B[1;32m   3659\u001B[0m     \u001B[38;5;28mself\u001B[39m\u001B[38;5;241m.\u001B[39m_check_indexing_error(key)\n",
      "\u001B[0;31mKeyError\u001B[0m: datetime.date(2022, 1, 1)"
     ]
    }
   ],
   "source": [
    "# Calculate the relative value of solar energy for each hour\n",
    "forecast_solar['relative_value'] = forecast_solar['Forecasted Solar [MWh]'] / forecast_solar.index.map(lambda x: daily_total_solar_energy[x.date()])"
   ],
   "metadata": {
    "collapsed": false,
    "ExecuteTime": {
     "end_time": "2023-06-08T09:09:00.140441Z",
     "start_time": "2023-06-08T09:08:59.690967Z"
    }
   }
  },
  {
   "cell_type": "code",
   "execution_count": 92,
   "outputs": [
    {
     "data": {
      "text/plain": "DatetimeIndex(['2022-01-01 00:00:00+01:00', '2022-01-01 01:00:00+01:00',\n               '2022-01-01 02:00:00+01:00', '2022-01-01 03:00:00+01:00',\n               '2022-01-01 04:00:00+01:00', '2022-01-01 05:00:00+01:00',\n               '2022-01-01 06:00:00+01:00', '2022-01-01 07:00:00+01:00',\n               '2022-01-01 08:00:00+01:00', '2022-01-01 09:00:00+01:00',\n               ...\n               '2023-06-08 14:00:00+02:00', '2023-06-08 15:00:00+02:00',\n               '2023-06-08 16:00:00+02:00', '2023-06-08 17:00:00+02:00',\n               '2023-06-08 18:00:00+02:00', '2023-06-08 19:00:00+02:00',\n               '2023-06-08 20:00:00+02:00', '2023-06-08 21:00:00+02:00',\n               '2023-06-08 22:00:00+02:00', '2023-06-08 23:00:00+02:00'],\n              dtype='datetime64[ns, Europe/Berlin]', length=12504, freq=None)"
     },
     "execution_count": 92,
     "metadata": {},
     "output_type": "execute_result"
    }
   ],
   "source": [
    "forecast_solar.index"
   ],
   "metadata": {
    "collapsed": false,
    "ExecuteTime": {
     "end_time": "2023-06-08T09:07:49.350752Z",
     "start_time": "2023-06-08T09:07:49.210400Z"
    }
   }
  },
  {
   "cell_type": "code",
   "execution_count": 93,
   "outputs": [
    {
     "ename": "ValueError",
     "evalue": "If using all scalar values, you must pass an index",
     "output_type": "error",
     "traceback": [
      "\u001B[0;31m---------------------------------------------------------------------------\u001B[0m",
      "\u001B[0;31mValueError\u001B[0m                                Traceback (most recent call last)",
      "Cell \u001B[0;32mIn[93], line 1\u001B[0m\n\u001B[0;32m----> 1\u001B[0m \u001B[43mforecast_solar\u001B[49m\u001B[38;5;241;43m.\u001B[39;49m\u001B[43mapply\u001B[49m\u001B[43m(\u001B[49m\u001B[38;5;28;43;01mlambda\u001B[39;49;00m\u001B[43m \u001B[49m\u001B[43mx\u001B[49m\u001B[43m:\u001B[49m\u001B[43m \u001B[49m\u001B[43mdaily_total_solar_energy\u001B[49m\u001B[38;5;241;43m.\u001B[39;49m\u001B[43mloc\u001B[49m\u001B[43m[\u001B[49m\u001B[43mx\u001B[49m\u001B[38;5;241;43m.\u001B[39;49m\u001B[43mindex\u001B[49m\u001B[38;5;241;43m.\u001B[39;49m\u001B[43mdate\u001B[49m\u001B[43m]\u001B[49m\u001B[43m)\u001B[49m\n",
      "File \u001B[0;32m~/miniforge3/envs/bda_env/lib/python3.9/site-packages/pandas/core/frame.py:9433\u001B[0m, in \u001B[0;36mDataFrame.apply\u001B[0;34m(self, func, axis, raw, result_type, args, **kwargs)\u001B[0m\n\u001B[1;32m   9422\u001B[0m \u001B[38;5;28;01mfrom\u001B[39;00m \u001B[38;5;21;01mpandas\u001B[39;00m\u001B[38;5;21;01m.\u001B[39;00m\u001B[38;5;21;01mcore\u001B[39;00m\u001B[38;5;21;01m.\u001B[39;00m\u001B[38;5;21;01mapply\u001B[39;00m \u001B[38;5;28;01mimport\u001B[39;00m frame_apply\n\u001B[1;32m   9424\u001B[0m op \u001B[38;5;241m=\u001B[39m frame_apply(\n\u001B[1;32m   9425\u001B[0m     \u001B[38;5;28mself\u001B[39m,\n\u001B[1;32m   9426\u001B[0m     func\u001B[38;5;241m=\u001B[39mfunc,\n\u001B[0;32m   (...)\u001B[0m\n\u001B[1;32m   9431\u001B[0m     kwargs\u001B[38;5;241m=\u001B[39mkwargs,\n\u001B[1;32m   9432\u001B[0m )\n\u001B[0;32m-> 9433\u001B[0m \u001B[38;5;28;01mreturn\u001B[39;00m \u001B[43mop\u001B[49m\u001B[38;5;241;43m.\u001B[39;49m\u001B[43mapply\u001B[49m\u001B[43m(\u001B[49m\u001B[43m)\u001B[49m\u001B[38;5;241m.\u001B[39m__finalize__(\u001B[38;5;28mself\u001B[39m, method\u001B[38;5;241m=\u001B[39m\u001B[38;5;124m\"\u001B[39m\u001B[38;5;124mapply\u001B[39m\u001B[38;5;124m\"\u001B[39m)\n",
      "File \u001B[0;32m~/miniforge3/envs/bda_env/lib/python3.9/site-packages/pandas/core/apply.py:678\u001B[0m, in \u001B[0;36mFrameApply.apply\u001B[0;34m(self)\u001B[0m\n\u001B[1;32m    675\u001B[0m \u001B[38;5;28;01melif\u001B[39;00m \u001B[38;5;28mself\u001B[39m\u001B[38;5;241m.\u001B[39mraw:\n\u001B[1;32m    676\u001B[0m     \u001B[38;5;28;01mreturn\u001B[39;00m \u001B[38;5;28mself\u001B[39m\u001B[38;5;241m.\u001B[39mapply_raw()\n\u001B[0;32m--> 678\u001B[0m \u001B[38;5;28;01mreturn\u001B[39;00m \u001B[38;5;28;43mself\u001B[39;49m\u001B[38;5;241;43m.\u001B[39;49m\u001B[43mapply_standard\u001B[49m\u001B[43m(\u001B[49m\u001B[43m)\u001B[49m\n",
      "File \u001B[0;32m~/miniforge3/envs/bda_env/lib/python3.9/site-packages/pandas/core/apply.py:801\u001B[0m, in \u001B[0;36mFrameApply.apply_standard\u001B[0;34m(self)\u001B[0m\n\u001B[1;32m    798\u001B[0m results, res_index \u001B[38;5;241m=\u001B[39m \u001B[38;5;28mself\u001B[39m\u001B[38;5;241m.\u001B[39mapply_series_generator()\n\u001B[1;32m    800\u001B[0m \u001B[38;5;66;03m# wrap results\u001B[39;00m\n\u001B[0;32m--> 801\u001B[0m \u001B[38;5;28;01mreturn\u001B[39;00m \u001B[38;5;28;43mself\u001B[39;49m\u001B[38;5;241;43m.\u001B[39;49m\u001B[43mwrap_results\u001B[49m\u001B[43m(\u001B[49m\u001B[43mresults\u001B[49m\u001B[43m,\u001B[49m\u001B[43m \u001B[49m\u001B[43mres_index\u001B[49m\u001B[43m)\u001B[49m\n",
      "File \u001B[0;32m~/miniforge3/envs/bda_env/lib/python3.9/site-packages/pandas/core/apply.py:827\u001B[0m, in \u001B[0;36mFrameApply.wrap_results\u001B[0;34m(self, results, res_index)\u001B[0m\n\u001B[1;32m    825\u001B[0m \u001B[38;5;66;03m# see if we can infer the results\u001B[39;00m\n\u001B[1;32m    826\u001B[0m \u001B[38;5;28;01mif\u001B[39;00m \u001B[38;5;28mlen\u001B[39m(results) \u001B[38;5;241m>\u001B[39m \u001B[38;5;241m0\u001B[39m \u001B[38;5;129;01mand\u001B[39;00m \u001B[38;5;241m0\u001B[39m \u001B[38;5;129;01min\u001B[39;00m results \u001B[38;5;129;01mand\u001B[39;00m is_sequence(results[\u001B[38;5;241m0\u001B[39m]):\n\u001B[0;32m--> 827\u001B[0m     \u001B[38;5;28;01mreturn\u001B[39;00m \u001B[38;5;28;43mself\u001B[39;49m\u001B[38;5;241;43m.\u001B[39;49m\u001B[43mwrap_results_for_axis\u001B[49m\u001B[43m(\u001B[49m\u001B[43mresults\u001B[49m\u001B[43m,\u001B[49m\u001B[43m \u001B[49m\u001B[43mres_index\u001B[49m\u001B[43m)\u001B[49m\n\u001B[1;32m    829\u001B[0m \u001B[38;5;66;03m# dict of scalars\u001B[39;00m\n\u001B[1;32m    830\u001B[0m \n\u001B[1;32m    831\u001B[0m \u001B[38;5;66;03m# the default dtype of an empty Series is `object`, but this\u001B[39;00m\n\u001B[1;32m    832\u001B[0m \u001B[38;5;66;03m# code can be hit by df.mean() where the result should have dtype\u001B[39;00m\n\u001B[1;32m    833\u001B[0m \u001B[38;5;66;03m# float64 even if it's an empty Series.\u001B[39;00m\n\u001B[1;32m    834\u001B[0m constructor_sliced \u001B[38;5;241m=\u001B[39m \u001B[38;5;28mself\u001B[39m\u001B[38;5;241m.\u001B[39mobj\u001B[38;5;241m.\u001B[39m_constructor_sliced\n",
      "File \u001B[0;32m~/miniforge3/envs/bda_env/lib/python3.9/site-packages/pandas/core/apply.py:890\u001B[0m, in \u001B[0;36mFrameRowApply.wrap_results_for_axis\u001B[0;34m(self, results, res_index)\u001B[0m\n\u001B[1;32m    887\u001B[0m     \u001B[38;5;28;01mreturn\u001B[39;00m res\n\u001B[1;32m    889\u001B[0m \u001B[38;5;28;01mtry\u001B[39;00m:\n\u001B[0;32m--> 890\u001B[0m     result \u001B[38;5;241m=\u001B[39m \u001B[38;5;28;43mself\u001B[39;49m\u001B[38;5;241;43m.\u001B[39;49m\u001B[43mobj\u001B[49m\u001B[38;5;241;43m.\u001B[39;49m\u001B[43m_constructor\u001B[49m\u001B[43m(\u001B[49m\u001B[43mdata\u001B[49m\u001B[38;5;241;43m=\u001B[39;49m\u001B[43mresults\u001B[49m\u001B[43m)\u001B[49m\n\u001B[1;32m    891\u001B[0m \u001B[38;5;28;01mexcept\u001B[39;00m \u001B[38;5;167;01mValueError\u001B[39;00m \u001B[38;5;28;01mas\u001B[39;00m err:\n\u001B[1;32m    892\u001B[0m     \u001B[38;5;28;01mif\u001B[39;00m \u001B[38;5;124m\"\u001B[39m\u001B[38;5;124mAll arrays must be of the same length\u001B[39m\u001B[38;5;124m\"\u001B[39m \u001B[38;5;129;01min\u001B[39;00m \u001B[38;5;28mstr\u001B[39m(err):\n\u001B[1;32m    893\u001B[0m         \u001B[38;5;66;03m# e.g. result = [[2, 3], [1.5], ['foo', 'bar']]\u001B[39;00m\n\u001B[1;32m    894\u001B[0m         \u001B[38;5;66;03m#  see test_agg_listlike_result GH#29587\u001B[39;00m\n",
      "File \u001B[0;32m~/miniforge3/envs/bda_env/lib/python3.9/site-packages/pandas/core/frame.py:709\u001B[0m, in \u001B[0;36mDataFrame.__init__\u001B[0;34m(self, data, index, columns, dtype, copy)\u001B[0m\n\u001B[1;32m    703\u001B[0m     mgr \u001B[38;5;241m=\u001B[39m \u001B[38;5;28mself\u001B[39m\u001B[38;5;241m.\u001B[39m_init_mgr(\n\u001B[1;32m    704\u001B[0m         data, axes\u001B[38;5;241m=\u001B[39m{\u001B[38;5;124m\"\u001B[39m\u001B[38;5;124mindex\u001B[39m\u001B[38;5;124m\"\u001B[39m: index, \u001B[38;5;124m\"\u001B[39m\u001B[38;5;124mcolumns\u001B[39m\u001B[38;5;124m\"\u001B[39m: columns}, dtype\u001B[38;5;241m=\u001B[39mdtype, copy\u001B[38;5;241m=\u001B[39mcopy\n\u001B[1;32m    705\u001B[0m     )\n\u001B[1;32m    707\u001B[0m \u001B[38;5;28;01melif\u001B[39;00m \u001B[38;5;28misinstance\u001B[39m(data, \u001B[38;5;28mdict\u001B[39m):\n\u001B[1;32m    708\u001B[0m     \u001B[38;5;66;03m# GH#38939 de facto copy defaults to False only in non-dict cases\u001B[39;00m\n\u001B[0;32m--> 709\u001B[0m     mgr \u001B[38;5;241m=\u001B[39m \u001B[43mdict_to_mgr\u001B[49m\u001B[43m(\u001B[49m\u001B[43mdata\u001B[49m\u001B[43m,\u001B[49m\u001B[43m \u001B[49m\u001B[43mindex\u001B[49m\u001B[43m,\u001B[49m\u001B[43m \u001B[49m\u001B[43mcolumns\u001B[49m\u001B[43m,\u001B[49m\u001B[43m \u001B[49m\u001B[43mdtype\u001B[49m\u001B[38;5;241;43m=\u001B[39;49m\u001B[43mdtype\u001B[49m\u001B[43m,\u001B[49m\u001B[43m \u001B[49m\u001B[43mcopy\u001B[49m\u001B[38;5;241;43m=\u001B[39;49m\u001B[43mcopy\u001B[49m\u001B[43m,\u001B[49m\u001B[43m \u001B[49m\u001B[43mtyp\u001B[49m\u001B[38;5;241;43m=\u001B[39;49m\u001B[43mmanager\u001B[49m\u001B[43m)\u001B[49m\n\u001B[1;32m    710\u001B[0m \u001B[38;5;28;01melif\u001B[39;00m \u001B[38;5;28misinstance\u001B[39m(data, ma\u001B[38;5;241m.\u001B[39mMaskedArray):\n\u001B[1;32m    711\u001B[0m     \u001B[38;5;28;01mfrom\u001B[39;00m \u001B[38;5;21;01mnumpy\u001B[39;00m\u001B[38;5;21;01m.\u001B[39;00m\u001B[38;5;21;01mma\u001B[39;00m \u001B[38;5;28;01mimport\u001B[39;00m mrecords\n",
      "File \u001B[0;32m~/miniforge3/envs/bda_env/lib/python3.9/site-packages/pandas/core/internals/construction.py:481\u001B[0m, in \u001B[0;36mdict_to_mgr\u001B[0;34m(data, index, columns, dtype, typ, copy)\u001B[0m\n\u001B[1;32m    477\u001B[0m     \u001B[38;5;28;01melse\u001B[39;00m:\n\u001B[1;32m    478\u001B[0m         \u001B[38;5;66;03m# dtype check to exclude e.g. range objects, scalars\u001B[39;00m\n\u001B[1;32m    479\u001B[0m         arrays \u001B[38;5;241m=\u001B[39m [x\u001B[38;5;241m.\u001B[39mcopy() \u001B[38;5;28;01mif\u001B[39;00m \u001B[38;5;28mhasattr\u001B[39m(x, \u001B[38;5;124m\"\u001B[39m\u001B[38;5;124mdtype\u001B[39m\u001B[38;5;124m\"\u001B[39m) \u001B[38;5;28;01melse\u001B[39;00m x \u001B[38;5;28;01mfor\u001B[39;00m x \u001B[38;5;129;01min\u001B[39;00m arrays]\n\u001B[0;32m--> 481\u001B[0m \u001B[38;5;28;01mreturn\u001B[39;00m \u001B[43marrays_to_mgr\u001B[49m\u001B[43m(\u001B[49m\u001B[43marrays\u001B[49m\u001B[43m,\u001B[49m\u001B[43m \u001B[49m\u001B[43mcolumns\u001B[49m\u001B[43m,\u001B[49m\u001B[43m \u001B[49m\u001B[43mindex\u001B[49m\u001B[43m,\u001B[49m\u001B[43m \u001B[49m\u001B[43mdtype\u001B[49m\u001B[38;5;241;43m=\u001B[39;49m\u001B[43mdtype\u001B[49m\u001B[43m,\u001B[49m\u001B[43m \u001B[49m\u001B[43mtyp\u001B[49m\u001B[38;5;241;43m=\u001B[39;49m\u001B[43mtyp\u001B[49m\u001B[43m,\u001B[49m\u001B[43m \u001B[49m\u001B[43mconsolidate\u001B[49m\u001B[38;5;241;43m=\u001B[39;49m\u001B[43mcopy\u001B[49m\u001B[43m)\u001B[49m\n",
      "File \u001B[0;32m~/miniforge3/envs/bda_env/lib/python3.9/site-packages/pandas/core/internals/construction.py:115\u001B[0m, in \u001B[0;36marrays_to_mgr\u001B[0;34m(arrays, columns, index, dtype, verify_integrity, typ, consolidate)\u001B[0m\n\u001B[1;32m    112\u001B[0m \u001B[38;5;28;01mif\u001B[39;00m verify_integrity:\n\u001B[1;32m    113\u001B[0m     \u001B[38;5;66;03m# figure out the index, if necessary\u001B[39;00m\n\u001B[1;32m    114\u001B[0m     \u001B[38;5;28;01mif\u001B[39;00m index \u001B[38;5;129;01mis\u001B[39;00m \u001B[38;5;28;01mNone\u001B[39;00m:\n\u001B[0;32m--> 115\u001B[0m         index \u001B[38;5;241m=\u001B[39m \u001B[43m_extract_index\u001B[49m\u001B[43m(\u001B[49m\u001B[43marrays\u001B[49m\u001B[43m)\u001B[49m\n\u001B[1;32m    116\u001B[0m     \u001B[38;5;28;01melse\u001B[39;00m:\n\u001B[1;32m    117\u001B[0m         index \u001B[38;5;241m=\u001B[39m ensure_index(index)\n",
      "File \u001B[0;32m~/miniforge3/envs/bda_env/lib/python3.9/site-packages/pandas/core/internals/construction.py:645\u001B[0m, in \u001B[0;36m_extract_index\u001B[0;34m(data)\u001B[0m\n\u001B[1;32m    642\u001B[0m         \u001B[38;5;28;01mraise\u001B[39;00m \u001B[38;5;167;01mValueError\u001B[39;00m(\u001B[38;5;124m\"\u001B[39m\u001B[38;5;124mPer-column arrays must each be 1-dimensional\u001B[39m\u001B[38;5;124m\"\u001B[39m)\n\u001B[1;32m    644\u001B[0m \u001B[38;5;28;01mif\u001B[39;00m \u001B[38;5;129;01mnot\u001B[39;00m indexes \u001B[38;5;129;01mand\u001B[39;00m \u001B[38;5;129;01mnot\u001B[39;00m raw_lengths:\n\u001B[0;32m--> 645\u001B[0m     \u001B[38;5;28;01mraise\u001B[39;00m \u001B[38;5;167;01mValueError\u001B[39;00m(\u001B[38;5;124m\"\u001B[39m\u001B[38;5;124mIf using all scalar values, you must pass an index\u001B[39m\u001B[38;5;124m\"\u001B[39m)\n\u001B[1;32m    647\u001B[0m \u001B[38;5;28;01mif\u001B[39;00m have_series:\n\u001B[1;32m    648\u001B[0m     index \u001B[38;5;241m=\u001B[39m union_indexes(indexes)\n",
      "\u001B[0;31mValueError\u001B[0m: If using all scalar values, you must pass an index"
     ]
    }
   ],
   "source": [
    "forecast_solar.apply(lambda x: daily_total_solar_energy.loc[x.index.date])"
   ],
   "metadata": {
    "collapsed": false,
    "ExecuteTime": {
     "end_time": "2023-06-08T09:08:00.659154Z",
     "start_time": "2023-06-08T09:08:00.447865Z"
    }
   }
  },
  {
   "cell_type": "code",
   "execution_count": 89,
   "outputs": [
    {
     "data": {
      "text/plain": "            Forecasted Solar [MWh]\n2022-01-01                130566.0\n2022-01-02                 94954.0\n2022-01-03                102006.0\n2022-01-04                 43926.0\n2022-01-05                110089.0\n...                            ...\n2023-06-04               1448283.0\n2023-06-05               1336448.0\n2023-06-06               1070144.0\n2023-06-07               1113397.0\n2023-06-08               1197651.0\n\n[521 rows x 1 columns]",
      "text/html": "<div>\n<style scoped>\n    .dataframe tbody tr th:only-of-type {\n        vertical-align: middle;\n    }\n\n    .dataframe tbody tr th {\n        vertical-align: top;\n    }\n\n    .dataframe thead th {\n        text-align: right;\n    }\n</style>\n<table border=\"1\" class=\"dataframe\">\n  <thead>\n    <tr style=\"text-align: right;\">\n      <th></th>\n      <th>Forecasted Solar [MWh]</th>\n    </tr>\n  </thead>\n  <tbody>\n    <tr>\n      <th>2022-01-01</th>\n      <td>130566.0</td>\n    </tr>\n    <tr>\n      <th>2022-01-02</th>\n      <td>94954.0</td>\n    </tr>\n    <tr>\n      <th>2022-01-03</th>\n      <td>102006.0</td>\n    </tr>\n    <tr>\n      <th>2022-01-04</th>\n      <td>43926.0</td>\n    </tr>\n    <tr>\n      <th>2022-01-05</th>\n      <td>110089.0</td>\n    </tr>\n    <tr>\n      <th>...</th>\n      <td>...</td>\n    </tr>\n    <tr>\n      <th>2023-06-04</th>\n      <td>1448283.0</td>\n    </tr>\n    <tr>\n      <th>2023-06-05</th>\n      <td>1336448.0</td>\n    </tr>\n    <tr>\n      <th>2023-06-06</th>\n      <td>1070144.0</td>\n    </tr>\n    <tr>\n      <th>2023-06-07</th>\n      <td>1113397.0</td>\n    </tr>\n    <tr>\n      <th>2023-06-08</th>\n      <td>1197651.0</td>\n    </tr>\n  </tbody>\n</table>\n<p>521 rows × 1 columns</p>\n</div>"
     },
     "execution_count": 89,
     "metadata": {},
     "output_type": "execute_result"
    }
   ],
   "source": [
    "daily_total_solar_energy"
   ],
   "metadata": {
    "collapsed": false,
    "ExecuteTime": {
     "end_time": "2023-06-08T09:07:12.313681Z",
     "start_time": "2023-06-08T09:07:12.271953Z"
    }
   }
  },
  {
   "cell_type": "code",
   "execution_count": 103,
   "outputs": [
    {
     "data": {
      "text/plain": "            Forecasted Solar [MWh]\n2022-01-01                130566.0\n2022-01-02                 94954.0\n2022-01-03                102006.0\n2022-01-04                 43926.0\n2022-01-05                110089.0\n...                            ...\n2023-06-04               1448283.0\n2023-06-05               1336448.0\n2023-06-06               1070144.0\n2023-06-07               1113397.0\n2023-06-08               1197651.0\n\n[521 rows x 1 columns]",
      "text/html": "<div>\n<style scoped>\n    .dataframe tbody tr th:only-of-type {\n        vertical-align: middle;\n    }\n\n    .dataframe tbody tr th {\n        vertical-align: top;\n    }\n\n    .dataframe thead th {\n        text-align: right;\n    }\n</style>\n<table border=\"1\" class=\"dataframe\">\n  <thead>\n    <tr style=\"text-align: right;\">\n      <th></th>\n      <th>Forecasted Solar [MWh]</th>\n    </tr>\n  </thead>\n  <tbody>\n    <tr>\n      <th>2022-01-01</th>\n      <td>130566.0</td>\n    </tr>\n    <tr>\n      <th>2022-01-02</th>\n      <td>94954.0</td>\n    </tr>\n    <tr>\n      <th>2022-01-03</th>\n      <td>102006.0</td>\n    </tr>\n    <tr>\n      <th>2022-01-04</th>\n      <td>43926.0</td>\n    </tr>\n    <tr>\n      <th>2022-01-05</th>\n      <td>110089.0</td>\n    </tr>\n    <tr>\n      <th>...</th>\n      <td>...</td>\n    </tr>\n    <tr>\n      <th>2023-06-04</th>\n      <td>1448283.0</td>\n    </tr>\n    <tr>\n      <th>2023-06-05</th>\n      <td>1336448.0</td>\n    </tr>\n    <tr>\n      <th>2023-06-06</th>\n      <td>1070144.0</td>\n    </tr>\n    <tr>\n      <th>2023-06-07</th>\n      <td>1113397.0</td>\n    </tr>\n    <tr>\n      <th>2023-06-08</th>\n      <td>1197651.0</td>\n    </tr>\n  </tbody>\n</table>\n<p>521 rows × 1 columns</p>\n</div>"
     },
     "execution_count": 103,
     "metadata": {},
     "output_type": "execute_result"
    }
   ],
   "source": [],
   "metadata": {
    "collapsed": false,
    "ExecuteTime": {
     "end_time": "2023-06-08T09:10:55.545559Z",
     "start_time": "2023-06-08T09:10:55.506702Z"
    }
   }
  },
  {
   "cell_type": "code",
   "execution_count": 96,
   "outputs": [],
   "source": [
    "forecast_solar['forecast_day']=forecast_solar.apply(lambda x: x.index.date)"
   ],
   "metadata": {
    "collapsed": false
   }
  },
  {
   "cell_type": "code",
   "execution_count": 76,
   "outputs": [
    {
     "data": {
      "text/plain": "Forecasted Solar [MWh]    130566.0\nName: 2022-01-01 00:00:00, dtype: float64"
     },
     "execution_count": 76,
     "metadata": {},
     "output_type": "execute_result"
    }
   ],
   "source": [
    "daily_total_solar_energy.loc[pd.Timestamp(forecast_solar.iloc[[0]].index[0].date())]"
   ],
   "metadata": {
    "collapsed": false,
    "ExecuteTime": {
     "end_time": "2023-06-08T09:03:02.051376Z",
     "start_time": "2023-06-08T09:03:01.987142Z"
    }
   }
  },
  {
   "cell_type": "code",
   "execution_count": 62,
   "outputs": [
    {
     "data": {
      "text/plain": "DatetimeIndex(['2022-01-01', '2022-01-02', '2022-01-03', '2022-01-04',\n               '2022-01-05', '2022-01-06', '2022-01-07', '2022-01-08',\n               '2022-01-09', '2022-01-10',\n               ...\n               '2023-05-30', '2023-05-31', '2023-06-01', '2023-06-02',\n               '2023-06-03', '2023-06-04', '2023-06-05', '2023-06-06',\n               '2023-06-07', '2023-06-08'],\n              dtype='datetime64[ns]', length=521, freq=None)"
     },
     "execution_count": 62,
     "metadata": {},
     "output_type": "execute_result"
    }
   ],
   "source": [
    "daily_total_solar_energy.index"
   ],
   "metadata": {
    "collapsed": false,
    "ExecuteTime": {
     "end_time": "2023-06-08T08:59:35.917849Z",
     "start_time": "2023-06-08T08:59:35.884314Z"
    }
   }
  },
  {
   "cell_type": "code",
   "execution_count": 55,
   "outputs": [
    {
     "data": {
      "text/plain": "DatetimeIndex(['2022-01-01 00:00:00+01:00', '2022-01-01 01:00:00+01:00',\n               '2022-01-01 02:00:00+01:00', '2022-01-01 03:00:00+01:00',\n               '2022-01-01 04:00:00+01:00', '2022-01-01 05:00:00+01:00',\n               '2022-01-01 06:00:00+01:00', '2022-01-01 07:00:00+01:00',\n               '2022-01-01 08:00:00+01:00', '2022-01-01 09:00:00+01:00',\n               ...\n               '2023-06-08 14:00:00+02:00', '2023-06-08 15:00:00+02:00',\n               '2023-06-08 16:00:00+02:00', '2023-06-08 17:00:00+02:00',\n               '2023-06-08 18:00:00+02:00', '2023-06-08 19:00:00+02:00',\n               '2023-06-08 20:00:00+02:00', '2023-06-08 21:00:00+02:00',\n               '2023-06-08 22:00:00+02:00', '2023-06-08 23:00:00+02:00'],\n              dtype='datetime64[ns, Europe/Berlin]', length=12504, freq=None)"
     },
     "execution_count": 55,
     "metadata": {},
     "output_type": "execute_result"
    }
   ],
   "source": [
    "forecast_solar.index"
   ],
   "metadata": {
    "collapsed": false,
    "ExecuteTime": {
     "end_time": "2023-06-08T08:57:45.321925Z",
     "start_time": "2023-06-08T08:57:45.260287Z"
    }
   }
  },
  {
   "cell_type": "code",
   "execution_count": 54,
   "outputs": [
    {
     "data": {
      "text/plain": "DatetimeIndex(['2022-01-01', '2022-01-02', '2022-01-03', '2022-01-04',\n               '2022-01-05', '2022-01-06', '2022-01-07', '2022-01-08',\n               '2022-01-09', '2022-01-10',\n               ...\n               '2023-05-30', '2023-05-31', '2023-06-01', '2023-06-02',\n               '2023-06-03', '2023-06-04', '2023-06-05', '2023-06-06',\n               '2023-06-07', '2023-06-08'],\n              dtype='datetime64[ns]', length=521, freq=None)"
     },
     "execution_count": 54,
     "metadata": {},
     "output_type": "execute_result"
    }
   ],
   "source": [
    "daily_total_solar_energy.index"
   ],
   "metadata": {
    "collapsed": false,
    "ExecuteTime": {
     "end_time": "2023-06-08T08:57:35.317915Z",
     "start_time": "2023-06-08T08:57:35.276379Z"
    }
   }
  },
  {
   "cell_type": "code",
   "execution_count": 52,
   "outputs": [
    {
     "data": {
      "text/plain": "Timestamp('2022-01-01 00:00:00')"
     },
     "execution_count": 52,
     "metadata": {},
     "output_type": "execute_result"
    }
   ],
   "source": [
    "daily_total_solar_energy.index[0]"
   ],
   "metadata": {
    "collapsed": false,
    "ExecuteTime": {
     "end_time": "2023-06-08T08:56:36.086433Z",
     "start_time": "2023-06-08T08:56:35.950002Z"
    }
   }
  },
  {
   "cell_type": "code",
   "execution_count": 30,
   "outputs": [
    {
     "ename": "KeyError",
     "evalue": "datetime.date(2022, 1, 1)",
     "output_type": "error",
     "traceback": [
      "\u001B[0;31m---------------------------------------------------------------------------\u001B[0m",
      "\u001B[0;31mTypeError\u001B[0m                                 Traceback (most recent call last)",
      "File \u001B[0;32m~/miniforge3/envs/bda_env/lib/python3.9/site-packages/pandas/core/indexes/extension.py:161\u001B[0m, in \u001B[0;36mExtensionIndex.map\u001B[0;34m(self, mapper, na_action)\u001B[0m\n\u001B[1;32m    160\u001B[0m \u001B[38;5;28;01mtry\u001B[39;00m:\n\u001B[0;32m--> 161\u001B[0m     result \u001B[38;5;241m=\u001B[39m \u001B[43mmapper\u001B[49m\u001B[43m(\u001B[49m\u001B[38;5;28;43mself\u001B[39;49m\u001B[43m)\u001B[49m\n\u001B[1;32m    163\u001B[0m     \u001B[38;5;66;03m# Try to use this result if we can\u001B[39;00m\n",
      "Cell \u001B[0;32mIn[30], line 1\u001B[0m, in \u001B[0;36m<lambda>\u001B[0;34m(x)\u001B[0m\n\u001B[0;32m----> 1\u001B[0m forecast_solar\u001B[38;5;241m.\u001B[39mindex\u001B[38;5;241m.\u001B[39mmap(\u001B[38;5;28;01mlambda\u001B[39;00m x: daily_total_solar_energy[\u001B[43mx\u001B[49m\u001B[38;5;241;43m.\u001B[39;49m\u001B[43mdate\u001B[49m\u001B[43m(\u001B[49m\u001B[43m)\u001B[49m])\n",
      "\u001B[0;31mTypeError\u001B[0m: 'numpy.ndarray' object is not callable",
      "\nDuring handling of the above exception, another exception occurred:\n",
      "\u001B[0;31mKeyError\u001B[0m                                  Traceback (most recent call last)",
      "File \u001B[0;32m~/miniforge3/envs/bda_env/lib/python3.9/site-packages/pandas/core/indexes/base.py:3652\u001B[0m, in \u001B[0;36mIndex.get_loc\u001B[0;34m(self, key)\u001B[0m\n\u001B[1;32m   3651\u001B[0m \u001B[38;5;28;01mtry\u001B[39;00m:\n\u001B[0;32m-> 3652\u001B[0m     \u001B[38;5;28;01mreturn\u001B[39;00m \u001B[38;5;28;43mself\u001B[39;49m\u001B[38;5;241;43m.\u001B[39;49m\u001B[43m_engine\u001B[49m\u001B[38;5;241;43m.\u001B[39;49m\u001B[43mget_loc\u001B[49m\u001B[43m(\u001B[49m\u001B[43mcasted_key\u001B[49m\u001B[43m)\u001B[49m\n\u001B[1;32m   3653\u001B[0m \u001B[38;5;28;01mexcept\u001B[39;00m \u001B[38;5;167;01mKeyError\u001B[39;00m \u001B[38;5;28;01mas\u001B[39;00m err:\n",
      "File \u001B[0;32m~/miniforge3/envs/bda_env/lib/python3.9/site-packages/pandas/_libs/index.pyx:147\u001B[0m, in \u001B[0;36mpandas._libs.index.IndexEngine.get_loc\u001B[0;34m()\u001B[0m\n",
      "File \u001B[0;32m~/miniforge3/envs/bda_env/lib/python3.9/site-packages/pandas/_libs/index.pyx:176\u001B[0m, in \u001B[0;36mpandas._libs.index.IndexEngine.get_loc\u001B[0;34m()\u001B[0m\n",
      "File \u001B[0;32mpandas/_libs/hashtable_class_helper.pxi:7080\u001B[0m, in \u001B[0;36mpandas._libs.hashtable.PyObjectHashTable.get_item\u001B[0;34m()\u001B[0m\n",
      "File \u001B[0;32mpandas/_libs/hashtable_class_helper.pxi:7088\u001B[0m, in \u001B[0;36mpandas._libs.hashtable.PyObjectHashTable.get_item\u001B[0;34m()\u001B[0m\n",
      "\u001B[0;31mKeyError\u001B[0m: datetime.date(2022, 1, 1)",
      "\nThe above exception was the direct cause of the following exception:\n",
      "\u001B[0;31mKeyError\u001B[0m                                  Traceback (most recent call last)",
      "Cell \u001B[0;32mIn[30], line 1\u001B[0m\n\u001B[0;32m----> 1\u001B[0m \u001B[43mforecast_solar\u001B[49m\u001B[38;5;241;43m.\u001B[39;49m\u001B[43mindex\u001B[49m\u001B[38;5;241;43m.\u001B[39;49m\u001B[43mmap\u001B[49m\u001B[43m(\u001B[49m\u001B[38;5;28;43;01mlambda\u001B[39;49;00m\u001B[43m \u001B[49m\u001B[43mx\u001B[49m\u001B[43m:\u001B[49m\u001B[43m \u001B[49m\u001B[43mdaily_total_solar_energy\u001B[49m\u001B[43m[\u001B[49m\u001B[43mx\u001B[49m\u001B[38;5;241;43m.\u001B[39;49m\u001B[43mdate\u001B[49m\u001B[43m(\u001B[49m\u001B[43m)\u001B[49m\u001B[43m]\u001B[49m\u001B[43m)\u001B[49m\n",
      "File \u001B[0;32m~/miniforge3/envs/bda_env/lib/python3.9/site-packages/pandas/core/indexes/extension.py:171\u001B[0m, in \u001B[0;36mExtensionIndex.map\u001B[0;34m(self, mapper, na_action)\u001B[0m\n\u001B[1;32m    169\u001B[0m     \u001B[38;5;28;01mreturn\u001B[39;00m result\n\u001B[1;32m    170\u001B[0m \u001B[38;5;28;01mexcept\u001B[39;00m \u001B[38;5;167;01mException\u001B[39;00m:\n\u001B[0;32m--> 171\u001B[0m     \u001B[38;5;28;01mreturn\u001B[39;00m \u001B[38;5;28;43mself\u001B[39;49m\u001B[38;5;241;43m.\u001B[39;49m\u001B[43mastype\u001B[49m\u001B[43m(\u001B[49m\u001B[38;5;28;43mobject\u001B[39;49m\u001B[43m)\u001B[49m\u001B[38;5;241;43m.\u001B[39;49m\u001B[43mmap\u001B[49m\u001B[43m(\u001B[49m\u001B[43mmapper\u001B[49m\u001B[43m)\u001B[49m\n",
      "File \u001B[0;32m~/miniforge3/envs/bda_env/lib/python3.9/site-packages/pandas/core/indexes/base.py:6158\u001B[0m, in \u001B[0;36mIndex.map\u001B[0;34m(self, mapper, na_action)\u001B[0m\n\u001B[1;32m   6138\u001B[0m \u001B[38;5;250m\u001B[39m\u001B[38;5;124;03m\"\"\"\u001B[39;00m\n\u001B[1;32m   6139\u001B[0m \u001B[38;5;124;03mMap values using an input mapping or function.\u001B[39;00m\n\u001B[1;32m   6140\u001B[0m \n\u001B[0;32m   (...)\u001B[0m\n\u001B[1;32m   6154\u001B[0m \u001B[38;5;124;03m    a MultiIndex will be returned.\u001B[39;00m\n\u001B[1;32m   6155\u001B[0m \u001B[38;5;124;03m\"\"\"\u001B[39;00m\n\u001B[1;32m   6156\u001B[0m \u001B[38;5;28;01mfrom\u001B[39;00m \u001B[38;5;21;01mpandas\u001B[39;00m\u001B[38;5;21;01m.\u001B[39;00m\u001B[38;5;21;01mcore\u001B[39;00m\u001B[38;5;21;01m.\u001B[39;00m\u001B[38;5;21;01mindexes\u001B[39;00m\u001B[38;5;21;01m.\u001B[39;00m\u001B[38;5;21;01mmulti\u001B[39;00m \u001B[38;5;28;01mimport\u001B[39;00m MultiIndex\n\u001B[0;32m-> 6158\u001B[0m new_values \u001B[38;5;241m=\u001B[39m \u001B[38;5;28;43mself\u001B[39;49m\u001B[38;5;241;43m.\u001B[39;49m\u001B[43m_map_values\u001B[49m\u001B[43m(\u001B[49m\u001B[43mmapper\u001B[49m\u001B[43m,\u001B[49m\u001B[43m \u001B[49m\u001B[43mna_action\u001B[49m\u001B[38;5;241;43m=\u001B[39;49m\u001B[43mna_action\u001B[49m\u001B[43m)\u001B[49m\n\u001B[1;32m   6160\u001B[0m \u001B[38;5;66;03m# we can return a MultiIndex\u001B[39;00m\n\u001B[1;32m   6161\u001B[0m \u001B[38;5;28;01mif\u001B[39;00m new_values\u001B[38;5;241m.\u001B[39msize \u001B[38;5;129;01mand\u001B[39;00m \u001B[38;5;28misinstance\u001B[39m(new_values[\u001B[38;5;241m0\u001B[39m], \u001B[38;5;28mtuple\u001B[39m):\n",
      "File \u001B[0;32m~/miniforge3/envs/bda_env/lib/python3.9/site-packages/pandas/core/base.py:924\u001B[0m, in \u001B[0;36mIndexOpsMixin._map_values\u001B[0;34m(self, mapper, na_action)\u001B[0m\n\u001B[1;32m    921\u001B[0m         \u001B[38;5;28;01mraise\u001B[39;00m \u001B[38;5;167;01mValueError\u001B[39;00m(msg)\n\u001B[1;32m    923\u001B[0m \u001B[38;5;66;03m# mapper is a function\u001B[39;00m\n\u001B[0;32m--> 924\u001B[0m new_values \u001B[38;5;241m=\u001B[39m \u001B[43mmap_f\u001B[49m\u001B[43m(\u001B[49m\u001B[43mvalues\u001B[49m\u001B[43m,\u001B[49m\u001B[43m \u001B[49m\u001B[43mmapper\u001B[49m\u001B[43m)\u001B[49m\n\u001B[1;32m    926\u001B[0m \u001B[38;5;28;01mreturn\u001B[39;00m new_values\n",
      "File \u001B[0;32m~/miniforge3/envs/bda_env/lib/python3.9/site-packages/pandas/_libs/lib.pyx:2834\u001B[0m, in \u001B[0;36mpandas._libs.lib.map_infer\u001B[0;34m()\u001B[0m\n",
      "Cell \u001B[0;32mIn[30], line 1\u001B[0m, in \u001B[0;36m<lambda>\u001B[0;34m(x)\u001B[0m\n\u001B[0;32m----> 1\u001B[0m forecast_solar\u001B[38;5;241m.\u001B[39mindex\u001B[38;5;241m.\u001B[39mmap(\u001B[38;5;28;01mlambda\u001B[39;00m x: \u001B[43mdaily_total_solar_energy\u001B[49m\u001B[43m[\u001B[49m\u001B[43mx\u001B[49m\u001B[38;5;241;43m.\u001B[39;49m\u001B[43mdate\u001B[49m\u001B[43m(\u001B[49m\u001B[43m)\u001B[49m\u001B[43m]\u001B[49m)\n",
      "File \u001B[0;32m~/miniforge3/envs/bda_env/lib/python3.9/site-packages/pandas/core/frame.py:3761\u001B[0m, in \u001B[0;36mDataFrame.__getitem__\u001B[0;34m(self, key)\u001B[0m\n\u001B[1;32m   3759\u001B[0m \u001B[38;5;28;01mif\u001B[39;00m \u001B[38;5;28mself\u001B[39m\u001B[38;5;241m.\u001B[39mcolumns\u001B[38;5;241m.\u001B[39mnlevels \u001B[38;5;241m>\u001B[39m \u001B[38;5;241m1\u001B[39m:\n\u001B[1;32m   3760\u001B[0m     \u001B[38;5;28;01mreturn\u001B[39;00m \u001B[38;5;28mself\u001B[39m\u001B[38;5;241m.\u001B[39m_getitem_multilevel(key)\n\u001B[0;32m-> 3761\u001B[0m indexer \u001B[38;5;241m=\u001B[39m \u001B[38;5;28;43mself\u001B[39;49m\u001B[38;5;241;43m.\u001B[39;49m\u001B[43mcolumns\u001B[49m\u001B[38;5;241;43m.\u001B[39;49m\u001B[43mget_loc\u001B[49m\u001B[43m(\u001B[49m\u001B[43mkey\u001B[49m\u001B[43m)\u001B[49m\n\u001B[1;32m   3762\u001B[0m \u001B[38;5;28;01mif\u001B[39;00m is_integer(indexer):\n\u001B[1;32m   3763\u001B[0m     indexer \u001B[38;5;241m=\u001B[39m [indexer]\n",
      "File \u001B[0;32m~/miniforge3/envs/bda_env/lib/python3.9/site-packages/pandas/core/indexes/base.py:3654\u001B[0m, in \u001B[0;36mIndex.get_loc\u001B[0;34m(self, key)\u001B[0m\n\u001B[1;32m   3652\u001B[0m     \u001B[38;5;28;01mreturn\u001B[39;00m \u001B[38;5;28mself\u001B[39m\u001B[38;5;241m.\u001B[39m_engine\u001B[38;5;241m.\u001B[39mget_loc(casted_key)\n\u001B[1;32m   3653\u001B[0m \u001B[38;5;28;01mexcept\u001B[39;00m \u001B[38;5;167;01mKeyError\u001B[39;00m \u001B[38;5;28;01mas\u001B[39;00m err:\n\u001B[0;32m-> 3654\u001B[0m     \u001B[38;5;28;01mraise\u001B[39;00m \u001B[38;5;167;01mKeyError\u001B[39;00m(key) \u001B[38;5;28;01mfrom\u001B[39;00m \u001B[38;5;21;01merr\u001B[39;00m\n\u001B[1;32m   3655\u001B[0m \u001B[38;5;28;01mexcept\u001B[39;00m \u001B[38;5;167;01mTypeError\u001B[39;00m:\n\u001B[1;32m   3656\u001B[0m     \u001B[38;5;66;03m# If we have a listlike key, _check_indexing_error will raise\u001B[39;00m\n\u001B[1;32m   3657\u001B[0m     \u001B[38;5;66;03m#  InvalidIndexError. Otherwise we fall through and re-raise\u001B[39;00m\n\u001B[1;32m   3658\u001B[0m     \u001B[38;5;66;03m#  the TypeError.\u001B[39;00m\n\u001B[1;32m   3659\u001B[0m     \u001B[38;5;28mself\u001B[39m\u001B[38;5;241m.\u001B[39m_check_indexing_error(key)\n",
      "\u001B[0;31mKeyError\u001B[0m: datetime.date(2022, 1, 1)"
     ]
    }
   ],
   "source": [
    "forecast_solar.index.map(lambda x: daily_total_solar_energy[x.date()])"
   ],
   "metadata": {
    "collapsed": false,
    "ExecuteTime": {
     "end_time": "2023-06-08T08:52:20.377123Z",
     "start_time": "2023-06-08T08:52:20.249251Z"
    }
   }
  },
  {
   "cell_type": "code",
   "execution_count": 20,
   "outputs": [
    {
     "data": {
      "text/plain": "                           Forecasted Solar [MWh]   \n2022-01-01 00:00:00+01:00                130566.0  \\\n2022-01-02 00:00:00+01:00                 94954.0   \n2022-01-03 00:00:00+01:00                102006.0   \n2022-01-04 00:00:00+01:00                 43926.0   \n2022-01-05 00:00:00+01:00                110089.0   \n...                                           ...   \n2023-06-04 00:00:00+02:00               1448283.0   \n2023-06-05 00:00:00+02:00               1336448.0   \n2023-06-06 00:00:00+02:00               1070144.0   \n2023-06-07 00:00:00+02:00               1113397.0   \n2023-06-08 00:00:00+02:00               1197651.0   \n\n                           Forecasted Wind Offshore [MWh]   \n2022-01-01 00:00:00+01:00                        491021.0  \\\n2022-01-02 00:00:00+01:00                        556874.0   \n2022-01-03 00:00:00+01:00                        588415.0   \n2022-01-04 00:00:00+01:00                        366535.0   \n2022-01-05 00:00:00+01:00                        608893.0   \n...                                                   ...   \n2023-06-04 00:00:00+02:00                         31482.0   \n2023-06-05 00:00:00+02:00                         24066.0   \n2023-06-06 00:00:00+02:00                         88763.0   \n2023-06-07 00:00:00+02:00                         84047.0   \n2023-06-08 00:00:00+02:00                        121078.0   \n\n                           Forecasted Wind Onshore [MWh]  \n2022-01-01 00:00:00+01:00                      1486969.0  \n2022-01-02 00:00:00+01:00                      2463120.0  \n2022-01-03 00:00:00+01:00                      3092386.0  \n2022-01-04 00:00:00+01:00                      1336172.0  \n2022-01-05 00:00:00+01:00                      2748791.0  \n...                                                  ...  \n2023-06-04 00:00:00+02:00                       472973.0  \n2023-06-05 00:00:00+02:00                       448020.0  \n2023-06-06 00:00:00+02:00                       457983.0  \n2023-06-07 00:00:00+02:00                       295999.0  \n2023-06-08 00:00:00+02:00                       393999.0  \n\n[524 rows x 3 columns]",
      "text/html": "<div>\n<style scoped>\n    .dataframe tbody tr th:only-of-type {\n        vertical-align: middle;\n    }\n\n    .dataframe tbody tr th {\n        vertical-align: top;\n    }\n\n    .dataframe thead th {\n        text-align: right;\n    }\n</style>\n<table border=\"1\" class=\"dataframe\">\n  <thead>\n    <tr style=\"text-align: right;\">\n      <th></th>\n      <th>Forecasted Solar [MWh]</th>\n      <th>Forecasted Wind Offshore [MWh]</th>\n      <th>Forecasted Wind Onshore [MWh]</th>\n    </tr>\n  </thead>\n  <tbody>\n    <tr>\n      <th>2022-01-01 00:00:00+01:00</th>\n      <td>130566.0</td>\n      <td>491021.0</td>\n      <td>1486969.0</td>\n    </tr>\n    <tr>\n      <th>2022-01-02 00:00:00+01:00</th>\n      <td>94954.0</td>\n      <td>556874.0</td>\n      <td>2463120.0</td>\n    </tr>\n    <tr>\n      <th>2022-01-03 00:00:00+01:00</th>\n      <td>102006.0</td>\n      <td>588415.0</td>\n      <td>3092386.0</td>\n    </tr>\n    <tr>\n      <th>2022-01-04 00:00:00+01:00</th>\n      <td>43926.0</td>\n      <td>366535.0</td>\n      <td>1336172.0</td>\n    </tr>\n    <tr>\n      <th>2022-01-05 00:00:00+01:00</th>\n      <td>110089.0</td>\n      <td>608893.0</td>\n      <td>2748791.0</td>\n    </tr>\n    <tr>\n      <th>...</th>\n      <td>...</td>\n      <td>...</td>\n      <td>...</td>\n    </tr>\n    <tr>\n      <th>2023-06-04 00:00:00+02:00</th>\n      <td>1448283.0</td>\n      <td>31482.0</td>\n      <td>472973.0</td>\n    </tr>\n    <tr>\n      <th>2023-06-05 00:00:00+02:00</th>\n      <td>1336448.0</td>\n      <td>24066.0</td>\n      <td>448020.0</td>\n    </tr>\n    <tr>\n      <th>2023-06-06 00:00:00+02:00</th>\n      <td>1070144.0</td>\n      <td>88763.0</td>\n      <td>457983.0</td>\n    </tr>\n    <tr>\n      <th>2023-06-07 00:00:00+02:00</th>\n      <td>1113397.0</td>\n      <td>84047.0</td>\n      <td>295999.0</td>\n    </tr>\n    <tr>\n      <th>2023-06-08 00:00:00+02:00</th>\n      <td>1197651.0</td>\n      <td>121078.0</td>\n      <td>393999.0</td>\n    </tr>\n  </tbody>\n</table>\n<p>524 rows × 3 columns</p>\n</div>"
     },
     "execution_count": 20,
     "metadata": {},
     "output_type": "execute_result"
    }
   ],
   "source": [
    "df_re_prog.groupby([pd.Grouper(freq='1d')]).sum()"
   ],
   "metadata": {
    "collapsed": false,
    "ExecuteTime": {
     "end_time": "2023-06-08T08:45:55.041516Z",
     "start_time": "2023-06-08T08:45:54.822872Z"
    }
   }
  },
  {
   "cell_type": "code",
   "execution_count": 18,
   "outputs": [
    {
     "data": {
      "text/plain": "                           Forecasted Solar [MWh]\n2022-01-01 00:00:00+01:00                     0.0\n2022-01-01 01:00:00+01:00                     0.0\n2022-01-01 02:00:00+01:00                     0.0\n2022-01-01 03:00:00+01:00                     0.0\n2022-01-01 04:00:00+01:00                     0.0\n...                                           ...\n2023-06-08 19:00:00+02:00                 21169.0\n2023-06-08 20:00:00+02:00                  6610.0\n2023-06-08 21:00:00+02:00                   594.0\n2023-06-08 22:00:00+02:00                    12.0\n2023-06-08 23:00:00+02:00                     0.0\n\n[12504 rows x 1 columns]",
      "text/html": "<div>\n<style scoped>\n    .dataframe tbody tr th:only-of-type {\n        vertical-align: middle;\n    }\n\n    .dataframe tbody tr th {\n        vertical-align: top;\n    }\n\n    .dataframe thead th {\n        text-align: right;\n    }\n</style>\n<table border=\"1\" class=\"dataframe\">\n  <thead>\n    <tr style=\"text-align: right;\">\n      <th></th>\n      <th>Forecasted Solar [MWh]</th>\n    </tr>\n  </thead>\n  <tbody>\n    <tr>\n      <th>2022-01-01 00:00:00+01:00</th>\n      <td>0.0</td>\n    </tr>\n    <tr>\n      <th>2022-01-01 01:00:00+01:00</th>\n      <td>0.0</td>\n    </tr>\n    <tr>\n      <th>2022-01-01 02:00:00+01:00</th>\n      <td>0.0</td>\n    </tr>\n    <tr>\n      <th>2022-01-01 03:00:00+01:00</th>\n      <td>0.0</td>\n    </tr>\n    <tr>\n      <th>2022-01-01 04:00:00+01:00</th>\n      <td>0.0</td>\n    </tr>\n    <tr>\n      <th>...</th>\n      <td>...</td>\n    </tr>\n    <tr>\n      <th>2023-06-08 19:00:00+02:00</th>\n      <td>21169.0</td>\n    </tr>\n    <tr>\n      <th>2023-06-08 20:00:00+02:00</th>\n      <td>6610.0</td>\n    </tr>\n    <tr>\n      <th>2023-06-08 21:00:00+02:00</th>\n      <td>594.0</td>\n    </tr>\n    <tr>\n      <th>2023-06-08 22:00:00+02:00</th>\n      <td>12.0</td>\n    </tr>\n    <tr>\n      <th>2023-06-08 23:00:00+02:00</th>\n      <td>0.0</td>\n    </tr>\n  </tbody>\n</table>\n<p>12504 rows × 1 columns</p>\n</div>"
     },
     "execution_count": 18,
     "metadata": {},
     "output_type": "execute_result"
    }
   ],
   "source": [
    "forecast_solar.groupby()"
   ],
   "metadata": {
    "collapsed": false,
    "ExecuteTime": {
     "end_time": "2023-06-08T08:42:45.716827Z",
     "start_time": "2023-06-08T08:42:45.675004Z"
    }
   }
  },
  {
   "cell_type": "code",
   "execution_count": null,
   "outputs": [],
   "source": [],
   "metadata": {
    "collapsed": false
   }
  }
 ],
 "metadata": {
  "kernelspec": {
   "display_name": "Python 3",
   "language": "python",
   "name": "python3"
  },
  "language_info": {
   "codemirror_mode": {
    "name": "ipython",
    "version": 2
   },
   "file_extension": ".py",
   "mimetype": "text/x-python",
   "name": "python",
   "nbconvert_exporter": "python",
   "pygments_lexer": "ipython2",
   "version": "2.7.6"
  }
 },
 "nbformat": 4,
 "nbformat_minor": 0
}
