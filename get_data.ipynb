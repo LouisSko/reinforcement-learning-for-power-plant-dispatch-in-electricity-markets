{
 "cells": [
  {
   "cell_type": "code",
   "execution_count": 3,
   "outputs": [],
   "source": [
    "from basic_rl_envi_for_dam_bidding_main.import_data_example import *"
   ],
   "metadata": {
    "collapsed": false,
    "ExecuteTime": {
     "end_time": "2023-05-10T15:09:26.187213Z",
     "start_time": "2023-05-10T15:09:26.177916Z"
    }
   }
  },
  {
   "cell_type": "markdown",
   "source": [
    "# Get Data\n",
    "Bedeutung der einzelnen Variablen\n",
    "- Forecasted Load: Day-ahead Total Load Forecast\n",
    "- Solar: Day-ahead Generation Forecasts for Solar\n",
    "- Wind Offshore: Day-ahead Generation Forecasts for Wind Offshore\n",
    "- Wind Onshore: Day-ahead Generation Forecasts for Wind Onshore\n",
    "- day ahead market price in EUR/MWh"
   ],
   "metadata": {
    "collapsed": false
   }
  },
  {
   "cell_type": "code",
   "execution_count": 6,
   "outputs": [],
   "source": [
    "start = pd.Timestamp(year=2023, month=3, day=1, tz=\"europe/brussels\")\n",
    "end = pd.Timestamp.now(tz=\"europe/brussels\")\n",
    "# get the end of the current day\n",
    "end = end.floor('D') + pd.Timedelta(days=1)"
   ],
   "metadata": {
    "collapsed": false,
    "ExecuteTime": {
     "end_time": "2023-05-10T15:11:05.115996Z",
     "start_time": "2023-05-10T15:11:05.111083Z"
    }
   }
  },
  {
   "cell_type": "code",
   "execution_count": 8,
   "outputs": [],
   "source": [
    "df_demand = get_demand(start, end)\n",
    "df_mcp = get_mcp(start, end)\n",
    "df_vre = get_vre(start, end)\n",
    "df_gen = get_gen(start, end)\n",
    "#states = get_states_list(start, end)"
   ],
   "metadata": {
    "collapsed": false,
    "ExecuteTime": {
     "end_time": "2023-05-10T15:11:35.979630Z",
     "start_time": "2023-05-10T15:11:15.219186Z"
    }
   }
  },
  {
   "cell_type": "code",
   "execution_count": 18,
   "outputs": [
    {
     "name": "stdout",
     "output_type": "stream",
     "text": [
      "2023-05-11 23:45:00+02:00\n",
      "2023-05-11 23:00:00+02:00\n",
      "2023-05-10 23:45:00+02:00\n",
      "2023-05-10 23:00:00+02:00\n"
     ]
    }
   ],
   "source": [
    "# check last entry -> vre und gen nicht in real time verfügbar für unsere Forecasts\n",
    "for d in [df_demand, df_mcp, df_vre, df_gen]:\n",
    "    print(d.index[-1])"
   ],
   "metadata": {
    "collapsed": false,
    "ExecuteTime": {
     "end_time": "2023-05-10T15:16:14.164530Z",
     "start_time": "2023-05-10T15:16:14.159824Z"
    }
   }
  },
  {
   "cell_type": "code",
   "execution_count": 9,
   "outputs": [],
   "source": [
    "# get day ahead market price for each day\n",
    "df_mcp_hourly = df_mcp.pivot_table(index=df_mcp.index.date, columns=df_mcp.index.hour, values=0)\n",
    "df_mcp_hourly.index = pd.to_datetime(df_mcp_hourly.index)\n",
    "df_mcp_hourly = df_mcp_hourly.add_prefix('market_price_hour_')\n",
    "df_mcp_hourly['end_auction'] = (df_mcp_hourly.index - pd.Timedelta(hours = 12))\n",
    "#df_demand: 2023-05-08 23:45:00+02:00 gibt den Load für 23:45-00:00 Uhr an"
   ],
   "metadata": {
    "collapsed": false,
    "ExecuteTime": {
     "end_time": "2023-05-10T15:12:33.503731Z",
     "start_time": "2023-05-10T15:12:33.475129Z"
    }
   }
  },
  {
   "cell_type": "code",
   "execution_count": 11,
   "outputs": [],
   "source": [
    "# get day ahead forecasted load for each hour of each day.\n",
    "df_demand_hourly = df_demand.pivot_table(index=df_demand.index.date, columns=df_demand.index.hour, values='Forecasted Load', aggfunc='sum')\n",
    "df_demand_hourly = df_demand_hourly.add_prefix('forecasted_load_hour_')"
   ],
   "metadata": {
    "collapsed": false,
    "ExecuteTime": {
     "end_time": "2023-05-10T15:13:11.909368Z",
     "start_time": "2023-05-10T15:13:11.889388Z"
    }
   }
  },
  {
   "cell_type": "code",
   "execution_count": 12,
   "outputs": [],
   "source": [
    "# get day ahead forecast for wind and solar\n",
    "df_vre_agg = df_vre.groupby([pd.Grouper(freq='1h')]).sum()\n",
    "df_vre_hourly = df_vre_agg.pivot_table(index=df_vre_agg.index.date, columns=df_vre_agg.index.hour, values=['Wind Onshore', 'Wind Offshore', 'Solar'], aggfunc='sum')\n",
    "# add prefix and concatenate df\n",
    "df_vre_hourly = pd.concat([df_vre_hourly[col].add_prefix(f'{col}_hour_') for col in df_vre_hourly.columns.get_level_values(level=0).unique()], axis=1)"
   ],
   "metadata": {
    "collapsed": false,
    "ExecuteTime": {
     "end_time": "2023-05-10T15:13:54.754749Z",
     "start_time": "2023-05-10T15:13:54.720171Z"
    }
   }
  },
  {
   "cell_type": "code",
   "execution_count": 14,
   "outputs": [],
   "source": [
    "# get Day-ahead Aggregated Generation\n",
    "df_gen_hourly = df_gen.pivot_table(index=df_gen.index.date, columns=df_gen.index.hour, values='Actual Aggregated', aggfunc='sum')\n",
    "df_gen_hourly = df_gen_hourly.add_prefix('actual_aggregated_hour_')"
   ],
   "metadata": {
    "collapsed": false,
    "ExecuteTime": {
     "end_time": "2023-05-10T15:14:40.170573Z",
     "start_time": "2023-05-10T15:14:40.158121Z"
    }
   }
  },
  {
   "cell_type": "code",
   "execution_count": 24,
   "outputs": [],
   "source": [
    "# join nur von df_demand und df_mcp -> die anderen Daten sind resultieren in Data Leakage\n",
    "df = pd.concat([df_demand_hourly, df_mcp_hourly], axis=1)\n",
    "df = df.reset_index().set_index('end_auction')\n",
    "df = df.rename(columns={'index':'date'})\n",
    "\n",
    "#df = pd.concat([df_demand_hourly, df_vre_hourly, df_gen_hourly, #df_mcp_hourly], axis=1)"
   ],
   "metadata": {
    "collapsed": false,
    "ExecuteTime": {
     "end_time": "2023-05-10T15:21:04.976542Z",
     "start_time": "2023-05-10T15:21:04.975680Z"
    }
   }
  },
  {
   "cell_type": "code",
   "execution_count": 25,
   "outputs": [
    {
     "data": {
      "text/plain": "                                    date  forecasted_load_hour_0   \nend_auction                                                        \n2023-02-28 12:00:00           2023-03-01                208696.0  \\\n2023-03-01 12:00:00           2023-03-02                210615.0   \n2023-03-02 12:00:00           2023-03-03                209231.0   \n2023-03-03 12:00:00           2023-03-04                208905.0   \n2023-03-04 12:00:00           2023-03-05                184430.0   \n...                                  ...                     ...   \n2023-05-06 12:00:00  2023-05-07 00:00:00                     NaN   \n2023-05-07 12:00:00  2023-05-08 00:00:00                     NaN   \n2023-05-08 12:00:00  2023-05-09 00:00:00                     NaN   \n2023-05-09 12:00:00  2023-05-10 00:00:00                     NaN   \n2023-05-10 12:00:00  2023-05-11 00:00:00                     NaN   \n\n                     forecasted_load_hour_1  forecasted_load_hour_2   \nend_auction                                                           \n2023-02-28 12:00:00                202201.0                199722.0  \\\n2023-03-01 12:00:00                203958.0                201056.0   \n2023-03-02 12:00:00                202353.0                200215.0   \n2023-03-03 12:00:00                201157.0                197389.0   \n2023-03-04 12:00:00                178168.0                174895.0   \n...                                     ...                     ...   \n2023-05-06 12:00:00                     NaN                     NaN   \n2023-05-07 12:00:00                     NaN                     NaN   \n2023-05-08 12:00:00                     NaN                     NaN   \n2023-05-09 12:00:00                     NaN                     NaN   \n2023-05-10 12:00:00                     NaN                     NaN   \n\n                     forecasted_load_hour_3  forecasted_load_hour_4   \nend_auction                                                           \n2023-02-28 12:00:00                201209.0                205615.0  \\\n2023-03-01 12:00:00                202722.0                207651.0   \n2023-03-02 12:00:00                201846.0                207412.0   \n2023-03-03 12:00:00                196285.0                196250.0   \n2023-03-04 12:00:00                174166.0                174403.0   \n...                                     ...                     ...   \n2023-05-06 12:00:00                     NaN                     NaN   \n2023-05-07 12:00:00                     NaN                     NaN   \n2023-05-08 12:00:00                     NaN                     NaN   \n2023-05-09 12:00:00                     NaN                     NaN   \n2023-05-10 12:00:00                     NaN                     NaN   \n\n                     forecasted_load_hour_5  forecasted_load_hour_6   \nend_auction                                                           \n2023-02-28 12:00:00                217546.0                242339.0  \\\n2023-03-01 12:00:00                220122.0                245990.0   \n2023-03-02 12:00:00                219564.0                242874.0   \n2023-03-03 12:00:00                196526.0                201076.0   \n2023-03-04 12:00:00                175287.0                175933.0   \n...                                     ...                     ...   \n2023-05-06 12:00:00                     NaN                     NaN   \n2023-05-07 12:00:00                     NaN                     NaN   \n2023-05-08 12:00:00                     NaN                     NaN   \n2023-05-09 12:00:00                     NaN                     NaN   \n2023-05-10 12:00:00                     NaN                     NaN   \n\n                     forecasted_load_hour_7  forecasted_load_hour_8  ...   \nend_auction                                                          ...   \n2023-02-28 12:00:00                259557.0                269253.0  ...  \\\n2023-03-01 12:00:00                263352.0                273116.0  ...   \n2023-03-02 12:00:00                261214.0                271378.0  ...   \n2023-03-03 12:00:00                209615.0                221057.0  ...   \n2023-03-04 12:00:00                182501.0                194247.0  ...   \n...                                     ...                     ...  ...   \n2023-05-06 12:00:00                     NaN                     NaN  ...   \n2023-05-07 12:00:00                     NaN                     NaN  ...   \n2023-05-08 12:00:00                     NaN                     NaN  ...   \n2023-05-09 12:00:00                     NaN                     NaN  ...   \n2023-05-10 12:00:00                     NaN                     NaN  ...   \n\n                     market_price_hour_14  market_price_hour_15   \nend_auction                                                       \n2023-02-28 12:00:00                116.09                122.81  \\\n2023-03-01 12:00:00                117.69                128.62   \n2023-03-02 12:00:00                110.89                114.69   \n2023-03-03 12:00:00                 95.35                101.77   \n2023-03-04 12:00:00                110.22                115.14   \n...                                   ...                   ...   \n2023-05-06 12:00:00                 -0.03                 15.44   \n2023-05-07 12:00:00                 74.09                 78.00   \n2023-05-08 12:00:00                 68.29                 80.80   \n2023-05-09 12:00:00                 91.72                 96.30   \n2023-05-10 12:00:00                 99.37                109.51   \n\n                     market_price_hour_16  market_price_hour_17   \nend_auction                                                       \n2023-02-28 12:00:00                135.46                162.74  \\\n2023-03-01 12:00:00                152.64                166.38   \n2023-03-02 12:00:00                129.31                155.98   \n2023-03-03 12:00:00                106.90                140.00   \n2023-03-04 12:00:00                129.37                145.14   \n...                                   ...                   ...   \n2023-05-06 12:00:00                 56.62                 75.97   \n2023-05-07 12:00:00                 84.01                 97.05   \n2023-05-08 12:00:00                 84.44                100.06   \n2023-05-09 12:00:00                107.92                117.48   \n2023-05-10 12:00:00                113.54                115.27   \n\n                     market_price_hour_18  market_price_hour_19   \nend_auction                                                       \n2023-02-28 12:00:00                183.69                182.48  \\\n2023-03-01 12:00:00                184.91                184.13   \n2023-03-02 12:00:00                165.00                152.94   \n2023-03-03 12:00:00                151.66                145.00   \n2023-03-04 12:00:00                166.67                172.37   \n...                                   ...                   ...   \n2023-05-06 12:00:00                 94.94                 99.36   \n2023-05-07 12:00:00                110.04                132.90   \n2023-05-08 12:00:00                116.34                121.93   \n2023-05-09 12:00:00                120.39                140.38   \n2023-05-10 12:00:00                123.63                147.00   \n\n                     market_price_hour_20  market_price_hour_21   \nend_auction                                                       \n2023-02-28 12:00:00                162.74                144.85  \\\n2023-03-01 12:00:00                163.43                159.31   \n2023-03-02 12:00:00                133.31                122.20   \n2023-03-03 12:00:00                138.68                117.71   \n2023-03-04 12:00:00                160.23                152.49   \n...                                   ...                   ...   \n2023-05-06 12:00:00                106.45                105.02   \n2023-05-07 12:00:00                128.41                121.99   \n2023-05-08 12:00:00                121.05                110.97   \n2023-05-09 12:00:00                147.49                134.40   \n2023-05-10 12:00:00                132.80                118.40   \n\n                     market_price_hour_22  market_price_hour_23  \nend_auction                                                      \n2023-02-28 12:00:00                142.05                131.51  \n2023-03-01 12:00:00                149.53                139.90  \n2023-03-02 12:00:00                112.09                101.63  \n2023-03-03 12:00:00                121.02                109.41  \n2023-03-04 12:00:00                143.66                130.13  \n...                                   ...                   ...  \n2023-05-06 12:00:00                 99.30                 96.07  \n2023-05-07 12:00:00                112.56                 99.38  \n2023-05-08 12:00:00                104.67                 89.93  \n2023-05-09 12:00:00                117.59                109.84  \n2023-05-10 12:00:00                113.99                101.66  \n\n[144 rows x 49 columns]",
      "text/html": "<div>\n<style scoped>\n    .dataframe tbody tr th:only-of-type {\n        vertical-align: middle;\n    }\n\n    .dataframe tbody tr th {\n        vertical-align: top;\n    }\n\n    .dataframe thead th {\n        text-align: right;\n    }\n</style>\n<table border=\"1\" class=\"dataframe\">\n  <thead>\n    <tr style=\"text-align: right;\">\n      <th></th>\n      <th>date</th>\n      <th>forecasted_load_hour_0</th>\n      <th>forecasted_load_hour_1</th>\n      <th>forecasted_load_hour_2</th>\n      <th>forecasted_load_hour_3</th>\n      <th>forecasted_load_hour_4</th>\n      <th>forecasted_load_hour_5</th>\n      <th>forecasted_load_hour_6</th>\n      <th>forecasted_load_hour_7</th>\n      <th>forecasted_load_hour_8</th>\n      <th>...</th>\n      <th>market_price_hour_14</th>\n      <th>market_price_hour_15</th>\n      <th>market_price_hour_16</th>\n      <th>market_price_hour_17</th>\n      <th>market_price_hour_18</th>\n      <th>market_price_hour_19</th>\n      <th>market_price_hour_20</th>\n      <th>market_price_hour_21</th>\n      <th>market_price_hour_22</th>\n      <th>market_price_hour_23</th>\n    </tr>\n    <tr>\n      <th>end_auction</th>\n      <th></th>\n      <th></th>\n      <th></th>\n      <th></th>\n      <th></th>\n      <th></th>\n      <th></th>\n      <th></th>\n      <th></th>\n      <th></th>\n      <th></th>\n      <th></th>\n      <th></th>\n      <th></th>\n      <th></th>\n      <th></th>\n      <th></th>\n      <th></th>\n      <th></th>\n      <th></th>\n      <th></th>\n    </tr>\n  </thead>\n  <tbody>\n    <tr>\n      <th>2023-02-28 12:00:00</th>\n      <td>2023-03-01</td>\n      <td>208696.0</td>\n      <td>202201.0</td>\n      <td>199722.0</td>\n      <td>201209.0</td>\n      <td>205615.0</td>\n      <td>217546.0</td>\n      <td>242339.0</td>\n      <td>259557.0</td>\n      <td>269253.0</td>\n      <td>...</td>\n      <td>116.09</td>\n      <td>122.81</td>\n      <td>135.46</td>\n      <td>162.74</td>\n      <td>183.69</td>\n      <td>182.48</td>\n      <td>162.74</td>\n      <td>144.85</td>\n      <td>142.05</td>\n      <td>131.51</td>\n    </tr>\n    <tr>\n      <th>2023-03-01 12:00:00</th>\n      <td>2023-03-02</td>\n      <td>210615.0</td>\n      <td>203958.0</td>\n      <td>201056.0</td>\n      <td>202722.0</td>\n      <td>207651.0</td>\n      <td>220122.0</td>\n      <td>245990.0</td>\n      <td>263352.0</td>\n      <td>273116.0</td>\n      <td>...</td>\n      <td>117.69</td>\n      <td>128.62</td>\n      <td>152.64</td>\n      <td>166.38</td>\n      <td>184.91</td>\n      <td>184.13</td>\n      <td>163.43</td>\n      <td>159.31</td>\n      <td>149.53</td>\n      <td>139.90</td>\n    </tr>\n    <tr>\n      <th>2023-03-02 12:00:00</th>\n      <td>2023-03-03</td>\n      <td>209231.0</td>\n      <td>202353.0</td>\n      <td>200215.0</td>\n      <td>201846.0</td>\n      <td>207412.0</td>\n      <td>219564.0</td>\n      <td>242874.0</td>\n      <td>261214.0</td>\n      <td>271378.0</td>\n      <td>...</td>\n      <td>110.89</td>\n      <td>114.69</td>\n      <td>129.31</td>\n      <td>155.98</td>\n      <td>165.00</td>\n      <td>152.94</td>\n      <td>133.31</td>\n      <td>122.20</td>\n      <td>112.09</td>\n      <td>101.63</td>\n    </tr>\n    <tr>\n      <th>2023-03-03 12:00:00</th>\n      <td>2023-03-04</td>\n      <td>208905.0</td>\n      <td>201157.0</td>\n      <td>197389.0</td>\n      <td>196285.0</td>\n      <td>196250.0</td>\n      <td>196526.0</td>\n      <td>201076.0</td>\n      <td>209615.0</td>\n      <td>221057.0</td>\n      <td>...</td>\n      <td>95.35</td>\n      <td>101.77</td>\n      <td>106.90</td>\n      <td>140.00</td>\n      <td>151.66</td>\n      <td>145.00</td>\n      <td>138.68</td>\n      <td>117.71</td>\n      <td>121.02</td>\n      <td>109.41</td>\n    </tr>\n    <tr>\n      <th>2023-03-04 12:00:00</th>\n      <td>2023-03-05</td>\n      <td>184430.0</td>\n      <td>178168.0</td>\n      <td>174895.0</td>\n      <td>174166.0</td>\n      <td>174403.0</td>\n      <td>175287.0</td>\n      <td>175933.0</td>\n      <td>182501.0</td>\n      <td>194247.0</td>\n      <td>...</td>\n      <td>110.22</td>\n      <td>115.14</td>\n      <td>129.37</td>\n      <td>145.14</td>\n      <td>166.67</td>\n      <td>172.37</td>\n      <td>160.23</td>\n      <td>152.49</td>\n      <td>143.66</td>\n      <td>130.13</td>\n    </tr>\n    <tr>\n      <th>...</th>\n      <td>...</td>\n      <td>...</td>\n      <td>...</td>\n      <td>...</td>\n      <td>...</td>\n      <td>...</td>\n      <td>...</td>\n      <td>...</td>\n      <td>...</td>\n      <td>...</td>\n      <td>...</td>\n      <td>...</td>\n      <td>...</td>\n      <td>...</td>\n      <td>...</td>\n      <td>...</td>\n      <td>...</td>\n      <td>...</td>\n      <td>...</td>\n      <td>...</td>\n      <td>...</td>\n    </tr>\n    <tr>\n      <th>2023-05-06 12:00:00</th>\n      <td>2023-05-07 00:00:00</td>\n      <td>NaN</td>\n      <td>NaN</td>\n      <td>NaN</td>\n      <td>NaN</td>\n      <td>NaN</td>\n      <td>NaN</td>\n      <td>NaN</td>\n      <td>NaN</td>\n      <td>NaN</td>\n      <td>...</td>\n      <td>-0.03</td>\n      <td>15.44</td>\n      <td>56.62</td>\n      <td>75.97</td>\n      <td>94.94</td>\n      <td>99.36</td>\n      <td>106.45</td>\n      <td>105.02</td>\n      <td>99.30</td>\n      <td>96.07</td>\n    </tr>\n    <tr>\n      <th>2023-05-07 12:00:00</th>\n      <td>2023-05-08 00:00:00</td>\n      <td>NaN</td>\n      <td>NaN</td>\n      <td>NaN</td>\n      <td>NaN</td>\n      <td>NaN</td>\n      <td>NaN</td>\n      <td>NaN</td>\n      <td>NaN</td>\n      <td>NaN</td>\n      <td>...</td>\n      <td>74.09</td>\n      <td>78.00</td>\n      <td>84.01</td>\n      <td>97.05</td>\n      <td>110.04</td>\n      <td>132.90</td>\n      <td>128.41</td>\n      <td>121.99</td>\n      <td>112.56</td>\n      <td>99.38</td>\n    </tr>\n    <tr>\n      <th>2023-05-08 12:00:00</th>\n      <td>2023-05-09 00:00:00</td>\n      <td>NaN</td>\n      <td>NaN</td>\n      <td>NaN</td>\n      <td>NaN</td>\n      <td>NaN</td>\n      <td>NaN</td>\n      <td>NaN</td>\n      <td>NaN</td>\n      <td>NaN</td>\n      <td>...</td>\n      <td>68.29</td>\n      <td>80.80</td>\n      <td>84.44</td>\n      <td>100.06</td>\n      <td>116.34</td>\n      <td>121.93</td>\n      <td>121.05</td>\n      <td>110.97</td>\n      <td>104.67</td>\n      <td>89.93</td>\n    </tr>\n    <tr>\n      <th>2023-05-09 12:00:00</th>\n      <td>2023-05-10 00:00:00</td>\n      <td>NaN</td>\n      <td>NaN</td>\n      <td>NaN</td>\n      <td>NaN</td>\n      <td>NaN</td>\n      <td>NaN</td>\n      <td>NaN</td>\n      <td>NaN</td>\n      <td>NaN</td>\n      <td>...</td>\n      <td>91.72</td>\n      <td>96.30</td>\n      <td>107.92</td>\n      <td>117.48</td>\n      <td>120.39</td>\n      <td>140.38</td>\n      <td>147.49</td>\n      <td>134.40</td>\n      <td>117.59</td>\n      <td>109.84</td>\n    </tr>\n    <tr>\n      <th>2023-05-10 12:00:00</th>\n      <td>2023-05-11 00:00:00</td>\n      <td>NaN</td>\n      <td>NaN</td>\n      <td>NaN</td>\n      <td>NaN</td>\n      <td>NaN</td>\n      <td>NaN</td>\n      <td>NaN</td>\n      <td>NaN</td>\n      <td>NaN</td>\n      <td>...</td>\n      <td>99.37</td>\n      <td>109.51</td>\n      <td>113.54</td>\n      <td>115.27</td>\n      <td>123.63</td>\n      <td>147.00</td>\n      <td>132.80</td>\n      <td>118.40</td>\n      <td>113.99</td>\n      <td>101.66</td>\n    </tr>\n  </tbody>\n</table>\n<p>144 rows × 49 columns</p>\n</div>"
     },
     "execution_count": 25,
     "metadata": {},
     "output_type": "execute_result"
    }
   ],
   "source": [
    "df"
   ],
   "metadata": {
    "collapsed": false,
    "ExecuteTime": {
     "end_time": "2023-05-10T15:21:08.607820Z",
     "start_time": "2023-05-10T15:21:08.595839Z"
    }
   }
  },
  {
   "cell_type": "code",
   "execution_count": 27,
   "outputs": [],
   "source": [
    "X = df.loc[:,'forecasted_load_hour_0':'forecasted_load_hour_23']"
   ],
   "metadata": {
    "collapsed": false,
    "ExecuteTime": {
     "end_time": "2023-05-10T15:21:47.613663Z",
     "start_time": "2023-05-10T15:21:47.608053Z"
    }
   }
  },
  {
   "cell_type": "code",
   "execution_count": 31,
   "outputs": [],
   "source": [
    "y = df.loc[:,'market_price_hour_0':]"
   ],
   "metadata": {
    "collapsed": false,
    "ExecuteTime": {
     "end_time": "2023-05-10T15:22:17.724341Z",
     "start_time": "2023-05-10T15:22:17.719664Z"
    }
   }
  }
 ],
 "metadata": {
  "kernelspec": {
   "display_name": "Python 3",
   "language": "python",
   "name": "python3"
  },
  "language_info": {
   "codemirror_mode": {
    "name": "ipython",
    "version": 2
   },
   "file_extension": ".py",
   "mimetype": "text/x-python",
   "name": "python",
   "nbconvert_exporter": "python",
   "pygments_lexer": "ipython2",
   "version": "2.7.6"
  }
 },
 "nbformat": 4,
 "nbformat_minor": 0
}
