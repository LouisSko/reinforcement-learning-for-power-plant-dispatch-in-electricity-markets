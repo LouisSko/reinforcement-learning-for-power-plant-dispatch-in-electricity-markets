{
 "cells": [
  {
   "cell_type": "code",
   "execution_count": 1,
   "outputs": [],
   "source": [
    "%load_ext autoreload\n",
    "%autoreload 2"
   ],
   "metadata": {
    "collapsed": false,
    "ExecuteTime": {
     "end_time": "2023-05-15T08:54:39.384075Z",
     "start_time": "2023-05-15T08:54:38.020095Z"
    }
   }
  },
  {
   "cell_type": "code",
   "execution_count": 417,
   "outputs": [],
   "source": [
    "import pandas as pd\n",
    "from import_data_example import get_demand, get_gen, get_mcp, get_vre\n",
    "from environment import market_env\n",
    "from actor_critic import ActorCriticAgent\n",
    "import numpy as np\n",
    "import torch"
   ],
   "metadata": {
    "collapsed": false,
    "ExecuteTime": {
     "end_time": "2023-05-15T15:26:43.022995Z",
     "start_time": "2023-05-15T15:26:41.174924Z"
    }
   }
  },
  {
   "cell_type": "code",
   "execution_count": 287,
   "outputs": [],
   "source": [
    "start = pd.Timestamp(year=2020, month=1, day=1, tz=\"europe/brussels\")\n",
    "end = pd.Timestamp.now(tz=\"europe/brussels\").floor('D') + pd.Timedelta(days=1)"
   ],
   "metadata": {
    "collapsed": false,
    "ExecuteTime": {
     "end_time": "2023-05-15T12:38:47.654687Z",
     "start_time": "2023-05-15T12:38:47.577086Z"
    }
   }
  },
  {
   "cell_type": "code",
   "execution_count": 347,
   "outputs": [
    {
     "ename": "KeyboardInterrupt",
     "evalue": "",
     "output_type": "error",
     "traceback": [
      "\u001B[0;31m---------------------------------------------------------------------------\u001B[0m",
      "\u001B[0;31mKeyboardInterrupt\u001B[0m                         Traceback (most recent call last)",
      "Cell \u001B[0;32mIn[347], line 1\u001B[0m\n\u001B[0;32m----> 1\u001B[0m df_demand, df_demand_scaled \u001B[38;5;241m=\u001B[39m \u001B[43mget_demand\u001B[49m\u001B[43m(\u001B[49m\u001B[43mstart\u001B[49m\u001B[43m,\u001B[49m\u001B[43m \u001B[49m\u001B[43mend\u001B[49m\u001B[43m)\u001B[49m\n\u001B[1;32m      2\u001B[0m df_vre, df_vre_scaled \u001B[38;5;241m=\u001B[39m get_vre(start, end)\n\u001B[1;32m      3\u001B[0m df_gen, df_gen_scaled \u001B[38;5;241m=\u001B[39m get_gen(start, end)\n",
      "File \u001B[0;32m~/bda-case-challenge/Louis_Tests/energy_market/import_data_example.py:33\u001B[0m, in \u001B[0;36mget_demand\u001B[0;34m(start, end)\u001B[0m\n\u001B[1;32m     17\u001B[0m \u001B[38;5;250m\u001B[39m\u001B[38;5;124;03m\"\"\"\u001B[39;00m\n\u001B[1;32m     18\u001B[0m \u001B[38;5;124;03mDay-ahead Total Load Forecast\u001B[39;00m\n\u001B[1;32m     19\u001B[0m \n\u001B[0;32m   (...)\u001B[0m\n\u001B[1;32m     28\u001B[0m \u001B[38;5;124;03mDemand array for specified start and end date\u001B[39;00m\n\u001B[1;32m     29\u001B[0m \u001B[38;5;124;03m\"\"\"\u001B[39;00m\n\u001B[1;32m     32\u001B[0m \u001B[38;5;66;03m# load data from ENTSO-E API\u001B[39;00m\n\u001B[0;32m---> 33\u001B[0m df_load_prog \u001B[38;5;241m=\u001B[39m pd\u001B[38;5;241m.\u001B[39mDataFrame(\u001B[43mclient\u001B[49m\u001B[38;5;241;43m.\u001B[39;49m\u001B[43mquery_load_forecast\u001B[49m\u001B[43m(\u001B[49m\u001B[43mcountry_code\u001B[49m\u001B[43m,\u001B[49m\u001B[43m \u001B[49m\u001B[43mstart\u001B[49m\u001B[38;5;241;43m=\u001B[39;49m\u001B[43mstart\u001B[49m\u001B[43m,\u001B[49m\u001B[43m \u001B[49m\u001B[43mend\u001B[49m\u001B[38;5;241;43m=\u001B[39;49m\u001B[43mend\u001B[49m\u001B[43m)\u001B[49m)\n\u001B[1;32m     35\u001B[0m df_load_prog\u001B[38;5;241m.\u001B[39mcolumns \u001B[38;5;241m=\u001B[39m [\u001B[38;5;124m'\u001B[39m\u001B[38;5;124mforecasted_load [MWh]\u001B[39m\u001B[38;5;124m'\u001B[39m]\n\u001B[1;32m     37\u001B[0m \u001B[38;5;66;03m# YOUR CODE\u001B[39;00m\n",
      "File \u001B[0;32m~/miniforge3/envs/bda_env/lib/python3.9/site-packages/entsoe/decorators.py:98\u001B[0m, in \u001B[0;36myear_limited.<locals>.year_wrapper\u001B[0;34m(start, end, *args, **kwargs)\u001B[0m\n\u001B[1;32m     96\u001B[0m \u001B[38;5;28;01mfor\u001B[39;00m _start, _end \u001B[38;5;129;01min\u001B[39;00m blocks:\n\u001B[1;32m     97\u001B[0m     \u001B[38;5;28;01mtry\u001B[39;00m:\n\u001B[0;32m---> 98\u001B[0m         frame \u001B[38;5;241m=\u001B[39m \u001B[43mfunc\u001B[49m\u001B[43m(\u001B[49m\u001B[38;5;241;43m*\u001B[39;49m\u001B[43margs\u001B[49m\u001B[43m,\u001B[49m\u001B[43m \u001B[49m\u001B[43mstart\u001B[49m\u001B[38;5;241;43m=\u001B[39;49m\u001B[43m_start\u001B[49m\u001B[43m,\u001B[49m\u001B[43m \u001B[49m\u001B[43mend\u001B[49m\u001B[38;5;241;43m=\u001B[39;49m\u001B[43m_end\u001B[49m\u001B[43m,\u001B[49m\u001B[43m \u001B[49m\u001B[38;5;241;43m*\u001B[39;49m\u001B[38;5;241;43m*\u001B[39;49m\u001B[43mkwargs\u001B[49m\u001B[43m)\u001B[49m\n\u001B[1;32m     99\u001B[0m     \u001B[38;5;28;01mexcept\u001B[39;00m NoMatchingDataError:\n\u001B[1;32m    100\u001B[0m         logging\u001B[38;5;241m.\u001B[39mdebug(\u001B[38;5;124mf\u001B[39m\u001B[38;5;124m\"\u001B[39m\u001B[38;5;124mNoMatchingDataError: between \u001B[39m\u001B[38;5;132;01m{\u001B[39;00m_start\u001B[38;5;132;01m}\u001B[39;00m\u001B[38;5;124m and \u001B[39m\u001B[38;5;132;01m{\u001B[39;00m_end\u001B[38;5;132;01m}\u001B[39;00m\u001B[38;5;124m\"\u001B[39m)\n",
      "File \u001B[0;32m~/miniforge3/envs/bda_env/lib/python3.9/site-packages/entsoe/entsoe.py:1127\u001B[0m, in \u001B[0;36mEntsoePandasClient.query_load_forecast\u001B[0;34m(self, country_code, start, end, process_type)\u001B[0m\n\u001B[1;32m   1114\u001B[0m \u001B[38;5;250m\u001B[39m\u001B[38;5;124;03m\"\"\"\u001B[39;00m\n\u001B[1;32m   1115\u001B[0m \u001B[38;5;124;03mParameters\u001B[39;00m\n\u001B[1;32m   1116\u001B[0m \u001B[38;5;124;03m----------\u001B[39;00m\n\u001B[0;32m   (...)\u001B[0m\n\u001B[1;32m   1124\u001B[0m \u001B[38;5;124;03mpd.DataFrame\u001B[39;00m\n\u001B[1;32m   1125\u001B[0m \u001B[38;5;124;03m\"\"\"\u001B[39;00m\n\u001B[1;32m   1126\u001B[0m area \u001B[38;5;241m=\u001B[39m lookup_area(country_code)\n\u001B[0;32m-> 1127\u001B[0m text \u001B[38;5;241m=\u001B[39m \u001B[38;5;28;43msuper\u001B[39;49m\u001B[43m(\u001B[49m\u001B[43mEntsoePandasClient\u001B[49m\u001B[43m,\u001B[49m\u001B[43m \u001B[49m\u001B[38;5;28;43mself\u001B[39;49m\u001B[43m)\u001B[49m\u001B[38;5;241;43m.\u001B[39;49m\u001B[43mquery_load_forecast\u001B[49m\u001B[43m(\u001B[49m\n\u001B[1;32m   1128\u001B[0m \u001B[43m    \u001B[49m\u001B[43mcountry_code\u001B[49m\u001B[38;5;241;43m=\u001B[39;49m\u001B[43marea\u001B[49m\u001B[43m,\u001B[49m\u001B[43m \u001B[49m\u001B[43mstart\u001B[49m\u001B[38;5;241;43m=\u001B[39;49m\u001B[43mstart\u001B[49m\u001B[43m,\u001B[49m\u001B[43m \u001B[49m\u001B[43mend\u001B[49m\u001B[38;5;241;43m=\u001B[39;49m\u001B[43mend\u001B[49m\u001B[43m,\u001B[49m\u001B[43m \u001B[49m\u001B[43mprocess_type\u001B[49m\u001B[38;5;241;43m=\u001B[39;49m\u001B[43mprocess_type\u001B[49m\u001B[43m)\u001B[49m\n\u001B[1;32m   1130\u001B[0m df \u001B[38;5;241m=\u001B[39m parse_loads(text, process_type\u001B[38;5;241m=\u001B[39mprocess_type)\n\u001B[1;32m   1131\u001B[0m df \u001B[38;5;241m=\u001B[39m df\u001B[38;5;241m.\u001B[39mtz_convert(area\u001B[38;5;241m.\u001B[39mtz)\n",
      "File \u001B[0;32m~/miniforge3/envs/bda_env/lib/python3.9/site-packages/entsoe/entsoe.py:252\u001B[0m, in \u001B[0;36mEntsoeRawClient.query_load_forecast\u001B[0;34m(self, country_code, start, end, process_type)\u001B[0m\n\u001B[1;32m    245\u001B[0m area \u001B[38;5;241m=\u001B[39m lookup_area(country_code)\n\u001B[1;32m    246\u001B[0m params \u001B[38;5;241m=\u001B[39m {\n\u001B[1;32m    247\u001B[0m     \u001B[38;5;124m'\u001B[39m\u001B[38;5;124mdocumentType\u001B[39m\u001B[38;5;124m'\u001B[39m: \u001B[38;5;124m'\u001B[39m\u001B[38;5;124mA65\u001B[39m\u001B[38;5;124m'\u001B[39m,\n\u001B[1;32m    248\u001B[0m     \u001B[38;5;124m'\u001B[39m\u001B[38;5;124mprocessType\u001B[39m\u001B[38;5;124m'\u001B[39m: process_type,\n\u001B[1;32m    249\u001B[0m     \u001B[38;5;124m'\u001B[39m\u001B[38;5;124moutBiddingZone_Domain\u001B[39m\u001B[38;5;124m'\u001B[39m: area\u001B[38;5;241m.\u001B[39mcode,\n\u001B[1;32m    250\u001B[0m     \u001B[38;5;66;03m# 'out_Domain': domain\u001B[39;00m\n\u001B[1;32m    251\u001B[0m }\n\u001B[0;32m--> 252\u001B[0m response \u001B[38;5;241m=\u001B[39m \u001B[38;5;28;43mself\u001B[39;49m\u001B[38;5;241;43m.\u001B[39;49m\u001B[43m_base_request\u001B[49m\u001B[43m(\u001B[49m\u001B[43mparams\u001B[49m\u001B[38;5;241;43m=\u001B[39;49m\u001B[43mparams\u001B[49m\u001B[43m,\u001B[49m\u001B[43m \u001B[49m\u001B[43mstart\u001B[49m\u001B[38;5;241;43m=\u001B[39;49m\u001B[43mstart\u001B[49m\u001B[43m,\u001B[49m\u001B[43m \u001B[49m\u001B[43mend\u001B[49m\u001B[38;5;241;43m=\u001B[39;49m\u001B[43mend\u001B[49m\u001B[43m)\u001B[49m\n\u001B[1;32m    253\u001B[0m \u001B[38;5;28;01mreturn\u001B[39;00m response\u001B[38;5;241m.\u001B[39mtext\n",
      "File \u001B[0;32m~/miniforge3/envs/bda_env/lib/python3.9/site-packages/entsoe/decorators.py:22\u001B[0m, in \u001B[0;36mretry.<locals>.retry_wrapper\u001B[0;34m(*args, **kwargs)\u001B[0m\n\u001B[1;32m     20\u001B[0m \u001B[38;5;28;01mfor\u001B[39;00m _ \u001B[38;5;129;01min\u001B[39;00m \u001B[38;5;28mrange\u001B[39m(\u001B[38;5;28mself\u001B[39m\u001B[38;5;241m.\u001B[39mretry_count):\n\u001B[1;32m     21\u001B[0m     \u001B[38;5;28;01mtry\u001B[39;00m:\n\u001B[0;32m---> 22\u001B[0m         result \u001B[38;5;241m=\u001B[39m \u001B[43mfunc\u001B[49m\u001B[43m(\u001B[49m\u001B[38;5;241;43m*\u001B[39;49m\u001B[43margs\u001B[49m\u001B[43m,\u001B[49m\u001B[43m \u001B[49m\u001B[38;5;241;43m*\u001B[39;49m\u001B[38;5;241;43m*\u001B[39;49m\u001B[43mkwargs\u001B[49m\u001B[43m)\u001B[49m\n\u001B[1;32m     23\u001B[0m     \u001B[38;5;28;01mexcept\u001B[39;00m (requests\u001B[38;5;241m.\u001B[39mConnectionError, gaierror) \u001B[38;5;28;01mas\u001B[39;00m e:\n\u001B[1;32m     24\u001B[0m         error \u001B[38;5;241m=\u001B[39m e\n",
      "File \u001B[0;32m~/miniforge3/envs/bda_env/lib/python3.9/site-packages/entsoe/entsoe.py:95\u001B[0m, in \u001B[0;36mEntsoeRawClient._base_request\u001B[0;34m(self, params, start, end)\u001B[0m\n\u001B[1;32m     92\u001B[0m params\u001B[38;5;241m.\u001B[39mupdate(base_params)\n\u001B[1;32m     94\u001B[0m logging\u001B[38;5;241m.\u001B[39mdebug(\u001B[38;5;124mf\u001B[39m\u001B[38;5;124m'\u001B[39m\u001B[38;5;124mPerforming request to \u001B[39m\u001B[38;5;132;01m{\u001B[39;00mURL\u001B[38;5;132;01m}\u001B[39;00m\u001B[38;5;124m with params \u001B[39m\u001B[38;5;132;01m{\u001B[39;00mparams\u001B[38;5;132;01m}\u001B[39;00m\u001B[38;5;124m'\u001B[39m)\n\u001B[0;32m---> 95\u001B[0m response \u001B[38;5;241m=\u001B[39m \u001B[38;5;28;43mself\u001B[39;49m\u001B[38;5;241;43m.\u001B[39;49m\u001B[43msession\u001B[49m\u001B[38;5;241;43m.\u001B[39;49m\u001B[43mget\u001B[49m\u001B[43m(\u001B[49m\u001B[43murl\u001B[49m\u001B[38;5;241;43m=\u001B[39;49m\u001B[43mURL\u001B[49m\u001B[43m,\u001B[49m\u001B[43m \u001B[49m\u001B[43mparams\u001B[49m\u001B[38;5;241;43m=\u001B[39;49m\u001B[43mparams\u001B[49m\u001B[43m,\u001B[49m\n\u001B[1;32m     96\u001B[0m \u001B[43m                            \u001B[49m\u001B[43mproxies\u001B[49m\u001B[38;5;241;43m=\u001B[39;49m\u001B[38;5;28;43mself\u001B[39;49m\u001B[38;5;241;43m.\u001B[39;49m\u001B[43mproxies\u001B[49m\u001B[43m,\u001B[49m\u001B[43m \u001B[49m\u001B[43mtimeout\u001B[49m\u001B[38;5;241;43m=\u001B[39;49m\u001B[38;5;28;43mself\u001B[39;49m\u001B[38;5;241;43m.\u001B[39;49m\u001B[43mtimeout\u001B[49m\u001B[43m)\u001B[49m\n\u001B[1;32m     97\u001B[0m \u001B[38;5;28;01mtry\u001B[39;00m:\n\u001B[1;32m     98\u001B[0m     response\u001B[38;5;241m.\u001B[39mraise_for_status()\n",
      "File \u001B[0;32m~/miniforge3/envs/bda_env/lib/python3.9/site-packages/requests/sessions.py:600\u001B[0m, in \u001B[0;36mSession.get\u001B[0;34m(self, url, **kwargs)\u001B[0m\n\u001B[1;32m    592\u001B[0m \u001B[38;5;250m\u001B[39m\u001B[38;5;124mr\u001B[39m\u001B[38;5;124;03m\"\"\"Sends a GET request. Returns :class:`Response` object.\u001B[39;00m\n\u001B[1;32m    593\u001B[0m \n\u001B[1;32m    594\u001B[0m \u001B[38;5;124;03m:param url: URL for the new :class:`Request` object.\u001B[39;00m\n\u001B[1;32m    595\u001B[0m \u001B[38;5;124;03m:param \\*\\*kwargs: Optional arguments that ``request`` takes.\u001B[39;00m\n\u001B[1;32m    596\u001B[0m \u001B[38;5;124;03m:rtype: requests.Response\u001B[39;00m\n\u001B[1;32m    597\u001B[0m \u001B[38;5;124;03m\"\"\"\u001B[39;00m\n\u001B[1;32m    599\u001B[0m kwargs\u001B[38;5;241m.\u001B[39msetdefault(\u001B[38;5;124m\"\u001B[39m\u001B[38;5;124mallow_redirects\u001B[39m\u001B[38;5;124m\"\u001B[39m, \u001B[38;5;28;01mTrue\u001B[39;00m)\n\u001B[0;32m--> 600\u001B[0m \u001B[38;5;28;01mreturn\u001B[39;00m \u001B[38;5;28;43mself\u001B[39;49m\u001B[38;5;241;43m.\u001B[39;49m\u001B[43mrequest\u001B[49m\u001B[43m(\u001B[49m\u001B[38;5;124;43m\"\u001B[39;49m\u001B[38;5;124;43mGET\u001B[39;49m\u001B[38;5;124;43m\"\u001B[39;49m\u001B[43m,\u001B[49m\u001B[43m \u001B[49m\u001B[43murl\u001B[49m\u001B[43m,\u001B[49m\u001B[43m \u001B[49m\u001B[38;5;241;43m*\u001B[39;49m\u001B[38;5;241;43m*\u001B[39;49m\u001B[43mkwargs\u001B[49m\u001B[43m)\u001B[49m\n",
      "File \u001B[0;32m~/miniforge3/envs/bda_env/lib/python3.9/site-packages/requests/sessions.py:587\u001B[0m, in \u001B[0;36mSession.request\u001B[0;34m(self, method, url, params, data, headers, cookies, files, auth, timeout, allow_redirects, proxies, hooks, stream, verify, cert, json)\u001B[0m\n\u001B[1;32m    582\u001B[0m send_kwargs \u001B[38;5;241m=\u001B[39m {\n\u001B[1;32m    583\u001B[0m     \u001B[38;5;124m\"\u001B[39m\u001B[38;5;124mtimeout\u001B[39m\u001B[38;5;124m\"\u001B[39m: timeout,\n\u001B[1;32m    584\u001B[0m     \u001B[38;5;124m\"\u001B[39m\u001B[38;5;124mallow_redirects\u001B[39m\u001B[38;5;124m\"\u001B[39m: allow_redirects,\n\u001B[1;32m    585\u001B[0m }\n\u001B[1;32m    586\u001B[0m send_kwargs\u001B[38;5;241m.\u001B[39mupdate(settings)\n\u001B[0;32m--> 587\u001B[0m resp \u001B[38;5;241m=\u001B[39m \u001B[38;5;28;43mself\u001B[39;49m\u001B[38;5;241;43m.\u001B[39;49m\u001B[43msend\u001B[49m\u001B[43m(\u001B[49m\u001B[43mprep\u001B[49m\u001B[43m,\u001B[49m\u001B[43m \u001B[49m\u001B[38;5;241;43m*\u001B[39;49m\u001B[38;5;241;43m*\u001B[39;49m\u001B[43msend_kwargs\u001B[49m\u001B[43m)\u001B[49m\n\u001B[1;32m    589\u001B[0m \u001B[38;5;28;01mreturn\u001B[39;00m resp\n",
      "File \u001B[0;32m~/miniforge3/envs/bda_env/lib/python3.9/site-packages/requests/sessions.py:701\u001B[0m, in \u001B[0;36mSession.send\u001B[0;34m(self, request, **kwargs)\u001B[0m\n\u001B[1;32m    698\u001B[0m start \u001B[38;5;241m=\u001B[39m preferred_clock()\n\u001B[1;32m    700\u001B[0m \u001B[38;5;66;03m# Send the request\u001B[39;00m\n\u001B[0;32m--> 701\u001B[0m r \u001B[38;5;241m=\u001B[39m \u001B[43madapter\u001B[49m\u001B[38;5;241;43m.\u001B[39;49m\u001B[43msend\u001B[49m\u001B[43m(\u001B[49m\u001B[43mrequest\u001B[49m\u001B[43m,\u001B[49m\u001B[43m \u001B[49m\u001B[38;5;241;43m*\u001B[39;49m\u001B[38;5;241;43m*\u001B[39;49m\u001B[43mkwargs\u001B[49m\u001B[43m)\u001B[49m\n\u001B[1;32m    703\u001B[0m \u001B[38;5;66;03m# Total elapsed time of the request (approximately)\u001B[39;00m\n\u001B[1;32m    704\u001B[0m elapsed \u001B[38;5;241m=\u001B[39m preferred_clock() \u001B[38;5;241m-\u001B[39m start\n",
      "File \u001B[0;32m~/miniforge3/envs/bda_env/lib/python3.9/site-packages/requests/adapters.py:487\u001B[0m, in \u001B[0;36mHTTPAdapter.send\u001B[0;34m(self, request, stream, timeout, verify, cert, proxies)\u001B[0m\n\u001B[1;32m    484\u001B[0m     timeout \u001B[38;5;241m=\u001B[39m TimeoutSauce(connect\u001B[38;5;241m=\u001B[39mtimeout, read\u001B[38;5;241m=\u001B[39mtimeout)\n\u001B[1;32m    486\u001B[0m \u001B[38;5;28;01mtry\u001B[39;00m:\n\u001B[0;32m--> 487\u001B[0m     resp \u001B[38;5;241m=\u001B[39m \u001B[43mconn\u001B[49m\u001B[38;5;241;43m.\u001B[39;49m\u001B[43murlopen\u001B[49m\u001B[43m(\u001B[49m\n\u001B[1;32m    488\u001B[0m \u001B[43m        \u001B[49m\u001B[43mmethod\u001B[49m\u001B[38;5;241;43m=\u001B[39;49m\u001B[43mrequest\u001B[49m\u001B[38;5;241;43m.\u001B[39;49m\u001B[43mmethod\u001B[49m\u001B[43m,\u001B[49m\n\u001B[1;32m    489\u001B[0m \u001B[43m        \u001B[49m\u001B[43murl\u001B[49m\u001B[38;5;241;43m=\u001B[39;49m\u001B[43murl\u001B[49m\u001B[43m,\u001B[49m\n\u001B[1;32m    490\u001B[0m \u001B[43m        \u001B[49m\u001B[43mbody\u001B[49m\u001B[38;5;241;43m=\u001B[39;49m\u001B[43mrequest\u001B[49m\u001B[38;5;241;43m.\u001B[39;49m\u001B[43mbody\u001B[49m\u001B[43m,\u001B[49m\n\u001B[1;32m    491\u001B[0m \u001B[43m        \u001B[49m\u001B[43mheaders\u001B[49m\u001B[38;5;241;43m=\u001B[39;49m\u001B[43mrequest\u001B[49m\u001B[38;5;241;43m.\u001B[39;49m\u001B[43mheaders\u001B[49m\u001B[43m,\u001B[49m\n\u001B[1;32m    492\u001B[0m \u001B[43m        \u001B[49m\u001B[43mredirect\u001B[49m\u001B[38;5;241;43m=\u001B[39;49m\u001B[38;5;28;43;01mFalse\u001B[39;49;00m\u001B[43m,\u001B[49m\n\u001B[1;32m    493\u001B[0m \u001B[43m        \u001B[49m\u001B[43massert_same_host\u001B[49m\u001B[38;5;241;43m=\u001B[39;49m\u001B[38;5;28;43;01mFalse\u001B[39;49;00m\u001B[43m,\u001B[49m\n\u001B[1;32m    494\u001B[0m \u001B[43m        \u001B[49m\u001B[43mpreload_content\u001B[49m\u001B[38;5;241;43m=\u001B[39;49m\u001B[38;5;28;43;01mFalse\u001B[39;49;00m\u001B[43m,\u001B[49m\n\u001B[1;32m    495\u001B[0m \u001B[43m        \u001B[49m\u001B[43mdecode_content\u001B[49m\u001B[38;5;241;43m=\u001B[39;49m\u001B[38;5;28;43;01mFalse\u001B[39;49;00m\u001B[43m,\u001B[49m\n\u001B[1;32m    496\u001B[0m \u001B[43m        \u001B[49m\u001B[43mretries\u001B[49m\u001B[38;5;241;43m=\u001B[39;49m\u001B[38;5;28;43mself\u001B[39;49m\u001B[38;5;241;43m.\u001B[39;49m\u001B[43mmax_retries\u001B[49m\u001B[43m,\u001B[49m\n\u001B[1;32m    497\u001B[0m \u001B[43m        \u001B[49m\u001B[43mtimeout\u001B[49m\u001B[38;5;241;43m=\u001B[39;49m\u001B[43mtimeout\u001B[49m\u001B[43m,\u001B[49m\n\u001B[1;32m    498\u001B[0m \u001B[43m        \u001B[49m\u001B[43mchunked\u001B[49m\u001B[38;5;241;43m=\u001B[39;49m\u001B[43mchunked\u001B[49m\u001B[43m,\u001B[49m\n\u001B[1;32m    499\u001B[0m \u001B[43m    \u001B[49m\u001B[43m)\u001B[49m\n\u001B[1;32m    501\u001B[0m \u001B[38;5;28;01mexcept\u001B[39;00m (ProtocolError, \u001B[38;5;167;01mOSError\u001B[39;00m) \u001B[38;5;28;01mas\u001B[39;00m err:\n\u001B[1;32m    502\u001B[0m     \u001B[38;5;28;01mraise\u001B[39;00m \u001B[38;5;167;01mConnectionError\u001B[39;00m(err, request\u001B[38;5;241m=\u001B[39mrequest)\n",
      "File \u001B[0;32m~/miniforge3/envs/bda_env/lib/python3.9/site-packages/urllib3/connectionpool.py:703\u001B[0m, in \u001B[0;36mHTTPConnectionPool.urlopen\u001B[0;34m(self, method, url, body, headers, retries, redirect, assert_same_host, timeout, pool_timeout, release_conn, chunked, body_pos, **response_kw)\u001B[0m\n\u001B[1;32m    700\u001B[0m     \u001B[38;5;28mself\u001B[39m\u001B[38;5;241m.\u001B[39m_prepare_proxy(conn)\n\u001B[1;32m    702\u001B[0m \u001B[38;5;66;03m# Make the request on the httplib connection object.\u001B[39;00m\n\u001B[0;32m--> 703\u001B[0m httplib_response \u001B[38;5;241m=\u001B[39m \u001B[38;5;28;43mself\u001B[39;49m\u001B[38;5;241;43m.\u001B[39;49m\u001B[43m_make_request\u001B[49m\u001B[43m(\u001B[49m\n\u001B[1;32m    704\u001B[0m \u001B[43m    \u001B[49m\u001B[43mconn\u001B[49m\u001B[43m,\u001B[49m\n\u001B[1;32m    705\u001B[0m \u001B[43m    \u001B[49m\u001B[43mmethod\u001B[49m\u001B[43m,\u001B[49m\n\u001B[1;32m    706\u001B[0m \u001B[43m    \u001B[49m\u001B[43murl\u001B[49m\u001B[43m,\u001B[49m\n\u001B[1;32m    707\u001B[0m \u001B[43m    \u001B[49m\u001B[43mtimeout\u001B[49m\u001B[38;5;241;43m=\u001B[39;49m\u001B[43mtimeout_obj\u001B[49m\u001B[43m,\u001B[49m\n\u001B[1;32m    708\u001B[0m \u001B[43m    \u001B[49m\u001B[43mbody\u001B[49m\u001B[38;5;241;43m=\u001B[39;49m\u001B[43mbody\u001B[49m\u001B[43m,\u001B[49m\n\u001B[1;32m    709\u001B[0m \u001B[43m    \u001B[49m\u001B[43mheaders\u001B[49m\u001B[38;5;241;43m=\u001B[39;49m\u001B[43mheaders\u001B[49m\u001B[43m,\u001B[49m\n\u001B[1;32m    710\u001B[0m \u001B[43m    \u001B[49m\u001B[43mchunked\u001B[49m\u001B[38;5;241;43m=\u001B[39;49m\u001B[43mchunked\u001B[49m\u001B[43m,\u001B[49m\n\u001B[1;32m    711\u001B[0m \u001B[43m\u001B[49m\u001B[43m)\u001B[49m\n\u001B[1;32m    713\u001B[0m \u001B[38;5;66;03m# If we're going to release the connection in ``finally:``, then\u001B[39;00m\n\u001B[1;32m    714\u001B[0m \u001B[38;5;66;03m# the response doesn't need to know about the connection. Otherwise\u001B[39;00m\n\u001B[1;32m    715\u001B[0m \u001B[38;5;66;03m# it will also try to release it and we'll have a double-release\u001B[39;00m\n\u001B[1;32m    716\u001B[0m \u001B[38;5;66;03m# mess.\u001B[39;00m\n\u001B[1;32m    717\u001B[0m response_conn \u001B[38;5;241m=\u001B[39m conn \u001B[38;5;28;01mif\u001B[39;00m \u001B[38;5;129;01mnot\u001B[39;00m release_conn \u001B[38;5;28;01melse\u001B[39;00m \u001B[38;5;28;01mNone\u001B[39;00m\n",
      "File \u001B[0;32m~/miniforge3/envs/bda_env/lib/python3.9/site-packages/urllib3/connectionpool.py:449\u001B[0m, in \u001B[0;36mHTTPConnectionPool._make_request\u001B[0;34m(self, conn, method, url, timeout, chunked, **httplib_request_kw)\u001B[0m\n\u001B[1;32m    444\u001B[0m             httplib_response \u001B[38;5;241m=\u001B[39m conn\u001B[38;5;241m.\u001B[39mgetresponse()\n\u001B[1;32m    445\u001B[0m         \u001B[38;5;28;01mexcept\u001B[39;00m \u001B[38;5;167;01mBaseException\u001B[39;00m \u001B[38;5;28;01mas\u001B[39;00m e:\n\u001B[1;32m    446\u001B[0m             \u001B[38;5;66;03m# Remove the TypeError from the exception chain in\u001B[39;00m\n\u001B[1;32m    447\u001B[0m             \u001B[38;5;66;03m# Python 3 (including for exceptions like SystemExit).\u001B[39;00m\n\u001B[1;32m    448\u001B[0m             \u001B[38;5;66;03m# Otherwise it looks like a bug in the code.\u001B[39;00m\n\u001B[0;32m--> 449\u001B[0m             \u001B[43msix\u001B[49m\u001B[38;5;241;43m.\u001B[39;49m\u001B[43mraise_from\u001B[49m\u001B[43m(\u001B[49m\u001B[43me\u001B[49m\u001B[43m,\u001B[49m\u001B[43m \u001B[49m\u001B[38;5;28;43;01mNone\u001B[39;49;00m\u001B[43m)\u001B[49m\n\u001B[1;32m    450\u001B[0m \u001B[38;5;28;01mexcept\u001B[39;00m (SocketTimeout, BaseSSLError, SocketError) \u001B[38;5;28;01mas\u001B[39;00m e:\n\u001B[1;32m    451\u001B[0m     \u001B[38;5;28mself\u001B[39m\u001B[38;5;241m.\u001B[39m_raise_timeout(err\u001B[38;5;241m=\u001B[39me, url\u001B[38;5;241m=\u001B[39murl, timeout_value\u001B[38;5;241m=\u001B[39mread_timeout)\n",
      "File \u001B[0;32m<string>:3\u001B[0m, in \u001B[0;36mraise_from\u001B[0;34m(value, from_value)\u001B[0m\n",
      "File \u001B[0;32m~/miniforge3/envs/bda_env/lib/python3.9/site-packages/urllib3/connectionpool.py:444\u001B[0m, in \u001B[0;36mHTTPConnectionPool._make_request\u001B[0;34m(self, conn, method, url, timeout, chunked, **httplib_request_kw)\u001B[0m\n\u001B[1;32m    441\u001B[0m \u001B[38;5;28;01mexcept\u001B[39;00m \u001B[38;5;167;01mTypeError\u001B[39;00m:\n\u001B[1;32m    442\u001B[0m     \u001B[38;5;66;03m# Python 3\u001B[39;00m\n\u001B[1;32m    443\u001B[0m     \u001B[38;5;28;01mtry\u001B[39;00m:\n\u001B[0;32m--> 444\u001B[0m         httplib_response \u001B[38;5;241m=\u001B[39m \u001B[43mconn\u001B[49m\u001B[38;5;241;43m.\u001B[39;49m\u001B[43mgetresponse\u001B[49m\u001B[43m(\u001B[49m\u001B[43m)\u001B[49m\n\u001B[1;32m    445\u001B[0m     \u001B[38;5;28;01mexcept\u001B[39;00m \u001B[38;5;167;01mBaseException\u001B[39;00m \u001B[38;5;28;01mas\u001B[39;00m e:\n\u001B[1;32m    446\u001B[0m         \u001B[38;5;66;03m# Remove the TypeError from the exception chain in\u001B[39;00m\n\u001B[1;32m    447\u001B[0m         \u001B[38;5;66;03m# Python 3 (including for exceptions like SystemExit).\u001B[39;00m\n\u001B[1;32m    448\u001B[0m         \u001B[38;5;66;03m# Otherwise it looks like a bug in the code.\u001B[39;00m\n\u001B[1;32m    449\u001B[0m         six\u001B[38;5;241m.\u001B[39mraise_from(e, \u001B[38;5;28;01mNone\u001B[39;00m)\n",
      "File \u001B[0;32m~/miniforge3/envs/bda_env/lib/python3.9/http/client.py:1377\u001B[0m, in \u001B[0;36mHTTPConnection.getresponse\u001B[0;34m(self)\u001B[0m\n\u001B[1;32m   1375\u001B[0m \u001B[38;5;28;01mtry\u001B[39;00m:\n\u001B[1;32m   1376\u001B[0m     \u001B[38;5;28;01mtry\u001B[39;00m:\n\u001B[0;32m-> 1377\u001B[0m         \u001B[43mresponse\u001B[49m\u001B[38;5;241;43m.\u001B[39;49m\u001B[43mbegin\u001B[49m\u001B[43m(\u001B[49m\u001B[43m)\u001B[49m\n\u001B[1;32m   1378\u001B[0m     \u001B[38;5;28;01mexcept\u001B[39;00m \u001B[38;5;167;01mConnectionError\u001B[39;00m:\n\u001B[1;32m   1379\u001B[0m         \u001B[38;5;28mself\u001B[39m\u001B[38;5;241m.\u001B[39mclose()\n",
      "File \u001B[0;32m~/miniforge3/envs/bda_env/lib/python3.9/http/client.py:320\u001B[0m, in \u001B[0;36mHTTPResponse.begin\u001B[0;34m(self)\u001B[0m\n\u001B[1;32m    318\u001B[0m \u001B[38;5;66;03m# read until we get a non-100 response\u001B[39;00m\n\u001B[1;32m    319\u001B[0m \u001B[38;5;28;01mwhile\u001B[39;00m \u001B[38;5;28;01mTrue\u001B[39;00m:\n\u001B[0;32m--> 320\u001B[0m     version, status, reason \u001B[38;5;241m=\u001B[39m \u001B[38;5;28;43mself\u001B[39;49m\u001B[38;5;241;43m.\u001B[39;49m\u001B[43m_read_status\u001B[49m\u001B[43m(\u001B[49m\u001B[43m)\u001B[49m\n\u001B[1;32m    321\u001B[0m     \u001B[38;5;28;01mif\u001B[39;00m status \u001B[38;5;241m!=\u001B[39m CONTINUE:\n\u001B[1;32m    322\u001B[0m         \u001B[38;5;28;01mbreak\u001B[39;00m\n",
      "File \u001B[0;32m~/miniforge3/envs/bda_env/lib/python3.9/http/client.py:281\u001B[0m, in \u001B[0;36mHTTPResponse._read_status\u001B[0;34m(self)\u001B[0m\n\u001B[1;32m    280\u001B[0m \u001B[38;5;28;01mdef\u001B[39;00m \u001B[38;5;21m_read_status\u001B[39m(\u001B[38;5;28mself\u001B[39m):\n\u001B[0;32m--> 281\u001B[0m     line \u001B[38;5;241m=\u001B[39m \u001B[38;5;28mstr\u001B[39m(\u001B[38;5;28;43mself\u001B[39;49m\u001B[38;5;241;43m.\u001B[39;49m\u001B[43mfp\u001B[49m\u001B[38;5;241;43m.\u001B[39;49m\u001B[43mreadline\u001B[49m\u001B[43m(\u001B[49m\u001B[43m_MAXLINE\u001B[49m\u001B[43m \u001B[49m\u001B[38;5;241;43m+\u001B[39;49m\u001B[43m \u001B[49m\u001B[38;5;241;43m1\u001B[39;49m\u001B[43m)\u001B[49m, \u001B[38;5;124m\"\u001B[39m\u001B[38;5;124miso-8859-1\u001B[39m\u001B[38;5;124m\"\u001B[39m)\n\u001B[1;32m    282\u001B[0m     \u001B[38;5;28;01mif\u001B[39;00m \u001B[38;5;28mlen\u001B[39m(line) \u001B[38;5;241m>\u001B[39m _MAXLINE:\n\u001B[1;32m    283\u001B[0m         \u001B[38;5;28;01mraise\u001B[39;00m LineTooLong(\u001B[38;5;124m\"\u001B[39m\u001B[38;5;124mstatus line\u001B[39m\u001B[38;5;124m\"\u001B[39m)\n",
      "File \u001B[0;32m~/miniforge3/envs/bda_env/lib/python3.9/socket.py:704\u001B[0m, in \u001B[0;36mSocketIO.readinto\u001B[0;34m(self, b)\u001B[0m\n\u001B[1;32m    702\u001B[0m \u001B[38;5;28;01mwhile\u001B[39;00m \u001B[38;5;28;01mTrue\u001B[39;00m:\n\u001B[1;32m    703\u001B[0m     \u001B[38;5;28;01mtry\u001B[39;00m:\n\u001B[0;32m--> 704\u001B[0m         \u001B[38;5;28;01mreturn\u001B[39;00m \u001B[38;5;28;43mself\u001B[39;49m\u001B[38;5;241;43m.\u001B[39;49m\u001B[43m_sock\u001B[49m\u001B[38;5;241;43m.\u001B[39;49m\u001B[43mrecv_into\u001B[49m\u001B[43m(\u001B[49m\u001B[43mb\u001B[49m\u001B[43m)\u001B[49m\n\u001B[1;32m    705\u001B[0m     \u001B[38;5;28;01mexcept\u001B[39;00m timeout:\n\u001B[1;32m    706\u001B[0m         \u001B[38;5;28mself\u001B[39m\u001B[38;5;241m.\u001B[39m_timeout_occurred \u001B[38;5;241m=\u001B[39m \u001B[38;5;28;01mTrue\u001B[39;00m\n",
      "File \u001B[0;32m~/miniforge3/envs/bda_env/lib/python3.9/ssl.py:1242\u001B[0m, in \u001B[0;36mSSLSocket.recv_into\u001B[0;34m(self, buffer, nbytes, flags)\u001B[0m\n\u001B[1;32m   1238\u001B[0m     \u001B[38;5;28;01mif\u001B[39;00m flags \u001B[38;5;241m!=\u001B[39m \u001B[38;5;241m0\u001B[39m:\n\u001B[1;32m   1239\u001B[0m         \u001B[38;5;28;01mraise\u001B[39;00m \u001B[38;5;167;01mValueError\u001B[39;00m(\n\u001B[1;32m   1240\u001B[0m           \u001B[38;5;124m\"\u001B[39m\u001B[38;5;124mnon-zero flags not allowed in calls to recv_into() on \u001B[39m\u001B[38;5;132;01m%s\u001B[39;00m\u001B[38;5;124m\"\u001B[39m \u001B[38;5;241m%\u001B[39m\n\u001B[1;32m   1241\u001B[0m           \u001B[38;5;28mself\u001B[39m\u001B[38;5;241m.\u001B[39m\u001B[38;5;18m__class__\u001B[39m)\n\u001B[0;32m-> 1242\u001B[0m     \u001B[38;5;28;01mreturn\u001B[39;00m \u001B[38;5;28;43mself\u001B[39;49m\u001B[38;5;241;43m.\u001B[39;49m\u001B[43mread\u001B[49m\u001B[43m(\u001B[49m\u001B[43mnbytes\u001B[49m\u001B[43m,\u001B[49m\u001B[43m \u001B[49m\u001B[43mbuffer\u001B[49m\u001B[43m)\u001B[49m\n\u001B[1;32m   1243\u001B[0m \u001B[38;5;28;01melse\u001B[39;00m:\n\u001B[1;32m   1244\u001B[0m     \u001B[38;5;28;01mreturn\u001B[39;00m \u001B[38;5;28msuper\u001B[39m()\u001B[38;5;241m.\u001B[39mrecv_into(buffer, nbytes, flags)\n",
      "File \u001B[0;32m~/miniforge3/envs/bda_env/lib/python3.9/ssl.py:1100\u001B[0m, in \u001B[0;36mSSLSocket.read\u001B[0;34m(self, len, buffer)\u001B[0m\n\u001B[1;32m   1098\u001B[0m \u001B[38;5;28;01mtry\u001B[39;00m:\n\u001B[1;32m   1099\u001B[0m     \u001B[38;5;28;01mif\u001B[39;00m buffer \u001B[38;5;129;01mis\u001B[39;00m \u001B[38;5;129;01mnot\u001B[39;00m \u001B[38;5;28;01mNone\u001B[39;00m:\n\u001B[0;32m-> 1100\u001B[0m         \u001B[38;5;28;01mreturn\u001B[39;00m \u001B[38;5;28;43mself\u001B[39;49m\u001B[38;5;241;43m.\u001B[39;49m\u001B[43m_sslobj\u001B[49m\u001B[38;5;241;43m.\u001B[39;49m\u001B[43mread\u001B[49m\u001B[43m(\u001B[49m\u001B[38;5;28;43mlen\u001B[39;49m\u001B[43m,\u001B[49m\u001B[43m \u001B[49m\u001B[43mbuffer\u001B[49m\u001B[43m)\u001B[49m\n\u001B[1;32m   1101\u001B[0m     \u001B[38;5;28;01melse\u001B[39;00m:\n\u001B[1;32m   1102\u001B[0m         \u001B[38;5;28;01mreturn\u001B[39;00m \u001B[38;5;28mself\u001B[39m\u001B[38;5;241m.\u001B[39m_sslobj\u001B[38;5;241m.\u001B[39mread(\u001B[38;5;28mlen\u001B[39m)\n",
      "\u001B[0;31mKeyboardInterrupt\u001B[0m: "
     ]
    }
   ],
   "source": [
    "df_demand, df_demand_scaled = get_demand(start, end)\n",
    "df_vre, df_vre_scaled = get_vre(start, end)\n",
    "df_gen, df_gen_scaled = get_gen(start, end)\n",
    "df_mcp = get_mcp(start, end)"
   ],
   "metadata": {
    "collapsed": false,
    "ExecuteTime": {
     "end_time": "2023-05-15T13:17:22.717462Z",
     "start_time": "2023-05-15T13:17:11.069959Z"
    }
   }
  },
  {
   "cell_type": "code",
   "execution_count": 449,
   "outputs": [
    {
     "name": "stderr",
     "output_type": "stream",
     "text": [
      "/Users/louis.skowronek/miniforge3/envs/bda_env/lib/python3.9/site-packages/gym/spaces/box.py:127: UserWarning: \u001B[33mWARN: Box bound precision lowered by casting to float32\u001B[0m\n",
      "  logger.warn(f\"Box bound precision lowered by casting to {self.dtype}\")\n"
     ]
    }
   ],
   "source": [
    "# Example usage\n",
    "env = market_env(demand=df_demand_scaled, re = df_vre_scaled, prices = df_mcp, eps_length=24, capacity=200, mc=35)\n",
    "\n",
    "# Assuming you have a gym environment called 'env'\n",
    "input_size = env.observation_space.shape[0]\n",
    "n_actions = env.action_space.n\n",
    "n_games = 1000\n",
    "\n",
    "agent = ActorCriticAgent(input_size, n_actions)\n",
    "\n",
    "filename = 'power_plant.png'\n",
    "\n",
    "figure_file = 'plots/' + filename\n",
    "\n",
    "best_score = env.reward_range[0]\n",
    "score_history = []\n",
    "load_checkpoint = False"
   ],
   "metadata": {
    "collapsed": false,
    "ExecuteTime": {
     "end_time": "2023-05-15T15:44:43.434652Z",
     "start_time": "2023-05-15T15:44:42.754693Z"
    }
   }
  },
  {
   "cell_type": "code",
   "execution_count": 452,
   "outputs": [
    {
     "name": "stdout",
     "output_type": "stream",
     "text": [
      "episode  0 score 185.9 avg_score 154.5\n",
      "episode  1 score 83.4 avg_score 153.5\n",
      "episode  2 score -12.1 avg_score 153.7\n",
      "episode  3 score 235.3 avg_score 154.1\n",
      "episode  4 score 269.3 avg_score 158.6\n",
      "episode  5 score 0.0 avg_score 156.2\n",
      "episode  6 score 238.3 avg_score 156.2\n",
      "episode  7 score -31.3 avg_score 154.4\n",
      "episode  8 score 271.0 avg_score 154.8\n",
      "episode  9 score 66.5 avg_score 153.3\n",
      "episode  10 score 6.8 avg_score 154.0\n",
      "episode  11 score 272.9 avg_score 154.4\n",
      "episode  12 score 279.0 avg_score 155.3\n",
      "episode  13 score -82.4 avg_score 152.1\n",
      "episode  14 score 239.3 avg_score 152.0\n",
      "episode  15 score 66.7 avg_score 151.5\n",
      "episode  16 score -72.6 avg_score 148.4\n",
      "episode  17 score 187.8 avg_score 148.3\n",
      "episode  18 score 223.6 avg_score 148.3\n",
      "episode  19 score 223.6 avg_score 152.2\n",
      "episode  20 score -126.5 avg_score 149.1\n",
      "episode  21 score 199.8 avg_score 148.6\n",
      "episode  22 score 239.7 avg_score 148.9\n",
      "episode  23 score -115.2 avg_score 147.3\n",
      "episode  24 score 220.5 avg_score 146.9\n",
      "episode  25 score 167.8 avg_score 148.3\n",
      "episode  26 score -11.3 avg_score 146.2\n",
      "episode  27 score 254.1 avg_score 146.2\n",
      "episode  28 score -190.1 avg_score 142.7\n",
      "episode  29 score -14.6 avg_score 143.1\n",
      "episode  30 score 95.9 avg_score 142.0\n",
      "episode  31 score 224.9 avg_score 145.2\n",
      "episode  32 score -71.3 avg_score 142.8\n",
      "episode  33 score 267.3 avg_score 146.7\n",
      "episode  34 score 243.0 avg_score 146.4\n",
      "episode  35 score 234.6 avg_score 146.2\n",
      "episode  36 score 46.6 avg_score 144.2\n",
      "episode  37 score -56.7 avg_score 141.9\n",
      "episode  38 score 248.0 avg_score 141.9\n",
      "episode  39 score -90.6 avg_score 140.9\n",
      "episode  40 score 212.5 avg_score 142.1\n",
      "episode  41 score 254.9 avg_score 142.2\n",
      "episode  42 score 229.1 avg_score 142.0\n",
      "episode  43 score 247.2 avg_score 142.4\n",
      "episode  44 score 141.7 avg_score 143.3\n",
      "episode  45 score -115.2 avg_score 140.1\n",
      "episode  46 score 229.0 avg_score 139.9\n",
      "episode  47 score 228.2 avg_score 140.6\n",
      "episode  48 score 249.8 avg_score 140.8\n",
      "episode  49 score 250.8 avg_score 144.4\n",
      "episode  50 score -145.8 avg_score 142.1\n",
      "episode  51 score 240.7 avg_score 145.3\n",
      "episode  52 score -12.2 avg_score 142.8\n",
      "episode  53 score 271.7 avg_score 143.0\n",
      "episode  54 score 42.0 avg_score 141.1\n",
      "episode  55 score 246.8 avg_score 141.1\n",
      "episode  56 score 222.0 avg_score 140.7\n",
      "episode  57 score 243.1 avg_score 140.7\n",
      "episode  58 score 228.1 avg_score 140.8\n",
      "episode  59 score 35.7 avg_score 139.0\n",
      "episode  60 score 252.9 avg_score 143.2\n",
      "episode  61 score -57.7 avg_score 140.0\n",
      "episode  62 score 196.3 avg_score 139.5\n",
      "episode  63 score 211.8 avg_score 139.8\n",
      "episode  64 score 242.3 avg_score 139.5\n",
      "episode  65 score 245.7 avg_score 143.1\n",
      "episode  66 score 260.0 avg_score 143.1\n",
      "episode  67 score 140.1 avg_score 142.5\n",
      "episode  68 score 267.3 avg_score 143.8\n",
      "episode  69 score 224.9 avg_score 147.3\n",
      "episode  70 score -24.9 avg_score 144.3\n",
      "episode  71 score 191.8 avg_score 143.7\n",
      "episode  72 score -66.4 avg_score 140.8\n",
      "episode  73 score 172.3 avg_score 144.3\n",
      "episode  74 score 245.1 avg_score 145.4\n",
      "episode  75 score 240.1 avg_score 147.3\n",
      "episode  76 score 235.4 avg_score 147.3\n",
      "episode  77 score 49.9 avg_score 145.4\n",
      "episode  78 score 36.9 avg_score 143.2\n",
      "episode  79 score 247.4 avg_score 143.0\n",
      "episode  80 score 233.9 avg_score 144.6\n",
      "episode  81 score 251.0 avg_score 148.5\n",
      "episode  82 score -22.6 avg_score 145.8\n",
      "episode  83 score -67.7 avg_score 144.7\n",
      "episode  84 score 177.8 avg_score 146.5\n",
      "episode  85 score -145.8 avg_score 144.3\n",
      "episode  86 score -116.7 avg_score 140.8\n",
      "episode  87 score -89.1 avg_score 137.8\n",
      "episode  88 score 175.5 avg_score 137.5\n",
      "episode  89 score 261.8 avg_score 137.6\n",
      "episode  90 score 244.1 avg_score 138.0\n",
      "episode  91 score 242.0 avg_score 138.2\n",
      "episode  92 score 245.5 avg_score 137.9\n",
      "episode  93 score 142.6 avg_score 136.9\n",
      "episode  94 score 216.4 avg_score 136.3\n",
      "episode  95 score 205.6 avg_score 139.2\n",
      "episode  96 score 250.7 avg_score 139.6\n",
      "episode  97 score 113.2 avg_score 138.3\n",
      "episode  98 score 240.0 avg_score 138.2\n",
      "episode  99 score 268.9 avg_score 138.6\n",
      "episode  100 score 226.8 avg_score 139.0\n",
      "episode  101 score 242.1 avg_score 140.6\n",
      "episode  102 score -102.7 avg_score 139.6\n",
      "episode  103 score 261.8 avg_score 139.9\n",
      "episode  104 score -23.1 avg_score 137.0\n",
      "episode  105 score 208.3 avg_score 139.1\n",
      "episode  106 score 108.0 avg_score 137.8\n",
      "episode  107 score 269.8 avg_score 140.8\n",
      "episode  108 score 43.0 avg_score 138.5\n",
      "episode  109 score 222.3 avg_score 140.1\n",
      "episode  110 score 232.1 avg_score 142.3\n",
      "episode  111 score -33.1 avg_score 139.3\n",
      "episode  112 score 239.6 avg_score 138.9\n",
      "episode  113 score -72.0 avg_score 139.0\n",
      "episode  114 score -12.4 avg_score 136.4\n",
      "episode  115 score 229.2 avg_score 138.1\n",
      "episode  116 score 239.7 avg_score 141.2\n",
      "episode  117 score 254.5 avg_score 141.9\n",
      "episode  118 score 216.0 avg_score 141.8\n",
      "episode  119 score 224.0 avg_score 141.8\n",
      "episode  120 score 100.6 avg_score 144.1\n",
      "episode  121 score 235.4 avg_score 144.4\n",
      "episode  122 score 267.0 avg_score 144.7\n",
      "episode  123 score -127.0 avg_score 144.6\n",
      "episode  124 score 231.5 avg_score 144.7\n",
      "episode  125 score 83.0 avg_score 143.8\n",
      "episode  126 score -193.4 avg_score 142.0\n",
      "episode  127 score 179.7 avg_score 141.3\n",
      "episode  128 score 276.9 avg_score 145.9\n",
      "episode  129 score 230.8 avg_score 148.4\n",
      "episode  130 score 239.6 avg_score 149.8\n",
      "episode  131 score 186.6 avg_score 149.4\n",
      "episode  132 score 52.9 avg_score 150.7\n",
      "episode  133 score -122.6 avg_score 146.8\n",
      "episode  134 score -124.2 avg_score 143.1\n",
      "episode  135 score 104.5 avg_score 141.8\n",
      "episode  136 score 276.9 avg_score 144.1\n",
      "episode  137 score 192.9 avg_score 146.6\n",
      "episode  138 score 203.5 avg_score 146.2\n",
      "episode  139 score -118.0 avg_score 145.9\n",
      "episode  140 score 59.4 avg_score 144.4\n",
      "episode  141 score 225.0 avg_score 144.1\n",
      "episode  142 score 234.3 avg_score 144.1\n",
      "episode  143 score 247.8 avg_score 144.1\n",
      "episode  144 score 246.1 avg_score 145.2\n",
      "episode  145 score 228.1 avg_score 148.6\n",
      "episode  146 score -20.9 avg_score 146.1\n",
      "episode  147 score -58.4 avg_score 143.2\n",
      "episode  148 score 236.8 avg_score 143.1\n",
      "episode  149 score 26.7 avg_score 140.9\n",
      "episode  150 score 137.8 avg_score 143.7\n",
      "episode  151 score 257.2 avg_score 143.9\n",
      "episode  152 score -64.8 avg_score 143.3\n",
      "episode  153 score 204.2 avg_score 142.7\n",
      "episode  154 score -174.8 avg_score 140.5\n",
      "episode  155 score 266.3 avg_score 140.7\n",
      "episode  156 score 203.0 avg_score 140.5\n",
      "episode  157 score 232.7 avg_score 140.4\n",
      "episode  158 score 243.7 avg_score 140.5\n",
      "episode  159 score 264.0 avg_score 142.8\n",
      "episode  160 score 241.6 avg_score 142.7\n",
      "episode  161 score -4.5 avg_score 143.3\n",
      "episode  162 score -100.6 avg_score 140.3\n",
      "episode  163 score 180.4 avg_score 140.0\n",
      "episode  164 score 232.2 avg_score 139.9\n",
      "episode  165 score 231.7 avg_score 139.7\n",
      "episode  166 score -120.7 avg_score 135.9\n",
      "episode  167 score -7.1 avg_score 134.4\n",
      "episode  168 score 95.6 avg_score 132.7\n",
      "episode  169 score 256.4 avg_score 133.0\n",
      "episode  170 score 264.0 avg_score 135.9\n",
      "episode  171 score 266.9 avg_score 136.7\n",
      "episode  172 score 222.2 avg_score 139.6\n",
      "episode  173 score 30.3 avg_score 138.2\n",
      "episode  174 score 249.4 avg_score 138.2\n",
      "episode  175 score 224.0 avg_score 138.0\n",
      "episode  176 score 220.5 avg_score 137.9\n",
      "episode  177 score 182.7 avg_score 139.2\n",
      "episode  178 score 213.9 avg_score 141.0\n",
      "episode  179 score 214.0 avg_score 140.6\n",
      "episode  180 score 175.2 avg_score 140.1\n",
      "episode  181 score 20.4 avg_score 137.8\n",
      "episode  182 score 140.1 avg_score 139.4\n",
      "episode  183 score 182.2 avg_score 141.9\n",
      "episode  184 score -30.2 avg_score 139.8\n",
      "episode  185 score 202.3 avg_score 143.3\n",
      "episode  186 score 245.4 avg_score 146.9\n",
      "episode  187 score 236.5 avg_score 150.2\n",
      "episode  188 score 222.6 avg_score 150.6\n",
      "episode  189 score 201.3 avg_score 150.0\n",
      "episode  190 score 281.2 avg_score 150.4\n",
      "episode  191 score 256.4 avg_score 150.5\n",
      "episode  192 score -107.2 avg_score 147.0\n",
      "episode  193 score 253.3 avg_score 148.1\n",
      "episode  194 score 226.0 avg_score 148.2\n",
      "episode  195 score 252.9 avg_score 148.7\n",
      "episode  196 score 186.8 avg_score 148.0\n",
      "episode  197 score 256.2 avg_score 149.5\n",
      "episode  198 score 0.0 avg_score 147.1\n",
      "episode  199 score 203.0 avg_score 146.4\n",
      "episode  200 score 102.6 avg_score 145.2\n",
      "episode  201 score -134.7 avg_score 141.4\n",
      "episode  202 score 72.4 avg_score 143.2\n",
      "episode  203 score -51.5 avg_score 140.0\n",
      "episode  204 score 263.6 avg_score 142.9\n",
      "episode  205 score 235.9 avg_score 143.2\n",
      "episode  206 score 4.0 avg_score 142.1\n",
      "episode  207 score 217.9 avg_score 141.6\n",
      "episode  208 score 25.8 avg_score 141.4\n",
      "episode  209 score 248.0 avg_score 141.7\n",
      "episode  210 score 234.6 avg_score 141.7\n",
      "episode  211 score 201.5 avg_score 144.1\n",
      "episode  212 score 144.8 avg_score 143.1\n",
      "episode  213 score -124.3 avg_score 142.6\n",
      "episode  214 score 226.7 avg_score 145.0\n",
      "episode  215 score -129.2 avg_score 141.4\n",
      "episode  216 score 221.9 avg_score 141.2\n",
      "episode  217 score -81.5 avg_score 137.9\n",
      "episode  218 score 234.6 avg_score 138.1\n",
      "episode  219 score -47.3 avg_score 135.3\n",
      "episode  220 score -145.0 avg_score 132.9\n",
      "episode  221 score 243.0 avg_score 133.0\n",
      "episode  222 score 255.9 avg_score 132.8\n",
      "episode  223 score 230.8 avg_score 136.4\n",
      "episode  224 score 232.7 avg_score 136.4\n",
      "episode  225 score 122.7 avg_score 136.8\n",
      "episode  226 score 35.7 avg_score 139.1\n",
      "episode  227 score -72.6 avg_score 136.6\n",
      "episode  228 score -72.6 avg_score 133.1\n",
      "episode  229 score 217.6 avg_score 133.0\n",
      "episode  230 score -108.4 avg_score 129.5\n",
      "episode  231 score 240.5 avg_score 130.0\n",
      "episode  232 score 84.4 avg_score 130.3\n",
      "episode  233 score 238.6 avg_score 134.0\n",
      "episode  234 score 121.3 avg_score 136.4\n",
      "episode  235 score 264.5 avg_score 138.0\n",
      "episode  236 score 263.1 avg_score 137.9\n",
      "episode  237 score 4.1 avg_score 136.0\n",
      "episode  238 score 241.1 avg_score 136.4\n",
      "episode  239 score 158.3 avg_score 139.1\n",
      "episode  240 score 247.0 avg_score 141.0\n",
      "episode  241 score 57.4 avg_score 139.3\n",
      "episode  242 score -76.8 avg_score 136.2\n",
      "episode  243 score -53.4 avg_score 133.2\n",
      "episode  244 score -104.0 avg_score 129.7\n",
      "episode  245 score 232.7 avg_score 129.8\n",
      "episode  246 score 176.4 avg_score 131.7\n",
      "episode  247 score -12.2 avg_score 132.2\n",
      "episode  248 score -89.1 avg_score 128.9\n",
      "episode  249 score 239.4 avg_score 131.1\n",
      "episode  250 score 237.5 avg_score 132.1\n",
      "episode  251 score 253.6 avg_score 132.0\n",
      "episode  252 score 230.4 avg_score 135.0\n",
      "episode  253 score 249.4 avg_score 135.4\n",
      "episode  254 score 254.1 avg_score 139.7\n",
      "episode  255 score 261.9 avg_score 139.7\n",
      "episode  256 score 254.4 avg_score 140.2\n",
      "episode  257 score -30.9 avg_score 137.5\n",
      "episode  258 score 84.4 avg_score 135.9\n",
      "episode  259 score 243.5 avg_score 135.7\n",
      "episode  260 score 249.7 avg_score 135.8\n",
      "episode  261 score -102.7 avg_score 134.8\n",
      "episode  262 score 232.3 avg_score 138.2\n",
      "episode  263 score 213.0 avg_score 138.5\n",
      "episode  264 score -97.4 avg_score 135.2\n",
      "episode  265 score 261.7 avg_score 135.5\n",
      "episode  266 score 260.3 avg_score 139.3\n",
      "episode  267 score 255.9 avg_score 141.9\n",
      "episode  268 score 24.1 avg_score 141.2\n",
      "episode  269 score 261.7 avg_score 141.3\n",
      "episode  270 score 221.7 avg_score 140.9\n",
      "episode  271 score 272.2 avg_score 140.9\n",
      "episode  272 score 199.6 avg_score 140.7\n",
      "episode  273 score 129.1 avg_score 141.7\n",
      "episode  274 score 224.6 avg_score 141.4\n",
      "episode  275 score 269.3 avg_score 141.9\n",
      "episode  276 score 240.5 avg_score 142.1\n",
      "episode  277 score 15.1 avg_score 140.4\n",
      "episode  278 score 254.2 avg_score 140.8\n",
      "episode  279 score 249.5 avg_score 141.2\n",
      "episode  280 score -71.3 avg_score 138.7\n",
      "episode  281 score 0.0 avg_score 138.5\n",
      "episode  282 score 234.0 avg_score 139.4\n",
      "episode  283 score 247.6 avg_score 140.1\n",
      "episode  284 score 49.6 avg_score 140.9\n",
      "episode  285 score 202.5 avg_score 140.9\n",
      "episode  286 score -95.2 avg_score 137.5\n",
      "episode  287 score 23.9 avg_score 135.3\n",
      "episode  288 score 263.9 avg_score 135.8\n",
      "episode  289 score 249.4 avg_score 136.2\n",
      "episode  290 score -1.3 avg_score 133.4\n",
      "episode  291 score -27.2 avg_score 130.6\n",
      "episode  292 score 233.3 avg_score 134.0\n",
      "episode  293 score 187.3 avg_score 133.3\n",
      "episode  294 score 253.3 avg_score 133.6\n",
      "episode  295 score 224.7 avg_score 133.3\n",
      "episode  296 score 97.6 avg_score 132.4\n",
      "episode  297 score -172.7 avg_score 128.1\n",
      "episode  298 score 279.2 avg_score 130.9\n",
      "episode  299 score 238.3 avg_score 131.3\n",
      "episode  300 score 243.0 avg_score 132.7\n",
      "episode  301 score 194.7 avg_score 136.0\n",
      "episode  302 score 235.6 avg_score 137.6\n",
      "episode  303 score 216.5 avg_score 140.3\n",
      "episode  304 score 248.4 avg_score 140.1\n",
      "episode  305 score 262.7 avg_score 140.4\n",
      "episode  306 score 72.4 avg_score 141.1\n",
      "episode  307 score -185.1 avg_score 137.1\n",
      "episode  308 score 176.4 avg_score 138.6\n",
      "episode  309 score -12.1 avg_score 136.0\n",
      "episode  310 score 239.2 avg_score 136.0\n",
      "episode  311 score 267.9 avg_score 136.7\n",
      "episode  312 score 144.3 avg_score 136.7\n",
      "episode  313 score 186.8 avg_score 139.8\n",
      "episode  314 score 255.8 avg_score 140.1\n",
      "episode  315 score 192.1 avg_score 143.3\n",
      "episode  316 score 225.3 avg_score 143.3\n",
      "episode  317 score 236.2 avg_score 146.5\n",
      "episode  318 score 240.1 avg_score 146.6\n",
      "episode  319 score 228.2 avg_score 149.3\n",
      "episode  320 score 246.4 avg_score 153.2\n",
      "episode  321 score 252.1 avg_score 153.3\n",
      "episode  322 score 196.1 avg_score 152.7\n",
      "episode  323 score -40.5 avg_score 150.0\n",
      "episode  324 score -97.4 avg_score 146.7\n",
      "episode  325 score 199.8 avg_score 147.5\n",
      "episode  326 score 203.0 avg_score 149.1\n",
      "episode  327 score 269.9 avg_score 152.6\n",
      "episode  328 score 229.4 avg_score 155.6\n",
      "episode  329 score 264.4 avg_score 156.1\n",
      "episode  330 score -40.7 avg_score 156.7\n",
      "episode  331 score 61.0 avg_score 154.9\n",
      "episode  332 score 253.2 avg_score 156.6\n",
      "episode  333 score 126.7 avg_score 155.5\n",
      "episode  334 score 162.7 avg_score 155.9\n",
      "episode  335 score -13.4 avg_score 153.1\n",
      "episode  336 score 206.3 avg_score 152.6\n",
      "episode  337 score 268.1 avg_score 155.2\n",
      "episode  338 score 232.1 avg_score 155.1\n",
      "episode  339 score 55.1 avg_score 154.1\n",
      "episode  340 score 239.0 avg_score 154.0\n",
      "episode  341 score 242.8 avg_score 155.9\n",
      "episode  342 score 88.0 avg_score 157.5\n",
      "episode  343 score 31.6 avg_score 158.4\n",
      "episode  344 score 259.9 avg_score 162.0\n",
      "episode  345 score 244.1 avg_score 162.1\n",
      "episode  346 score 233.3 avg_score 162.7\n",
      "episode  347 score 241.9 avg_score 165.2\n",
      "episode  348 score 249.4 avg_score 168.6\n",
      "episode  349 score -24.1 avg_score 166.0\n",
      "episode  350 score 189.1 avg_score 165.5\n",
      "episode  351 score 255.5 avg_score 165.5\n",
      "episode  352 score 66.5 avg_score 163.9\n",
      "episode  353 score -13.3 avg_score 161.2\n",
      "episode  354 score -13.3 avg_score 158.6\n",
      "episode  355 score -124.2 avg_score 154.7\n",
      "episode  356 score 221.0 avg_score 154.4\n",
      "episode  357 score 224.8 avg_score 156.9\n",
      "episode  358 score 238.6 avg_score 158.5\n",
      "episode  359 score 74.1 avg_score 156.8\n",
      "episode  360 score -72.2 avg_score 153.6\n",
      "episode  361 score 200.9 avg_score 156.6\n",
      "episode  362 score 247.5 avg_score 156.8\n",
      "episode  363 score 32.5 avg_score 154.9\n",
      "episode  364 score 263.6 avg_score 158.6\n",
      "episode  365 score 222.3 avg_score 158.2\n",
      "episode  366 score 200.9 avg_score 157.6\n",
      "episode  367 score 216.5 avg_score 157.2\n",
      "episode  368 score 231.9 avg_score 159.3\n",
      "episode  369 score 224.9 avg_score 158.9\n",
      "episode  370 score 249.6 avg_score 159.2\n",
      "episode  371 score -46.0 avg_score 156.0\n",
      "episode  372 score 247.9 avg_score 156.5\n",
      "episode  373 score 81.7 avg_score 156.0\n",
      "episode  374 score 228.8 avg_score 156.0\n",
      "episode  375 score -62.2 avg_score 152.7\n",
      "episode  376 score -152.4 avg_score 148.8\n",
      "episode  377 score 246.1 avg_score 151.1\n",
      "episode  378 score 281.4 avg_score 151.4\n",
      "episode  379 score 266.3 avg_score 151.5\n",
      "episode  380 score -111.3 avg_score 151.1\n",
      "episode  381 score 209.1 avg_score 153.2\n",
      "episode  382 score 249.4 avg_score 153.4\n",
      "episode  383 score 254.1 avg_score 153.4\n",
      "episode  384 score 264.0 avg_score 155.6\n",
      "episode  385 score 18.5 avg_score 153.8\n",
      "episode  386 score 280.0 avg_score 157.5\n",
      "episode  387 score 193.4 avg_score 159.2\n",
      "episode  388 score -127.1 avg_score 155.3\n",
      "episode  389 score 130.8 avg_score 154.1\n",
      "episode  390 score 132.1 avg_score 155.4\n",
      "episode  391 score -20.9 avg_score 155.5\n",
      "episode  392 score 18.6 avg_score 153.4\n",
      "episode  393 score -84.4 avg_score 150.6\n",
      "episode  394 score 55.1 avg_score 148.7\n",
      "episode  395 score 269.9 avg_score 149.1\n",
      "episode  396 score -189.5 avg_score 146.2\n",
      "episode  397 score 142.1 avg_score 149.4\n",
      "episode  398 score -111.3 avg_score 145.5\n",
      "episode  399 score 228.7 avg_score 145.4\n",
      "episode  400 score -129.2 avg_score 141.7\n",
      "episode  401 score 175.2 avg_score 141.5\n",
      "episode  402 score -17.1 avg_score 138.9\n",
      "episode  403 score 268.1 avg_score 139.5\n",
      "episode  404 score 253.6 avg_score 139.5\n",
      "episode  405 score 240.7 avg_score 139.3\n",
      "episode  406 score 225.1 avg_score 140.8\n",
      "episode  407 score -127.1 avg_score 141.4\n",
      "episode  408 score -12.2 avg_score 139.5\n",
      "episode  409 score -186.1 avg_score 137.8\n",
      "episode  410 score 242.8 avg_score 137.8\n",
      "episode  411 score -39.6 avg_score 134.7\n",
      "episode  412 score 221.5 avg_score 135.5\n",
      "episode  413 score 215.5 avg_score 135.8\n",
      "episode  414 score -138.6 avg_score 131.8\n",
      "episode  415 score 221.6 avg_score 132.1\n",
      "episode  416 score 168.0 avg_score 131.6\n",
      "episode  417 score 210.9 avg_score 131.3\n",
      "episode  418 score -94.9 avg_score 128.0\n",
      "episode  419 score 232.1 avg_score 128.0\n",
      "episode  420 score 222.8 avg_score 127.8\n",
      "episode  421 score 275.2 avg_score 128.0\n",
      "episode  422 score -16.5 avg_score 125.9\n",
      "episode  423 score 6.2 avg_score 126.3\n",
      "episode  424 score 216.5 avg_score 129.5\n",
      "episode  425 score 203.0 avg_score 129.5\n",
      "episode  426 score 204.2 avg_score 129.5\n",
      "episode  427 score -22.6 avg_score 126.6\n",
      "episode  428 score 46.6 avg_score 124.8\n",
      "episode  429 score 267.3 avg_score 124.8\n",
      "episode  430 score 239.7 avg_score 127.6\n",
      "episode  431 score 228.8 avg_score 129.3\n",
      "episode  432 score 31.1 avg_score 127.1\n",
      "episode  433 score -173.8 avg_score 124.1\n",
      "episode  434 score 213.0 avg_score 124.6\n",
      "episode  435 score -91.4 avg_score 123.8\n",
      "episode  436 score 34.4 avg_score 122.1\n",
      "episode  437 score -98.0 avg_score 118.4\n",
      "episode  438 score -62.5 avg_score 115.5\n",
      "episode  439 score 210.9 avg_score 117.0\n",
      "episode  440 score -168.6 avg_score 112.9\n",
      "episode  441 score 204.9 avg_score 112.6\n",
      "episode  442 score 233.6 avg_score 114.0\n",
      "episode  443 score 246.0 avg_score 116.2\n",
      "episode  444 score -14.6 avg_score 113.4\n",
      "episode  445 score 0.5 avg_score 111.0\n",
      "episode  446 score -72.2 avg_score 107.9\n",
      "episode  447 score 209.1 avg_score 107.6\n",
      "episode  448 score 229.0 avg_score 107.4\n",
      "episode  449 score 15.1 avg_score 107.8\n",
      "episode  450 score -13.3 avg_score 105.8\n",
      "episode  451 score -138.6 avg_score 101.8\n",
      "episode  452 score 258.1 avg_score 103.7\n",
      "episode  453 score 182.8 avg_score 105.7\n",
      "episode  454 score 97.4 avg_score 106.8\n",
      "episode  455 score 223.6 avg_score 110.3\n",
      "episode  456 score -132.9 avg_score 106.7\n",
      "episode  457 score -48.6 avg_score 104.0\n",
      "episode  458 score 186.3 avg_score 103.5\n",
      "episode  459 score 239.7 avg_score 105.1\n",
      "episode  460 score -47.3 avg_score 105.4\n",
      "episode  461 score 228.1 avg_score 105.7\n",
      "episode  462 score 264.0 avg_score 105.8\n",
      "episode  463 score 248.6 avg_score 108.0\n",
      "episode  464 score -185.1 avg_score 103.5\n",
      "episode  465 score 186.8 avg_score 103.1\n",
      "episode  466 score -168.6 avg_score 99.4\n",
      "episode  467 score 36.9 avg_score 97.7\n",
      "episode  468 score 261.7 avg_score 97.9\n",
      "episode  469 score 204.2 avg_score 97.7\n",
      "episode  470 score 261.1 avg_score 97.9\n",
      "episode  471 score 261.8 avg_score 100.9\n",
      "episode  472 score 184.5 avg_score 100.3\n",
      "episode  473 score 138.5 avg_score 100.9\n",
      "episode  474 score 242.8 avg_score 101.0\n",
      "episode  475 score 127.2 avg_score 102.9\n",
      "episode  476 score 185.9 avg_score 106.3\n",
      "episode  477 score 205.6 avg_score 105.9\n",
      "episode  478 score 30.0 avg_score 103.4\n",
      "episode  479 score 166.4 avg_score 102.4\n",
      "episode  480 score 239.7 avg_score 105.9\n",
      "episode  481 score 179.7 avg_score 105.6\n",
      "episode  482 score -187.4 avg_score 101.2\n",
      "episode  483 score -64.8 avg_score 98.0\n",
      "episode  484 score 248.6 avg_score 97.9\n",
      "episode  485 score -30.9 avg_score 97.4\n",
      "episode  486 score 216.9 avg_score 96.7\n",
      "episode  487 score 242.6 avg_score 97.2\n",
      "episode  488 score 52.1 avg_score 99.0\n",
      "episode  489 score 283.0 avg_score 100.6\n",
      "episode  490 score 216.3 avg_score 101.4\n",
      "episode  491 score 267.3 avg_score 104.3\n",
      "episode  492 score 201.9 avg_score 106.1\n",
      "episode  493 score 231.3 avg_score 109.3\n",
      "episode  494 score 221.8 avg_score 110.9\n",
      "episode  495 score 205.6 avg_score 110.3\n",
      "episode  496 score 248.6 avg_score 114.7\n",
      "episode  497 score -139.5 avg_score 111.9\n",
      "episode  498 score 192.1 avg_score 114.9\n",
      "episode  499 score -147.5 avg_score 111.1\n",
      "episode  500 score 199.4 avg_score 114.4\n",
      "episode  501 score -12.1 avg_score 112.5\n",
      "episode  502 score 210.9 avg_score 114.8\n",
      "episode  503 score 245.4 avg_score 114.6\n",
      "episode  504 score 272.1 avg_score 114.8\n",
      "episode  505 score 229.1 avg_score 114.7\n",
      "episode  506 score 229.8 avg_score 114.7\n",
      "episode  507 score 184.0 avg_score 117.8\n",
      "episode  508 score -24.1 avg_score 117.7\n",
      "episode  509 score 256.6 avg_score 122.1\n",
      "episode  510 score 243.8 avg_score 122.1\n",
      "episode  511 score 221.0 avg_score 124.7\n",
      "episode  512 score 142.6 avg_score 124.0\n",
      "episode  513 score 76.2 avg_score 122.6\n",
      "episode  514 score 189.3 avg_score 125.8\n",
      "episode  515 score 199.5 avg_score 125.6\n",
      "episode  516 score 184.8 avg_score 125.8\n",
      "episode  517 score 192.3 avg_score 125.6\n",
      "episode  518 score 263.8 avg_score 129.2\n",
      "episode  519 score 220.5 avg_score 129.1\n",
      "episode  520 score 189.1 avg_score 128.7\n",
      "episode  521 score 41.0 avg_score 126.4\n",
      "episode  522 score 243.9 avg_score 129.0\n",
      "episode  523 score 266.3 avg_score 131.6\n",
      "episode  524 score 224.9 avg_score 131.7\n",
      "episode  525 score 250.9 avg_score 132.2\n",
      "episode  526 score 238.6 avg_score 132.5\n",
      "episode  527 score -30.9 avg_score 132.4\n",
      "episode  528 score 120.4 avg_score 133.2\n",
      "episode  529 score 235.6 avg_score 132.8\n",
      "episode  530 score 246.8 avg_score 132.9\n",
      "episode  531 score 199.6 avg_score 132.6\n",
      "episode  532 score 205.4 avg_score 134.4\n",
      "episode  533 score 257.9 avg_score 138.7\n",
      "episode  534 score 266.7 avg_score 139.2\n",
      "episode  535 score 269.9 avg_score 142.8\n",
      "episode  536 score 267.3 avg_score 145.2\n",
      "episode  537 score 253.8 avg_score 148.7\n",
      "episode  538 score 93.9 avg_score 150.2\n",
      "episode  539 score -25.1 avg_score 147.9\n",
      "episode  540 score 202.3 avg_score 151.6\n",
      "episode  541 score 214.0 avg_score 151.7\n",
      "episode  542 score 272.9 avg_score 152.1\n",
      "episode  543 score 206.3 avg_score 151.7\n",
      "episode  544 score 232.2 avg_score 154.2\n",
      "episode  545 score 254.2 avg_score 156.7\n",
      "episode  546 score 112.5 avg_score 158.5\n",
      "episode  547 score 279.0 avg_score 159.2\n",
      "episode  548 score 148.5 avg_score 158.4\n",
      "episode  549 score 88.3 avg_score 159.2\n",
      "episode  550 score 196.9 avg_score 161.3\n",
      "episode  551 score 266.1 avg_score 165.3\n",
      "episode  552 score 236.2 avg_score 165.1\n",
      "episode  553 score 162.7 avg_score 164.9\n",
      "episode  554 score 257.0 avg_score 166.5\n",
      "episode  555 score 34.4 avg_score 164.6\n",
      "episode  556 score -186.1 avg_score 164.1\n",
      "episode  557 score 209.0 avg_score 166.6\n",
      "episode  558 score 214.3 avg_score 166.9\n",
      "episode  559 score 277.5 avg_score 167.3\n",
      "episode  560 score 144.8 avg_score 169.2\n",
      "episode  561 score -145.8 avg_score 165.5\n",
      "episode  562 score -142.8 avg_score 161.4\n",
      "episode  563 score 164.7 avg_score 160.6\n",
      "episode  564 score 102.0 avg_score 163.4\n",
      "episode  565 score 221.8 avg_score 163.8\n",
      "episode  566 score -40.3 avg_score 165.1\n",
      "episode  567 score 226.2 avg_score 167.0\n",
      "episode  568 score -118.0 avg_score 163.2\n",
      "episode  569 score 199.6 avg_score 163.1\n",
      "episode  570 score 73.4 avg_score 161.2\n",
      "episode  571 score 201.5 avg_score 160.6\n",
      "episode  572 score 243.0 avg_score 161.2\n",
      "episode  573 score 236.1 avg_score 162.2\n",
      "episode  574 score 201.5 avg_score 161.8\n",
      "episode  575 score 39.5 avg_score 160.9\n",
      "episode  576 score -76.8 avg_score 158.3\n",
      "episode  577 score 253.2 avg_score 158.8\n",
      "episode  578 score 211.8 avg_score 160.6\n",
      "episode  579 score 0.0 avg_score 158.9\n",
      "episode  580 score 252.7 avg_score 159.0\n",
      "episode  581 score 140.1 avg_score 158.7\n",
      "episode  582 score -92.3 avg_score 159.6\n",
      "episode  583 score 262.1 avg_score 162.9\n",
      "episode  584 score 242.1 avg_score 162.8\n",
      "episode  585 score 97.6 avg_score 164.1\n",
      "episode  586 score -62.3 avg_score 161.3\n",
      "episode  587 score 239.9 avg_score 161.3\n",
      "episode  588 score 98.7 avg_score 161.7\n",
      "episode  589 score -161.4 avg_score 157.3\n",
      "episode  590 score 215.7 avg_score 157.3\n",
      "episode  591 score 201.6 avg_score 156.6\n",
      "episode  592 score 250.9 avg_score 157.1\n",
      "episode  593 score -16.5 avg_score 154.6\n",
      "episode  594 score -66.0 avg_score 151.8\n",
      "episode  595 score 198.8 avg_score 151.7\n",
      "episode  596 score 201.2 avg_score 151.2\n",
      "episode  597 score 142.3 avg_score 154.0\n",
      "episode  598 score 102.0 avg_score 153.1\n",
      "episode  599 score 71.1 avg_score 155.3\n",
      "episode  600 score 228.1 avg_score 155.6\n",
      "episode  601 score 229.6 avg_score 158.0\n",
      "episode  602 score 260.8 avg_score 158.5\n",
      "episode  603 score 267.9 avg_score 158.8\n",
      "episode  604 score 109.7 avg_score 157.1\n",
      "episode  605 score 244.3 avg_score 157.3\n",
      "episode  606 score 211.0 avg_score 157.1\n",
      "episode  607 score 175.2 avg_score 157.0\n",
      "episode  608 score 115.4 avg_score 158.4\n",
      "episode  609 score 97.9 avg_score 156.8\n",
      "episode  610 score 247.0 avg_score 156.8\n",
      "episode  611 score 223.9 avg_score 156.9\n",
      "episode  612 score 243.0 avg_score 157.9\n",
      "episode  613 score -92.3 avg_score 156.2\n",
      "episode  614 score 266.8 avg_score 157.0\n",
      "episode  615 score 0.0 avg_score 155.0\n",
      "episode  616 score 199.8 avg_score 155.1\n",
      "episode  617 score 91.1 avg_score 154.1\n",
      "episode  618 score 223.6 avg_score 153.7\n",
      "episode  619 score 202.7 avg_score 153.5\n",
      "episode  620 score 98.7 avg_score 152.6\n",
      "episode  621 score 227.6 avg_score 154.5\n",
      "episode  622 score -143.1 avg_score 150.6\n",
      "episode  623 score 246.1 avg_score 150.4\n",
      "episode  624 score 246.7 avg_score 150.6\n",
      "episode  625 score 242.6 avg_score 150.6\n",
      "episode  626 score 235.9 avg_score 150.5\n",
      "episode  627 score 137.4 avg_score 152.2\n",
      "episode  628 score 256.7 avg_score 153.6\n",
      "episode  629 score 210.6 avg_score 153.3\n",
      "episode  630 score 235.6 avg_score 153.2\n",
      "episode  631 score -105.0 avg_score 150.2\n",
      "episode  632 score 222.6 avg_score 150.3\n",
      "episode  633 score 35.5 avg_score 148.1\n",
      "episode  634 score 200.6 avg_score 147.5\n",
      "episode  635 score 237.4 avg_score 147.1\n",
      "episode  636 score 264.3 avg_score 147.1\n",
      "episode  637 score 253.1 avg_score 147.1\n",
      "episode  638 score 242.0 avg_score 148.6\n",
      "episode  639 score 199.6 avg_score 150.8\n",
      "episode  640 score 233.0 avg_score 151.1\n",
      "episode  641 score 253.5 avg_score 151.5\n",
      "episode  642 score 238.1 avg_score 151.2\n",
      "episode  643 score 234.3 avg_score 151.5\n",
      "episode  644 score 235.3 avg_score 151.5\n",
      "episode  645 score 252.9 avg_score 151.5\n",
      "episode  646 score 81.7 avg_score 151.2\n",
      "episode  647 score 277.7 avg_score 151.2\n",
      "episode  648 score 189.3 avg_score 151.6\n",
      "episode  649 score 212.5 avg_score 152.8\n",
      "episode  650 score -193.4 avg_score 148.9\n",
      "episode  651 score 222.8 avg_score 148.5\n",
      "episode  652 score 227.1 avg_score 148.4\n",
      "episode  653 score 234.7 avg_score 149.1\n",
      "episode  654 score 71.1 avg_score 147.2\n",
      "episode  655 score 222.5 avg_score 149.1\n",
      "episode  656 score 253.2 avg_score 153.5\n",
      "episode  657 score 174.3 avg_score 153.2\n",
      "episode  658 score 221.0 avg_score 153.2\n",
      "episode  659 score -113.4 avg_score 149.3\n",
      "episode  660 score 241.6 avg_score 150.3\n",
      "episode  661 score 45.6 avg_score 152.2\n",
      "episode  662 score -72.0 avg_score 152.9\n",
      "episode  663 score 216.0 avg_score 153.4\n",
      "episode  664 score 55.1 avg_score 153.0\n",
      "episode  665 score 172.4 avg_score 152.5\n",
      "episode  666 score 256.2 avg_score 155.4\n",
      "episode  667 score -119.2 avg_score 152.0\n",
      "episode  668 score 225.3 avg_score 155.4\n",
      "episode  669 score 169.8 avg_score 155.1\n",
      "episode  670 score 244.7 avg_score 156.8\n",
      "episode  671 score 208.7 avg_score 156.9\n",
      "episode  672 score 234.6 avg_score 156.8\n",
      "episode  673 score 161.6 avg_score 156.1\n",
      "episode  674 score 240.7 avg_score 156.5\n",
      "episode  675 score 205.4 avg_score 158.1\n",
      "episode  676 score -72.6 avg_score 158.2\n",
      "episode  677 score 229.6 avg_score 157.9\n",
      "episode  678 score 210.4 avg_score 157.9\n",
      "episode  679 score 279.2 avg_score 160.7\n",
      "episode  680 score 235.3 avg_score 160.5\n",
      "episode  681 score 102.6 avg_score 160.2\n",
      "episode  682 score -89.1 avg_score 160.2\n",
      "episode  683 score -30.5 avg_score 157.3\n",
      "episode  684 score 161.6 avg_score 156.5\n",
      "episode  685 score -145.8 avg_score 154.0\n",
      "episode  686 score 41.1 avg_score 155.1\n",
      "episode  687 score 224.7 avg_score 154.9\n",
      "episode  688 score 167.7 avg_score 155.6\n",
      "episode  689 score 240.7 avg_score 159.6\n",
      "episode  690 score 243.8 avg_score 159.9\n",
      "episode  691 score -107.2 avg_score 156.8\n",
      "episode  692 score 142.8 avg_score 155.7\n",
      "episode  693 score 219.2 avg_score 158.1\n",
      "episode  694 score 18.2 avg_score 158.9\n",
      "episode  695 score -48.6 avg_score 156.4\n",
      "episode  696 score 254.0 avg_score 157.0\n",
      "episode  697 score 213.9 avg_score 157.7\n",
      "episode  698 score -4.5 avg_score 156.6\n",
      "episode  699 score 109.7 avg_score 157.0\n",
      "episode  700 score -12.4 avg_score 154.6\n",
      "episode  701 score 216.9 avg_score 154.5\n",
      "episode  702 score -40.1 avg_score 151.5\n",
      "episode  703 score 220.2 avg_score 151.0\n",
      "episode  704 score 249.4 avg_score 152.4\n",
      "episode  705 score 164.8 avg_score 151.6\n",
      "episode  706 score 232.2 avg_score 151.8\n",
      "episode  707 score -92.3 avg_score 149.1\n",
      "episode  708 score -74.5 avg_score 147.2\n",
      "episode  709 score 196.5 avg_score 148.2\n",
      "episode  710 score 134.7 avg_score 147.1\n",
      "episode  711 score 199.6 avg_score 146.9\n",
      "episode  712 score -179.8 avg_score 142.6\n",
      "episode  713 score 201.6 avg_score 145.6\n",
      "episode  714 score 140.2 avg_score 144.3\n",
      "episode  715 score -188.4 avg_score 142.4\n",
      "episode  716 score -47.4 avg_score 139.9\n",
      "episode  717 score 234.1 avg_score 141.4\n",
      "episode  718 score 246.5 avg_score 141.6\n",
      "episode  719 score 250.7 avg_score 142.1\n",
      "episode  720 score 207.6 avg_score 143.2\n",
      "episode  721 score 231.6 avg_score 143.2\n",
      "episode  722 score 201.6 avg_score 146.7\n",
      "episode  723 score 187.0 avg_score 146.1\n",
      "episode  724 score 148.5 avg_score 145.1\n",
      "episode  725 score 205.9 avg_score 144.7\n",
      "episode  726 score 221.3 avg_score 144.6\n",
      "episode  727 score -53.0 avg_score 142.7\n",
      "episode  728 score 256.7 avg_score 142.7\n",
      "episode  729 score 249.7 avg_score 143.1\n",
      "episode  730 score 233.3 avg_score 143.0\n",
      "episode  731 score -20.7 avg_score 143.9\n",
      "episode  732 score 45.6 avg_score 142.1\n",
      "episode  733 score 225.3 avg_score 144.0\n",
      "episode  734 score 200.6 avg_score 144.0\n",
      "episode  735 score 235.6 avg_score 144.0\n",
      "episode  736 score 245.9 avg_score 143.8\n",
      "episode  737 score 251.0 avg_score 143.8\n",
      "episode  738 score 193.8 avg_score 143.3\n",
      "episode  739 score 222.5 avg_score 143.5\n",
      "episode  740 score 196.1 avg_score 143.2\n",
      "episode  741 score 242.6 avg_score 143.0\n",
      "episode  742 score 228.1 avg_score 142.9\n",
      "episode  743 score 233.3 avg_score 142.9\n",
      "episode  744 score 230.5 avg_score 142.9\n",
      "episode  745 score 187.0 avg_score 142.2\n",
      "episode  746 score -124.2 avg_score 140.2\n",
      "episode  747 score -81.9 avg_score 136.6\n",
      "episode  748 score 141.7 avg_score 136.1\n",
      "episode  749 score 236.2 avg_score 136.3\n",
      "episode  750 score 119.5 avg_score 139.5\n",
      "episode  751 score -72.0 avg_score 136.5\n",
      "episode  752 score 228.8 avg_score 136.5\n",
      "episode  753 score 250.7 avg_score 136.7\n",
      "episode  754 score 164.9 avg_score 137.6\n",
      "episode  755 score 254.4 avg_score 138.0\n",
      "episode  756 score 167.1 avg_score 137.1\n",
      "episode  757 score 270.2 avg_score 138.1\n",
      "episode  758 score 265.1 avg_score 138.5\n",
      "episode  759 score 269.3 avg_score 142.3\n",
      "episode  760 score 49.6 avg_score 140.4\n",
      "episode  761 score 227.9 avg_score 142.2\n",
      "episode  762 score 239.3 avg_score 145.3\n",
      "episode  763 score 268.6 avg_score 145.9\n",
      "episode  764 score 236.6 avg_score 147.7\n",
      "episode  765 score 221.0 avg_score 148.2\n",
      "episode  766 score 42.6 avg_score 146.0\n",
      "episode  767 score 260.8 avg_score 149.8\n",
      "episode  768 score 150.5 avg_score 149.1\n",
      "episode  769 score -136.3 avg_score 146.0\n",
      "episode  770 score 224.7 avg_score 145.8\n",
      "episode  771 score 220.2 avg_score 145.9\n",
      "episode  772 score 224.2 avg_score 145.8\n",
      "episode  773 score 226.2 avg_score 146.5\n",
      "episode  774 score 249.6 avg_score 146.6\n",
      "episode  775 score 229.3 avg_score 146.8\n",
      "episode  776 score 227.9 avg_score 149.8\n",
      "episode  777 score -86.2 avg_score 146.6\n",
      "episode  778 score 266.5 avg_score 147.2\n",
      "episode  779 score 49.9 avg_score 144.9\n",
      "episode  780 score 258.2 avg_score 145.1\n",
      "episode  781 score 254.4 avg_score 146.7\n",
      "episode  782 score 234.3 avg_score 149.9\n",
      "episode  783 score -54.8 avg_score 149.7\n",
      "episode  784 score 92.6 avg_score 149.0\n",
      "episode  785 score 243.1 avg_score 152.9\n",
      "episode  786 score 253.6 avg_score 155.0\n",
      "episode  787 score -110.0 avg_score 151.6\n",
      "episode  788 score 204.5 avg_score 152.0\n",
      "episode  789 score -23.1 avg_score 149.4\n",
      "episode  790 score 247.8 avg_score 149.4\n",
      "episode  791 score -69.8 avg_score 149.8\n",
      "episode  792 score -29.4 avg_score 148.1\n",
      "episode  793 score 186.9 avg_score 147.7\n",
      "episode  794 score 196.3 avg_score 149.5\n",
      "episode  795 score -19.2 avg_score 149.8\n",
      "episode  796 score 211.0 avg_score 149.4\n",
      "episode  797 score 239.0 avg_score 149.6\n",
      "episode  798 score -27.5 avg_score 149.4\n",
      "episode  799 score 262.6 avg_score 150.9\n",
      "episode  800 score 249.8 avg_score 153.5\n",
      "episode  801 score -84.4 avg_score 150.5\n",
      "episode  802 score 198.8 avg_score 152.9\n",
      "episode  803 score 235.3 avg_score 153.1\n",
      "episode  804 score -52.5 avg_score 150.1\n",
      "episode  805 score 237.4 avg_score 150.8\n",
      "episode  806 score 249.4 avg_score 151.0\n",
      "episode  807 score 237.5 avg_score 154.3\n",
      "episode  808 score 214.1 avg_score 157.1\n",
      "episode  809 score 235.0 avg_score 157.5\n",
      "episode  810 score 231.1 avg_score 158.5\n",
      "episode  811 score 236.6 avg_score 158.9\n",
      "episode  812 score 24.4 avg_score 160.9\n",
      "episode  813 score 224.8 avg_score 161.1\n",
      "episode  814 score -97.4 avg_score 158.8\n",
      "episode  815 score 224.0 avg_score 162.9\n",
      "episode  816 score 204.2 avg_score 165.4\n",
      "episode  817 score -123.5 avg_score 161.8\n",
      "episode  818 score 196.1 avg_score 161.3\n",
      "episode  819 score 231.3 avg_score 161.1\n",
      "episode  820 score 228.8 avg_score 161.3\n",
      "episode  821 score 176.4 avg_score 160.8\n",
      "episode  822 score -61.5 avg_score 158.1\n",
      "episode  823 score -129.2 avg_score 155.0\n",
      "episode  824 score 222.0 avg_score 155.7\n",
      "episode  825 score 109.2 avg_score 154.8\n",
      "episode  826 score 224.2 avg_score 154.8\n",
      "episode  827 score -186.1 avg_score 153.5\n",
      "episode  828 score 196.1 avg_score 152.8\n",
      "episode  829 score 248.7 avg_score 152.8\n",
      "episode  830 score 34.4 avg_score 150.8\n",
      "episode  831 score 237.4 avg_score 153.4\n",
      "episode  832 score 243.7 avg_score 155.4\n",
      "episode  833 score 175.2 avg_score 154.9\n",
      "episode  834 score 72.4 avg_score 153.6\n",
      "episode  835 score -24.2 avg_score 151.0\n",
      "episode  836 score 41.0 avg_score 149.0\n",
      "episode  837 score 208.4 avg_score 148.6\n",
      "episode  838 score 222.7 avg_score 148.8\n",
      "episode  839 score 199.6 avg_score 148.6\n",
      "episode  840 score 229.3 avg_score 148.9\n",
      "episode  841 score 229.3 avg_score 148.8\n",
      "episode  842 score -47.2 avg_score 146.1\n",
      "episode  843 score -11.3 avg_score 143.6\n",
      "episode  844 score -190.5 avg_score 139.4\n",
      "episode  845 score -147.5 avg_score 136.1\n",
      "episode  846 score 150.0 avg_score 138.8\n",
      "episode  847 score 30.5 avg_score 139.9\n",
      "episode  848 score 270.3 avg_score 141.2\n",
      "episode  849 score 189.3 avg_score 140.7\n",
      "episode  850 score 31.6 avg_score 139.9\n",
      "episode  851 score -193.4 avg_score 138.7\n",
      "episode  852 score -92.3 avg_score 135.4\n",
      "episode  853 score 235.3 avg_score 135.3\n",
      "episode  854 score 186.9 avg_score 135.5\n",
      "episode  855 score 152.0 avg_score 134.5\n",
      "episode  856 score 142.6 avg_score 134.2\n",
      "episode  857 score -97.4 avg_score 130.6\n",
      "episode  858 score 243.5 avg_score 130.3\n",
      "episode  859 score 240.0 avg_score 130.1\n",
      "episode  860 score 266.0 avg_score 132.2\n",
      "episode  861 score -148.2 avg_score 128.5\n",
      "episode  862 score 213.2 avg_score 128.2\n",
      "episode  863 score 239.3 avg_score 127.9\n",
      "episode  864 score 255.1 avg_score 128.1\n",
      "episode  865 score 25.8 avg_score 126.1\n",
      "episode  866 score 267.3 avg_score 128.4\n",
      "episode  867 score 238.8 avg_score 128.2\n",
      "episode  868 score 52.9 avg_score 127.2\n",
      "episode  869 score 249.4 avg_score 131.0\n",
      "episode  870 score 254.8 avg_score 131.3\n",
      "episode  871 score -84.4 avg_score 128.3\n",
      "episode  872 score 76.5 avg_score 126.8\n",
      "episode  873 score 265.4 avg_score 127.2\n",
      "episode  874 score 188.8 avg_score 126.6\n",
      "episode  875 score 199.1 avg_score 126.3\n",
      "episode  876 score 258.1 avg_score 126.6\n",
      "episode  877 score -122.2 avg_score 126.2\n",
      "episode  878 score -186.7 avg_score 121.7\n",
      "episode  879 score 181.7 avg_score 123.0\n",
      "episode  880 score -90.6 avg_score 119.5\n",
      "episode  881 score 231.5 avg_score 119.3\n",
      "episode  882 score 182.9 avg_score 118.8\n",
      "episode  883 score -28.5 avg_score 119.1\n",
      "episode  884 score 212.4 avg_score 120.3\n",
      "episode  885 score -40.6 avg_score 117.4\n",
      "episode  886 score 265.5 avg_score 117.5\n",
      "episode  887 score -162.6 avg_score 117.0\n",
      "episode  888 score -120.5 avg_score 113.8\n",
      "episode  889 score -72.0 avg_score 113.3\n",
      "episode  890 score -49.0 avg_score 110.3\n",
      "episode  891 score 256.1 avg_score 113.6\n",
      "episode  892 score 11.5 avg_score 114.0\n",
      "episode  893 score 216.4 avg_score 114.3\n",
      "episode  894 score 127.2 avg_score 113.6\n",
      "episode  895 score 104.7 avg_score 114.8\n",
      "episode  896 score 243.3 avg_score 115.1\n",
      "episode  897 score 178.2 avg_score 114.5\n",
      "episode  898 score 15.1 avg_score 115.0\n",
      "episode  899 score 270.0 avg_score 115.0\n",
      "episode  900 score 178.3 avg_score 114.3\n",
      "episode  901 score -159.2 avg_score 113.6\n",
      "episode  902 score -139.5 avg_score 110.2\n",
      "episode  903 score 235.6 avg_score 110.2\n",
      "episode  904 score 254.0 avg_score 113.3\n",
      "episode  905 score 251.9 avg_score 113.4\n",
      "episode  906 score 188.8 avg_score 112.8\n",
      "episode  907 score -143.2 avg_score 109.0\n",
      "episode  908 score 279.2 avg_score 109.6\n",
      "episode  909 score 210.6 avg_score 109.4\n",
      "episode  910 score 263.1 avg_score 109.7\n",
      "episode  911 score 221.5 avg_score 109.6\n",
      "episode  912 score 243.2 avg_score 111.8\n",
      "episode  913 score 238.5 avg_score 111.9\n",
      "episode  914 score -12.2 avg_score 112.7\n",
      "episode  915 score 92.6 avg_score 111.4\n",
      "episode  916 score -76.8 avg_score 108.6\n",
      "episode  917 score 242.8 avg_score 112.3\n",
      "episode  918 score 258.7 avg_score 112.9\n",
      "episode  919 score 186.6 avg_score 112.5\n",
      "episode  920 score -145.8 avg_score 108.7\n",
      "episode  921 score 239.7 avg_score 109.3\n",
      "episode  922 score 264.0 avg_score 112.6\n",
      "episode  923 score 251.7 avg_score 116.4\n",
      "episode  924 score 240.0 avg_score 116.6\n",
      "episode  925 score 147.6 avg_score 117.0\n",
      "episode  926 score 112.7 avg_score 115.9\n",
      "episode  927 score 205.4 avg_score 119.8\n",
      "episode  928 score 257.2 avg_score 120.4\n",
      "episode  929 score 235.0 avg_score 120.3\n",
      "episode  930 score 7.7 avg_score 120.0\n",
      "episode  931 score 263.9 avg_score 120.2\n",
      "episode  932 score 245.9 avg_score 120.3\n",
      "episode  933 score 254.9 avg_score 121.1\n",
      "episode  934 score 197.7 avg_score 122.3\n",
      "episode  935 score 270.3 avg_score 125.3\n",
      "episode  936 score 248.0 avg_score 127.3\n",
      "episode  937 score 252.0 avg_score 127.8\n",
      "episode  938 score 244.6 avg_score 128.0\n",
      "episode  939 score 0.0 avg_score 126.0\n",
      "episode  940 score 224.9 avg_score 126.0\n",
      "episode  941 score -58.4 avg_score 123.1\n",
      "episode  942 score 244.1 avg_score 126.0\n",
      "episode  943 score 265.2 avg_score 128.8\n",
      "episode  944 score 209.0 avg_score 132.7\n",
      "episode  945 score 247.6 avg_score 136.7\n",
      "episode  946 score -54.8 avg_score 134.6\n",
      "episode  947 score 202.9 avg_score 136.4\n",
      "episode  948 score 149.7 avg_score 135.2\n",
      "episode  949 score -35.0 avg_score 132.9\n",
      "episode  950 score 186.4 avg_score 134.5\n",
      "episode  951 score 231.7 avg_score 138.7\n",
      "episode  952 score 49.6 avg_score 140.1\n",
      "episode  953 score 142.6 avg_score 139.2\n",
      "episode  954 score -94.2 avg_score 136.4\n",
      "episode  955 score 167.5 avg_score 136.6\n",
      "episode  956 score -145.8 avg_score 133.7\n",
      "episode  957 score 3.6 avg_score 134.7\n",
      "episode  958 score 245.5 avg_score 134.7\n",
      "episode  959 score 206.3 avg_score 134.4\n",
      "episode  960 score 256.4 avg_score 134.3\n",
      "episode  961 score 213.0 avg_score 137.9\n",
      "episode  962 score -159.2 avg_score 134.2\n",
      "episode  963 score 243.9 avg_score 134.2\n",
      "episode  964 score -66.0 avg_score 131.0\n",
      "episode  965 score 250.2 avg_score 133.2\n",
      "episode  966 score 247.3 avg_score 133.0\n",
      "episode  967 score 258.0 avg_score 133.2\n",
      "episode  968 score 212.5 avg_score 134.8\n",
      "episode  969 score 244.8 avg_score 134.8\n",
      "episode  970 score 190.7 avg_score 134.1\n",
      "episode  971 score 238.2 avg_score 137.4\n",
      "episode  972 score 229.4 avg_score 138.9\n",
      "episode  973 score 268.9 avg_score 138.9\n",
      "episode  974 score 224.7 avg_score 139.3\n",
      "episode  975 score 18.5 avg_score 137.5\n",
      "episode  976 score 254.3 avg_score 137.4\n",
      "episode  977 score -182.9 avg_score 136.8\n",
      "episode  978 score 260.8 avg_score 141.3\n",
      "episode  979 score 0.0 avg_score 139.5\n",
      "episode  980 score 187.0 avg_score 142.3\n",
      "episode  981 score -111.3 avg_score 138.8\n",
      "episode  982 score -17.1 avg_score 136.8\n",
      "episode  983 score 196.2 avg_score 139.1\n",
      "episode  984 score -138.6 avg_score 135.6\n",
      "episode  985 score 125.5 avg_score 137.2\n",
      "episode  986 score 225.1 avg_score 136.8\n",
      "episode  987 score 196.4 avg_score 140.4\n",
      "episode  988 score 241.9 avg_score 144.1\n",
      "episode  989 score 156.7 avg_score 146.3\n",
      "episode  990 score 150.2 avg_score 148.3\n",
      "episode  991 score 196.1 avg_score 147.7\n",
      "episode  992 score 0.0 avg_score 147.6\n",
      "episode  993 score 172.8 avg_score 147.2\n",
      "episode  994 score 256.4 avg_score 148.5\n",
      "episode  995 score 230.5 avg_score 149.7\n",
      "episode  996 score -72.0 avg_score 146.6\n",
      "episode  997 score 4.0 avg_score 144.8\n",
      "episode  998 score 226.7 avg_score 147.0\n",
      "episode  999 score 25.8 avg_score 144.5\n"
     ]
    }
   ],
   "source": [
    "reward_history = []\n",
    "\n",
    "if load_checkpoint:\n",
    "    agent.load_models()\n",
    "\n",
    "for i in range(n_games):\n",
    "    observation = env.reset()\n",
    "    done = False\n",
    "    score = 0\n",
    "\n",
    "    while not done:\n",
    "\n",
    "        action = agent.choose_action(observation)\n",
    "\n",
    "        observation_next, reward, done, _ = env.step(action)\n",
    "        score += reward\n",
    "        if not load_checkpoint:\n",
    "            agent.update(observation, reward, observation_next, done)\n",
    "        observation = observation_next\n",
    "\n",
    "    score_history.append(score)\n",
    "    avg_score = np.mean(score_history[-100:])\n",
    "\n",
    "    if avg_score > best_score:\n",
    "        best_score = avg_score\n",
    "        if not load_checkpoint:\n",
    "            agent.save_models()\n",
    "\n",
    "    print('episode ', i, 'score %.1f' % score, 'avg_score %.1f' % avg_score)"
   ],
   "metadata": {
    "collapsed": false,
    "ExecuteTime": {
     "end_time": "2023-05-15T15:46:17.018175Z",
     "start_time": "2023-05-15T15:45:49.636109Z"
    }
   }
  },
  {
   "cell_type": "code",
   "execution_count": 453,
   "outputs": [
    {
     "data": {
      "text/plain": "             reward  market price     bid price  bid volume\ncount  24553.000000  24553.000000  24553.000000     24553.0\nmean       6.104382    121.564164     15.444874       200.0\nstd        6.344194    121.357754     16.084363         0.0\nmin       -8.725200    -83.940000      0.000000       200.0\n25%        6.082200     37.740000     14.000000       200.0\n50%        9.105000     80.380000     14.000000       200.0\n75%       10.197100    169.490000     14.000000       200.0\nmax       12.026900    871.000000    343.000000       200.0",
      "text/html": "<div>\n<style scoped>\n    .dataframe tbody tr th:only-of-type {\n        vertical-align: middle;\n    }\n\n    .dataframe tbody tr th {\n        vertical-align: top;\n    }\n\n    .dataframe thead th {\n        text-align: right;\n    }\n</style>\n<table border=\"1\" class=\"dataframe\">\n  <thead>\n    <tr style=\"text-align: right;\">\n      <th></th>\n      <th>reward</th>\n      <th>market price</th>\n      <th>bid price</th>\n      <th>bid volume</th>\n    </tr>\n  </thead>\n  <tbody>\n    <tr>\n      <th>count</th>\n      <td>24553.000000</td>\n      <td>24553.000000</td>\n      <td>24553.000000</td>\n      <td>24553.0</td>\n    </tr>\n    <tr>\n      <th>mean</th>\n      <td>6.104382</td>\n      <td>121.564164</td>\n      <td>15.444874</td>\n      <td>200.0</td>\n    </tr>\n    <tr>\n      <th>std</th>\n      <td>6.344194</td>\n      <td>121.357754</td>\n      <td>16.084363</td>\n      <td>0.0</td>\n    </tr>\n    <tr>\n      <th>min</th>\n      <td>-8.725200</td>\n      <td>-83.940000</td>\n      <td>0.000000</td>\n      <td>200.0</td>\n    </tr>\n    <tr>\n      <th>25%</th>\n      <td>6.082200</td>\n      <td>37.740000</td>\n      <td>14.000000</td>\n      <td>200.0</td>\n    </tr>\n    <tr>\n      <th>50%</th>\n      <td>9.105000</td>\n      <td>80.380000</td>\n      <td>14.000000</td>\n      <td>200.0</td>\n    </tr>\n    <tr>\n      <th>75%</th>\n      <td>10.197100</td>\n      <td>169.490000</td>\n      <td>14.000000</td>\n      <td>200.0</td>\n    </tr>\n    <tr>\n      <th>max</th>\n      <td>12.026900</td>\n      <td>871.000000</td>\n      <td>343.000000</td>\n      <td>200.0</td>\n    </tr>\n  </tbody>\n</table>\n</div>"
     },
     "execution_count": 453,
     "metadata": {},
     "output_type": "execute_result"
    }
   ],
   "source": [
    "env.results_ep.describe()"
   ],
   "metadata": {
    "collapsed": false,
    "ExecuteTime": {
     "end_time": "2023-05-15T15:47:25.273006Z",
     "start_time": "2023-05-15T15:47:25.005677Z"
    }
   }
  },
  {
   "cell_type": "code",
   "execution_count": 441,
   "outputs": [
    {
     "data": {
      "text/plain": "tensor(13)"
     },
     "execution_count": 441,
     "metadata": {},
     "output_type": "execute_result"
    }
   ],
   "source": [
    "agent.action"
   ],
   "metadata": {
    "collapsed": false,
    "ExecuteTime": {
     "end_time": "2023-05-15T15:36:07.492759Z",
     "start_time": "2023-05-15T15:36:07.428413Z"
    }
   }
  },
  {
   "cell_type": "code",
   "execution_count": 455,
   "outputs": [
    {
     "data": {
      "text/plain": "<Axes: >"
     },
     "execution_count": 455,
     "metadata": {},
     "output_type": "execute_result"
    },
    {
     "data": {
      "text/plain": "<Figure size 640x480 with 1 Axes>",
      "image/png": "[encoded data removed]"
     },
     "metadata": {},
     "output_type": "display_data"
    }
   ],
   "source": [
    "env.results_ep.plot()"
   ],
   "metadata": {
    "collapsed": false,
    "ExecuteTime": {
     "end_time": "2023-05-15T15:47:48.794297Z",
     "start_time": "2023-05-15T15:47:47.675567Z"
    }
   }
  },
  {
   "cell_type": "code",
   "execution_count": 424,
   "outputs": [
    {
     "data": {
      "text/plain": "<Figure size 640x480 with 1 Axes>",
      "image/png": "[encoded data removed]"
     },
     "metadata": {},
     "output_type": "display_data"
    }
   ],
   "source": [
    "x = [i + 1 for i in range(len(score_history))]\n",
    "plot_learning_curve(x, score_history)"
   ],
   "metadata": {
    "collapsed": false,
    "ExecuteTime": {
     "end_time": "2023-05-15T15:28:16.073863Z",
     "start_time": "2023-05-15T15:28:15.947659Z"
    }
   }
  },
  {
   "cell_type": "code",
   "execution_count": 408,
   "outputs": [
    {
     "data": {
      "text/plain": "[1250356.0,\n -20.0,\n 0.0,\n 301850.0,\n 416120.0,\n 1929480.0,\n 2630.0,\n 5858.0,\n 1270.0,\n 393072.0,\n 769428.0,\n -1272.0,\n 0.0,\n 1989488.0,\n 69838.0,\n -1818.0,\n 210886.0,\n 1245178.0,\n -3226.0,\n 0.0,\n 1240612.0,\n 760.0,\n 485136.0,\n 80440.0,\n 672.0,\n 730950.0,\n -1196.0,\n 0.0,\n 212236.0,\n 1824480.0,\n 1986604.0,\n 92008.0,\n 840272.0,\n 0.0,\n 0.0,\n 5370.0,\n 240290.0,\n -1968.0,\n 0.0,\n 2328466.0,\n 17884.0,\n 426646.0,\n 401056.0,\n 1058196.0,\n 1619414.0,\n 1002626.0,\n 197570.0,\n 15400.0,\n 13856.0,\n 10186.0,\n 0.0,\n 451158.0,\n 364054.0,\n 0.0,\n 2562306.0,\n 686.0,\n 1147052.0,\n 0.0,\n 236912.0,\n 50050.0,\n -2994.0,\n 74330.0,\n 32526.0,\n 130360.0,\n 25734.0,\n 3016370.0,\n 0.0,\n 455824.0,\n 642264.0,\n 1025804.0,\n 23882.0,\n 189608.0,\n 6280.0,\n 0.0,\n 10700.0,\n 637474.0,\n 979878.0,\n 13174.0,\n 1632.0,\n 1298580.0,\n 7242.0,\n -268.0,\n 35124.0,\n 1761420.0,\n 47774.0,\n 16056.0,\n 5498.0,\n 4018.0,\n 1452982.0,\n 1700522.0,\n 283748.0,\n 1644660.0,\n 444832.0,\n 177018.0,\n 574.0,\n 0.0,\n 141842.0,\n 7320.0,\n 10056.0,\n 136402.0,\n 7618.0,\n 8454.0,\n 12704.0,\n 458140.0,\n 269514.0,\n 8834.0,\n 0.0,\n 2050.0,\n 154120.0,\n 40316.0,\n 1375550.0,\n 1882812.0,\n 293006.0,\n 168.0,\n 1241250.0,\n 7974.0,\n 6152.0,\n 1961520.0,\n 1069316.0,\n 796726.0,\n 5558.0,\n 1057748.0,\n 1679714.0,\n 20112.0,\n 934320.0,\n 154232.0,\n 3340.0,\n 1908.0,\n 137684.0,\n -5290.0,\n 12562.0,\n 1164608.0,\n 561570.0,\n 141540.0,\n 18932.0,\n 9676.0,\n 11972.0,\n 11940.0,\n 1680.0,\n 951142.0,\n -2770.0,\n 531822.0,\n 887698.0,\n 24578.0,\n 8980.0,\n 484112.0,\n 0.0,\n 2562306.0,\n 1668774.0,\n 2562306.0,\n 0.0,\n 605296.0,\n 10246.0,\n 498642.0,\n 449070.0,\n 18856.0,\n 1511386.0,\n 358.0,\n 95546.0,\n 10866.0,\n 104452.0,\n 10026.0,\n 3824.0,\n 40600.0,\n 853752.0,\n 242092.0,\n 810224.0,\n 12728.0,\n 63958.0,\n 0.0,\n 171752.0,\n 180932.0,\n 200192.0,\n 399014.0,\n 3076.0,\n 2562048.0,\n 461624.0,\n 310300.0,\n 712174.0,\n 150.0,\n 683556.0,\n 0.0,\n 1123346.0,\n 0.0,\n 13044.0,\n 79118.0,\n 479220.0,\n 9020.0,\n 182642.0,\n 4666.0,\n -8480.0,\n 890078.0,\n 123868.0,\n 751848.0,\n 413398.0,\n 416.0,\n 0.0,\n 33280.0,\n 3478.0,\n 2772.0,\n 417542.0,\n 588872.0,\n 0.0,\n 812540.0,\n 2562.0,\n 2852840.0,\n -1362.0,\n 0.0,\n 240370.0,\n 533592.0,\n 1532688.0,\n -308.0,\n 19562.0,\n 963304.0,\n 1298.0,\n 462656.0,\n 11882.0,\n 1161292.0,\n 682712.0,\n 1623100.0,\n 614980.0,\n 734170.0,\n 14480.0,\n 25846.0,\n 539562.0,\n 327904.0,\n 0.0,\n 642924.0,\n -1972.0,\n 4522.0,\n 3596.0,\n 876398.0,\n 24336.0,\n 148688.0,\n -1972.0,\n 248822.0,\n 3426.0,\n 419280.0,\n 12708.0,\n 410064.0,\n 12708.0,\n 2040.0,\n 17416.0,\n 5288.0,\n 1509132.0,\n -654.0,\n 1628956.0,\n 236574.0,\n 691734.0,\n 3304.0,\n 642374.0,\n 22542.0,\n 23464.0,\n 12962.0,\n 0.0,\n 1800.0,\n 1194126.0,\n 115850.0,\n 3384.0,\n 0.0,\n -5198.0,\n 1880.0,\n -856.0,\n 85412.0,\n 406158.0,\n 4460.0,\n 6260.0,\n 25628.0,\n 140036.0,\n 17942.0,\n 2505372.0,\n 0.0,\n 10596.0,\n 440570.0,\n 15434.0,\n 341184.0,\n 6846.0,\n 1186.0,\n 330.0,\n 96762.0,\n 0.0,\n 752972.0,\n -892.0,\n 10884.0,\n 517716.0,\n 47344.0,\n 14396.0,\n 595704.0,\n 908676.0,\n 1067434.0,\n 27710.0,\n 2092.0,\n 724758.0,\n 357396.0,\n 137504.0,\n 114466.0,\n 628808.0,\n 1782.0,\n 2808.0,\n 478.0,\n 349340.0,\n 0.0,\n 9562.0,\n 4510.0,\n 151806.0,\n 684634.0,\n 15488.0,\n 1241250.0,\n 0.0,\n 54876.0,\n 380.0,\n 70548.0,\n 1628956.0,\n 463074.0,\n 462.0,\n 23966.0,\n 1415162.0,\n 42784.0,\n 863860.0,\n 1365046.0,\n 49300.0,\n 254216.0,\n 4554.0,\n 14822.0,\n 427870.0,\n 0.0,\n 1830306.0,\n 981276.0,\n 2994.0,\n 44282.0,\n 0.0,\n 155092.0,\n 974.0,\n 98434.0,\n 641382.0,\n 765840.0,\n -888.0,\n 1893560.0,\n 55584.0,\n 45998.0,\n 64798.0,\n 1018396.0,\n 120574.0,\n 7702.0,\n 37312.0,\n 11010.0,\n 0.0,\n 349450.0,\n 0.0,\n 0.0,\n 0.0,\n 281096.0,\n 878422.0,\n 1568.0,\n 280104.0,\n 12632.0,\n 0.0,\n 0.0,\n 171800.0,\n 16014.0,\n 2162.0,\n 359870.0,\n 5944.0,\n 742342.0,\n 785914.0,\n 0.0,\n 1194126.0,\n 2196352.0,\n 2670.0,\n 4748.0,\n 219380.0,\n 2764.0,\n 131584.0,\n 939596.0,\n 366848.0,\n 2211806.0,\n 4052.0,\n 0.0,\n 514126.0,\n 4822.0,\n 288.0,\n 1709756.0,\n 1496.0,\n 99068.0,\n 5540.0,\n -1516.0,\n 21718.0,\n 0.0,\n 518454.0,\n 3328.0,\n 187810.0,\n -4958.0,\n 929364.0,\n 0.0,\n 388158.0,\n 7686.0,\n 14582.0,\n 93084.0,\n 1662.0,\n 0.0,\n 4246.0,\n 164406.0,\n 726596.0,\n 4988.0,\n 555040.0,\n 3190.0,\n 1276394.0,\n 566950.0,\n 2628.0,\n 0.0,\n 54372.0,\n 317000.0,\n 4552.0,\n 483110.0,\n 1290.0,\n 1447274.0,\n 3494.0,\n 40288.0,\n 889994.0,\n 2328466.0,\n 1415162.0,\n 262454.0,\n 0.0,\n 2735186.0,\n 8830.0,\n 46946.0,\n 10542.0,\n 991144.0,\n 1710932.0,\n 16542.0,\n 4234.0,\n 0.0,\n 16970.0,\n 0.0,\n 0.0,\n 0.0,\n 539902.0,\n 112316.0,\n 0.0,\n 246282.0,\n 0.0,\n 0.0,\n 0.0,\n 0.0,\n 44080.0,\n 1370606.0,\n 0.0,\n 686814.0,\n 401756.0,\n 42090.0,\n 723532.0,\n 8298.0,\n 0.0,\n 8618.0,\n 75000.0,\n 0.0,\n 0.0,\n 13676.0,\n 2757556.0,\n 10788.0,\n 147706.0,\n 20086.0,\n 1824480.0,\n 0.0,\n 361664.0,\n 4572.0,\n 743498.0,\n 27128.0,\n 4582.0,\n 0.0,\n 752.0,\n 27004.0,\n 1424474.0,\n 106448.0,\n 23064.0,\n 760342.0,\n 229078.0,\n -524.0,\n 0.0,\n 0.0,\n 1508654.0,\n 209740.0,\n -1322.0,\n 1650.0,\n 483746.0,\n 1961520.0,\n 155296.0,\n 7302.0,\n 621146.0,\n 1824480.0,\n 0.0,\n 37724.0,\n 4004.0,\n 0.0,\n 0.0,\n 8874.0,\n 458724.0,\n 161446.0,\n 106738.0,\n 0.0]"
     },
     "execution_count": 408,
     "metadata": {},
     "output_type": "execute_result"
    }
   ],
   "source": [
    "score_history"
   ],
   "metadata": {
    "collapsed": false,
    "ExecuteTime": {
     "end_time": "2023-05-15T14:04:09.499230Z",
     "start_time": "2023-05-15T14:04:07.807319Z"
    }
   }
  },
  {
   "cell_type": "code",
   "execution_count": 361,
   "outputs": [],
   "source": [
    "state =  env.observe_state(df_demand_scaled.index[0])"
   ],
   "metadata": {
    "collapsed": false,
    "ExecuteTime": {
     "end_time": "2023-05-15T13:19:40.730838Z",
     "start_time": "2023-05-15T13:19:40.683784Z"
    }
   }
  },
  {
   "cell_type": "code",
   "execution_count": 362,
   "outputs": [],
   "source": [
    "state = torch.from_numpy(state).float()"
   ],
   "metadata": {
    "collapsed": false,
    "ExecuteTime": {
     "end_time": "2023-05-15T13:19:41.069413Z",
     "start_time": "2023-05-15T13:19:41.016454Z"
    }
   }
  },
  {
   "cell_type": "code",
   "execution_count": 364,
   "outputs": [
    {
     "data": {
      "text/plain": "tensor([0.0322, 0.1445, 0.0211, 0.0063, 0.0296, 0.0101, 0.2335, 0.3868, 0.1328,\n        0.0033], grad_fn=<SoftmaxBackward0>)"
     },
     "execution_count": 364,
     "metadata": {},
     "output_type": "execute_result"
    }
   ],
   "source": [
    "_, probs = agent.model(state)\n",
    "probs"
   ],
   "metadata": {
    "collapsed": false,
    "ExecuteTime": {
     "end_time": "2023-05-15T13:19:42.076957Z",
     "start_time": "2023-05-15T13:19:42.015626Z"
    }
   }
  },
  {
   "cell_type": "code",
   "execution_count": 357,
   "outputs": [
    {
     "data": {
      "text/plain": "array(5)"
     },
     "execution_count": 357,
     "metadata": {},
     "output_type": "execute_result"
    }
   ],
   "source": [
    "action"
   ],
   "metadata": {
    "collapsed": false,
    "ExecuteTime": {
     "end_time": "2023-05-15T13:19:16.208765Z",
     "start_time": "2023-05-15T13:19:16.120627Z"
    }
   }
  },
  {
   "cell_type": "code",
   "execution_count": 210,
   "outputs": [
    {
     "data": {
      "text/plain": "24.0"
     },
     "execution_count": 210,
     "metadata": {},
     "output_type": "execute_result"
    }
   ],
   "source": [
    "state = torch.from_numpy(state).float()\n",
    "_, probs = self.model(state)\n",
    "action_dist = torch.distributions.Categorical(probs=probs)\n",
    "action = action_dist.sample()\n",
    "self.action = action"
   ],
   "metadata": {
    "collapsed": false,
    "ExecuteTime": {
     "end_time": "2023-05-15T12:02:19.714082Z",
     "start_time": "2023-05-15T12:02:19.673464Z"
    }
   }
  },
  {
   "cell_type": "code",
   "execution_count": 171,
   "outputs": [],
   "source": [
    "state = torch.from_numpy(state).float()\n",
    "_ , probs = agent.model(state)\n",
    "action_dist = torch.distributions.Categorical(probs=probs)\n",
    "action = action_dist.sample()\n",
    "\n"
   ],
   "metadata": {
    "collapsed": false,
    "ExecuteTime": {
     "end_time": "2023-05-15T11:43:31.313255Z",
     "start_time": "2023-05-15T11:43:31.279723Z"
    }
   }
  },
  {
   "cell_type": "code",
   "execution_count": 172,
   "outputs": [
    {
     "data": {
      "text/plain": "(tensor([-47.7459], grad_fn=<AddBackward0>),\n tensor([0., 0., 0., 0., 0., 1., 0., 0., 0., 0.], grad_fn=<SoftmaxBackward0>))"
     },
     "execution_count": 172,
     "metadata": {},
     "output_type": "execute_result"
    }
   ],
   "source": [
    "agent.model(state)"
   ],
   "metadata": {
    "collapsed": false,
    "ExecuteTime": {
     "end_time": "2023-05-15T11:43:34.822239Z",
     "start_time": "2023-05-15T11:43:34.784321Z"
    }
   }
  },
  {
   "cell_type": "code",
   "execution_count": 397,
   "outputs": [
    {
     "data": {
      "text/plain": "0.0"
     },
     "execution_count": 397,
     "metadata": {},
     "output_type": "execute_result"
    }
   ],
   "source": [
    "\n",
    "0 / 10 * 2 * env.mc"
   ],
   "metadata": {
    "collapsed": false,
    "ExecuteTime": {
     "end_time": "2023-05-15T13:55:34.508382Z",
     "start_time": "2023-05-15T13:55:34.469778Z"
    }
   }
  },
  {
   "cell_type": "code",
   "execution_count": 398,
   "outputs": [
    {
     "data": {
      "text/plain": "300.0"
     },
     "execution_count": 398,
     "metadata": {},
     "output_type": "execute_result"
    }
   ],
   "source": [
    "50 / 10 * 2 * env.mc"
   ],
   "metadata": {
    "collapsed": false,
    "ExecuteTime": {
     "end_time": "2023-05-15T13:55:49.087127Z",
     "start_time": "2023-05-15T13:55:49.040981Z"
    }
   }
  },
  {
   "cell_type": "code",
   "execution_count": 227,
   "outputs": [],
   "source": [
    "state = torch.from_numpy(env.observation).float()\n",
    "_, probs = agent.model(state)"
   ],
   "metadata": {
    "collapsed": false,
    "ExecuteTime": {
     "end_time": "2023-05-15T12:06:12.568855Z",
     "start_time": "2023-05-15T12:06:12.486181Z"
    }
   }
  },
  {
   "cell_type": "code",
   "execution_count": 243,
   "outputs": [],
   "source": [
    "agent = ActorCriticAgent(input_size, n_actions)"
   ],
   "metadata": {
    "collapsed": false,
    "ExecuteTime": {
     "end_time": "2023-05-15T12:10:35.781803Z",
     "start_time": "2023-05-15T12:10:35.482919Z"
    }
   }
  },
  {
   "cell_type": "code",
   "execution_count": 249,
   "outputs": [],
   "source": [
    "_, probs = agent.model(state)"
   ],
   "metadata": {
    "collapsed": false,
    "ExecuteTime": {
     "end_time": "2023-05-15T12:11:44.232245Z",
     "start_time": "2023-05-15T12:11:44.177055Z"
    }
   }
  },
  {
   "cell_type": "code",
   "execution_count": 245,
   "outputs": [],
   "source": [
    "import torch.nn.functional as F"
   ],
   "metadata": {
    "collapsed": false,
    "ExecuteTime": {
     "end_time": "2023-05-15T12:11:08.065919Z",
     "start_time": "2023-05-15T12:11:07.683298Z"
    }
   }
  },
  {
   "cell_type": "code",
   "execution_count": 252,
   "outputs": [
    {
     "data": {
      "text/plain": "tensor([-5186.8765,  1750.0256, -1454.3394,  3379.9880,   773.9310, -1769.9963,\n          177.4805, -1122.4966,  -568.8074,  3021.6191],\n       grad_fn=<AddBackward0>)"
     },
     "execution_count": 252,
     "metadata": {},
     "output_type": "execute_result"
    }
   ],
   "source": [],
   "metadata": {
    "collapsed": false,
    "ExecuteTime": {
     "end_time": "2023-05-15T12:11:59.944805Z",
     "start_time": "2023-05-15T12:11:59.906024Z"
    }
   }
  },
  {
   "cell_type": "code",
   "execution_count": 258,
   "outputs": [
    {
     "data": {
      "text/plain": "tensor([0., 0., 0., 1., 0., 0., 0., 0., 0., 0.], grad_fn=<SoftmaxBackward0>)"
     },
     "execution_count": 258,
     "metadata": {},
     "output_type": "execute_result"
    }
   ],
   "source": [
    "F.softmax(probs, dim=-1)"
   ],
   "metadata": {
    "collapsed": false,
    "ExecuteTime": {
     "end_time": "2023-05-15T12:13:18.160233Z",
     "start_time": "2023-05-15T12:13:18.119579Z"
    }
   }
  },
  {
   "cell_type": "code",
   "execution_count": 180,
   "outputs": [],
   "source": [
    "observation = env.observe_state(env.date)\n",
    "\n",
    "# get bid from action\n",
    "bid_volume = env.capacity\n",
    "\n",
    "# the bid price is relative to the marginal costs\n",
    "bid_price = action / 10 * 2 * env.mc\n",
    "\n",
    "profit, da_price = env.market_clearing(bid_price, bid_volume, env.date)\n",
    "\n",
    "# scale the reward\n",
    "reward = (profit / env.reward_scaling)"
   ],
   "metadata": {
    "collapsed": false,
    "ExecuteTime": {
     "end_time": "2023-05-15T11:47:01.094102Z",
     "start_time": "2023-05-15T11:47:01.025391Z"
    }
   }
  },
  {
   "cell_type": "code",
   "execution_count": 187,
   "outputs": [
    {
     "data": {
      "text/plain": "array([11184.])"
     },
     "execution_count": 187,
     "metadata": {},
     "output_type": "execute_result"
    }
   ],
   "source": [
    "profi"
   ],
   "metadata": {
    "collapsed": false,
    "ExecuteTime": {
     "end_time": "2023-05-15T11:47:37.001164Z",
     "start_time": "2023-05-15T11:47:36.958754Z"
    }
   }
  },
  {
   "cell_type": "code",
   "execution_count": 190,
   "outputs": [
    {
     "data": {
      "text/plain": "85.92"
     },
     "execution_count": 190,
     "metadata": {},
     "output_type": "execute_result"
    }
   ],
   "source": [
    "env.prices.loc[env.date]"
   ],
   "metadata": {
    "collapsed": false,
    "ExecuteTime": {
     "end_time": "2023-05-15T11:50:28.962705Z",
     "start_time": "2023-05-15T11:50:28.792549Z"
    }
   }
  },
  {
   "cell_type": "code",
   "execution_count": null,
   "outputs": [],
   "source": [],
   "metadata": {
    "collapsed": false
   }
  }
 ],
 "metadata": {
  "kernelspec": {
   "display_name": "Python 3",
   "language": "python",
   "name": "python3"
  },
  "language_info": {
   "codemirror_mode": {
    "name": "ipython",
    "version": 2
   },
   "file_extension": ".py",
   "mimetype": "text/x-python",
   "name": "python",
   "nbconvert_exporter": "python",
   "pygments_lexer": "ipython2",
   "version": "2.7.6"
  }
 },
 "nbformat": 4,
 "nbformat_minor": 0
}
