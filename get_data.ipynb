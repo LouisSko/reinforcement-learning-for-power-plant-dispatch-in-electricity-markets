{
 "cells": [
  {
   "cell_type": "code",
   "execution_count": 65,
   "outputs": [],
   "source": [
    "from basic_rl_envi_for_dam_bidding_main.import_data_example import *"
   ],
   "metadata": {
    "collapsed": false,
    "ExecuteTime": {
     "end_time": "2023-05-08T23:18:48.787911Z",
     "start_time": "2023-05-08T23:18:48.782836Z"
    }
   }
  },
  {
   "cell_type": "markdown",
   "source": [
    "# Get Data"
   ],
   "metadata": {
    "collapsed": false
   }
  },
  {
   "cell_type": "code",
   "execution_count": 87,
   "outputs": [],
   "source": [
    "start = pd.Timestamp(year=2023, month=3, day=1, tz=\"utc\")\n",
    "#end = pd.Timestamp(year=2022, month=5, day=1, tz=\"utc\")\n",
    "end = pd.Timestamp.now(tz=\"utc\")\n",
    "# get the end of the current day\n",
    "end = end.floor('D') + pd.Timedelta(days=3)"
   ],
   "metadata": {
    "collapsed": false,
    "ExecuteTime": {
     "end_time": "2023-05-08T23:28:36.678372Z",
     "start_time": "2023-05-08T23:28:36.669544Z"
    }
   }
  },
  {
   "cell_type": "code",
   "execution_count": 88,
   "outputs": [],
   "source": [
    "df_demand = get_demand(start, end)\n",
    "# wann wird der forecast available? Basierend darauf muss später gejoined werden\n",
    "df_mcp = get_mcp(start, end)\n",
    "df_vre = get_vre(start, end)\n",
    "df_gen = get_gen(start, end)\n",
    "#states = get_states_list(start, end)\n",
    "\n",
    "#checken ob daten um 24:00 Uhr kommen oder um 12:00 Uhr"
   ],
   "metadata": {
    "collapsed": false,
    "ExecuteTime": {
     "end_time": "2023-05-08T23:30:32.449479Z",
     "start_time": "2023-05-08T23:28:37.037716Z"
    }
   }
  },
  {
   "cell_type": "code",
   "execution_count": 89,
   "outputs": [
    {
     "data": {
      "text/plain": "                           Forecasted Load\n2018-10-01 02:00:00+02:00          42696.0\n2018-10-01 02:15:00+02:00          42437.0\n2018-10-01 02:30:00+02:00          42691.0\n2018-10-01 02:45:00+02:00          42688.0\n2018-10-01 03:00:00+02:00          42747.0\n...                                    ...\n2023-05-09 22:45:00+02:00          50338.0\n2023-05-09 23:00:00+02:00          49402.0\n2023-05-09 23:15:00+02:00          48619.0\n2023-05-09 23:30:00+02:00          47939.0\n2023-05-09 23:45:00+02:00          47208.0\n\n[157912 rows x 1 columns]",
      "text/html": "<div>\n<style scoped>\n    .dataframe tbody tr th:only-of-type {\n        vertical-align: middle;\n    }\n\n    .dataframe tbody tr th {\n        vertical-align: top;\n    }\n\n    .dataframe thead th {\n        text-align: right;\n    }\n</style>\n<table border=\"1\" class=\"dataframe\">\n  <thead>\n    <tr style=\"text-align: right;\">\n      <th></th>\n      <th>Forecasted Load</th>\n    </tr>\n  </thead>\n  <tbody>\n    <tr>\n      <th>2018-10-01 02:00:00+02:00</th>\n      <td>42696.0</td>\n    </tr>\n    <tr>\n      <th>2018-10-01 02:15:00+02:00</th>\n      <td>42437.0</td>\n    </tr>\n    <tr>\n      <th>2018-10-01 02:30:00+02:00</th>\n      <td>42691.0</td>\n    </tr>\n    <tr>\n      <th>2018-10-01 02:45:00+02:00</th>\n      <td>42688.0</td>\n    </tr>\n    <tr>\n      <th>2018-10-01 03:00:00+02:00</th>\n      <td>42747.0</td>\n    </tr>\n    <tr>\n      <th>...</th>\n      <td>...</td>\n    </tr>\n    <tr>\n      <th>2023-05-09 22:45:00+02:00</th>\n      <td>50338.0</td>\n    </tr>\n    <tr>\n      <th>2023-05-09 23:00:00+02:00</th>\n      <td>49402.0</td>\n    </tr>\n    <tr>\n      <th>2023-05-09 23:15:00+02:00</th>\n      <td>48619.0</td>\n    </tr>\n    <tr>\n      <th>2023-05-09 23:30:00+02:00</th>\n      <td>47939.0</td>\n    </tr>\n    <tr>\n      <th>2023-05-09 23:45:00+02:00</th>\n      <td>47208.0</td>\n    </tr>\n  </tbody>\n</table>\n<p>157912 rows × 1 columns</p>\n</div>"
     },
     "execution_count": 89,
     "metadata": {},
     "output_type": "execute_result"
    }
   ],
   "source": [
    "# füge eine variable hinzu, die angibt zu welchem Zeitpunkt die Daten verfügbar sind\n",
    "df_vre"
   ],
   "metadata": {
    "collapsed": false,
    "ExecuteTime": {
     "end_time": "2023-05-08T23:30:32.453447Z",
     "start_time": "2023-05-08T23:30:32.448303Z"
    }
   }
  },
  {
   "cell_type": "code",
   "execution_count": 79,
   "outputs": [
    {
     "data": {
      "text/plain": "                           Forecasted Load\n2022-03-01 00:00:00+01:00          53995.0\n2022-03-01 00:15:00+01:00          53333.0\n2022-03-01 00:30:00+01:00          52738.0\n2022-03-01 00:45:00+01:00          52367.0\n2022-03-01 01:00:00+01:00          51878.0\n...                                    ...\n2023-05-09 22:45:00+02:00          50338.0\n2023-05-09 23:00:00+02:00          49402.0\n2023-05-09 23:15:00+02:00          48619.0\n2023-05-09 23:30:00+02:00          47939.0\n2023-05-09 23:45:00+02:00          47208.0\n\n[41660 rows x 1 columns]",
      "text/html": "<div>\n<style scoped>\n    .dataframe tbody tr th:only-of-type {\n        vertical-align: middle;\n    }\n\n    .dataframe tbody tr th {\n        vertical-align: top;\n    }\n\n    .dataframe thead th {\n        text-align: right;\n    }\n</style>\n<table border=\"1\" class=\"dataframe\">\n  <thead>\n    <tr style=\"text-align: right;\">\n      <th></th>\n      <th>Forecasted Load</th>\n    </tr>\n  </thead>\n  <tbody>\n    <tr>\n      <th>2022-03-01 00:00:00+01:00</th>\n      <td>53995.0</td>\n    </tr>\n    <tr>\n      <th>2022-03-01 00:15:00+01:00</th>\n      <td>53333.0</td>\n    </tr>\n    <tr>\n      <th>2022-03-01 00:30:00+01:00</th>\n      <td>52738.0</td>\n    </tr>\n    <tr>\n      <th>2022-03-01 00:45:00+01:00</th>\n      <td>52367.0</td>\n    </tr>\n    <tr>\n      <th>2022-03-01 01:00:00+01:00</th>\n      <td>51878.0</td>\n    </tr>\n    <tr>\n      <th>...</th>\n      <td>...</td>\n    </tr>\n    <tr>\n      <th>2023-05-09 22:45:00+02:00</th>\n      <td>50338.0</td>\n    </tr>\n    <tr>\n      <th>2023-05-09 23:00:00+02:00</th>\n      <td>49402.0</td>\n    </tr>\n    <tr>\n      <th>2023-05-09 23:15:00+02:00</th>\n      <td>48619.0</td>\n    </tr>\n    <tr>\n      <th>2023-05-09 23:30:00+02:00</th>\n      <td>47939.0</td>\n    </tr>\n    <tr>\n      <th>2023-05-09 23:45:00+02:00</th>\n      <td>47208.0</td>\n    </tr>\n  </tbody>\n</table>\n<p>41660 rows × 1 columns</p>\n</div>"
     },
     "execution_count": 79,
     "metadata": {},
     "output_type": "execute_result"
    }
   ],
   "source": [
    "df_vre['day available']"
   ],
   "metadata": {
    "collapsed": false,
    "ExecuteTime": {
     "end_time": "2023-05-08T23:21:04.587976Z",
     "start_time": "2023-05-08T23:21:04.565990Z"
    }
   }
  },
  {
   "cell_type": "code",
   "execution_count": 39,
   "outputs": [],
   "source": [
    "df_demand_hourly"
   ],
   "metadata": {
    "collapsed": false,
    "ExecuteTime": {
     "end_time": "2023-05-08T23:07:21.894024Z",
     "start_time": "2023-05-08T23:07:21.857637Z"
    }
   }
  },
  {
   "cell_type": "code",
   "execution_count": 90,
   "outputs": [],
   "source": [
    "# get day ahead market price for each day\n",
    "df_mcp_hourly = df_mcp.pivot_table(index=df_mcp.index.date, columns=df_mcp.index.hour, values=0)\n",
    "df_mcp_hourly.index = pd.to_datetime(df_mcp_hourly.index)\n",
    "df_mcp_hourly = df_mcp_hourly.add_prefix('market_price_hour_')\n",
    "df_mcp_hourly['end_auction'] = (df_mcp_hourly.index - pd.Timedelta(hours = 12))\n",
    "#df_mcp_hourly = df_mcp_hourly.reset_index(drop=False).set_index('end_auction')\n",
    "#df_mcp_hourly = df_mcp_hourly.rename(columns={'index': 'day'})"
   ],
   "metadata": {
    "collapsed": false,
    "ExecuteTime": {
     "end_time": "2023-05-08T23:31:36.520643Z",
     "start_time": "2023-05-08T23:31:36.461725Z"
    }
   }
  },
  {
   "cell_type": "code",
   "execution_count": 91,
   "outputs": [],
   "source": [
    "# df_demand: 2023-05-08 23:45:00+02:00 gibt den Load für 23:45-00:00 Uhr an\n",
    "# 2023-05-08 12:00:00+02:00,63621.0,29065.0,2153.0,10199.0,63511.0,80.41\n",
    "# dieser Datenpunkt entspricht den Werten von 12:00 Uhr bis 12:30 Uhr"
   ],
   "metadata": {
    "collapsed": false,
    "ExecuteTime": {
     "end_time": "2023-05-08T23:31:46.399535Z",
     "start_time": "2023-05-08T23:31:46.338376Z"
    }
   }
  },
  {
   "cell_type": "code",
   "execution_count": 42,
   "outputs": [],
   "source": [
    "# get forecasted load for each hour of each day.\n",
    "df_demand_hourly = df_demand.pivot_table(index=df_demand.index.date, columns=df_demand.index.hour, values='Forecasted Load', aggfunc='sum')\n",
    "df_demand_hourly = df_demand_hourly.add_prefix('forecasted_load_hour_')"
   ],
   "metadata": {
    "collapsed": false,
    "ExecuteTime": {
     "end_time": "2023-05-08T23:07:25.527783Z",
     "start_time": "2023-05-08T23:07:25.510320Z"
    }
   }
  },
  {
   "cell_type": "code",
   "execution_count": 43,
   "outputs": [],
   "source": [
    "# aggregate hourly\n",
    "df_vre_agg = df_vre.groupby([pd.Grouper(freq='1h')]).sum()"
   ],
   "metadata": {
    "collapsed": false,
    "ExecuteTime": {
     "end_time": "2023-05-08T23:07:25.687180Z",
     "start_time": "2023-05-08T23:07:25.680500Z"
    }
   }
  },
  {
   "cell_type": "code",
   "execution_count": 102,
   "outputs": [],
   "source": [
    "df_vre_hourly = df_vre_agg.pivot_table(index=df_vre_agg.index.date, columns=df_vre_agg.index.hour, values=['Wind Onshore', 'Wind Offshore', 'Solar'], aggfunc='sum')\n",
    "# add prefix and concatenate df\n",
    "df_vre_hourly = pd.concat([df_vre_hourly[col].add_prefix(f'{col}_hour_') for col in df_vre_hourly.columns.get_level_values(level=0).unique()], axis=1)"
   ],
   "metadata": {
    "collapsed": false,
    "ExecuteTime": {
     "end_time": "2023-05-08T23:36:22.491359Z",
     "start_time": "2023-05-08T23:36:22.479931Z"
    }
   }
  },
  {
   "cell_type": "code",
   "execution_count": 103,
   "outputs": [],
   "source": [
    "df_gen_hourly = df_gen.pivot_table(index=df_gen.index.date, columns=df_gen.index.hour, values='Actual Aggregated', aggfunc='sum')\n",
    "df_gen_hourly = df_gen_hourly.add_prefix('actual_aggregated_hour_')"
   ],
   "metadata": {
    "collapsed": false,
    "ExecuteTime": {
     "end_time": "2023-05-08T23:36:23.578099Z",
     "start_time": "2023-05-08T23:36:23.557049Z"
    }
   }
  },
  {
   "cell_type": "code",
   "execution_count": 104,
   "outputs": [],
   "source": [
    "#\n",
    "l = [df_demand_hourly, df_vre_hourly, df_gen_hourly, df_mcp_hourly]"
   ],
   "metadata": {
    "collapsed": false,
    "ExecuteTime": {
     "end_time": "2023-05-08T23:36:25.733498Z",
     "start_time": "2023-05-08T23:36:25.728311Z"
    }
   }
  },
  {
   "cell_type": "code",
   "execution_count": 105,
   "outputs": [
    {
     "data": {
      "text/plain": "                     forecasted_load_hour_0  forecasted_load_hour_1   \nend_auction                                                           \n2018-10-11 12:00:00                201063.0                192996.0  \\\n2018-10-12 12:00:00                190250.0                181665.0   \n2018-10-13 12:00:00                175236.0                167669.0   \n2018-10-14 12:00:00                177229.0                171728.0   \n2018-10-15 12:00:00                193888.0                187322.0   \n...                                     ...                     ...   \n2023-05-04 12:00:00                187268.0                180504.0   \n2023-05-05 12:00:00                178686.0                170291.0   \n2023-05-06 12:00:00                156546.0                150069.0   \n2023-05-07 12:00:00                164319.0                158542.0   \n2023-05-08 12:00:00                173819.0                168778.0   \n\n                     forecasted_load_hour_2  forecasted_load_hour_3   \nend_auction                                                           \n2018-10-11 12:00:00                189549.0                190698.0  \\\n2018-10-12 12:00:00                176778.0                175878.0   \n2018-10-13 12:00:00                163901.0                162658.0   \n2018-10-14 12:00:00                169473.0                170771.0   \n2018-10-15 12:00:00                183825.0                184485.0   \n...                                     ...                     ...   \n2023-05-04 12:00:00                177404.0                178729.0   \n2023-05-05 12:00:00                165397.0                165289.0   \n2023-05-06 12:00:00                146385.0                145810.0   \n2023-05-07 12:00:00                156600.0                157929.0   \n2023-05-08 12:00:00                165488.0                166900.0   \n\n                     forecasted_load_hour_4  forecasted_load_hour_5   \nend_auction                                                           \n2018-10-11 12:00:00                196010.0                208553.0  \\\n2018-10-12 12:00:00                176937.0                178868.0   \n2018-10-13 12:00:00                164176.0                164842.0   \n2018-10-14 12:00:00                178232.0                195459.0   \n2018-10-15 12:00:00                190204.0                203066.0   \n...                                     ...                     ...   \n2023-05-04 12:00:00                183737.0                195244.0   \n2023-05-05 12:00:00                165567.0                166777.0   \n2023-05-06 12:00:00                146519.0                148029.0   \n2023-05-07 12:00:00                164306.0                179276.0   \n2023-05-08 12:00:00                172033.0                184683.0   \n\n                     forecasted_load_hour_6  forecasted_load_hour_7   \nend_auction                                                           \n2018-10-11 12:00:00                238030.0                259510.0  \\\n2018-10-12 12:00:00                184744.0                197375.0   \n2018-10-13 12:00:00                167321.0                176114.0   \n2018-10-14 12:00:00                231218.0                255873.0   \n2018-10-15 12:00:00                234806.0                258282.0   \n...                                     ...                     ...   \n2023-05-04 12:00:00                218627.0                239211.0   \n2023-05-05 12:00:00                170943.0                180339.0   \n2023-05-06 12:00:00                149051.0                156625.0   \n2023-05-07 12:00:00                208210.0                229411.0   \n2023-05-08 12:00:00                211058.0                232091.0   \n\n                     forecasted_load_hour_8  forecasted_load_hour_9  ...   \nend_auction                                                          ...   \n2018-10-11 12:00:00                269073.0                272494.0  ...  \\\n2018-10-12 12:00:00                212858.0                223986.0  ...   \n2018-10-13 12:00:00                189478.0                201767.0  ...   \n2018-10-14 12:00:00                266980.0                269708.0  ...   \n2018-10-15 12:00:00                268794.0                272032.0  ...   \n...                                     ...                     ...  ...   \n2023-05-04 12:00:00                250013.0                252828.0  ...   \n2023-05-05 12:00:00                194227.0                205778.0  ...   \n2023-05-06 12:00:00                169065.0                181813.0  ...   \n2023-05-07 12:00:00                241925.0                245964.0  ...   \n2023-05-08 12:00:00                243568.0                247291.0  ...   \n\n                     market_price_hour_14  market_price_hour_15   \nend_auction                                                       \n2018-10-11 12:00:00                 47.84                 53.32  \\\n2018-10-12 12:00:00                 31.95                 37.42   \n2018-10-13 12:00:00                 13.92                 19.54   \n2018-10-14 12:00:00                 51.45                 55.26   \n2018-10-15 12:00:00                 68.61                 69.19   \n...                                   ...                   ...   \n2023-05-04 12:00:00                 78.90                 81.08   \n2023-05-05 12:00:00                 50.00                 63.16   \n2023-05-06 12:00:00                 -0.03                 15.44   \n2023-05-07 12:00:00                 74.09                 78.00   \n2023-05-08 12:00:00                 68.29                 80.80   \n\n                     market_price_hour_16  market_price_hour_17   \nend_auction                                                       \n2018-10-11 12:00:00                 56.95                 67.32  \\\n2018-10-12 12:00:00                 50.23                 60.46   \n2018-10-13 12:00:00                 20.74                 42.82   \n2018-10-14 12:00:00                 71.86                 80.28   \n2018-10-15 12:00:00                 74.04                 80.95   \n...                                   ...                   ...   \n2023-05-04 12:00:00                 91.16                100.17   \n2023-05-05 12:00:00                 74.64                 90.30   \n2023-05-06 12:00:00                 56.62                 75.97   \n2023-05-07 12:00:00                 84.01                 97.05   \n2023-05-08 12:00:00                 84.44                100.06   \n\n                     market_price_hour_18  market_price_hour_19   \nend_auction                                                       \n2018-10-11 12:00:00                 69.94                 79.08  \\\n2018-10-12 12:00:00                 64.54                 55.85   \n2018-10-13 12:00:00                 56.56                 68.09   \n2018-10-14 12:00:00                 90.00                107.32   \n2018-10-15 12:00:00                 89.97                105.12   \n...                                   ...                   ...   \n2023-05-04 12:00:00                112.80                120.54   \n2023-05-05 12:00:00                102.70                108.05   \n2023-05-06 12:00:00                 94.94                 99.36   \n2023-05-07 12:00:00                110.04                132.90   \n2023-05-08 12:00:00                116.34                121.93   \n\n                     market_price_hour_20  market_price_hour_21   \nend_auction                                                       \n2018-10-11 12:00:00                 65.00                 53.58  \\\n2018-10-12 12:00:00                 40.59                 31.52   \n2018-10-13 12:00:00                 40.54                 32.90   \n2018-10-14 12:00:00                 75.31                 70.49   \n2018-10-15 12:00:00                 84.96                 76.02   \n...                                   ...                   ...   \n2023-05-04 12:00:00                128.57                126.31   \n2023-05-05 12:00:00                111.81                108.71   \n2023-05-06 12:00:00                106.45                105.02   \n2023-05-07 12:00:00                128.41                121.99   \n2023-05-08 12:00:00                121.05                110.97   \n\n                     market_price_hour_22  market_price_hour_23  \nend_auction                                                      \n2018-10-11 12:00:00                 50.00                 43.88  \n2018-10-12 12:00:00                 24.72                 20.29  \n2018-10-13 12:00:00                 31.32                 27.00  \n2018-10-14 12:00:00                 59.05                 59.07  \n2018-10-15 12:00:00                 59.99                 56.50  \n...                                   ...                   ...  \n2023-05-04 12:00:00                115.56                103.34  \n2023-05-05 12:00:00                103.12                 92.38  \n2023-05-06 12:00:00                 99.30                 96.07  \n2023-05-07 12:00:00                112.56                 99.38  \n2023-05-08 12:00:00                104.67                 89.93  \n\n[1618 rows x 48 columns]",
      "text/html": "<div>\n<style scoped>\n    .dataframe tbody tr th:only-of-type {\n        vertical-align: middle;\n    }\n\n    .dataframe tbody tr th {\n        vertical-align: top;\n    }\n\n    .dataframe thead th {\n        text-align: right;\n    }\n</style>\n<table border=\"1\" class=\"dataframe\">\n  <thead>\n    <tr style=\"text-align: right;\">\n      <th></th>\n      <th>forecasted_load_hour_0</th>\n      <th>forecasted_load_hour_1</th>\n      <th>forecasted_load_hour_2</th>\n      <th>forecasted_load_hour_3</th>\n      <th>forecasted_load_hour_4</th>\n      <th>forecasted_load_hour_5</th>\n      <th>forecasted_load_hour_6</th>\n      <th>forecasted_load_hour_7</th>\n      <th>forecasted_load_hour_8</th>\n      <th>forecasted_load_hour_9</th>\n      <th>...</th>\n      <th>market_price_hour_14</th>\n      <th>market_price_hour_15</th>\n      <th>market_price_hour_16</th>\n      <th>market_price_hour_17</th>\n      <th>market_price_hour_18</th>\n      <th>market_price_hour_19</th>\n      <th>market_price_hour_20</th>\n      <th>market_price_hour_21</th>\n      <th>market_price_hour_22</th>\n      <th>market_price_hour_23</th>\n    </tr>\n    <tr>\n      <th>end_auction</th>\n      <th></th>\n      <th></th>\n      <th></th>\n      <th></th>\n      <th></th>\n      <th></th>\n      <th></th>\n      <th></th>\n      <th></th>\n      <th></th>\n      <th></th>\n      <th></th>\n      <th></th>\n      <th></th>\n      <th></th>\n      <th></th>\n      <th></th>\n      <th></th>\n      <th></th>\n      <th></th>\n      <th></th>\n    </tr>\n  </thead>\n  <tbody>\n    <tr>\n      <th>2018-10-11 12:00:00</th>\n      <td>201063.0</td>\n      <td>192996.0</td>\n      <td>189549.0</td>\n      <td>190698.0</td>\n      <td>196010.0</td>\n      <td>208553.0</td>\n      <td>238030.0</td>\n      <td>259510.0</td>\n      <td>269073.0</td>\n      <td>272494.0</td>\n      <td>...</td>\n      <td>47.84</td>\n      <td>53.32</td>\n      <td>56.95</td>\n      <td>67.32</td>\n      <td>69.94</td>\n      <td>79.08</td>\n      <td>65.00</td>\n      <td>53.58</td>\n      <td>50.00</td>\n      <td>43.88</td>\n    </tr>\n    <tr>\n      <th>2018-10-12 12:00:00</th>\n      <td>190250.0</td>\n      <td>181665.0</td>\n      <td>176778.0</td>\n      <td>175878.0</td>\n      <td>176937.0</td>\n      <td>178868.0</td>\n      <td>184744.0</td>\n      <td>197375.0</td>\n      <td>212858.0</td>\n      <td>223986.0</td>\n      <td>...</td>\n      <td>31.95</td>\n      <td>37.42</td>\n      <td>50.23</td>\n      <td>60.46</td>\n      <td>64.54</td>\n      <td>55.85</td>\n      <td>40.59</td>\n      <td>31.52</td>\n      <td>24.72</td>\n      <td>20.29</td>\n    </tr>\n    <tr>\n      <th>2018-10-13 12:00:00</th>\n      <td>175236.0</td>\n      <td>167669.0</td>\n      <td>163901.0</td>\n      <td>162658.0</td>\n      <td>164176.0</td>\n      <td>164842.0</td>\n      <td>167321.0</td>\n      <td>176114.0</td>\n      <td>189478.0</td>\n      <td>201767.0</td>\n      <td>...</td>\n      <td>13.92</td>\n      <td>19.54</td>\n      <td>20.74</td>\n      <td>42.82</td>\n      <td>56.56</td>\n      <td>68.09</td>\n      <td>40.54</td>\n      <td>32.90</td>\n      <td>31.32</td>\n      <td>27.00</td>\n    </tr>\n    <tr>\n      <th>2018-10-14 12:00:00</th>\n      <td>177229.0</td>\n      <td>171728.0</td>\n      <td>169473.0</td>\n      <td>170771.0</td>\n      <td>178232.0</td>\n      <td>195459.0</td>\n      <td>231218.0</td>\n      <td>255873.0</td>\n      <td>266980.0</td>\n      <td>269708.0</td>\n      <td>...</td>\n      <td>51.45</td>\n      <td>55.26</td>\n      <td>71.86</td>\n      <td>80.28</td>\n      <td>90.00</td>\n      <td>107.32</td>\n      <td>75.31</td>\n      <td>70.49</td>\n      <td>59.05</td>\n      <td>59.07</td>\n    </tr>\n    <tr>\n      <th>2018-10-15 12:00:00</th>\n      <td>193888.0</td>\n      <td>187322.0</td>\n      <td>183825.0</td>\n      <td>184485.0</td>\n      <td>190204.0</td>\n      <td>203066.0</td>\n      <td>234806.0</td>\n      <td>258282.0</td>\n      <td>268794.0</td>\n      <td>272032.0</td>\n      <td>...</td>\n      <td>68.61</td>\n      <td>69.19</td>\n      <td>74.04</td>\n      <td>80.95</td>\n      <td>89.97</td>\n      <td>105.12</td>\n      <td>84.96</td>\n      <td>76.02</td>\n      <td>59.99</td>\n      <td>56.50</td>\n    </tr>\n    <tr>\n      <th>...</th>\n      <td>...</td>\n      <td>...</td>\n      <td>...</td>\n      <td>...</td>\n      <td>...</td>\n      <td>...</td>\n      <td>...</td>\n      <td>...</td>\n      <td>...</td>\n      <td>...</td>\n      <td>...</td>\n      <td>...</td>\n      <td>...</td>\n      <td>...</td>\n      <td>...</td>\n      <td>...</td>\n      <td>...</td>\n      <td>...</td>\n      <td>...</td>\n      <td>...</td>\n      <td>...</td>\n    </tr>\n    <tr>\n      <th>2023-05-04 12:00:00</th>\n      <td>187268.0</td>\n      <td>180504.0</td>\n      <td>177404.0</td>\n      <td>178729.0</td>\n      <td>183737.0</td>\n      <td>195244.0</td>\n      <td>218627.0</td>\n      <td>239211.0</td>\n      <td>250013.0</td>\n      <td>252828.0</td>\n      <td>...</td>\n      <td>78.90</td>\n      <td>81.08</td>\n      <td>91.16</td>\n      <td>100.17</td>\n      <td>112.80</td>\n      <td>120.54</td>\n      <td>128.57</td>\n      <td>126.31</td>\n      <td>115.56</td>\n      <td>103.34</td>\n    </tr>\n    <tr>\n      <th>2023-05-05 12:00:00</th>\n      <td>178686.0</td>\n      <td>170291.0</td>\n      <td>165397.0</td>\n      <td>165289.0</td>\n      <td>165567.0</td>\n      <td>166777.0</td>\n      <td>170943.0</td>\n      <td>180339.0</td>\n      <td>194227.0</td>\n      <td>205778.0</td>\n      <td>...</td>\n      <td>50.00</td>\n      <td>63.16</td>\n      <td>74.64</td>\n      <td>90.30</td>\n      <td>102.70</td>\n      <td>108.05</td>\n      <td>111.81</td>\n      <td>108.71</td>\n      <td>103.12</td>\n      <td>92.38</td>\n    </tr>\n    <tr>\n      <th>2023-05-06 12:00:00</th>\n      <td>156546.0</td>\n      <td>150069.0</td>\n      <td>146385.0</td>\n      <td>145810.0</td>\n      <td>146519.0</td>\n      <td>148029.0</td>\n      <td>149051.0</td>\n      <td>156625.0</td>\n      <td>169065.0</td>\n      <td>181813.0</td>\n      <td>...</td>\n      <td>-0.03</td>\n      <td>15.44</td>\n      <td>56.62</td>\n      <td>75.97</td>\n      <td>94.94</td>\n      <td>99.36</td>\n      <td>106.45</td>\n      <td>105.02</td>\n      <td>99.30</td>\n      <td>96.07</td>\n    </tr>\n    <tr>\n      <th>2023-05-07 12:00:00</th>\n      <td>164319.0</td>\n      <td>158542.0</td>\n      <td>156600.0</td>\n      <td>157929.0</td>\n      <td>164306.0</td>\n      <td>179276.0</td>\n      <td>208210.0</td>\n      <td>229411.0</td>\n      <td>241925.0</td>\n      <td>245964.0</td>\n      <td>...</td>\n      <td>74.09</td>\n      <td>78.00</td>\n      <td>84.01</td>\n      <td>97.05</td>\n      <td>110.04</td>\n      <td>132.90</td>\n      <td>128.41</td>\n      <td>121.99</td>\n      <td>112.56</td>\n      <td>99.38</td>\n    </tr>\n    <tr>\n      <th>2023-05-08 12:00:00</th>\n      <td>173819.0</td>\n      <td>168778.0</td>\n      <td>165488.0</td>\n      <td>166900.0</td>\n      <td>172033.0</td>\n      <td>184683.0</td>\n      <td>211058.0</td>\n      <td>232091.0</td>\n      <td>243568.0</td>\n      <td>247291.0</td>\n      <td>...</td>\n      <td>68.29</td>\n      <td>80.80</td>\n      <td>84.44</td>\n      <td>100.06</td>\n      <td>116.34</td>\n      <td>121.93</td>\n      <td>121.05</td>\n      <td>110.97</td>\n      <td>104.67</td>\n      <td>89.93</td>\n    </tr>\n  </tbody>\n</table>\n<p>1618 rows × 48 columns</p>\n</div>"
     },
     "execution_count": 105,
     "metadata": {},
     "output_type": "execute_result"
    }
   ],
   "source": [
    "# ab wann sind die Daten verfügbar?\n",
    "\n",
    "# um 17:15 am 8.Mai\n",
    "# df_demand_hourly bis 2023-05-09 23:00\n",
    "# df_vre_hourly bis 2023-05-08 23:00\n",
    "# df_gen_hourly bis 2023-05-08 23:00\n",
    "# df_mcp_hourly bis 2023-05-09 23:00\n"
   ],
   "metadata": {
    "collapsed": false,
    "ExecuteTime": {
     "end_time": "2023-05-08T23:36:26.301584Z",
     "start_time": "2023-05-08T23:36:26.287328Z"
    }
   }
  },
  {
   "cell_type": "code",
   "execution_count": 108,
   "outputs": [],
   "source": [
    "df_mcp_hourly"
   ],
   "metadata": {
    "collapsed": false,
    "ExecuteTime": {
     "end_time": "2023-05-08T23:37:52.567168Z",
     "start_time": "2023-05-08T23:37:52.559183Z"
    }
   }
  },
  {
   "cell_type": "code",
   "execution_count": 110,
   "outputs": [],
   "source": [
    "# join der Daten ist nicht korrekt\n",
    "df = pd.concat([df_demand_hourly, df_vre_hourly, df_gen_hourly, df_mcp_hourly], axis=1)"
   ],
   "metadata": {
    "collapsed": false,
    "ExecuteTime": {
     "end_time": "2023-05-08T23:39:46.616023Z",
     "start_time": "2023-05-08T23:39:46.560534Z"
    }
   }
  },
  {
   "cell_type": "code",
   "execution_count": null,
   "outputs": [],
   "source": [],
   "metadata": {
    "collapsed": false
   }
  },
  {
   "cell_type": "code",
   "execution_count": 266,
   "outputs": [
    {
     "data": {
      "text/plain": "                     forecasted_load_hour_0  forecasted_load_hour_1   \n2023-03-01                              NaN                202201.0  \\\n2023-03-02                         210615.0                203958.0   \n2023-03-03                         209231.0                202353.0   \n2023-03-04                         208905.0                201157.0   \n2023-03-05                         184430.0                178168.0   \n...                                     ...                     ...   \n2023-05-05 00:00:00                     NaN                     NaN   \n2023-05-06 00:00:00                     NaN                     NaN   \n2023-05-07 00:00:00                     NaN                     NaN   \n2023-05-08 00:00:00                     NaN                     NaN   \n2023-05-09 00:00:00                     NaN                     NaN   \n\n                     forecasted_load_hour_2  forecasted_load_hour_3   \n2023-03-01                         199722.0                201209.0  \\\n2023-03-02                         201056.0                202722.0   \n2023-03-03                         200215.0                201846.0   \n2023-03-04                         197389.0                196285.0   \n2023-03-05                         174895.0                174166.0   \n...                                     ...                     ...   \n2023-05-05 00:00:00                     NaN                     NaN   \n2023-05-06 00:00:00                     NaN                     NaN   \n2023-05-07 00:00:00                     NaN                     NaN   \n2023-05-08 00:00:00                     NaN                     NaN   \n2023-05-09 00:00:00                     NaN                     NaN   \n\n                     forecasted_load_hour_4  forecasted_load_hour_5   \n2023-03-01                         205615.0                217546.0  \\\n2023-03-02                         207651.0                220122.0   \n2023-03-03                         207412.0                219564.0   \n2023-03-04                         196250.0                196526.0   \n2023-03-05                         174403.0                175287.0   \n...                                     ...                     ...   \n2023-05-05 00:00:00                     NaN                     NaN   \n2023-05-06 00:00:00                     NaN                     NaN   \n2023-05-07 00:00:00                     NaN                     NaN   \n2023-05-08 00:00:00                     NaN                     NaN   \n2023-05-09 00:00:00                     NaN                     NaN   \n\n                     forecasted_load_hour_6  forecasted_load_hour_7   \n2023-03-01                         242339.0                259557.0  \\\n2023-03-02                         245990.0                263352.0   \n2023-03-03                         242874.0                261214.0   \n2023-03-04                         201076.0                209615.0   \n2023-03-05                         175933.0                182501.0   \n...                                     ...                     ...   \n2023-05-05 00:00:00                     NaN                     NaN   \n2023-05-06 00:00:00                     NaN                     NaN   \n2023-05-07 00:00:00                     NaN                     NaN   \n2023-05-08 00:00:00                     NaN                     NaN   \n2023-05-09 00:00:00                     NaN                     NaN   \n\n                     forecasted_load_hour_8  forecasted_load_hour_9  ...   \n2023-03-01                         269253.0                273495.0  ...  \\\n2023-03-02                         273116.0                275667.0  ...   \n2023-03-03                         271378.0                273974.0  ...   \n2023-03-04                         221057.0                231850.0  ...   \n2023-03-05                         194247.0                206916.0  ...   \n...                                     ...                     ...  ...   \n2023-05-05 00:00:00                     NaN                     NaN  ...   \n2023-05-06 00:00:00                     NaN                     NaN  ...   \n2023-05-07 00:00:00                     NaN                     NaN  ...   \n2023-05-08 00:00:00                     NaN                     NaN  ...   \n2023-05-09 00:00:00                     NaN                     NaN  ...   \n\n                     market_price_hour_15  market_price_hour_16   \n2023-03-01                         122.81                135.46  \\\n2023-03-02                         128.62                152.64   \n2023-03-03                         114.69                129.31   \n2023-03-04                         101.77                106.90   \n2023-03-05                         115.14                129.37   \n...                                   ...                   ...   \n2023-05-05 00:00:00                 81.08                 91.16   \n2023-05-06 00:00:00                 63.16                 74.64   \n2023-05-07 00:00:00                 15.44                 56.62   \n2023-05-08 00:00:00                 78.00                 84.01   \n2023-05-09 00:00:00                 80.80                 84.44   \n\n                     market_price_hour_17  market_price_hour_18   \n2023-03-01                         162.74                183.69  \\\n2023-03-02                         166.38                184.91   \n2023-03-03                         155.98                165.00   \n2023-03-04                         140.00                151.66   \n2023-03-05                         145.14                166.67   \n...                                   ...                   ...   \n2023-05-05 00:00:00                100.17                112.80   \n2023-05-06 00:00:00                 90.30                102.70   \n2023-05-07 00:00:00                 75.97                 94.94   \n2023-05-08 00:00:00                 97.05                110.04   \n2023-05-09 00:00:00                100.06                116.34   \n\n                     market_price_hour_19  market_price_hour_20   \n2023-03-01                         182.48                162.74  \\\n2023-03-02                         184.13                163.43   \n2023-03-03                         152.94                133.31   \n2023-03-04                         145.00                138.68   \n2023-03-05                         172.37                160.23   \n...                                   ...                   ...   \n2023-05-05 00:00:00                120.54                128.57   \n2023-05-06 00:00:00                108.05                111.81   \n2023-05-07 00:00:00                 99.36                106.45   \n2023-05-08 00:00:00                132.90                128.41   \n2023-05-09 00:00:00                121.93                121.05   \n\n                     market_price_hour_21  market_price_hour_22   \n2023-03-01                         144.85                142.05  \\\n2023-03-02                         159.31                149.53   \n2023-03-03                         122.20                112.09   \n2023-03-04                         117.71                121.02   \n2023-03-05                         152.49                143.66   \n...                                   ...                   ...   \n2023-05-05 00:00:00                126.31                115.56   \n2023-05-06 00:00:00                108.71                103.12   \n2023-05-07 00:00:00                105.02                 99.30   \n2023-05-08 00:00:00                121.99                112.56   \n2023-05-09 00:00:00                110.97                104.67   \n\n                     market_price_hour_23         end_auction  \n2023-03-01                         131.51 2023-02-28 12:00:00  \n2023-03-02                         139.90 2023-03-01 12:00:00  \n2023-03-03                         101.63 2023-03-02 12:00:00  \n2023-03-04                         109.41 2023-03-03 12:00:00  \n2023-03-05                         130.13 2023-03-04 12:00:00  \n...                                   ...                 ...  \n2023-05-05 00:00:00                103.34 2023-05-04 12:00:00  \n2023-05-06 00:00:00                 92.38 2023-05-05 12:00:00  \n2023-05-07 00:00:00                 96.07 2023-05-06 12:00:00  \n2023-05-08 00:00:00                 99.38 2023-05-07 12:00:00  \n2023-05-09 00:00:00                 89.93 2023-05-08 12:00:00  \n\n[140 rows x 145 columns]",
      "text/html": "<div>\n<style scoped>\n    .dataframe tbody tr th:only-of-type {\n        vertical-align: middle;\n    }\n\n    .dataframe tbody tr th {\n        vertical-align: top;\n    }\n\n    .dataframe thead th {\n        text-align: right;\n    }\n</style>\n<table border=\"1\" class=\"dataframe\">\n  <thead>\n    <tr style=\"text-align: right;\">\n      <th></th>\n      <th>forecasted_load_hour_0</th>\n      <th>forecasted_load_hour_1</th>\n      <th>forecasted_load_hour_2</th>\n      <th>forecasted_load_hour_3</th>\n      <th>forecasted_load_hour_4</th>\n      <th>forecasted_load_hour_5</th>\n      <th>forecasted_load_hour_6</th>\n      <th>forecasted_load_hour_7</th>\n      <th>forecasted_load_hour_8</th>\n      <th>forecasted_load_hour_9</th>\n      <th>...</th>\n      <th>market_price_hour_15</th>\n      <th>market_price_hour_16</th>\n      <th>market_price_hour_17</th>\n      <th>market_price_hour_18</th>\n      <th>market_price_hour_19</th>\n      <th>market_price_hour_20</th>\n      <th>market_price_hour_21</th>\n      <th>market_price_hour_22</th>\n      <th>market_price_hour_23</th>\n      <th>end_auction</th>\n    </tr>\n  </thead>\n  <tbody>\n    <tr>\n      <th>2023-03-01</th>\n      <td>NaN</td>\n      <td>202201.0</td>\n      <td>199722.0</td>\n      <td>201209.0</td>\n      <td>205615.0</td>\n      <td>217546.0</td>\n      <td>242339.0</td>\n      <td>259557.0</td>\n      <td>269253.0</td>\n      <td>273495.0</td>\n      <td>...</td>\n      <td>122.81</td>\n      <td>135.46</td>\n      <td>162.74</td>\n      <td>183.69</td>\n      <td>182.48</td>\n      <td>162.74</td>\n      <td>144.85</td>\n      <td>142.05</td>\n      <td>131.51</td>\n      <td>2023-02-28 12:00:00</td>\n    </tr>\n    <tr>\n      <th>2023-03-02</th>\n      <td>210615.0</td>\n      <td>203958.0</td>\n      <td>201056.0</td>\n      <td>202722.0</td>\n      <td>207651.0</td>\n      <td>220122.0</td>\n      <td>245990.0</td>\n      <td>263352.0</td>\n      <td>273116.0</td>\n      <td>275667.0</td>\n      <td>...</td>\n      <td>128.62</td>\n      <td>152.64</td>\n      <td>166.38</td>\n      <td>184.91</td>\n      <td>184.13</td>\n      <td>163.43</td>\n      <td>159.31</td>\n      <td>149.53</td>\n      <td>139.90</td>\n      <td>2023-03-01 12:00:00</td>\n    </tr>\n    <tr>\n      <th>2023-03-03</th>\n      <td>209231.0</td>\n      <td>202353.0</td>\n      <td>200215.0</td>\n      <td>201846.0</td>\n      <td>207412.0</td>\n      <td>219564.0</td>\n      <td>242874.0</td>\n      <td>261214.0</td>\n      <td>271378.0</td>\n      <td>273974.0</td>\n      <td>...</td>\n      <td>114.69</td>\n      <td>129.31</td>\n      <td>155.98</td>\n      <td>165.00</td>\n      <td>152.94</td>\n      <td>133.31</td>\n      <td>122.20</td>\n      <td>112.09</td>\n      <td>101.63</td>\n      <td>2023-03-02 12:00:00</td>\n    </tr>\n    <tr>\n      <th>2023-03-04</th>\n      <td>208905.0</td>\n      <td>201157.0</td>\n      <td>197389.0</td>\n      <td>196285.0</td>\n      <td>196250.0</td>\n      <td>196526.0</td>\n      <td>201076.0</td>\n      <td>209615.0</td>\n      <td>221057.0</td>\n      <td>231850.0</td>\n      <td>...</td>\n      <td>101.77</td>\n      <td>106.90</td>\n      <td>140.00</td>\n      <td>151.66</td>\n      <td>145.00</td>\n      <td>138.68</td>\n      <td>117.71</td>\n      <td>121.02</td>\n      <td>109.41</td>\n      <td>2023-03-03 12:00:00</td>\n    </tr>\n    <tr>\n      <th>2023-03-05</th>\n      <td>184430.0</td>\n      <td>178168.0</td>\n      <td>174895.0</td>\n      <td>174166.0</td>\n      <td>174403.0</td>\n      <td>175287.0</td>\n      <td>175933.0</td>\n      <td>182501.0</td>\n      <td>194247.0</td>\n      <td>206916.0</td>\n      <td>...</td>\n      <td>115.14</td>\n      <td>129.37</td>\n      <td>145.14</td>\n      <td>166.67</td>\n      <td>172.37</td>\n      <td>160.23</td>\n      <td>152.49</td>\n      <td>143.66</td>\n      <td>130.13</td>\n      <td>2023-03-04 12:00:00</td>\n    </tr>\n    <tr>\n      <th>...</th>\n      <td>...</td>\n      <td>...</td>\n      <td>...</td>\n      <td>...</td>\n      <td>...</td>\n      <td>...</td>\n      <td>...</td>\n      <td>...</td>\n      <td>...</td>\n      <td>...</td>\n      <td>...</td>\n      <td>...</td>\n      <td>...</td>\n      <td>...</td>\n      <td>...</td>\n      <td>...</td>\n      <td>...</td>\n      <td>...</td>\n      <td>...</td>\n      <td>...</td>\n      <td>...</td>\n    </tr>\n    <tr>\n      <th>2023-05-05 00:00:00</th>\n      <td>NaN</td>\n      <td>NaN</td>\n      <td>NaN</td>\n      <td>NaN</td>\n      <td>NaN</td>\n      <td>NaN</td>\n      <td>NaN</td>\n      <td>NaN</td>\n      <td>NaN</td>\n      <td>NaN</td>\n      <td>...</td>\n      <td>81.08</td>\n      <td>91.16</td>\n      <td>100.17</td>\n      <td>112.80</td>\n      <td>120.54</td>\n      <td>128.57</td>\n      <td>126.31</td>\n      <td>115.56</td>\n      <td>103.34</td>\n      <td>2023-05-04 12:00:00</td>\n    </tr>\n    <tr>\n      <th>2023-05-06 00:00:00</th>\n      <td>NaN</td>\n      <td>NaN</td>\n      <td>NaN</td>\n      <td>NaN</td>\n      <td>NaN</td>\n      <td>NaN</td>\n      <td>NaN</td>\n      <td>NaN</td>\n      <td>NaN</td>\n      <td>NaN</td>\n      <td>...</td>\n      <td>63.16</td>\n      <td>74.64</td>\n      <td>90.30</td>\n      <td>102.70</td>\n      <td>108.05</td>\n      <td>111.81</td>\n      <td>108.71</td>\n      <td>103.12</td>\n      <td>92.38</td>\n      <td>2023-05-05 12:00:00</td>\n    </tr>\n    <tr>\n      <th>2023-05-07 00:00:00</th>\n      <td>NaN</td>\n      <td>NaN</td>\n      <td>NaN</td>\n      <td>NaN</td>\n      <td>NaN</td>\n      <td>NaN</td>\n      <td>NaN</td>\n      <td>NaN</td>\n      <td>NaN</td>\n      <td>NaN</td>\n      <td>...</td>\n      <td>15.44</td>\n      <td>56.62</td>\n      <td>75.97</td>\n      <td>94.94</td>\n      <td>99.36</td>\n      <td>106.45</td>\n      <td>105.02</td>\n      <td>99.30</td>\n      <td>96.07</td>\n      <td>2023-05-06 12:00:00</td>\n    </tr>\n    <tr>\n      <th>2023-05-08 00:00:00</th>\n      <td>NaN</td>\n      <td>NaN</td>\n      <td>NaN</td>\n      <td>NaN</td>\n      <td>NaN</td>\n      <td>NaN</td>\n      <td>NaN</td>\n      <td>NaN</td>\n      <td>NaN</td>\n      <td>NaN</td>\n      <td>...</td>\n      <td>78.00</td>\n      <td>84.01</td>\n      <td>97.05</td>\n      <td>110.04</td>\n      <td>132.90</td>\n      <td>128.41</td>\n      <td>121.99</td>\n      <td>112.56</td>\n      <td>99.38</td>\n      <td>2023-05-07 12:00:00</td>\n    </tr>\n    <tr>\n      <th>2023-05-09 00:00:00</th>\n      <td>NaN</td>\n      <td>NaN</td>\n      <td>NaN</td>\n      <td>NaN</td>\n      <td>NaN</td>\n      <td>NaN</td>\n      <td>NaN</td>\n      <td>NaN</td>\n      <td>NaN</td>\n      <td>NaN</td>\n      <td>...</td>\n      <td>80.80</td>\n      <td>84.44</td>\n      <td>100.06</td>\n      <td>116.34</td>\n      <td>121.93</td>\n      <td>121.05</td>\n      <td>110.97</td>\n      <td>104.67</td>\n      <td>89.93</td>\n      <td>2023-05-08 12:00:00</td>\n    </tr>\n  </tbody>\n</table>\n<p>140 rows × 145 columns</p>\n</div>"
     },
     "execution_count": 266,
     "metadata": {},
     "output_type": "execute_result"
    }
   ],
   "source": [
    "df"
   ],
   "metadata": {
    "collapsed": false,
    "ExecuteTime": {
     "end_time": "2023-05-08T14:52:03.644356Z",
     "start_time": "2023-05-08T14:52:03.638125Z"
    }
   }
  },
  {
   "cell_type": "code",
   "execution_count": 264,
   "outputs": [
    {
     "data": {
      "text/plain": "                     forecasted_load_hour_0  forecasted_load_hour_1   \n2023-03-01                              NaN                202201.0  \\\n2023-03-02                         210615.0                203958.0   \n2023-03-03                         209231.0                202353.0   \n2023-03-04                         208905.0                201157.0   \n2023-03-05                         184430.0                178168.0   \n...                                     ...                     ...   \n2023-05-05 00:00:00                     NaN                     NaN   \n2023-05-06 00:00:00                     NaN                     NaN   \n2023-05-07 00:00:00                     NaN                     NaN   \n2023-05-08 00:00:00                     NaN                     NaN   \n2023-05-09 00:00:00                     NaN                     NaN   \n\n                     forecasted_load_hour_2  forecasted_load_hour_3   \n2023-03-01                         199722.0                201209.0  \\\n2023-03-02                         201056.0                202722.0   \n2023-03-03                         200215.0                201846.0   \n2023-03-04                         197389.0                196285.0   \n2023-03-05                         174895.0                174166.0   \n...                                     ...                     ...   \n2023-05-05 00:00:00                     NaN                     NaN   \n2023-05-06 00:00:00                     NaN                     NaN   \n2023-05-07 00:00:00                     NaN                     NaN   \n2023-05-08 00:00:00                     NaN                     NaN   \n2023-05-09 00:00:00                     NaN                     NaN   \n\n                     forecasted_load_hour_4  forecasted_load_hour_5   \n2023-03-01                         205615.0                217546.0  \\\n2023-03-02                         207651.0                220122.0   \n2023-03-03                         207412.0                219564.0   \n2023-03-04                         196250.0                196526.0   \n2023-03-05                         174403.0                175287.0   \n...                                     ...                     ...   \n2023-05-05 00:00:00                     NaN                     NaN   \n2023-05-06 00:00:00                     NaN                     NaN   \n2023-05-07 00:00:00                     NaN                     NaN   \n2023-05-08 00:00:00                     NaN                     NaN   \n2023-05-09 00:00:00                     NaN                     NaN   \n\n                     forecasted_load_hour_6  forecasted_load_hour_7   \n2023-03-01                         242339.0                259557.0  \\\n2023-03-02                         245990.0                263352.0   \n2023-03-03                         242874.0                261214.0   \n2023-03-04                         201076.0                209615.0   \n2023-03-05                         175933.0                182501.0   \n...                                     ...                     ...   \n2023-05-05 00:00:00                     NaN                     NaN   \n2023-05-06 00:00:00                     NaN                     NaN   \n2023-05-07 00:00:00                     NaN                     NaN   \n2023-05-08 00:00:00                     NaN                     NaN   \n2023-05-09 00:00:00                     NaN                     NaN   \n\n                     forecasted_load_hour_8  forecasted_load_hour_9  ...   \n2023-03-01                         269253.0                273495.0  ...  \\\n2023-03-02                         273116.0                275667.0  ...   \n2023-03-03                         271378.0                273974.0  ...   \n2023-03-04                         221057.0                231850.0  ...   \n2023-03-05                         194247.0                206916.0  ...   \n...                                     ...                     ...  ...   \n2023-05-05 00:00:00                     NaN                     NaN  ...   \n2023-05-06 00:00:00                     NaN                     NaN  ...   \n2023-05-07 00:00:00                     NaN                     NaN  ...   \n2023-05-08 00:00:00                     NaN                     NaN  ...   \n2023-05-09 00:00:00                     NaN                     NaN  ...   \n\n                     actual_aggregated_hour_14  actual_aggregated_hour_15   \n2023-03-01                             65345.0                    62459.0  \\\n2023-03-02                             64766.0                    62527.0   \n2023-03-03                             63956.0                    63140.0   \n2023-03-04                             63282.0                    59050.0   \n2023-03-05                             53158.0                    51560.0   \n...                                        ...                        ...   \n2023-05-05 00:00:00                        NaN                        NaN   \n2023-05-06 00:00:00                        NaN                        NaN   \n2023-05-07 00:00:00                        NaN                        NaN   \n2023-05-08 00:00:00                        NaN                        NaN   \n2023-05-09 00:00:00                        NaN                        NaN   \n\n                     actual_aggregated_hour_16  actual_aggregated_hour_17   \n2023-03-01                             60284.0                    59173.0  \\\n2023-03-02                             59583.0                    57823.0   \n2023-03-03                             60778.0                    61207.0   \n2023-03-04                             56785.0                    57083.0   \n2023-03-05                             51022.0                    50149.0   \n...                                        ...                        ...   \n2023-05-05 00:00:00                        NaN                        NaN   \n2023-05-06 00:00:00                        NaN                        NaN   \n2023-05-07 00:00:00                        NaN                        NaN   \n2023-05-08 00:00:00                        NaN                        NaN   \n2023-05-09 00:00:00                        NaN                        NaN   \n\n                     actual_aggregated_hour_18  actual_aggregated_hour_19   \n2023-03-01                             59953.0                    61257.0  \\\n2023-03-02                             60239.0                    60564.0   \n2023-03-03                             64438.0                    65723.0   \n2023-03-04                             58042.0                    56685.0   \n2023-03-05                             51444.0                    51724.0   \n...                                        ...                        ...   \n2023-05-05 00:00:00                        NaN                        NaN   \n2023-05-06 00:00:00                        NaN                        NaN   \n2023-05-07 00:00:00                        NaN                        NaN   \n2023-05-08 00:00:00                        NaN                        NaN   \n2023-05-09 00:00:00                        NaN                        NaN   \n\n                     actual_aggregated_hour_20  actual_aggregated_hour_21   \n2023-03-01                             60815.0                    59067.0  \\\n2023-03-02                             58558.0                    56498.0   \n2023-03-03                             63449.0                    60150.0   \n2023-03-04                             53738.0                    51005.0   \n2023-03-05                             51493.0                    49932.0   \n...                                        ...                        ...   \n2023-05-05 00:00:00                        NaN                        NaN   \n2023-05-06 00:00:00                        NaN                        NaN   \n2023-05-07 00:00:00                        NaN                        NaN   \n2023-05-08 00:00:00                        NaN                        NaN   \n2023-05-09 00:00:00                        NaN                        NaN   \n\n                     actual_aggregated_hour_22  actual_aggregated_hour_23  \n2023-03-01                             55816.0                    52488.0  \n2023-03-02                             53556.0                    50519.0  \n2023-03-03                             56615.0                    55302.0  \n2023-03-04                             49924.0                    47419.0  \n2023-03-05                             49412.0                    46521.0  \n...                                        ...                        ...  \n2023-05-05 00:00:00                        NaN                        NaN  \n2023-05-06 00:00:00                        NaN                        NaN  \n2023-05-07 00:00:00                        NaN                        NaN  \n2023-05-08 00:00:00                        NaN                        NaN  \n2023-05-09 00:00:00                        NaN                        NaN  \n\n[140 rows x 145 columns]",
      "text/html": "<div>\n<style scoped>\n    .dataframe tbody tr th:only-of-type {\n        vertical-align: middle;\n    }\n\n    .dataframe tbody tr th {\n        vertical-align: top;\n    }\n\n    .dataframe thead th {\n        text-align: right;\n    }\n</style>\n<table border=\"1\" class=\"dataframe\">\n  <thead>\n    <tr style=\"text-align: right;\">\n      <th></th>\n      <th>forecasted_load_hour_0</th>\n      <th>forecasted_load_hour_1</th>\n      <th>forecasted_load_hour_2</th>\n      <th>forecasted_load_hour_3</th>\n      <th>forecasted_load_hour_4</th>\n      <th>forecasted_load_hour_5</th>\n      <th>forecasted_load_hour_6</th>\n      <th>forecasted_load_hour_7</th>\n      <th>forecasted_load_hour_8</th>\n      <th>forecasted_load_hour_9</th>\n      <th>...</th>\n      <th>actual_aggregated_hour_14</th>\n      <th>actual_aggregated_hour_15</th>\n      <th>actual_aggregated_hour_16</th>\n      <th>actual_aggregated_hour_17</th>\n      <th>actual_aggregated_hour_18</th>\n      <th>actual_aggregated_hour_19</th>\n      <th>actual_aggregated_hour_20</th>\n      <th>actual_aggregated_hour_21</th>\n      <th>actual_aggregated_hour_22</th>\n      <th>actual_aggregated_hour_23</th>\n    </tr>\n  </thead>\n  <tbody>\n    <tr>\n      <th>2023-03-01</th>\n      <td>NaN</td>\n      <td>202201.0</td>\n      <td>199722.0</td>\n      <td>201209.0</td>\n      <td>205615.0</td>\n      <td>217546.0</td>\n      <td>242339.0</td>\n      <td>259557.0</td>\n      <td>269253.0</td>\n      <td>273495.0</td>\n      <td>...</td>\n      <td>65345.0</td>\n      <td>62459.0</td>\n      <td>60284.0</td>\n      <td>59173.0</td>\n      <td>59953.0</td>\n      <td>61257.0</td>\n      <td>60815.0</td>\n      <td>59067.0</td>\n      <td>55816.0</td>\n      <td>52488.0</td>\n    </tr>\n    <tr>\n      <th>2023-03-02</th>\n      <td>210615.0</td>\n      <td>203958.0</td>\n      <td>201056.0</td>\n      <td>202722.0</td>\n      <td>207651.0</td>\n      <td>220122.0</td>\n      <td>245990.0</td>\n      <td>263352.0</td>\n      <td>273116.0</td>\n      <td>275667.0</td>\n      <td>...</td>\n      <td>64766.0</td>\n      <td>62527.0</td>\n      <td>59583.0</td>\n      <td>57823.0</td>\n      <td>60239.0</td>\n      <td>60564.0</td>\n      <td>58558.0</td>\n      <td>56498.0</td>\n      <td>53556.0</td>\n      <td>50519.0</td>\n    </tr>\n    <tr>\n      <th>2023-03-03</th>\n      <td>209231.0</td>\n      <td>202353.0</td>\n      <td>200215.0</td>\n      <td>201846.0</td>\n      <td>207412.0</td>\n      <td>219564.0</td>\n      <td>242874.0</td>\n      <td>261214.0</td>\n      <td>271378.0</td>\n      <td>273974.0</td>\n      <td>...</td>\n      <td>63956.0</td>\n      <td>63140.0</td>\n      <td>60778.0</td>\n      <td>61207.0</td>\n      <td>64438.0</td>\n      <td>65723.0</td>\n      <td>63449.0</td>\n      <td>60150.0</td>\n      <td>56615.0</td>\n      <td>55302.0</td>\n    </tr>\n    <tr>\n      <th>2023-03-04</th>\n      <td>208905.0</td>\n      <td>201157.0</td>\n      <td>197389.0</td>\n      <td>196285.0</td>\n      <td>196250.0</td>\n      <td>196526.0</td>\n      <td>201076.0</td>\n      <td>209615.0</td>\n      <td>221057.0</td>\n      <td>231850.0</td>\n      <td>...</td>\n      <td>63282.0</td>\n      <td>59050.0</td>\n      <td>56785.0</td>\n      <td>57083.0</td>\n      <td>58042.0</td>\n      <td>56685.0</td>\n      <td>53738.0</td>\n      <td>51005.0</td>\n      <td>49924.0</td>\n      <td>47419.0</td>\n    </tr>\n    <tr>\n      <th>2023-03-05</th>\n      <td>184430.0</td>\n      <td>178168.0</td>\n      <td>174895.0</td>\n      <td>174166.0</td>\n      <td>174403.0</td>\n      <td>175287.0</td>\n      <td>175933.0</td>\n      <td>182501.0</td>\n      <td>194247.0</td>\n      <td>206916.0</td>\n      <td>...</td>\n      <td>53158.0</td>\n      <td>51560.0</td>\n      <td>51022.0</td>\n      <td>50149.0</td>\n      <td>51444.0</td>\n      <td>51724.0</td>\n      <td>51493.0</td>\n      <td>49932.0</td>\n      <td>49412.0</td>\n      <td>46521.0</td>\n    </tr>\n    <tr>\n      <th>...</th>\n      <td>...</td>\n      <td>...</td>\n      <td>...</td>\n      <td>...</td>\n      <td>...</td>\n      <td>...</td>\n      <td>...</td>\n      <td>...</td>\n      <td>...</td>\n      <td>...</td>\n      <td>...</td>\n      <td>...</td>\n      <td>...</td>\n      <td>...</td>\n      <td>...</td>\n      <td>...</td>\n      <td>...</td>\n      <td>...</td>\n      <td>...</td>\n      <td>...</td>\n      <td>...</td>\n    </tr>\n    <tr>\n      <th>2023-05-05 00:00:00</th>\n      <td>NaN</td>\n      <td>NaN</td>\n      <td>NaN</td>\n      <td>NaN</td>\n      <td>NaN</td>\n      <td>NaN</td>\n      <td>NaN</td>\n      <td>NaN</td>\n      <td>NaN</td>\n      <td>NaN</td>\n      <td>...</td>\n      <td>NaN</td>\n      <td>NaN</td>\n      <td>NaN</td>\n      <td>NaN</td>\n      <td>NaN</td>\n      <td>NaN</td>\n      <td>NaN</td>\n      <td>NaN</td>\n      <td>NaN</td>\n      <td>NaN</td>\n    </tr>\n    <tr>\n      <th>2023-05-06 00:00:00</th>\n      <td>NaN</td>\n      <td>NaN</td>\n      <td>NaN</td>\n      <td>NaN</td>\n      <td>NaN</td>\n      <td>NaN</td>\n      <td>NaN</td>\n      <td>NaN</td>\n      <td>NaN</td>\n      <td>NaN</td>\n      <td>...</td>\n      <td>NaN</td>\n      <td>NaN</td>\n      <td>NaN</td>\n      <td>NaN</td>\n      <td>NaN</td>\n      <td>NaN</td>\n      <td>NaN</td>\n      <td>NaN</td>\n      <td>NaN</td>\n      <td>NaN</td>\n    </tr>\n    <tr>\n      <th>2023-05-07 00:00:00</th>\n      <td>NaN</td>\n      <td>NaN</td>\n      <td>NaN</td>\n      <td>NaN</td>\n      <td>NaN</td>\n      <td>NaN</td>\n      <td>NaN</td>\n      <td>NaN</td>\n      <td>NaN</td>\n      <td>NaN</td>\n      <td>...</td>\n      <td>NaN</td>\n      <td>NaN</td>\n      <td>NaN</td>\n      <td>NaN</td>\n      <td>NaN</td>\n      <td>NaN</td>\n      <td>NaN</td>\n      <td>NaN</td>\n      <td>NaN</td>\n      <td>NaN</td>\n    </tr>\n    <tr>\n      <th>2023-05-08 00:00:00</th>\n      <td>NaN</td>\n      <td>NaN</td>\n      <td>NaN</td>\n      <td>NaN</td>\n      <td>NaN</td>\n      <td>NaN</td>\n      <td>NaN</td>\n      <td>NaN</td>\n      <td>NaN</td>\n      <td>NaN</td>\n      <td>...</td>\n      <td>NaN</td>\n      <td>NaN</td>\n      <td>NaN</td>\n      <td>NaN</td>\n      <td>NaN</td>\n      <td>NaN</td>\n      <td>NaN</td>\n      <td>NaN</td>\n      <td>NaN</td>\n      <td>NaN</td>\n    </tr>\n    <tr>\n      <th>2023-05-09 00:00:00</th>\n      <td>NaN</td>\n      <td>NaN</td>\n      <td>NaN</td>\n      <td>NaN</td>\n      <td>NaN</td>\n      <td>NaN</td>\n      <td>NaN</td>\n      <td>NaN</td>\n      <td>NaN</td>\n      <td>NaN</td>\n      <td>...</td>\n      <td>NaN</td>\n      <td>NaN</td>\n      <td>NaN</td>\n      <td>NaN</td>\n      <td>NaN</td>\n      <td>NaN</td>\n      <td>NaN</td>\n      <td>NaN</td>\n      <td>NaN</td>\n      <td>NaN</td>\n    </tr>\n  </tbody>\n</table>\n<p>140 rows × 145 columns</p>\n</div>"
     },
     "execution_count": 264,
     "metadata": {},
     "output_type": "execute_result"
    }
   ],
   "source": [
    "df"
   ],
   "metadata": {
    "collapsed": false,
    "ExecuteTime": {
     "end_time": "2023-05-08T14:51:42.098533Z",
     "start_time": "2023-05-08T14:51:42.094912Z"
    }
   }
  },
  {
   "cell_type": "code",
   "execution_count": null,
   "outputs": [],
   "source": [],
   "metadata": {
    "collapsed": false
   }
  },
  {
   "cell_type": "markdown",
   "source": [
    "# Bedeutung der einzelnen Variablen\n",
    "- Forecasted Load:\n",
    "- Solar\n",
    "- Wind Offshore:\n",
    "- Wind Onshore:\n",
    "- day ahead market price: EUR/MWh\n"
   ],
   "metadata": {
    "collapsed": false
   }
  },
  {
   "cell_type": "code",
   "execution_count": null,
   "outputs": [],
   "source": [],
   "metadata": {
    "collapsed": false
   }
  }
 ],
 "metadata": {
  "kernelspec": {
   "display_name": "Python 3",
   "language": "python",
   "name": "python3"
  },
  "language_info": {
   "codemirror_mode": {
    "name": "ipython",
    "version": 2
   },
   "file_extension": ".py",
   "mimetype": "text/x-python",
   "name": "python",
   "nbconvert_exporter": "python",
   "pygments_lexer": "ipython2",
   "version": "2.7.6"
  }
 },
 "nbformat": 4,
 "nbformat_minor": 0
}
