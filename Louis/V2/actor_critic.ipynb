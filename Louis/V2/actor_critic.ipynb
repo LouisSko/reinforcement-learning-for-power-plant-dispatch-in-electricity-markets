{
 "cells": [
  {
   "cell_type": "code",
   "execution_count": 21,
   "outputs": [
    {
     "name": "stdout",
     "output_type": "stream",
     "text": [
      "The autoreload extension is already loaded. To reload it, use:\n",
      "  %reload_ext autoreload\n"
     ]
    }
   ],
   "source": [
    "%load_ext autoreload\n",
    "%autoreload 2"
   ],
   "metadata": {
    "collapsed": false,
    "ExecuteTime": {
     "end_time": "2023-06-08T12:17:05.463250Z",
     "start_time": "2023-06-08T12:17:05.131533Z"
    }
   }
  },
  {
   "cell_type": "code",
   "execution_count": 22,
   "outputs": [],
   "source": [
    "from import_data import get_data, read_processed_files, get_solar_actual, get_solar_estimate\n",
    "from environment import market_env\n",
    "from actor_critic import ActorCriticAgent\n",
    "from utils import plot_learning_curve\n",
    "import numpy as np\n",
    "import pandas as pd\n",
    "import os"
   ],
   "metadata": {
    "collapsed": false,
    "ExecuteTime": {
     "end_time": "2023-06-08T12:17:05.506062Z",
     "start_time": "2023-06-08T12:17:05.463765Z"
    }
   }
  },
  {
   "cell_type": "markdown",
   "source": [
    "# Get Data"
   ],
   "metadata": {
    "collapsed": false
   }
  },
  {
   "cell_type": "code",
   "execution_count": 3,
   "outputs": [
    {
     "name": "stdout",
     "output_type": "stream",
     "text": [
      "retrieved demand\n",
      "retrieved solar, wind\n",
      "retrieved gen\n",
      "retrieved price\n",
      "retrieved solar capacity actual\n",
      "retrieved solar capacity forecast\n",
      "saved data\n"
     ]
    }
   ],
   "source": [
    "get_data()"
   ],
   "metadata": {
    "collapsed": false,
    "ExecuteTime": {
     "end_time": "2023-06-08T11:13:57.663067Z",
     "start_time": "2023-06-08T10:50:41.476803Z"
    }
   }
  },
  {
   "cell_type": "code",
   "execution_count": 23,
   "outputs": [],
   "source": [
    "df_demand, df_demand_scaled, df_vre, df_vre_scaled, df_gen, df_gen_scaled, df_solar_cap_forecast, df_solar_cap_actual, df_mcp = read_processed_files()"
   ],
   "metadata": {
    "collapsed": false,
    "ExecuteTime": {
     "end_time": "2023-06-08T12:17:07.806993Z",
     "start_time": "2023-06-08T12:17:07.738685Z"
    }
   }
  },
  {
   "cell_type": "code",
   "execution_count": 24,
   "outputs": [
    {
     "name": "stderr",
     "output_type": "stream",
     "text": [
      "/Users/louis.skowronek/miniforge3/envs/bda_env/lib/python3.9/site-packages/gym/spaces/box.py:127: UserWarning: \u001B[33mWARN: Box bound precision lowered by casting to float32\u001B[0m\n",
      "  logger.warn(f\"Box bound precision lowered by casting to {self.dtype}\")\n"
     ]
    }
   ],
   "source": [
    "# Example usage\n",
    "env = market_env(demand=df_demand_scaled, re=df_vre_scaled, capacity_forecast= df_solar_cap_forecast, capacity_actual=df_solar_cap_actual, prices=df_mcp, eps_length=24, capacity=200, mc=30)"
   ],
   "metadata": {
    "collapsed": false,
    "ExecuteTime": {
     "end_time": "2023-06-08T12:17:08.618903Z",
     "start_time": "2023-06-08T12:17:07.936129Z"
    }
   }
  },
  {
   "cell_type": "code",
   "execution_count": 25,
   "outputs": [],
   "source": [
    "input_size = env.observation_space.shape[0]\n",
    "n_actions_prc = env.action_space[0].n\n",
    "n_actions_vol = env.action_space[1].n\n",
    "n_games = 1000\n",
    "\n",
    "agent = ActorCriticAgent(input_size, n_actions_prc, n_actions_vol)\n",
    "\n",
    "best_score = env.reward_range[0]\n",
    "score_history = []\n",
    "load_checkpoint = False"
   ],
   "metadata": {
    "collapsed": false,
    "ExecuteTime": {
     "end_time": "2023-06-08T12:17:08.649231Z",
     "start_time": "2023-06-08T12:17:08.619111Z"
    }
   }
  },
  {
   "cell_type": "code",
   "execution_count": 26,
   "outputs": [],
   "source": [
    "observation = env.reset()"
   ],
   "metadata": {
    "collapsed": false,
    "ExecuteTime": {
     "end_time": "2023-06-08T12:17:09.492007Z",
     "start_time": "2023-06-08T12:17:09.444569Z"
    }
   }
  },
  {
   "cell_type": "code",
   "execution_count": 27,
   "outputs": [],
   "source": [
    "import torch"
   ],
   "metadata": {
    "collapsed": false,
    "ExecuteTime": {
     "end_time": "2023-06-08T12:17:09.701772Z",
     "start_time": "2023-06-08T12:17:09.666962Z"
    }
   }
  },
  {
   "cell_type": "code",
   "execution_count": 32,
   "outputs": [
    {
     "data": {
      "text/plain": "tensor(2)"
     },
     "execution_count": 32,
     "metadata": {},
     "output_type": "execute_result"
    }
   ],
   "source": [
    "torch.cat([torch.tensor([2]), torch.tensor([3])])[0]"
   ],
   "metadata": {
    "collapsed": false,
    "ExecuteTime": {
     "end_time": "2023-06-08T12:17:25.897513Z",
     "start_time": "2023-06-08T12:17:25.858675Z"
    }
   }
  },
  {
   "cell_type": "code",
   "execution_count": 36,
   "outputs": [
    {
     "ename": "TypeError",
     "evalue": "expected Tensor as element 0 in argument 0, but got tuple",
     "output_type": "error",
     "traceback": [
      "\u001B[0;31m---------------------------------------------------------------------------\u001B[0m",
      "\u001B[0;31mTypeError\u001B[0m                                 Traceback (most recent call last)",
      "Cell \u001B[0;32mIn[36], line 1\u001B[0m\n\u001B[0;32m----> 1\u001B[0m \u001B[43mtorch\u001B[49m\u001B[38;5;241;43m.\u001B[39;49m\u001B[43mcat\u001B[49m\u001B[43m(\u001B[49m\u001B[43m[\u001B[49m\u001B[43magent\u001B[49m\u001B[38;5;241;43m.\u001B[39;49m\u001B[43mchoose_action\u001B[49m\u001B[43m(\u001B[49m\u001B[43mobservation\u001B[49m\u001B[43m)\u001B[49m\u001B[43m]\u001B[49m\u001B[43m)\u001B[49m\n",
      "\u001B[0;31mTypeError\u001B[0m: expected Tensor as element 0 in argument 0, but got tuple"
     ]
    }
   ],
   "source": [
    "torch.cat([agent.choose_action(observation)])"
   ],
   "metadata": {
    "collapsed": false,
    "ExecuteTime": {
     "end_time": "2023-06-08T12:17:53.888224Z",
     "start_time": "2023-06-08T12:17:53.791389Z"
    }
   }
  },
  {
   "cell_type": "code",
   "execution_count": 40,
   "outputs": [
    {
     "data": {
      "text/plain": "tensor(19)"
     },
     "execution_count": 40,
     "metadata": {},
     "output_type": "execute_result"
    }
   ],
   "source": [
    "agent.choose_action(observation)[0], agent.choose_action(observation)[1]"
   ],
   "metadata": {
    "collapsed": false,
    "ExecuteTime": {
     "end_time": "2023-06-08T12:18:56.397600Z",
     "start_time": "2023-06-08T12:18:56.176935Z"
    }
   }
  },
  {
   "cell_type": "code",
   "execution_count": 9,
   "outputs": [
    {
     "ename": "ValueError",
     "evalue": "The value argument to log_prob must be a Tensor",
     "output_type": "error",
     "traceback": [
      "\u001B[0;31m---------------------------------------------------------------------------\u001B[0m",
      "\u001B[0;31mValueError\u001B[0m                                Traceback (most recent call last)",
      "Cell \u001B[0;32mIn[9], line 19\u001B[0m\n\u001B[1;32m     17\u001B[0m     score \u001B[38;5;241m+\u001B[39m\u001B[38;5;241m=\u001B[39m reward\n\u001B[1;32m     18\u001B[0m     \u001B[38;5;28;01mif\u001B[39;00m \u001B[38;5;129;01mnot\u001B[39;00m load_checkpoint:\n\u001B[0;32m---> 19\u001B[0m         \u001B[43magent\u001B[49m\u001B[38;5;241;43m.\u001B[39;49m\u001B[43mupdate\u001B[49m\u001B[43m(\u001B[49m\u001B[43mobservation\u001B[49m\u001B[43m,\u001B[49m\u001B[43m \u001B[49m\u001B[43mreward\u001B[49m\u001B[43m,\u001B[49m\u001B[43m \u001B[49m\u001B[43mobservation_next\u001B[49m\u001B[43m,\u001B[49m\u001B[43m \u001B[49m\u001B[43mdone\u001B[49m\u001B[43m)\u001B[49m\n\u001B[1;32m     20\u001B[0m     observation \u001B[38;5;241m=\u001B[39m observation_next\n\u001B[1;32m     22\u001B[0m score_history\u001B[38;5;241m.\u001B[39mappend(score)\n",
      "File \u001B[0;32m~/bda-case-challenge/Louis/V2/actor_critic.py:56\u001B[0m, in \u001B[0;36mActorCriticAgent.update\u001B[0;34m(self, state, reward, state_next, done)\u001B[0m\n\u001B[1;32m     53\u001B[0m action_prc_probs \u001B[38;5;241m=\u001B[39m torch\u001B[38;5;241m.\u001B[39mdistributions\u001B[38;5;241m.\u001B[39mCategorical(probs\u001B[38;5;241m=\u001B[39mprobs_prc)\n\u001B[1;32m     54\u001B[0m action_vol_probs \u001B[38;5;241m=\u001B[39m torch\u001B[38;5;241m.\u001B[39mdistributions\u001B[38;5;241m.\u001B[39mCategorical(probs\u001B[38;5;241m=\u001B[39mprobs_vol)\n\u001B[0;32m---> 56\u001B[0m log_prob_prc \u001B[38;5;241m=\u001B[39m \u001B[43maction_prc_probs\u001B[49m\u001B[38;5;241;43m.\u001B[39;49m\u001B[43mlog_prob\u001B[49m\u001B[43m(\u001B[49m\u001B[38;5;28;43mself\u001B[39;49m\u001B[38;5;241;43m.\u001B[39;49m\u001B[43maction\u001B[49m\u001B[43m[\u001B[49m\u001B[38;5;241;43m0\u001B[39;49m\u001B[43m]\u001B[49m\u001B[43m)\u001B[49m\n\u001B[1;32m     57\u001B[0m log_prob_vol \u001B[38;5;241m=\u001B[39m action_vol_probs\u001B[38;5;241m.\u001B[39mlog_prob(\u001B[38;5;28mself\u001B[39m\u001B[38;5;241m.\u001B[39maction[\u001B[38;5;241m1\u001B[39m])\n\u001B[1;32m     59\u001B[0m delta \u001B[38;5;241m=\u001B[39m reward \u001B[38;5;241m+\u001B[39m \u001B[38;5;28mself\u001B[39m\u001B[38;5;241m.\u001B[39mgamma \u001B[38;5;241m*\u001B[39m state_value_next \u001B[38;5;241m*\u001B[39m (\u001B[38;5;241m1\u001B[39m \u001B[38;5;241m-\u001B[39m \u001B[38;5;28mint\u001B[39m(done)) \u001B[38;5;241m-\u001B[39m state_value\n",
      "File \u001B[0;32m~/miniforge3/envs/bda_env/lib/python3.9/site-packages/torch/distributions/categorical.py:123\u001B[0m, in \u001B[0;36mCategorical.log_prob\u001B[0;34m(self, value)\u001B[0m\n\u001B[1;32m    121\u001B[0m \u001B[38;5;28;01mdef\u001B[39;00m \u001B[38;5;21mlog_prob\u001B[39m(\u001B[38;5;28mself\u001B[39m, value):\n\u001B[1;32m    122\u001B[0m     \u001B[38;5;28;01mif\u001B[39;00m \u001B[38;5;28mself\u001B[39m\u001B[38;5;241m.\u001B[39m_validate_args:\n\u001B[0;32m--> 123\u001B[0m         \u001B[38;5;28;43mself\u001B[39;49m\u001B[38;5;241;43m.\u001B[39;49m\u001B[43m_validate_sample\u001B[49m\u001B[43m(\u001B[49m\u001B[43mvalue\u001B[49m\u001B[43m)\u001B[49m\n\u001B[1;32m    124\u001B[0m     value \u001B[38;5;241m=\u001B[39m value\u001B[38;5;241m.\u001B[39mlong()\u001B[38;5;241m.\u001B[39munsqueeze(\u001B[38;5;241m-\u001B[39m\u001B[38;5;241m1\u001B[39m)\n\u001B[1;32m    125\u001B[0m     value, log_pmf \u001B[38;5;241m=\u001B[39m torch\u001B[38;5;241m.\u001B[39mbroadcast_tensors(value, \u001B[38;5;28mself\u001B[39m\u001B[38;5;241m.\u001B[39mlogits)\n",
      "File \u001B[0;32m~/miniforge3/envs/bda_env/lib/python3.9/site-packages/torch/distributions/distribution.py:277\u001B[0m, in \u001B[0;36mDistribution._validate_sample\u001B[0;34m(self, value)\u001B[0m\n\u001B[1;32m    263\u001B[0m \u001B[38;5;250m\u001B[39m\u001B[38;5;124;03m\"\"\"\u001B[39;00m\n\u001B[1;32m    264\u001B[0m \u001B[38;5;124;03mArgument validation for distribution methods such as `log_prob`,\u001B[39;00m\n\u001B[1;32m    265\u001B[0m \u001B[38;5;124;03m`cdf` and `icdf`. The rightmost dimensions of a value to be\u001B[39;00m\n\u001B[0;32m   (...)\u001B[0m\n\u001B[1;32m    274\u001B[0m \u001B[38;5;124;03m        distribution's batch and event shapes.\u001B[39;00m\n\u001B[1;32m    275\u001B[0m \u001B[38;5;124;03m\"\"\"\u001B[39;00m\n\u001B[1;32m    276\u001B[0m \u001B[38;5;28;01mif\u001B[39;00m \u001B[38;5;129;01mnot\u001B[39;00m \u001B[38;5;28misinstance\u001B[39m(value, torch\u001B[38;5;241m.\u001B[39mTensor):\n\u001B[0;32m--> 277\u001B[0m     \u001B[38;5;28;01mraise\u001B[39;00m \u001B[38;5;167;01mValueError\u001B[39;00m(\u001B[38;5;124m'\u001B[39m\u001B[38;5;124mThe value argument to log_prob must be a Tensor\u001B[39m\u001B[38;5;124m'\u001B[39m)\n\u001B[1;32m    279\u001B[0m event_dim_start \u001B[38;5;241m=\u001B[39m \u001B[38;5;28mlen\u001B[39m(value\u001B[38;5;241m.\u001B[39msize()) \u001B[38;5;241m-\u001B[39m \u001B[38;5;28mlen\u001B[39m(\u001B[38;5;28mself\u001B[39m\u001B[38;5;241m.\u001B[39m_event_shape)\n\u001B[1;32m    280\u001B[0m \u001B[38;5;28;01mif\u001B[39;00m value\u001B[38;5;241m.\u001B[39msize()[event_dim_start:] \u001B[38;5;241m!=\u001B[39m \u001B[38;5;28mself\u001B[39m\u001B[38;5;241m.\u001B[39m_event_shape:\n",
      "\u001B[0;31mValueError\u001B[0m: The value argument to log_prob must be a Tensor"
     ]
    }
   ],
   "source": [
    "reward_history = []\n",
    "\n",
    "if load_checkpoint:\n",
    "    agent.load_models()\n",
    "\n",
    "for i in range(n_games):\n",
    "    observation = env.reset()\n",
    "    done = False\n",
    "    score = 0\n",
    "\n",
    "\n",
    "    while not done:\n",
    "\n",
    "        action = agent.choose_action(observation)\n",
    "\n",
    "        observation_next, reward, done, _ = env.step(action)\n",
    "        score += reward\n",
    "        if not load_checkpoint:\n",
    "            agent.update(observation, reward, observation_next, done)\n",
    "        observation = observation_next\n",
    "\n",
    "    score_history.append(score)\n",
    "    avg_score = np.mean(score_history[-100:])\n",
    "\n",
    "    if avg_score > best_score:\n",
    "        best_score = avg_score\n",
    "        if not load_checkpoint:\n",
    "            agent.save_models()\n",
    "\n",
    "    print('episode ', i, 'score %.1f' % score, 'avg_score %.1f' % avg_score)"
   ],
   "metadata": {
    "collapsed": false,
    "ExecuteTime": {
     "end_time": "2023-06-08T12:13:28.115324Z",
     "start_time": "2023-06-08T12:13:27.761132Z"
    }
   }
  },
  {
   "cell_type": "code",
   "execution_count": 19,
   "outputs": [
    {
     "data": {
      "text/plain": "             reward  market price     bid price  bid volume\ncount  18336.000000  18336.000000  18336.000000     18336.0\nmean       7.130496     97.223395     33.787304       200.0\nstd        3.793304    108.177987     27.562829         0.0\nmin       -6.333300    -90.010000      0.000000       200.0\n25%        6.709900     35.150000     30.000000       200.0\n50%        8.402900     53.070000     30.000000       200.0\n75%        9.760950    117.992500     30.000000       200.0\nmax       12.007600    850.000000    294.000000       200.0",
      "text/html": "<div>\n<style scoped>\n    .dataframe tbody tr th:only-of-type {\n        vertical-align: middle;\n    }\n\n    .dataframe tbody tr th {\n        vertical-align: top;\n    }\n\n    .dataframe thead th {\n        text-align: right;\n    }\n</style>\n<table border=\"1\" class=\"dataframe\">\n  <thead>\n    <tr style=\"text-align: right;\">\n      <th></th>\n      <th>reward</th>\n      <th>market price</th>\n      <th>bid price</th>\n      <th>bid volume</th>\n    </tr>\n  </thead>\n  <tbody>\n    <tr>\n      <th>count</th>\n      <td>18336.000000</td>\n      <td>18336.000000</td>\n      <td>18336.000000</td>\n      <td>18336.0</td>\n    </tr>\n    <tr>\n      <th>mean</th>\n      <td>7.130496</td>\n      <td>97.223395</td>\n      <td>33.787304</td>\n      <td>200.0</td>\n    </tr>\n    <tr>\n      <th>std</th>\n      <td>3.793304</td>\n      <td>108.177987</td>\n      <td>27.562829</td>\n      <td>0.0</td>\n    </tr>\n    <tr>\n      <th>min</th>\n      <td>-6.333300</td>\n      <td>-90.010000</td>\n      <td>0.000000</td>\n      <td>200.0</td>\n    </tr>\n    <tr>\n      <th>25%</th>\n      <td>6.709900</td>\n      <td>35.150000</td>\n      <td>30.000000</td>\n      <td>200.0</td>\n    </tr>\n    <tr>\n      <th>50%</th>\n      <td>8.402900</td>\n      <td>53.070000</td>\n      <td>30.000000</td>\n      <td>200.0</td>\n    </tr>\n    <tr>\n      <th>75%</th>\n      <td>9.760950</td>\n      <td>117.992500</td>\n      <td>30.000000</td>\n      <td>200.0</td>\n    </tr>\n    <tr>\n      <th>max</th>\n      <td>12.007600</td>\n      <td>850.000000</td>\n      <td>294.000000</td>\n      <td>200.0</td>\n    </tr>\n  </tbody>\n</table>\n</div>"
     },
     "execution_count": 19,
     "metadata": {},
     "output_type": "execute_result"
    }
   ],
   "source": [
    "env.results_ep.describe()"
   ],
   "metadata": {
    "collapsed": false,
    "ExecuteTime": {
     "end_time": "2023-05-25T12:04:28.925537Z",
     "start_time": "2023-05-25T12:04:28.627561Z"
    }
   }
  },
  {
   "cell_type": "code",
   "execution_count": 20,
   "outputs": [
    {
     "data": {
      "text/plain": "                           reward  market price  bid price  bid volume\n2021-09-12 00:00:00+02:00  0.0000        105.05      294.0       200.0\n2021-09-12 01:00:00+02:00  0.0000         99.17      156.0       200.0\n2021-09-12 02:00:00+02:00  0.0000         99.02      282.0       200.0\n2021-09-12 03:00:00+02:00  0.0000         95.38      246.0       200.0\n2021-09-12 04:00:00+02:00  0.0000         97.57      132.0       200.0\n...                           ...           ...        ...         ...\n2019-03-29 19:00:00+01:00  8.2602         49.33       30.0       200.0\n2019-03-29 20:00:00+01:00  8.1856         47.94       30.0       200.0\n2019-03-29 21:00:00+01:00  7.8667         43.04       30.0       200.0\n2019-03-29 22:00:00+01:00  7.8442         42.75       30.0       200.0\n2019-03-29 23:00:00+01:00  7.5310         39.32       30.0       200.0\n\n[18336 rows x 4 columns]",
      "text/html": "<div>\n<style scoped>\n    .dataframe tbody tr th:only-of-type {\n        vertical-align: middle;\n    }\n\n    .dataframe tbody tr th {\n        vertical-align: top;\n    }\n\n    .dataframe thead th {\n        text-align: right;\n    }\n</style>\n<table border=\"1\" class=\"dataframe\">\n  <thead>\n    <tr style=\"text-align: right;\">\n      <th></th>\n      <th>reward</th>\n      <th>market price</th>\n      <th>bid price</th>\n      <th>bid volume</th>\n    </tr>\n  </thead>\n  <tbody>\n    <tr>\n      <th>2021-09-12 00:00:00+02:00</th>\n      <td>0.0000</td>\n      <td>105.05</td>\n      <td>294.0</td>\n      <td>200.0</td>\n    </tr>\n    <tr>\n      <th>2021-09-12 01:00:00+02:00</th>\n      <td>0.0000</td>\n      <td>99.17</td>\n      <td>156.0</td>\n      <td>200.0</td>\n    </tr>\n    <tr>\n      <th>2021-09-12 02:00:00+02:00</th>\n      <td>0.0000</td>\n      <td>99.02</td>\n      <td>282.0</td>\n      <td>200.0</td>\n    </tr>\n    <tr>\n      <th>2021-09-12 03:00:00+02:00</th>\n      <td>0.0000</td>\n      <td>95.38</td>\n      <td>246.0</td>\n      <td>200.0</td>\n    </tr>\n    <tr>\n      <th>2021-09-12 04:00:00+02:00</th>\n      <td>0.0000</td>\n      <td>97.57</td>\n      <td>132.0</td>\n      <td>200.0</td>\n    </tr>\n    <tr>\n      <th>...</th>\n      <td>...</td>\n      <td>...</td>\n      <td>...</td>\n      <td>...</td>\n    </tr>\n    <tr>\n      <th>2019-03-29 19:00:00+01:00</th>\n      <td>8.2602</td>\n      <td>49.33</td>\n      <td>30.0</td>\n      <td>200.0</td>\n    </tr>\n    <tr>\n      <th>2019-03-29 20:00:00+01:00</th>\n      <td>8.1856</td>\n      <td>47.94</td>\n      <td>30.0</td>\n      <td>200.0</td>\n    </tr>\n    <tr>\n      <th>2019-03-29 21:00:00+01:00</th>\n      <td>7.8667</td>\n      <td>43.04</td>\n      <td>30.0</td>\n      <td>200.0</td>\n    </tr>\n    <tr>\n      <th>2019-03-29 22:00:00+01:00</th>\n      <td>7.8442</td>\n      <td>42.75</td>\n      <td>30.0</td>\n      <td>200.0</td>\n    </tr>\n    <tr>\n      <th>2019-03-29 23:00:00+01:00</th>\n      <td>7.5310</td>\n      <td>39.32</td>\n      <td>30.0</td>\n      <td>200.0</td>\n    </tr>\n  </tbody>\n</table>\n<p>18336 rows × 4 columns</p>\n</div>"
     },
     "execution_count": 20,
     "metadata": {},
     "output_type": "execute_result"
    }
   ],
   "source": [
    "env.results_ep"
   ],
   "metadata": {
    "collapsed": false,
    "ExecuteTime": {
     "end_time": "2023-05-25T12:04:31.015489Z",
     "start_time": "2023-05-25T12:04:30.945903Z"
    }
   }
  },
  {
   "cell_type": "code",
   "execution_count": 21,
   "outputs": [
    {
     "data": {
      "text/plain": "<Axes: >"
     },
     "execution_count": 21,
     "metadata": {},
     "output_type": "execute_result"
    },
    {
     "data": {
      "text/plain": "<Figure size 640x480 with 1 Axes>",
      "image/png": "[encoded data removed]"
     },
     "metadata": {},
     "output_type": "display_data"
    }
   ],
   "source": [
    "env.results_ep.reset_index().plot(y=['bid price'])"
   ],
   "metadata": {
    "collapsed": false,
    "ExecuteTime": {
     "end_time": "2023-05-25T12:04:37.258681Z",
     "start_time": "2023-05-25T12:04:37.075148Z"
    }
   }
  },
  {
   "cell_type": "code",
   "execution_count": 22,
   "outputs": [
    {
     "data": {
      "text/plain": "<Figure size 640x480 with 1 Axes>",
      "image/png": "[encoded data removed]"
     },
     "metadata": {},
     "output_type": "display_data"
    }
   ],
   "source": [
    "x = [i + 1 for i in range(len(score_history))]\n",
    "plot_learning_curve(x, score_history)"
   ],
   "metadata": {
    "collapsed": false,
    "ExecuteTime": {
     "end_time": "2023-05-25T12:05:40.493783Z",
     "start_time": "2023-05-25T12:05:40.137503Z"
    }
   }
  },
  {
   "cell_type": "code",
   "execution_count": 3,
   "outputs": [],
   "source": [
    "import gym\n",
    "from gym.spaces import Box, Discrete"
   ],
   "metadata": {
    "collapsed": false,
    "ExecuteTime": {
     "end_time": "2023-06-08T08:12:28.757874Z",
     "start_time": "2023-06-08T08:12:28.636286Z"
    }
   }
  },
  {
   "cell_type": "markdown",
   "source": [
    "# New Tests"
   ],
   "metadata": {
    "collapsed": false
   }
  },
  {
   "cell_type": "code",
   "execution_count": 3,
   "outputs": [],
   "source": [
    "from entsoe import EntsoePandasClient\n",
    "import pandas as pd\n",
    "import os\n",
    "from sklearn.preprocessing import MinMaxScaler\n",
    "from import_data import aggregate_hourly, drop_incomplete_datapoints"
   ],
   "metadata": {
    "collapsed": false,
    "ExecuteTime": {
     "end_time": "2023-06-08T10:42:11.240527Z",
     "start_time": "2023-06-08T10:42:11.128891Z"
    }
   }
  },
  {
   "cell_type": "code",
   "execution_count": 4,
   "outputs": [],
   "source": [
    "# your_key = '9ab2e188-d454-44be-bce7-ea9dc8863723'\n",
    "your_key = '3a72c137-c318-4dd5-ac00-2d3be87966a8'\n",
    "\n",
    "country_code = 'DE_LU'  # Germany-Luxembourg\n",
    "\n",
    "client = EntsoePandasClient(api_key=your_key)"
   ],
   "metadata": {
    "collapsed": false,
    "ExecuteTime": {
     "end_time": "2023-06-08T10:42:12.865567Z",
     "start_time": "2023-06-08T10:42:12.821198Z"
    }
   }
  },
  {
   "cell_type": "code",
   "execution_count": 7,
   "outputs": [],
   "source": [
    "start = pd.Timestamp(year=2022, month=1, day=1, tz=\"europe/brussels\")\n",
    "end = pd.Timestamp.now(tz=\"europe/brussels\").floor('D') + pd.Timedelta(days=2)"
   ],
   "metadata": {
    "collapsed": false,
    "ExecuteTime": {
     "end_time": "2023-06-08T10:42:23.083378Z",
     "start_time": "2023-06-08T10:42:23.009234Z"
    }
   }
  },
  {
   "cell_type": "code",
   "execution_count": 190,
   "outputs": [],
   "source": [
    "# make api call\n",
    "solar_actual = pd.DataFrame(client.query_generation(country_code, start=start, end=end, psr_type=None))"
   ],
   "metadata": {
    "collapsed": false,
    "ExecuteTime": {
     "end_time": "2023-06-08T10:06:50.154111Z",
     "start_time": "2023-06-08T10:03:08.483277Z"
    }
   }
  },
  {
   "cell_type": "code",
   "execution_count": 197,
   "outputs": [
    {
     "data": {
      "text/plain": "2022-01-01 00:00:00+01:00        0.0\n2022-01-01 01:00:00+01:00        0.0\n2022-01-01 02:00:00+01:00        0.0\n2022-01-01 03:00:00+01:00        0.0\n2022-01-01 04:00:00+01:00        0.0\n                              ...   \n2023-06-07 19:00:00+02:00    20665.0\n2023-06-07 20:00:00+02:00     6540.0\n2023-06-07 21:00:00+02:00      417.0\n2023-06-07 22:00:00+02:00        1.0\n2023-06-07 23:00:00+02:00        0.0\nName: Actual Aggregated, Length: 12480, dtype: float64"
     },
     "execution_count": 197,
     "metadata": {},
     "output_type": "execute_result"
    }
   ],
   "source": [
    "solar_actual"
   ],
   "metadata": {
    "collapsed": false,
    "ExecuteTime": {
     "end_time": "2023-06-08T10:11:57.440214Z",
     "start_time": "2023-06-08T10:11:57.400629Z"
    }
   }
  },
  {
   "cell_type": "code",
   "execution_count": 5,
   "outputs": [],
   "source": [
    "from import_data import get_solar_estimate"
   ],
   "metadata": {
    "collapsed": false,
    "ExecuteTime": {
     "end_time": "2023-06-08T10:42:15.765249Z",
     "start_time": "2023-06-08T10:42:15.721175Z"
    }
   }
  }
 ],
 "metadata": {
  "kernelspec": {
   "display_name": "Python 3",
   "language": "python",
   "name": "python3"
  },
  "language_info": {
   "codemirror_mode": {
    "name": "ipython",
    "version": 2
   },
   "file_extension": ".py",
   "mimetype": "text/x-python",
   "name": "python",
   "nbconvert_exporter": "python",
   "pygments_lexer": "ipython2",
   "version": "2.7.6"
  }
 },
 "nbformat": 4,
 "nbformat_minor": 0
}
