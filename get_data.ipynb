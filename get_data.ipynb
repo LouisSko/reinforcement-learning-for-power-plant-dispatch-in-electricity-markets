{
 "cells": [
  {
   "cell_type": "code",
   "execution_count": 51,
   "outputs": [],
   "source": [
    "from basic_rl_envi_for_dam_bidding_main.import_data_example import *"
   ],
   "metadata": {
    "collapsed": false,
    "ExecuteTime": {
     "end_time": "2023-05-08T09:30:48.469020Z",
     "start_time": "2023-05-08T09:30:48.464704Z"
    }
   }
  },
  {
   "cell_type": "markdown",
   "source": [
    "# Get Data"
   ],
   "metadata": {
    "collapsed": false
   }
  },
  {
   "cell_type": "code",
   "execution_count": 106,
   "outputs": [],
   "source": [
    "start = pd.Timestamp(year=2023, month=3, day=1, tz=\"utc\")\n",
    "#end = pd.Timestamp(year=2022, month=5, day=1, tz=\"utc\")\n",
    "end = pd.Timestamp.now(tz=\"utc\")\n",
    "\n",
    "# get the end of the current day\n",
    "end = end.floor('D') + pd.Timedelta(days=2)\n"
   ],
   "metadata": {
    "collapsed": false,
    "ExecuteTime": {
     "end_time": "2023-05-08T12:56:22.178480Z",
     "start_time": "2023-05-08T12:56:22.177248Z"
    }
   }
  },
  {
   "cell_type": "code",
   "execution_count": 107,
   "outputs": [],
   "source": [
    "df_demand = get_demand(start, end)\n",
    "df_vre = get_vre(start, end)\n",
    "df_gen = get_gen(start, end)\n",
    "df_mcp = get_mcp(start, end)\n",
    "#states = get_states_list(start, end)"
   ],
   "metadata": {
    "collapsed": false,
    "ExecuteTime": {
     "end_time": "2023-05-08T12:56:36.694063Z",
     "start_time": "2023-05-08T12:56:22.591822Z"
    }
   }
  },
  {
   "cell_type": "code",
   "execution_count": 108,
   "outputs": [
    {
     "data": {
      "text/plain": "                                0\n2023-03-01 01:00:00+01:00  125.46\n2023-03-01 02:00:00+01:00  124.96\n2023-03-01 03:00:00+01:00  127.66\n2023-03-01 04:00:00+01:00  130.58\n2023-03-01 05:00:00+01:00  141.35\n...                           ...\n2023-05-09 19:00:00+02:00  121.93\n2023-05-09 20:00:00+02:00  121.05\n2023-05-09 21:00:00+02:00  110.97\n2023-05-09 22:00:00+02:00  104.67\n2023-05-09 23:00:00+02:00   89.93\n\n[1678 rows x 1 columns]",
      "text/html": "<div>\n<style scoped>\n    .dataframe tbody tr th:only-of-type {\n        vertical-align: middle;\n    }\n\n    .dataframe tbody tr th {\n        vertical-align: top;\n    }\n\n    .dataframe thead th {\n        text-align: right;\n    }\n</style>\n<table border=\"1\" class=\"dataframe\">\n  <thead>\n    <tr style=\"text-align: right;\">\n      <th></th>\n      <th>0</th>\n    </tr>\n  </thead>\n  <tbody>\n    <tr>\n      <th>2023-03-01 01:00:00+01:00</th>\n      <td>125.46</td>\n    </tr>\n    <tr>\n      <th>2023-03-01 02:00:00+01:00</th>\n      <td>124.96</td>\n    </tr>\n    <tr>\n      <th>2023-03-01 03:00:00+01:00</th>\n      <td>127.66</td>\n    </tr>\n    <tr>\n      <th>2023-03-01 04:00:00+01:00</th>\n      <td>130.58</td>\n    </tr>\n    <tr>\n      <th>2023-03-01 05:00:00+01:00</th>\n      <td>141.35</td>\n    </tr>\n    <tr>\n      <th>...</th>\n      <td>...</td>\n    </tr>\n    <tr>\n      <th>2023-05-09 19:00:00+02:00</th>\n      <td>121.93</td>\n    </tr>\n    <tr>\n      <th>2023-05-09 20:00:00+02:00</th>\n      <td>121.05</td>\n    </tr>\n    <tr>\n      <th>2023-05-09 21:00:00+02:00</th>\n      <td>110.97</td>\n    </tr>\n    <tr>\n      <th>2023-05-09 22:00:00+02:00</th>\n      <td>104.67</td>\n    </tr>\n    <tr>\n      <th>2023-05-09 23:00:00+02:00</th>\n      <td>89.93</td>\n    </tr>\n  </tbody>\n</table>\n<p>1678 rows × 1 columns</p>\n</div>"
     },
     "execution_count": 108,
     "metadata": {},
     "output_type": "execute_result"
    }
   ],
   "source": [
    "#jeden tag um 12 Uhr für den nachfolgenden tag\n",
    "df_mcp"
   ],
   "metadata": {
    "collapsed": false,
    "ExecuteTime": {
     "end_time": "2023-05-08T12:56:36.697887Z",
     "start_time": "2023-05-08T12:56:36.695496Z"
    }
   }
  },
  {
   "cell_type": "code",
   "execution_count": null,
   "outputs": [],
   "source": [
    "hourly = df_mcp.pivot_table(index=df_demand.index.date, columns=df_demand.index.hour, values='Forecasted Load', aggfunc='sum')"
   ],
   "metadata": {
    "collapsed": false
   }
  },
  {
   "cell_type": "code",
   "execution_count": null,
   "outputs": [],
   "source": [
    "# df_demand: 2023-05-08 23:45:00+02:00 gibt den Load für 23:45-00:00 Uhr an"
   ],
   "metadata": {
    "collapsed": false
   }
  },
  {
   "cell_type": "code",
   "execution_count": 87,
   "outputs": [
    {
     "data": {
      "text/plain": "                           Forecasted Load\n2023-03-01 01:00:00+01:00          50887.0\n2023-03-01 01:15:00+01:00          50618.0\n2023-03-01 01:30:00+01:00          50464.0\n2023-03-01 01:45:00+01:00          50232.0\n2023-03-01 02:00:00+01:00          49999.0\n...                                    ...\n2023-05-08 22:45:00+02:00          50415.0\n2023-05-08 23:00:00+02:00          49512.0\n2023-05-08 23:15:00+02:00          48819.0\n2023-05-08 23:30:00+02:00          48154.0\n2023-05-08 23:45:00+02:00          47590.0\n\n[6616 rows x 1 columns]",
      "text/html": "<div>\n<style scoped>\n    .dataframe tbody tr th:only-of-type {\n        vertical-align: middle;\n    }\n\n    .dataframe tbody tr th {\n        vertical-align: top;\n    }\n\n    .dataframe thead th {\n        text-align: right;\n    }\n</style>\n<table border=\"1\" class=\"dataframe\">\n  <thead>\n    <tr style=\"text-align: right;\">\n      <th></th>\n      <th>Forecasted Load</th>\n    </tr>\n  </thead>\n  <tbody>\n    <tr>\n      <th>2023-03-01 01:00:00+01:00</th>\n      <td>50887.0</td>\n    </tr>\n    <tr>\n      <th>2023-03-01 01:15:00+01:00</th>\n      <td>50618.0</td>\n    </tr>\n    <tr>\n      <th>2023-03-01 01:30:00+01:00</th>\n      <td>50464.0</td>\n    </tr>\n    <tr>\n      <th>2023-03-01 01:45:00+01:00</th>\n      <td>50232.0</td>\n    </tr>\n    <tr>\n      <th>2023-03-01 02:00:00+01:00</th>\n      <td>49999.0</td>\n    </tr>\n    <tr>\n      <th>...</th>\n      <td>...</td>\n    </tr>\n    <tr>\n      <th>2023-05-08 22:45:00+02:00</th>\n      <td>50415.0</td>\n    </tr>\n    <tr>\n      <th>2023-05-08 23:00:00+02:00</th>\n      <td>49512.0</td>\n    </tr>\n    <tr>\n      <th>2023-05-08 23:15:00+02:00</th>\n      <td>48819.0</td>\n    </tr>\n    <tr>\n      <th>2023-05-08 23:30:00+02:00</th>\n      <td>48154.0</td>\n    </tr>\n    <tr>\n      <th>2023-05-08 23:45:00+02:00</th>\n      <td>47590.0</td>\n    </tr>\n  </tbody>\n</table>\n<p>6616 rows × 1 columns</p>\n</div>"
     },
     "execution_count": 87,
     "metadata": {},
     "output_type": "execute_result"
    }
   ],
   "source": [
    "df_demand"
   ],
   "metadata": {
    "collapsed": false,
    "ExecuteTime": {
     "end_time": "2023-05-08T12:47:12.215722Z",
     "start_time": "2023-05-08T12:47:12.201471Z"
    }
   }
  },
  {
   "cell_type": "code",
   "execution_count": 95,
   "outputs": [],
   "source": [
    "# reformat data. 24 columns, each column represents one hour of the day\n",
    "hourly = df_demand.pivot_table(index=df_demand.index.date, columns=df_demand.index.hour, values='Forecasted Load', aggfunc='sum')\n"
   ],
   "metadata": {
    "collapsed": false,
    "ExecuteTime": {
     "end_time": "2023-05-08T12:51:21.930081Z",
     "start_time": "2023-05-08T12:51:21.918221Z"
    }
   }
  },
  {
   "cell_type": "code",
   "execution_count": 113,
   "outputs": [
    {
     "data": {
      "text/plain": "DatetimeIndex(['2023-03-01 01:00:00+01:00', '2023-03-01 01:15:00+01:00',\n               '2023-03-01 01:30:00+01:00', '2023-03-01 01:45:00+01:00',\n               '2023-03-01 02:00:00+01:00', '2023-03-01 02:15:00+01:00',\n               '2023-03-01 02:30:00+01:00', '2023-03-01 02:45:00+01:00',\n               '2023-03-01 03:00:00+01:00', '2023-03-01 03:15:00+01:00',\n               ...\n               '2023-05-08 21:30:00+02:00', '2023-05-08 21:45:00+02:00',\n               '2023-05-08 22:00:00+02:00', '2023-05-08 22:15:00+02:00',\n               '2023-05-08 22:30:00+02:00', '2023-05-08 22:45:00+02:00',\n               '2023-05-08 23:00:00+02:00', '2023-05-08 23:15:00+02:00',\n               '2023-05-08 23:30:00+02:00', '2023-05-08 23:45:00+02:00'],\n              dtype='datetime64[ns, Europe/Berlin]', length=6616, freq='15T')"
     },
     "execution_count": 113,
     "metadata": {},
     "output_type": "execute_result"
    }
   ],
   "source": [
    "df_demand.index"
   ],
   "metadata": {
    "collapsed": false,
    "ExecuteTime": {
     "end_time": "2023-05-08T12:57:47.470009Z",
     "start_time": "2023-05-08T12:57:47.463514Z"
    }
   }
  },
  {
   "cell_type": "code",
   "execution_count": 96,
   "outputs": [
    {
     "data": {
      "text/plain": "                  0         1         2         3         4         5    \n2023-03-01       NaN  202201.0  199722.0  201209.0  205615.0  217546.0  \\\n2023-03-02  210615.0  203958.0  201056.0  202722.0  207651.0  220122.0   \n2023-03-03  209231.0  202353.0  200215.0  201846.0  207412.0  219564.0   \n2023-03-04  208905.0  201157.0  197389.0  196285.0  196250.0  196526.0   \n2023-03-05  184430.0  178168.0  174895.0  174166.0  174403.0  175287.0   \n...              ...       ...       ...       ...       ...       ...   \n2023-05-04  185464.0  179193.0  176123.0  177386.0  182039.0  194306.0   \n2023-05-05  187268.0  180504.0  177404.0  178729.0  183737.0  195244.0   \n2023-05-06  178686.0  170291.0  165397.0  165289.0  165567.0  166777.0   \n2023-05-07  156546.0  150069.0  146385.0  145810.0  146519.0  148029.0   \n2023-05-08  164319.0  158542.0  156600.0  157929.0  164306.0  179276.0   \n\n                  6         7         8         9   ...        14        15   \n2023-03-01  242339.0  259557.0  269253.0  273495.0  ...  268279.0  264267.0  \\\n2023-03-02  245990.0  263352.0  273116.0  275667.0  ...  266792.0  262473.0   \n2023-03-03  242874.0  261214.0  271378.0  273974.0  ...  264787.0  261004.0   \n2023-03-04  201076.0  209615.0  221057.0  231850.0  ...  226094.0  222174.0   \n2023-03-05  175933.0  182501.0  194247.0  206916.0  ...  213832.0  209249.0   \n...              ...       ...       ...       ...  ...       ...       ...   \n2023-05-04  220014.0  237867.0  249335.0  251589.0  ...  246033.0  242087.0   \n2023-05-05  218627.0  239211.0  250013.0  252828.0  ...  244603.0  240778.0   \n2023-05-06  170943.0  180339.0  194227.0  205778.0  ...  196623.0  195302.0   \n2023-05-07  149051.0  156625.0  169065.0  181813.0  ...  184978.0  180112.0   \n2023-05-08  208210.0  229411.0  241925.0  245964.0  ...  247787.0  244131.0   \n\n                  16        17        18        19        20        21   \n2023-03-01  260761.0  264329.0  271424.0  269117.0  256096.0  244186.0  \\\n2023-03-02  260473.0  263796.0  271542.0  270194.0  256781.0  243905.0   \n2023-03-03  257569.0  261197.0  269995.0  269232.0  255493.0  242882.0   \n2023-03-04  220486.0  227722.0  235907.0  231132.0  218192.0  209541.0   \n2023-03-05  210632.0  217380.0  227147.0  225722.0  217273.0  211725.0   \n...              ...       ...       ...       ...       ...       ...   \n2023-05-04  238081.0  237776.0  238393.0  238462.0  232382.0  224029.0   \n2023-05-05  236813.0  236402.0  236470.0  235661.0  228457.0  220694.0   \n2023-05-06  193697.0  195734.0  198464.0  197800.0  192963.0  188436.0   \n2023-05-07  179674.0  182785.0  187898.0  188711.0  186855.0  185278.0   \n2023-05-08  239194.0  238171.0  237807.0  235555.0  228832.0  220288.0   \n\n                  22        23  \n2023-03-01  233075.0  219587.0  \n2023-03-02  233097.0  219619.0  \n2023-03-03  232205.0  219235.0  \n2023-03-04  204206.0  193179.0  \n2023-03-05  210021.0  200525.0  \n...              ...       ...  \n2023-05-04  211507.0  195771.0  \n2023-05-05  208203.0  194098.0  \n2023-05-06  181031.0  169483.0  \n2023-05-07  180363.0  170017.0  \n2023-05-08  207681.0  194075.0  \n\n[69 rows x 24 columns]",
      "text/html": "<div>\n<style scoped>\n    .dataframe tbody tr th:only-of-type {\n        vertical-align: middle;\n    }\n\n    .dataframe tbody tr th {\n        vertical-align: top;\n    }\n\n    .dataframe thead th {\n        text-align: right;\n    }\n</style>\n<table border=\"1\" class=\"dataframe\">\n  <thead>\n    <tr style=\"text-align: right;\">\n      <th></th>\n      <th>0</th>\n      <th>1</th>\n      <th>2</th>\n      <th>3</th>\n      <th>4</th>\n      <th>5</th>\n      <th>6</th>\n      <th>7</th>\n      <th>8</th>\n      <th>9</th>\n      <th>...</th>\n      <th>14</th>\n      <th>15</th>\n      <th>16</th>\n      <th>17</th>\n      <th>18</th>\n      <th>19</th>\n      <th>20</th>\n      <th>21</th>\n      <th>22</th>\n      <th>23</th>\n    </tr>\n  </thead>\n  <tbody>\n    <tr>\n      <th>2023-03-01</th>\n      <td>NaN</td>\n      <td>202201.0</td>\n      <td>199722.0</td>\n      <td>201209.0</td>\n      <td>205615.0</td>\n      <td>217546.0</td>\n      <td>242339.0</td>\n      <td>259557.0</td>\n      <td>269253.0</td>\n      <td>273495.0</td>\n      <td>...</td>\n      <td>268279.0</td>\n      <td>264267.0</td>\n      <td>260761.0</td>\n      <td>264329.0</td>\n      <td>271424.0</td>\n      <td>269117.0</td>\n      <td>256096.0</td>\n      <td>244186.0</td>\n      <td>233075.0</td>\n      <td>219587.0</td>\n    </tr>\n    <tr>\n      <th>2023-03-02</th>\n      <td>210615.0</td>\n      <td>203958.0</td>\n      <td>201056.0</td>\n      <td>202722.0</td>\n      <td>207651.0</td>\n      <td>220122.0</td>\n      <td>245990.0</td>\n      <td>263352.0</td>\n      <td>273116.0</td>\n      <td>275667.0</td>\n      <td>...</td>\n      <td>266792.0</td>\n      <td>262473.0</td>\n      <td>260473.0</td>\n      <td>263796.0</td>\n      <td>271542.0</td>\n      <td>270194.0</td>\n      <td>256781.0</td>\n      <td>243905.0</td>\n      <td>233097.0</td>\n      <td>219619.0</td>\n    </tr>\n    <tr>\n      <th>2023-03-03</th>\n      <td>209231.0</td>\n      <td>202353.0</td>\n      <td>200215.0</td>\n      <td>201846.0</td>\n      <td>207412.0</td>\n      <td>219564.0</td>\n      <td>242874.0</td>\n      <td>261214.0</td>\n      <td>271378.0</td>\n      <td>273974.0</td>\n      <td>...</td>\n      <td>264787.0</td>\n      <td>261004.0</td>\n      <td>257569.0</td>\n      <td>261197.0</td>\n      <td>269995.0</td>\n      <td>269232.0</td>\n      <td>255493.0</td>\n      <td>242882.0</td>\n      <td>232205.0</td>\n      <td>219235.0</td>\n    </tr>\n    <tr>\n      <th>2023-03-04</th>\n      <td>208905.0</td>\n      <td>201157.0</td>\n      <td>197389.0</td>\n      <td>196285.0</td>\n      <td>196250.0</td>\n      <td>196526.0</td>\n      <td>201076.0</td>\n      <td>209615.0</td>\n      <td>221057.0</td>\n      <td>231850.0</td>\n      <td>...</td>\n      <td>226094.0</td>\n      <td>222174.0</td>\n      <td>220486.0</td>\n      <td>227722.0</td>\n      <td>235907.0</td>\n      <td>231132.0</td>\n      <td>218192.0</td>\n      <td>209541.0</td>\n      <td>204206.0</td>\n      <td>193179.0</td>\n    </tr>\n    <tr>\n      <th>2023-03-05</th>\n      <td>184430.0</td>\n      <td>178168.0</td>\n      <td>174895.0</td>\n      <td>174166.0</td>\n      <td>174403.0</td>\n      <td>175287.0</td>\n      <td>175933.0</td>\n      <td>182501.0</td>\n      <td>194247.0</td>\n      <td>206916.0</td>\n      <td>...</td>\n      <td>213832.0</td>\n      <td>209249.0</td>\n      <td>210632.0</td>\n      <td>217380.0</td>\n      <td>227147.0</td>\n      <td>225722.0</td>\n      <td>217273.0</td>\n      <td>211725.0</td>\n      <td>210021.0</td>\n      <td>200525.0</td>\n    </tr>\n    <tr>\n      <th>...</th>\n      <td>...</td>\n      <td>...</td>\n      <td>...</td>\n      <td>...</td>\n      <td>...</td>\n      <td>...</td>\n      <td>...</td>\n      <td>...</td>\n      <td>...</td>\n      <td>...</td>\n      <td>...</td>\n      <td>...</td>\n      <td>...</td>\n      <td>...</td>\n      <td>...</td>\n      <td>...</td>\n      <td>...</td>\n      <td>...</td>\n      <td>...</td>\n      <td>...</td>\n      <td>...</td>\n    </tr>\n    <tr>\n      <th>2023-05-04</th>\n      <td>185464.0</td>\n      <td>179193.0</td>\n      <td>176123.0</td>\n      <td>177386.0</td>\n      <td>182039.0</td>\n      <td>194306.0</td>\n      <td>220014.0</td>\n      <td>237867.0</td>\n      <td>249335.0</td>\n      <td>251589.0</td>\n      <td>...</td>\n      <td>246033.0</td>\n      <td>242087.0</td>\n      <td>238081.0</td>\n      <td>237776.0</td>\n      <td>238393.0</td>\n      <td>238462.0</td>\n      <td>232382.0</td>\n      <td>224029.0</td>\n      <td>211507.0</td>\n      <td>195771.0</td>\n    </tr>\n    <tr>\n      <th>2023-05-05</th>\n      <td>187268.0</td>\n      <td>180504.0</td>\n      <td>177404.0</td>\n      <td>178729.0</td>\n      <td>183737.0</td>\n      <td>195244.0</td>\n      <td>218627.0</td>\n      <td>239211.0</td>\n      <td>250013.0</td>\n      <td>252828.0</td>\n      <td>...</td>\n      <td>244603.0</td>\n      <td>240778.0</td>\n      <td>236813.0</td>\n      <td>236402.0</td>\n      <td>236470.0</td>\n      <td>235661.0</td>\n      <td>228457.0</td>\n      <td>220694.0</td>\n      <td>208203.0</td>\n      <td>194098.0</td>\n    </tr>\n    <tr>\n      <th>2023-05-06</th>\n      <td>178686.0</td>\n      <td>170291.0</td>\n      <td>165397.0</td>\n      <td>165289.0</td>\n      <td>165567.0</td>\n      <td>166777.0</td>\n      <td>170943.0</td>\n      <td>180339.0</td>\n      <td>194227.0</td>\n      <td>205778.0</td>\n      <td>...</td>\n      <td>196623.0</td>\n      <td>195302.0</td>\n      <td>193697.0</td>\n      <td>195734.0</td>\n      <td>198464.0</td>\n      <td>197800.0</td>\n      <td>192963.0</td>\n      <td>188436.0</td>\n      <td>181031.0</td>\n      <td>169483.0</td>\n    </tr>\n    <tr>\n      <th>2023-05-07</th>\n      <td>156546.0</td>\n      <td>150069.0</td>\n      <td>146385.0</td>\n      <td>145810.0</td>\n      <td>146519.0</td>\n      <td>148029.0</td>\n      <td>149051.0</td>\n      <td>156625.0</td>\n      <td>169065.0</td>\n      <td>181813.0</td>\n      <td>...</td>\n      <td>184978.0</td>\n      <td>180112.0</td>\n      <td>179674.0</td>\n      <td>182785.0</td>\n      <td>187898.0</td>\n      <td>188711.0</td>\n      <td>186855.0</td>\n      <td>185278.0</td>\n      <td>180363.0</td>\n      <td>170017.0</td>\n    </tr>\n    <tr>\n      <th>2023-05-08</th>\n      <td>164319.0</td>\n      <td>158542.0</td>\n      <td>156600.0</td>\n      <td>157929.0</td>\n      <td>164306.0</td>\n      <td>179276.0</td>\n      <td>208210.0</td>\n      <td>229411.0</td>\n      <td>241925.0</td>\n      <td>245964.0</td>\n      <td>...</td>\n      <td>247787.0</td>\n      <td>244131.0</td>\n      <td>239194.0</td>\n      <td>238171.0</td>\n      <td>237807.0</td>\n      <td>235555.0</td>\n      <td>228832.0</td>\n      <td>220288.0</td>\n      <td>207681.0</td>\n      <td>194075.0</td>\n    </tr>\n  </tbody>\n</table>\n<p>69 rows × 24 columns</p>\n</div>"
     },
     "execution_count": 96,
     "metadata": {},
     "output_type": "execute_result"
    }
   ],
   "source": [
    "hourly"
   ],
   "metadata": {
    "collapsed": false,
    "ExecuteTime": {
     "end_time": "2023-05-08T12:51:22.318211Z",
     "start_time": "2023-05-08T12:51:22.295709Z"
    }
   }
  },
  {
   "cell_type": "code",
   "execution_count": 76,
   "outputs": [],
   "source": [
    "df = pd.concat([df_vre, df_gen, df_mcp], axis = 1)"
   ],
   "metadata": {
    "collapsed": false,
    "ExecuteTime": {
     "end_time": "2023-05-08T11:31:58.025590Z",
     "start_time": "2023-05-08T11:31:58.018360Z"
    }
   }
  },
  {
   "cell_type": "code",
   "execution_count": 68,
   "outputs": [],
   "source": [
    "df = df.rename(columns={0: 'day_ahead_market_price'})"
   ],
   "metadata": {
    "collapsed": false,
    "ExecuteTime": {
     "end_time": "2023-05-08T11:21:03.751523Z",
     "start_time": "2023-05-08T11:21:03.745440Z"
    }
   }
  },
  {
   "cell_type": "code",
   "execution_count": null,
   "outputs": [],
   "source": [
    "# 2023-05-08 12:00:00+02:00,63621.0,29065.0,2153.0,10199.0,63511.0,80.41\n",
    "# dieser Datenpunkt entspricht den Werten von 12:00 Uhr bis 12:30 Uhr\n",
    "# Day ahead total load"
   ],
   "metadata": {
    "collapsed": false
   }
  },
  {
   "cell_type": "code",
   "execution_count": 70,
   "outputs": [
    {
     "data": {
      "text/plain": "                           Forecasted Load    Solar  Wind Offshore   \n2023-01-01 01:00:00+01:00          40841.0      0.0         3382.0  \\\n2023-01-01 01:15:00+01:00          40271.0      0.0         3387.0   \n2023-01-01 01:30:00+01:00          39746.0      0.0         3395.0   \n2023-01-01 01:45:00+01:00          39249.0      0.0         3397.0   \n2023-01-01 02:00:00+01:00          39059.0      0.0         3403.0   \n...                                    ...      ...            ...   \n2023-05-08 12:15:00+02:00          63861.0  29512.0         2127.0   \n2023-05-08 12:30:00+02:00          63936.0  29814.0         2094.0   \n2023-05-08 12:45:00+02:00          63952.0  29999.0         2070.0   \n2023-05-08 13:00:00+02:00          63980.0  30113.0         2040.0   \n2023-05-08 13:15:00+02:00          63681.0  30137.0         2021.0   \n\n                           Wind Onshore  Actual Aggregated   \n2023-01-01 01:00:00+01:00       35545.0            56301.0  \\\n2023-01-01 01:15:00+01:00       35433.0                NaN   \n2023-01-01 01:30:00+01:00       35365.0                NaN   \n2023-01-01 01:45:00+01:00       35319.0                NaN   \n2023-01-01 02:00:00+01:00       35233.0            53753.0   \n...                                 ...                ...   \n2023-05-08 12:15:00+02:00       10174.0                NaN   \n2023-05-08 12:30:00+02:00       10146.0                NaN   \n2023-05-08 12:45:00+02:00       10116.0                NaN   \n2023-05-08 13:00:00+02:00       10080.0            63515.0   \n2023-05-08 13:15:00+02:00        9997.0                NaN   \n\n                           day_ahead_market_price  \n2023-01-01 01:00:00+01:00                   -1.07  \n2023-01-01 01:15:00+01:00                     NaN  \n2023-01-01 01:30:00+01:00                     NaN  \n2023-01-01 01:45:00+01:00                     NaN  \n2023-01-01 02:00:00+01:00                   -1.47  \n...                                           ...  \n2023-05-08 12:15:00+02:00                     NaN  \n2023-05-08 12:30:00+02:00                     NaN  \n2023-05-08 12:45:00+02:00                     NaN  \n2023-05-08 13:00:00+02:00                   74.32  \n2023-05-08 13:15:00+02:00                     NaN  \n\n[12238 rows x 6 columns]",
      "text/html": "<div>\n<style scoped>\n    .dataframe tbody tr th:only-of-type {\n        vertical-align: middle;\n    }\n\n    .dataframe tbody tr th {\n        vertical-align: top;\n    }\n\n    .dataframe thead th {\n        text-align: right;\n    }\n</style>\n<table border=\"1\" class=\"dataframe\">\n  <thead>\n    <tr style=\"text-align: right;\">\n      <th></th>\n      <th>Forecasted Load</th>\n      <th>Solar</th>\n      <th>Wind Offshore</th>\n      <th>Wind Onshore</th>\n      <th>Actual Aggregated</th>\n      <th>day_ahead_market_price</th>\n    </tr>\n  </thead>\n  <tbody>\n    <tr>\n      <th>2023-01-01 01:00:00+01:00</th>\n      <td>40841.0</td>\n      <td>0.0</td>\n      <td>3382.0</td>\n      <td>35545.0</td>\n      <td>56301.0</td>\n      <td>-1.07</td>\n    </tr>\n    <tr>\n      <th>2023-01-01 01:15:00+01:00</th>\n      <td>40271.0</td>\n      <td>0.0</td>\n      <td>3387.0</td>\n      <td>35433.0</td>\n      <td>NaN</td>\n      <td>NaN</td>\n    </tr>\n    <tr>\n      <th>2023-01-01 01:30:00+01:00</th>\n      <td>39746.0</td>\n      <td>0.0</td>\n      <td>3395.0</td>\n      <td>35365.0</td>\n      <td>NaN</td>\n      <td>NaN</td>\n    </tr>\n    <tr>\n      <th>2023-01-01 01:45:00+01:00</th>\n      <td>39249.0</td>\n      <td>0.0</td>\n      <td>3397.0</td>\n      <td>35319.0</td>\n      <td>NaN</td>\n      <td>NaN</td>\n    </tr>\n    <tr>\n      <th>2023-01-01 02:00:00+01:00</th>\n      <td>39059.0</td>\n      <td>0.0</td>\n      <td>3403.0</td>\n      <td>35233.0</td>\n      <td>53753.0</td>\n      <td>-1.47</td>\n    </tr>\n    <tr>\n      <th>...</th>\n      <td>...</td>\n      <td>...</td>\n      <td>...</td>\n      <td>...</td>\n      <td>...</td>\n      <td>...</td>\n    </tr>\n    <tr>\n      <th>2023-05-08 12:15:00+02:00</th>\n      <td>63861.0</td>\n      <td>29512.0</td>\n      <td>2127.0</td>\n      <td>10174.0</td>\n      <td>NaN</td>\n      <td>NaN</td>\n    </tr>\n    <tr>\n      <th>2023-05-08 12:30:00+02:00</th>\n      <td>63936.0</td>\n      <td>29814.0</td>\n      <td>2094.0</td>\n      <td>10146.0</td>\n      <td>NaN</td>\n      <td>NaN</td>\n    </tr>\n    <tr>\n      <th>2023-05-08 12:45:00+02:00</th>\n      <td>63952.0</td>\n      <td>29999.0</td>\n      <td>2070.0</td>\n      <td>10116.0</td>\n      <td>NaN</td>\n      <td>NaN</td>\n    </tr>\n    <tr>\n      <th>2023-05-08 13:00:00+02:00</th>\n      <td>63980.0</td>\n      <td>30113.0</td>\n      <td>2040.0</td>\n      <td>10080.0</td>\n      <td>63515.0</td>\n      <td>74.32</td>\n    </tr>\n    <tr>\n      <th>2023-05-08 13:15:00+02:00</th>\n      <td>63681.0</td>\n      <td>30137.0</td>\n      <td>2021.0</td>\n      <td>9997.0</td>\n      <td>NaN</td>\n      <td>NaN</td>\n    </tr>\n  </tbody>\n</table>\n<p>12238 rows × 6 columns</p>\n</div>"
     },
     "execution_count": 70,
     "metadata": {},
     "output_type": "execute_result"
    }
   ],
   "source": [
    "df"
   ],
   "metadata": {
    "collapsed": false,
    "ExecuteTime": {
     "end_time": "2023-05-08T11:21:06.403225Z",
     "start_time": "2023-05-08T11:21:06.388463Z"
    }
   }
  },
  {
   "cell_type": "code",
   "execution_count": 64,
   "outputs": [
    {
     "data": {
      "text/plain": "                           Forecasted Load      Solar  Wind Offshore   \n2022-01-01 00:00:00+01:00        4087580.0   130566.0       467309.0  \\\n2022-01-02 00:00:00+01:00        4893343.0    94954.0       556874.0   \n2022-01-03 00:00:00+01:00        5790309.0   102006.0       588415.0   \n2022-01-04 00:00:00+01:00        6026514.0    43926.0       366535.0   \n2022-01-05 00:00:00+01:00        6223270.0   110089.0       608893.0   \n...                                    ...        ...            ...   \n2022-04-27 00:00:00+02:00        5501443.0   867811.0        24266.0   \n2022-04-28 00:00:00+02:00        5452723.0  1067294.0        75181.0   \n2022-04-29 00:00:00+02:00        5404809.0  1015177.0        63335.0   \n2022-04-30 00:00:00+02:00        4727408.0   659786.0        38224.0   \n2022-05-01 00:00:00+02:00         378378.0        0.0         2131.0   \n\n                           Wind Onshore  Actual Aggregated  \n2022-01-01 00:00:00+01:00     1384558.0          1150624.0  \n2022-01-02 00:00:00+01:00     2463120.0          1497235.0  \n2022-01-03 00:00:00+01:00     3092386.0          1804336.0  \n2022-01-04 00:00:00+01:00     1336172.0          1530429.0  \n2022-01-05 00:00:00+01:00     2748791.0          1846391.0  \n...                                 ...                ...  \n2022-04-27 00:00:00+02:00      244662.0          1409259.0  \n2022-04-28 00:00:00+02:00      364603.0          1461638.0  \n2022-04-29 00:00:00+02:00      339967.0          1421279.0  \n2022-04-30 00:00:00+02:00      407541.0          1200306.0  \n2022-05-01 00:00:00+02:00       36704.0           111169.0  \n\n[121 rows x 5 columns]",
      "text/html": "<div>\n<style scoped>\n    .dataframe tbody tr th:only-of-type {\n        vertical-align: middle;\n    }\n\n    .dataframe tbody tr th {\n        vertical-align: top;\n    }\n\n    .dataframe thead th {\n        text-align: right;\n    }\n</style>\n<table border=\"1\" class=\"dataframe\">\n  <thead>\n    <tr style=\"text-align: right;\">\n      <th></th>\n      <th>Forecasted Load</th>\n      <th>Solar</th>\n      <th>Wind Offshore</th>\n      <th>Wind Onshore</th>\n      <th>Actual Aggregated</th>\n    </tr>\n  </thead>\n  <tbody>\n    <tr>\n      <th>2022-01-01 00:00:00+01:00</th>\n      <td>4087580.0</td>\n      <td>130566.0</td>\n      <td>467309.0</td>\n      <td>1384558.0</td>\n      <td>1150624.0</td>\n    </tr>\n    <tr>\n      <th>2022-01-02 00:00:00+01:00</th>\n      <td>4893343.0</td>\n      <td>94954.0</td>\n      <td>556874.0</td>\n      <td>2463120.0</td>\n      <td>1497235.0</td>\n    </tr>\n    <tr>\n      <th>2022-01-03 00:00:00+01:00</th>\n      <td>5790309.0</td>\n      <td>102006.0</td>\n      <td>588415.0</td>\n      <td>3092386.0</td>\n      <td>1804336.0</td>\n    </tr>\n    <tr>\n      <th>2022-01-04 00:00:00+01:00</th>\n      <td>6026514.0</td>\n      <td>43926.0</td>\n      <td>366535.0</td>\n      <td>1336172.0</td>\n      <td>1530429.0</td>\n    </tr>\n    <tr>\n      <th>2022-01-05 00:00:00+01:00</th>\n      <td>6223270.0</td>\n      <td>110089.0</td>\n      <td>608893.0</td>\n      <td>2748791.0</td>\n      <td>1846391.0</td>\n    </tr>\n    <tr>\n      <th>...</th>\n      <td>...</td>\n      <td>...</td>\n      <td>...</td>\n      <td>...</td>\n      <td>...</td>\n    </tr>\n    <tr>\n      <th>2022-04-27 00:00:00+02:00</th>\n      <td>5501443.0</td>\n      <td>867811.0</td>\n      <td>24266.0</td>\n      <td>244662.0</td>\n      <td>1409259.0</td>\n    </tr>\n    <tr>\n      <th>2022-04-28 00:00:00+02:00</th>\n      <td>5452723.0</td>\n      <td>1067294.0</td>\n      <td>75181.0</td>\n      <td>364603.0</td>\n      <td>1461638.0</td>\n    </tr>\n    <tr>\n      <th>2022-04-29 00:00:00+02:00</th>\n      <td>5404809.0</td>\n      <td>1015177.0</td>\n      <td>63335.0</td>\n      <td>339967.0</td>\n      <td>1421279.0</td>\n    </tr>\n    <tr>\n      <th>2022-04-30 00:00:00+02:00</th>\n      <td>4727408.0</td>\n      <td>659786.0</td>\n      <td>38224.0</td>\n      <td>407541.0</td>\n      <td>1200306.0</td>\n    </tr>\n    <tr>\n      <th>2022-05-01 00:00:00+02:00</th>\n      <td>378378.0</td>\n      <td>0.0</td>\n      <td>2131.0</td>\n      <td>36704.0</td>\n      <td>111169.0</td>\n    </tr>\n  </tbody>\n</table>\n<p>121 rows × 5 columns</p>\n</div>"
     },
     "execution_count": 64,
     "metadata": {},
     "output_type": "execute_result"
    }
   ],
   "source": [
    "# aggregate daily\n",
    "df.groupby([pd.Grouper(freq='1d')])[['Forecasted Load', 'Solar', 'Wind Offshore', 'Wind Onshore', 'Actual Aggregated']].sum()"
   ],
   "metadata": {
    "collapsed": false,
    "ExecuteTime": {
     "end_time": "2023-05-08T11:16:30.610366Z",
     "start_time": "2023-05-08T11:16:30.597698Z"
    }
   }
  },
  {
   "cell_type": "code",
   "execution_count": null,
   "outputs": [],
   "source": [
    "#"
   ],
   "metadata": {
    "collapsed": false
   }
  },
  {
   "cell_type": "code",
   "execution_count": null,
   "outputs": [],
   "source": [],
   "metadata": {
    "collapsed": false
   }
  },
  {
   "cell_type": "code",
   "execution_count": null,
   "outputs": [],
   "source": [],
   "metadata": {
    "collapsed": false
   }
  },
  {
   "cell_type": "markdown",
   "source": [
    "# Bedeutung der einzelnen Variablen\n",
    "- Forecasted Load:\n",
    "- Solar\n",
    "- Wind Offshore:\n",
    "- Wind Onshore:\n",
    "- day ahead market price: EUR/MWh\n"
   ],
   "metadata": {
    "collapsed": false
   }
  },
  {
   "cell_type": "code",
   "execution_count": null,
   "outputs": [],
   "source": [],
   "metadata": {
    "collapsed": false
   }
  }
 ],
 "metadata": {
  "kernelspec": {
   "display_name": "Python 3",
   "language": "python",
   "name": "python3"
  },
  "language_info": {
   "codemirror_mode": {
    "name": "ipython",
    "version": 2
   },
   "file_extension": ".py",
   "mimetype": "text/x-python",
   "name": "python",
   "nbconvert_exporter": "python",
   "pygments_lexer": "ipython2",
   "version": "2.7.6"
  }
 },
 "nbformat": 4,
 "nbformat_minor": 0
}
