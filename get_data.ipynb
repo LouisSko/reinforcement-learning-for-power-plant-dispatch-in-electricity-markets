{
 "cells": [
  {
   "cell_type": "code",
   "execution_count": 51,
   "outputs": [],
   "source": [
    "from basic_rl_envi_for_dam_bidding_main.import_data_example import *"
   ],
   "metadata": {
    "collapsed": false,
    "ExecuteTime": {
     "end_time": "2023-05-08T09:30:48.469020Z",
     "start_time": "2023-05-08T09:30:48.464704Z"
    }
   }
  },
  {
   "cell_type": "markdown",
   "source": [
    "# Get Data"
   ],
   "metadata": {
    "collapsed": false
   }
  },
  {
   "cell_type": "code",
   "execution_count": 106,
   "outputs": [],
   "source": [
    "start = pd.Timestamp(year=2023, month=3, day=1, tz=\"utc\")\n",
    "#end = pd.Timestamp(year=2022, month=5, day=1, tz=\"utc\")\n",
    "end = pd.Timestamp.now(tz=\"utc\")\n",
    "# get the end of the current day\n",
    "end = end.floor('D') + pd.Timedelta(days=2)"
   ],
   "metadata": {
    "collapsed": false,
    "ExecuteTime": {
     "end_time": "2023-05-08T12:56:22.178480Z",
     "start_time": "2023-05-08T12:56:22.177248Z"
    }
   }
  },
  {
   "cell_type": "code",
   "execution_count": 149,
   "outputs": [],
   "source": [
    "df_demand = get_demand(start, end)\n",
    "df_vre = get_vre(start, end)\n",
    "df_gen = get_gen(start, end)\n",
    "df_mcp = get_mcp(start, end)\n",
    "#states = get_states_list(start, end)"
   ],
   "metadata": {
    "collapsed": false,
    "ExecuteTime": {
     "end_time": "2023-05-08T13:40:14.412068Z",
     "start_time": "2023-05-08T13:39:56.320430Z"
    }
   }
  },
  {
   "cell_type": "code",
   "execution_count": 180,
   "outputs": [],
   "source": [
    "# get day ahead market price for each day\n",
    "df_mcp_hourly = df_mcp.pivot_table(index=df_mcp.index.date, columns=df_mcp.index.hour, values=0)\n",
    "df_mcp_hourly.index = pd.to_datetime(df_mcp_hourly.index)\n",
    "df_mcp_hourly = df_mcp_hourly.add_prefix('market_price_hour_')\n",
    "df_mcp_hourly['end_auction'] = (df_mcp_hourly.index - pd.Timedelta(hours = 12))\n",
    "#df_mcp_hourly = df_mcp_hourly.reset_index(drop=False).set_index('end_auction')\n",
    "#df_mcp_hourly = df_mcp_hourly.rename(columns={'index': 'day'})"
   ],
   "metadata": {
    "collapsed": false,
    "ExecuteTime": {
     "end_time": "2023-05-08T14:06:08.130212Z",
     "start_time": "2023-05-08T14:06:08.114278Z"
    }
   }
  },
  {
   "cell_type": "code",
   "execution_count": 181,
   "outputs": [],
   "source": [
    "# df_demand: 2023-05-08 23:45:00+02:00 gibt den Load für 23:45-00:00 Uhr an"
   ],
   "metadata": {
    "collapsed": false,
    "ExecuteTime": {
     "end_time": "2023-05-08T14:06:09.797368Z",
     "start_time": "2023-05-08T14:06:09.791628Z"
    }
   }
  },
  {
   "cell_type": "code",
   "execution_count": 189,
   "outputs": [],
   "source": [
    "# get forecasted load for each hour of each day.\n",
    "df_demand_hourly = df_demand.pivot_table(index=df_demand.index.date, columns=df_demand.index.hour, values='Forecasted Load', aggfunc='sum')\n",
    "df_demand_hourly = df_demand_hourly.add_prefix('forecasted_load_hour_')"
   ],
   "metadata": {
    "collapsed": false,
    "ExecuteTime": {
     "end_time": "2023-05-08T14:08:16.821877Z",
     "start_time": "2023-05-08T14:08:16.813785Z"
    }
   }
  },
  {
   "cell_type": "code",
   "execution_count": 187,
   "outputs": [],
   "source": [
    "df = pd.concat([df_demand_hourly, df_mcp_hourly], axis=1)"
   ],
   "metadata": {
    "collapsed": false,
    "ExecuteTime": {
     "end_time": "2023-05-08T14:06:54.004101Z",
     "start_time": "2023-05-08T14:06:53.996512Z"
    }
   }
  },
  {
   "cell_type": "code",
   "execution_count": 190,
   "outputs": [
    {
     "data": {
      "text/plain": "                           Solar  Wind Offshore  Wind Onshore\n2023-03-01 01:00:00+01:00    0.0          247.0        6297.0\n2023-03-01 01:15:00+01:00    0.0          244.0        6238.0\n2023-03-01 01:30:00+01:00    0.0          243.0        6165.0\n2023-03-01 01:45:00+01:00    0.0          241.0        6090.0\n2023-03-01 02:00:00+01:00    0.0          239.0        6016.0\n...                          ...            ...           ...\n2023-05-08 22:45:00+02:00    0.0         2403.0       15929.0\n2023-05-08 23:00:00+02:00    0.0         2401.0       16114.0\n2023-05-08 23:15:00+02:00    0.0         2399.0       16148.0\n2023-05-08 23:30:00+02:00    0.0         2397.0       16174.0\n2023-05-08 23:45:00+02:00    0.0         2395.0       16198.0\n\n[6616 rows x 3 columns]",
      "text/html": "<div>\n<style scoped>\n    .dataframe tbody tr th:only-of-type {\n        vertical-align: middle;\n    }\n\n    .dataframe tbody tr th {\n        vertical-align: top;\n    }\n\n    .dataframe thead th {\n        text-align: right;\n    }\n</style>\n<table border=\"1\" class=\"dataframe\">\n  <thead>\n    <tr style=\"text-align: right;\">\n      <th></th>\n      <th>Solar</th>\n      <th>Wind Offshore</th>\n      <th>Wind Onshore</th>\n    </tr>\n  </thead>\n  <tbody>\n    <tr>\n      <th>2023-03-01 01:00:00+01:00</th>\n      <td>0.0</td>\n      <td>247.0</td>\n      <td>6297.0</td>\n    </tr>\n    <tr>\n      <th>2023-03-01 01:15:00+01:00</th>\n      <td>0.0</td>\n      <td>244.0</td>\n      <td>6238.0</td>\n    </tr>\n    <tr>\n      <th>2023-03-01 01:30:00+01:00</th>\n      <td>0.0</td>\n      <td>243.0</td>\n      <td>6165.0</td>\n    </tr>\n    <tr>\n      <th>2023-03-01 01:45:00+01:00</th>\n      <td>0.0</td>\n      <td>241.0</td>\n      <td>6090.0</td>\n    </tr>\n    <tr>\n      <th>2023-03-01 02:00:00+01:00</th>\n      <td>0.0</td>\n      <td>239.0</td>\n      <td>6016.0</td>\n    </tr>\n    <tr>\n      <th>...</th>\n      <td>...</td>\n      <td>...</td>\n      <td>...</td>\n    </tr>\n    <tr>\n      <th>2023-05-08 22:45:00+02:00</th>\n      <td>0.0</td>\n      <td>2403.0</td>\n      <td>15929.0</td>\n    </tr>\n    <tr>\n      <th>2023-05-08 23:00:00+02:00</th>\n      <td>0.0</td>\n      <td>2401.0</td>\n      <td>16114.0</td>\n    </tr>\n    <tr>\n      <th>2023-05-08 23:15:00+02:00</th>\n      <td>0.0</td>\n      <td>2399.0</td>\n      <td>16148.0</td>\n    </tr>\n    <tr>\n      <th>2023-05-08 23:30:00+02:00</th>\n      <td>0.0</td>\n      <td>2397.0</td>\n      <td>16174.0</td>\n    </tr>\n    <tr>\n      <th>2023-05-08 23:45:00+02:00</th>\n      <td>0.0</td>\n      <td>2395.0</td>\n      <td>16198.0</td>\n    </tr>\n  </tbody>\n</table>\n<p>6616 rows × 3 columns</p>\n</div>"
     },
     "execution_count": 190,
     "metadata": {},
     "output_type": "execute_result"
    }
   ],
   "source": [
    "df_vre"
   ],
   "metadata": {
    "collapsed": false
   }
  },
  {
   "cell_type": "code",
   "execution_count": null,
   "outputs": [],
   "source": [
    "# 2023-05-08 12:00:00+02:00,63621.0,29065.0,2153.0,10199.0,63511.0,80.41\n",
    "# dieser Datenpunkt entspricht den Werten von 12:00 Uhr bis 12:30 Uhr\n",
    "# Day ahead total load"
   ],
   "metadata": {
    "collapsed": false
   }
  },
  {
   "cell_type": "code",
   "execution_count": 196,
   "outputs": [],
   "source": [
    "# aggregate hourly\n",
    "df_vre_agg = df_vre.groupby([pd.Grouper(freq='1h')])[['Solar', 'Wind Offshore', 'Wind Onshore']].sum()"
   ],
   "metadata": {
    "collapsed": false,
    "ExecuteTime": {
     "end_time": "2023-05-08T14:11:37.737690Z",
     "start_time": "2023-05-08T14:11:37.723537Z"
    }
   }
  },
  {
   "cell_type": "code",
   "execution_count": 205,
   "outputs": [],
   "source": [
    "\n",
    "test = df_vre_agg.pivot_table(index=df_vre_agg.index.date, columns=df_vre_agg.index.hour, values=['Wind Onshore', 'Wind Offshore', 'Solar'], aggfunc='sum')\n",
    "#df_vre_hourly = df_vre_hourly.add_prefix('forecasted_load_hour_')"
   ],
   "metadata": {
    "collapsed": false,
    "ExecuteTime": {
     "end_time": "2023-05-08T14:20:01.817100Z",
     "start_time": "2023-05-08T14:20:01.806514Z"
    }
   }
  },
  {
   "cell_type": "code",
   "execution_count": null,
   "outputs": [],
   "source": [],
   "metadata": {
    "collapsed": false
   }
  },
  {
   "cell_type": "code",
   "execution_count": 212,
   "outputs": [
    {
     "data": {
      "text/plain": "('Solar', 0)_hour_2023-03-01    NaN\n('Solar', 0)_hour_2023-03-02    0.0\n('Solar', 0)_hour_2023-03-03    0.0\n('Solar', 0)_hour_2023-03-04    0.0\n('Solar', 0)_hour_2023-03-05    0.0\n                               ... \n('Solar', 0)_hour_2023-05-04    0.0\n('Solar', 0)_hour_2023-05-05    0.0\n('Solar', 0)_hour_2023-05-06    0.0\n('Solar', 0)_hour_2023-05-07    0.0\n('Solar', 0)_hour_2023-05-08    0.0\nName: (Solar, 0), Length: 69, dtype: float64"
     },
     "execution_count": 212,
     "metadata": {},
     "output_type": "execute_result"
    }
   ],
   "source": [
    "[test[col].add_prefix(f'{col}_hour_') for col in test.columns][0]"
   ],
   "metadata": {
    "collapsed": false,
    "ExecuteTime": {
     "end_time": "2023-05-08T14:24:38.670663Z",
     "start_time": "2023-05-08T14:24:38.647922Z"
    }
   }
  },
  {
   "cell_type": "code",
   "execution_count": 210,
   "outputs": [
    {
     "data": {
      "text/plain": "            Solar_hour_0  Solar_hour_1  Solar_hour_2  Solar_hour_3   \n2023-03-01           NaN           0.0           0.0           0.0  \\\n2023-03-02           0.0           0.0           0.0           0.0   \n2023-03-03           0.0           0.0           0.0           0.0   \n2023-03-04           0.0           0.0           0.0           0.0   \n2023-03-05           0.0           0.0           0.0           0.0   \n...                  ...           ...           ...           ...   \n2023-05-04           0.0           0.0           0.0           0.0   \n2023-05-05           0.0           0.0           0.0           0.0   \n2023-05-06           0.0           0.0           0.0           0.0   \n2023-05-07           0.0           0.0           0.0           0.0   \n2023-05-08           0.0           0.0           0.0           0.0   \n\n            Solar_hour_4  Solar_hour_5  Solar_hour_6  Solar_hour_7   \n2023-03-01           0.0           0.0          22.0        5263.0  \\\n2023-03-02           0.0           0.0          36.0        5089.0   \n2023-03-03           0.0           0.0          24.0        3892.0   \n2023-03-04           0.0           0.0          32.0        3523.0   \n2023-03-05           0.0           0.0          36.0        2669.0   \n...                  ...           ...           ...           ...   \n2023-05-04           0.0         116.0        5980.0       27338.0   \n2023-05-05           0.0          81.0        4947.0       23056.0   \n2023-05-06           0.0          90.0        3340.0       15702.0   \n2023-05-07           0.0         129.0        5159.0       20356.0   \n2023-05-08           0.0         182.0        5758.0       22685.0   \n\n            Solar_hour_8  Solar_hour_9  ...  Solar_hour_14  Solar_hour_15   \n2023-03-01       29740.0       61422.0  ...        93677.0        66432.0  \\\n2023-03-02       27789.0       56714.0  ...        90641.0        64691.0   \n2023-03-03       20536.0       42817.0  ...        83441.0        60028.0   \n2023-03-04       17251.0       33544.0  ...        52068.0        35620.0   \n2023-03-05       12839.0       25921.0  ...        34399.0        24114.0   \n...                  ...           ...  ...            ...            ...   \n2023-05-04       60536.0       95511.0  ...       140625.0       124407.0   \n2023-05-05       49723.0       76896.0  ...        93326.0        77801.0   \n2023-05-06       36115.0       58381.0  ...       102036.0        90951.0   \n2023-05-07       43788.0       69961.0  ...       103188.0        89505.0   \n2023-05-08       47401.0       72017.0  ...       115780.0       103938.0   \n\n            Solar_hour_16  Solar_hour_17  Solar_hour_18  Solar_hour_19   \n2023-03-01        31765.0         5837.0           32.0            0.0  \\\n2023-03-02        31098.0         5685.0           40.0            0.0   \n2023-03-03        29677.0         5670.0           58.0            0.0   \n2023-03-04        17389.0         3598.0           66.0            0.0   \n2023-03-05        12628.0         2872.0           83.0            0.0   \n...                   ...            ...            ...            ...   \n2023-05-04        98780.0        65430.0        32631.0        10607.0   \n2023-05-05        57524.0        37106.0        20015.0         7142.0   \n2023-05-06        73419.0        52032.0        28546.0         9819.0   \n2023-05-07        70400.0        48366.0        26624.0         9588.0   \n2023-05-08        85286.0        61230.0        34331.0        12065.0   \n\n            Solar_hour_20  Solar_hour_21  Solar_hour_22  Solar_hour_23  \n2023-03-01            0.0            0.0            0.0            0.0  \n2023-03-02            0.0            0.0            0.0            0.0  \n2023-03-03            0.0            0.0            0.0            0.0  \n2023-03-04            0.0            0.0            0.0            0.0  \n2023-03-05            0.0            0.0            0.0            0.0  \n...                   ...            ...            ...            ...  \n2023-05-04         1538.0           63.0            0.0            0.0  \n2023-05-05         1073.0           53.0            0.0            0.0  \n2023-05-06         1302.0           51.0            0.0            0.0  \n2023-05-07         1342.0           31.0            0.0            0.0  \n2023-05-08         1913.0           45.0            0.0            0.0  \n\n[69 rows x 24 columns]",
      "text/html": "<div>\n<style scoped>\n    .dataframe tbody tr th:only-of-type {\n        vertical-align: middle;\n    }\n\n    .dataframe tbody tr th {\n        vertical-align: top;\n    }\n\n    .dataframe thead th {\n        text-align: right;\n    }\n</style>\n<table border=\"1\" class=\"dataframe\">\n  <thead>\n    <tr style=\"text-align: right;\">\n      <th></th>\n      <th>Solar_hour_0</th>\n      <th>Solar_hour_1</th>\n      <th>Solar_hour_2</th>\n      <th>Solar_hour_3</th>\n      <th>Solar_hour_4</th>\n      <th>Solar_hour_5</th>\n      <th>Solar_hour_6</th>\n      <th>Solar_hour_7</th>\n      <th>Solar_hour_8</th>\n      <th>Solar_hour_9</th>\n      <th>...</th>\n      <th>Solar_hour_14</th>\n      <th>Solar_hour_15</th>\n      <th>Solar_hour_16</th>\n      <th>Solar_hour_17</th>\n      <th>Solar_hour_18</th>\n      <th>Solar_hour_19</th>\n      <th>Solar_hour_20</th>\n      <th>Solar_hour_21</th>\n      <th>Solar_hour_22</th>\n      <th>Solar_hour_23</th>\n    </tr>\n  </thead>\n  <tbody>\n    <tr>\n      <th>2023-03-01</th>\n      <td>NaN</td>\n      <td>0.0</td>\n      <td>0.0</td>\n      <td>0.0</td>\n      <td>0.0</td>\n      <td>0.0</td>\n      <td>22.0</td>\n      <td>5263.0</td>\n      <td>29740.0</td>\n      <td>61422.0</td>\n      <td>...</td>\n      <td>93677.0</td>\n      <td>66432.0</td>\n      <td>31765.0</td>\n      <td>5837.0</td>\n      <td>32.0</td>\n      <td>0.0</td>\n      <td>0.0</td>\n      <td>0.0</td>\n      <td>0.0</td>\n      <td>0.0</td>\n    </tr>\n    <tr>\n      <th>2023-03-02</th>\n      <td>0.0</td>\n      <td>0.0</td>\n      <td>0.0</td>\n      <td>0.0</td>\n      <td>0.0</td>\n      <td>0.0</td>\n      <td>36.0</td>\n      <td>5089.0</td>\n      <td>27789.0</td>\n      <td>56714.0</td>\n      <td>...</td>\n      <td>90641.0</td>\n      <td>64691.0</td>\n      <td>31098.0</td>\n      <td>5685.0</td>\n      <td>40.0</td>\n      <td>0.0</td>\n      <td>0.0</td>\n      <td>0.0</td>\n      <td>0.0</td>\n      <td>0.0</td>\n    </tr>\n    <tr>\n      <th>2023-03-03</th>\n      <td>0.0</td>\n      <td>0.0</td>\n      <td>0.0</td>\n      <td>0.0</td>\n      <td>0.0</td>\n      <td>0.0</td>\n      <td>24.0</td>\n      <td>3892.0</td>\n      <td>20536.0</td>\n      <td>42817.0</td>\n      <td>...</td>\n      <td>83441.0</td>\n      <td>60028.0</td>\n      <td>29677.0</td>\n      <td>5670.0</td>\n      <td>58.0</td>\n      <td>0.0</td>\n      <td>0.0</td>\n      <td>0.0</td>\n      <td>0.0</td>\n      <td>0.0</td>\n    </tr>\n    <tr>\n      <th>2023-03-04</th>\n      <td>0.0</td>\n      <td>0.0</td>\n      <td>0.0</td>\n      <td>0.0</td>\n      <td>0.0</td>\n      <td>0.0</td>\n      <td>32.0</td>\n      <td>3523.0</td>\n      <td>17251.0</td>\n      <td>33544.0</td>\n      <td>...</td>\n      <td>52068.0</td>\n      <td>35620.0</td>\n      <td>17389.0</td>\n      <td>3598.0</td>\n      <td>66.0</td>\n      <td>0.0</td>\n      <td>0.0</td>\n      <td>0.0</td>\n      <td>0.0</td>\n      <td>0.0</td>\n    </tr>\n    <tr>\n      <th>2023-03-05</th>\n      <td>0.0</td>\n      <td>0.0</td>\n      <td>0.0</td>\n      <td>0.0</td>\n      <td>0.0</td>\n      <td>0.0</td>\n      <td>36.0</td>\n      <td>2669.0</td>\n      <td>12839.0</td>\n      <td>25921.0</td>\n      <td>...</td>\n      <td>34399.0</td>\n      <td>24114.0</td>\n      <td>12628.0</td>\n      <td>2872.0</td>\n      <td>83.0</td>\n      <td>0.0</td>\n      <td>0.0</td>\n      <td>0.0</td>\n      <td>0.0</td>\n      <td>0.0</td>\n    </tr>\n    <tr>\n      <th>...</th>\n      <td>...</td>\n      <td>...</td>\n      <td>...</td>\n      <td>...</td>\n      <td>...</td>\n      <td>...</td>\n      <td>...</td>\n      <td>...</td>\n      <td>...</td>\n      <td>...</td>\n      <td>...</td>\n      <td>...</td>\n      <td>...</td>\n      <td>...</td>\n      <td>...</td>\n      <td>...</td>\n      <td>...</td>\n      <td>...</td>\n      <td>...</td>\n      <td>...</td>\n      <td>...</td>\n    </tr>\n    <tr>\n      <th>2023-05-04</th>\n      <td>0.0</td>\n      <td>0.0</td>\n      <td>0.0</td>\n      <td>0.0</td>\n      <td>0.0</td>\n      <td>116.0</td>\n      <td>5980.0</td>\n      <td>27338.0</td>\n      <td>60536.0</td>\n      <td>95511.0</td>\n      <td>...</td>\n      <td>140625.0</td>\n      <td>124407.0</td>\n      <td>98780.0</td>\n      <td>65430.0</td>\n      <td>32631.0</td>\n      <td>10607.0</td>\n      <td>1538.0</td>\n      <td>63.0</td>\n      <td>0.0</td>\n      <td>0.0</td>\n    </tr>\n    <tr>\n      <th>2023-05-05</th>\n      <td>0.0</td>\n      <td>0.0</td>\n      <td>0.0</td>\n      <td>0.0</td>\n      <td>0.0</td>\n      <td>81.0</td>\n      <td>4947.0</td>\n      <td>23056.0</td>\n      <td>49723.0</td>\n      <td>76896.0</td>\n      <td>...</td>\n      <td>93326.0</td>\n      <td>77801.0</td>\n      <td>57524.0</td>\n      <td>37106.0</td>\n      <td>20015.0</td>\n      <td>7142.0</td>\n      <td>1073.0</td>\n      <td>53.0</td>\n      <td>0.0</td>\n      <td>0.0</td>\n    </tr>\n    <tr>\n      <th>2023-05-06</th>\n      <td>0.0</td>\n      <td>0.0</td>\n      <td>0.0</td>\n      <td>0.0</td>\n      <td>0.0</td>\n      <td>90.0</td>\n      <td>3340.0</td>\n      <td>15702.0</td>\n      <td>36115.0</td>\n      <td>58381.0</td>\n      <td>...</td>\n      <td>102036.0</td>\n      <td>90951.0</td>\n      <td>73419.0</td>\n      <td>52032.0</td>\n      <td>28546.0</td>\n      <td>9819.0</td>\n      <td>1302.0</td>\n      <td>51.0</td>\n      <td>0.0</td>\n      <td>0.0</td>\n    </tr>\n    <tr>\n      <th>2023-05-07</th>\n      <td>0.0</td>\n      <td>0.0</td>\n      <td>0.0</td>\n      <td>0.0</td>\n      <td>0.0</td>\n      <td>129.0</td>\n      <td>5159.0</td>\n      <td>20356.0</td>\n      <td>43788.0</td>\n      <td>69961.0</td>\n      <td>...</td>\n      <td>103188.0</td>\n      <td>89505.0</td>\n      <td>70400.0</td>\n      <td>48366.0</td>\n      <td>26624.0</td>\n      <td>9588.0</td>\n      <td>1342.0</td>\n      <td>31.0</td>\n      <td>0.0</td>\n      <td>0.0</td>\n    </tr>\n    <tr>\n      <th>2023-05-08</th>\n      <td>0.0</td>\n      <td>0.0</td>\n      <td>0.0</td>\n      <td>0.0</td>\n      <td>0.0</td>\n      <td>182.0</td>\n      <td>5758.0</td>\n      <td>22685.0</td>\n      <td>47401.0</td>\n      <td>72017.0</td>\n      <td>...</td>\n      <td>115780.0</td>\n      <td>103938.0</td>\n      <td>85286.0</td>\n      <td>61230.0</td>\n      <td>34331.0</td>\n      <td>12065.0</td>\n      <td>1913.0</td>\n      <td>45.0</td>\n      <td>0.0</td>\n      <td>0.0</td>\n    </tr>\n  </tbody>\n</table>\n<p>69 rows × 24 columns</p>\n</div>"
     },
     "execution_count": 210,
     "metadata": {},
     "output_type": "execute_result"
    }
   ],
   "source": [
    "pd.concat([test['Solar'].add_prefix('Solar_hour_'), ])"
   ],
   "metadata": {
    "collapsed": false,
    "ExecuteTime": {
     "end_time": "2023-05-08T14:22:50.235220Z",
     "start_time": "2023-05-08T14:22:50.219771Z"
    }
   }
  },
  {
   "cell_type": "code",
   "execution_count": 64,
   "outputs": [
    {
     "data": {
      "text/plain": "                           Forecasted Load      Solar  Wind Offshore   \n2022-01-01 00:00:00+01:00        4087580.0   130566.0       467309.0  \\\n2022-01-02 00:00:00+01:00        4893343.0    94954.0       556874.0   \n2022-01-03 00:00:00+01:00        5790309.0   102006.0       588415.0   \n2022-01-04 00:00:00+01:00        6026514.0    43926.0       366535.0   \n2022-01-05 00:00:00+01:00        6223270.0   110089.0       608893.0   \n...                                    ...        ...            ...   \n2022-04-27 00:00:00+02:00        5501443.0   867811.0        24266.0   \n2022-04-28 00:00:00+02:00        5452723.0  1067294.0        75181.0   \n2022-04-29 00:00:00+02:00        5404809.0  1015177.0        63335.0   \n2022-04-30 00:00:00+02:00        4727408.0   659786.0        38224.0   \n2022-05-01 00:00:00+02:00         378378.0        0.0         2131.0   \n\n                           Wind Onshore  Actual Aggregated  \n2022-01-01 00:00:00+01:00     1384558.0          1150624.0  \n2022-01-02 00:00:00+01:00     2463120.0          1497235.0  \n2022-01-03 00:00:00+01:00     3092386.0          1804336.0  \n2022-01-04 00:00:00+01:00     1336172.0          1530429.0  \n2022-01-05 00:00:00+01:00     2748791.0          1846391.0  \n...                                 ...                ...  \n2022-04-27 00:00:00+02:00      244662.0          1409259.0  \n2022-04-28 00:00:00+02:00      364603.0          1461638.0  \n2022-04-29 00:00:00+02:00      339967.0          1421279.0  \n2022-04-30 00:00:00+02:00      407541.0          1200306.0  \n2022-05-01 00:00:00+02:00       36704.0           111169.0  \n\n[121 rows x 5 columns]",
      "text/html": "<div>\n<style scoped>\n    .dataframe tbody tr th:only-of-type {\n        vertical-align: middle;\n    }\n\n    .dataframe tbody tr th {\n        vertical-align: top;\n    }\n\n    .dataframe thead th {\n        text-align: right;\n    }\n</style>\n<table border=\"1\" class=\"dataframe\">\n  <thead>\n    <tr style=\"text-align: right;\">\n      <th></th>\n      <th>Forecasted Load</th>\n      <th>Solar</th>\n      <th>Wind Offshore</th>\n      <th>Wind Onshore</th>\n      <th>Actual Aggregated</th>\n    </tr>\n  </thead>\n  <tbody>\n    <tr>\n      <th>2022-01-01 00:00:00+01:00</th>\n      <td>4087580.0</td>\n      <td>130566.0</td>\n      <td>467309.0</td>\n      <td>1384558.0</td>\n      <td>1150624.0</td>\n    </tr>\n    <tr>\n      <th>2022-01-02 00:00:00+01:00</th>\n      <td>4893343.0</td>\n      <td>94954.0</td>\n      <td>556874.0</td>\n      <td>2463120.0</td>\n      <td>1497235.0</td>\n    </tr>\n    <tr>\n      <th>2022-01-03 00:00:00+01:00</th>\n      <td>5790309.0</td>\n      <td>102006.0</td>\n      <td>588415.0</td>\n      <td>3092386.0</td>\n      <td>1804336.0</td>\n    </tr>\n    <tr>\n      <th>2022-01-04 00:00:00+01:00</th>\n      <td>6026514.0</td>\n      <td>43926.0</td>\n      <td>366535.0</td>\n      <td>1336172.0</td>\n      <td>1530429.0</td>\n    </tr>\n    <tr>\n      <th>2022-01-05 00:00:00+01:00</th>\n      <td>6223270.0</td>\n      <td>110089.0</td>\n      <td>608893.0</td>\n      <td>2748791.0</td>\n      <td>1846391.0</td>\n    </tr>\n    <tr>\n      <th>...</th>\n      <td>...</td>\n      <td>...</td>\n      <td>...</td>\n      <td>...</td>\n      <td>...</td>\n    </tr>\n    <tr>\n      <th>2022-04-27 00:00:00+02:00</th>\n      <td>5501443.0</td>\n      <td>867811.0</td>\n      <td>24266.0</td>\n      <td>244662.0</td>\n      <td>1409259.0</td>\n    </tr>\n    <tr>\n      <th>2022-04-28 00:00:00+02:00</th>\n      <td>5452723.0</td>\n      <td>1067294.0</td>\n      <td>75181.0</td>\n      <td>364603.0</td>\n      <td>1461638.0</td>\n    </tr>\n    <tr>\n      <th>2022-04-29 00:00:00+02:00</th>\n      <td>5404809.0</td>\n      <td>1015177.0</td>\n      <td>63335.0</td>\n      <td>339967.0</td>\n      <td>1421279.0</td>\n    </tr>\n    <tr>\n      <th>2022-04-30 00:00:00+02:00</th>\n      <td>4727408.0</td>\n      <td>659786.0</td>\n      <td>38224.0</td>\n      <td>407541.0</td>\n      <td>1200306.0</td>\n    </tr>\n    <tr>\n      <th>2022-05-01 00:00:00+02:00</th>\n      <td>378378.0</td>\n      <td>0.0</td>\n      <td>2131.0</td>\n      <td>36704.0</td>\n      <td>111169.0</td>\n    </tr>\n  </tbody>\n</table>\n<p>121 rows × 5 columns</p>\n</div>"
     },
     "execution_count": 64,
     "metadata": {},
     "output_type": "execute_result"
    }
   ],
   "source": [
    "# aggregate daily\n",
    "df.groupby([pd.Grouper(freq='1d')])[['Forecasted Load', 'Solar', 'Wind Offshore', 'Wind Onshore', 'Actual Aggregated']].sum()"
   ],
   "metadata": {
    "collapsed": false,
    "ExecuteTime": {
     "end_time": "2023-05-08T11:16:30.610366Z",
     "start_time": "2023-05-08T11:16:30.597698Z"
    }
   }
  },
  {
   "cell_type": "code",
   "execution_count": null,
   "outputs": [],
   "source": [
    "#"
   ],
   "metadata": {
    "collapsed": false
   }
  },
  {
   "cell_type": "code",
   "execution_count": null,
   "outputs": [],
   "source": [],
   "metadata": {
    "collapsed": false
   }
  },
  {
   "cell_type": "code",
   "execution_count": null,
   "outputs": [],
   "source": [],
   "metadata": {
    "collapsed": false
   }
  },
  {
   "cell_type": "markdown",
   "source": [
    "# Bedeutung der einzelnen Variablen\n",
    "- Forecasted Load:\n",
    "- Solar\n",
    "- Wind Offshore:\n",
    "- Wind Onshore:\n",
    "- day ahead market price: EUR/MWh\n"
   ],
   "metadata": {
    "collapsed": false
   }
  },
  {
   "cell_type": "code",
   "execution_count": null,
   "outputs": [],
   "source": [],
   "metadata": {
    "collapsed": false
   }
  }
 ],
 "metadata": {
  "kernelspec": {
   "display_name": "Python 3",
   "language": "python",
   "name": "python3"
  },
  "language_info": {
   "codemirror_mode": {
    "name": "ipython",
    "version": 2
   },
   "file_extension": ".py",
   "mimetype": "text/x-python",
   "name": "python",
   "nbconvert_exporter": "python",
   "pygments_lexer": "ipython2",
   "version": "2.7.6"
  }
 },
 "nbformat": 4,
 "nbformat_minor": 0
}
