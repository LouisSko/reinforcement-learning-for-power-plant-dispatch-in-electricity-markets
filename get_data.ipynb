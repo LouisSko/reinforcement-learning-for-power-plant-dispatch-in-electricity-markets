{
 "cells": [
  {
   "cell_type": "code",
   "execution_count": 51,
   "outputs": [],
   "source": [
    "from basic_rl_envi_for_dam_bidding_main.import_data_example import *"
   ],
   "metadata": {
    "collapsed": false,
    "ExecuteTime": {
     "end_time": "2023-05-08T09:30:48.469020Z",
     "start_time": "2023-05-08T09:30:48.464704Z"
    }
   }
  },
  {
   "cell_type": "markdown",
   "source": [
    "# Get Data"
   ],
   "metadata": {
    "collapsed": false
   }
  },
  {
   "cell_type": "code",
   "execution_count": 273,
   "outputs": [],
   "source": [
    "start = pd.Timestamp(year=2023, month=3, day=1, tz=\"utc\")\n",
    "#end = pd.Timestamp(year=2022, month=5, day=1, tz=\"utc\")\n",
    "end = pd.Timestamp.now(tz=\"utc\")\n",
    "# get the end of the current day\n",
    "end = end.floor('D') + pd.Timedelta(days=3)"
   ],
   "metadata": {
    "collapsed": false,
    "ExecuteTime": {
     "end_time": "2023-05-08T15:03:48.447552Z",
     "start_time": "2023-05-08T15:03:48.443238Z"
    }
   }
  },
  {
   "cell_type": "code",
   "execution_count": 274,
   "outputs": [],
   "source": [
    "df_demand = get_demand(start, end)\n",
    "# wann wird der forecast available? Basierend darauf muss später gejoined werden\n",
    "df_mcp = get_mcp(start, end)\n",
    "df_vre = get_vre(start, end)\n",
    "df_gen = get_gen(start, end)\n",
    "#states = get_states_list(start, end)\n",
    "\n",
    "#checken ob daten um 24:00 Uhr kommen oder um 12:00 Uhr"
   ],
   "metadata": {
    "collapsed": false,
    "ExecuteTime": {
     "end_time": "2023-05-08T15:04:17.304317Z",
     "start_time": "2023-05-08T15:03:48.788873Z"
    }
   }
  },
  {
   "cell_type": "code",
   "execution_count": 275,
   "outputs": [
    {
     "data": {
      "text/plain": "                           Solar  Wind Offshore  Wind Onshore\n2023-03-01 01:00:00+01:00    0.0          247.0        6297.0\n2023-03-01 01:15:00+01:00    0.0          244.0        6238.0\n2023-03-01 01:30:00+01:00    0.0          243.0        6165.0\n2023-03-01 01:45:00+01:00    0.0          241.0        6090.0\n2023-03-01 02:00:00+01:00    0.0          239.0        6016.0\n...                          ...            ...           ...\n2023-05-08 22:45:00+02:00    0.0         2403.0       15929.0\n2023-05-08 23:00:00+02:00    0.0         2401.0       16114.0\n2023-05-08 23:15:00+02:00    0.0         2399.0       16148.0\n2023-05-08 23:30:00+02:00    0.0         2397.0       16174.0\n2023-05-08 23:45:00+02:00    0.0         2395.0       16198.0\n\n[6616 rows x 3 columns]",
      "text/html": "<div>\n<style scoped>\n    .dataframe tbody tr th:only-of-type {\n        vertical-align: middle;\n    }\n\n    .dataframe tbody tr th {\n        vertical-align: top;\n    }\n\n    .dataframe thead th {\n        text-align: right;\n    }\n</style>\n<table border=\"1\" class=\"dataframe\">\n  <thead>\n    <tr style=\"text-align: right;\">\n      <th></th>\n      <th>Solar</th>\n      <th>Wind Offshore</th>\n      <th>Wind Onshore</th>\n    </tr>\n  </thead>\n  <tbody>\n    <tr>\n      <th>2023-03-01 01:00:00+01:00</th>\n      <td>0.0</td>\n      <td>247.0</td>\n      <td>6297.0</td>\n    </tr>\n    <tr>\n      <th>2023-03-01 01:15:00+01:00</th>\n      <td>0.0</td>\n      <td>244.0</td>\n      <td>6238.0</td>\n    </tr>\n    <tr>\n      <th>2023-03-01 01:30:00+01:00</th>\n      <td>0.0</td>\n      <td>243.0</td>\n      <td>6165.0</td>\n    </tr>\n    <tr>\n      <th>2023-03-01 01:45:00+01:00</th>\n      <td>0.0</td>\n      <td>241.0</td>\n      <td>6090.0</td>\n    </tr>\n    <tr>\n      <th>2023-03-01 02:00:00+01:00</th>\n      <td>0.0</td>\n      <td>239.0</td>\n      <td>6016.0</td>\n    </tr>\n    <tr>\n      <th>...</th>\n      <td>...</td>\n      <td>...</td>\n      <td>...</td>\n    </tr>\n    <tr>\n      <th>2023-05-08 22:45:00+02:00</th>\n      <td>0.0</td>\n      <td>2403.0</td>\n      <td>15929.0</td>\n    </tr>\n    <tr>\n      <th>2023-05-08 23:00:00+02:00</th>\n      <td>0.0</td>\n      <td>2401.0</td>\n      <td>16114.0</td>\n    </tr>\n    <tr>\n      <th>2023-05-08 23:15:00+02:00</th>\n      <td>0.0</td>\n      <td>2399.0</td>\n      <td>16148.0</td>\n    </tr>\n    <tr>\n      <th>2023-05-08 23:30:00+02:00</th>\n      <td>0.0</td>\n      <td>2397.0</td>\n      <td>16174.0</td>\n    </tr>\n    <tr>\n      <th>2023-05-08 23:45:00+02:00</th>\n      <td>0.0</td>\n      <td>2395.0</td>\n      <td>16198.0</td>\n    </tr>\n  </tbody>\n</table>\n<p>6616 rows × 3 columns</p>\n</div>"
     },
     "execution_count": 275,
     "metadata": {},
     "output_type": "execute_result"
    }
   ],
   "source": [
    "# füge eine variable hinzu, die angibt zu welchem Zeitpunkt die Daten verfügbar sind\n",
    "df_vre"
   ],
   "metadata": {
    "collapsed": false,
    "ExecuteTime": {
     "end_time": "2023-05-08T15:04:25.941561Z",
     "start_time": "2023-05-08T15:04:25.935833Z"
    }
   }
  },
  {
   "cell_type": "code",
   "execution_count": 272,
   "outputs": [
    {
     "data": {
      "text/plain": "                           Solar  Wind Offshore  Wind Onshore\n2023-03-01 01:00:00+01:00    0.0          247.0        6297.0\n2023-03-01 01:15:00+01:00    0.0          244.0        6238.0\n2023-03-01 01:30:00+01:00    0.0          243.0        6165.0\n2023-03-01 01:45:00+01:00    0.0          241.0        6090.0\n2023-03-01 02:00:00+01:00    0.0          239.0        6016.0\n...                          ...            ...           ...\n2023-05-08 22:45:00+02:00    0.0         2403.0       15929.0\n2023-05-08 23:00:00+02:00    0.0         2401.0       16114.0\n2023-05-08 23:15:00+02:00    0.0         2399.0       16148.0\n2023-05-08 23:30:00+02:00    0.0         2397.0       16174.0\n2023-05-08 23:45:00+02:00    0.0         2395.0       16198.0\n\n[6616 rows x 3 columns]",
      "text/html": "<div>\n<style scoped>\n    .dataframe tbody tr th:only-of-type {\n        vertical-align: middle;\n    }\n\n    .dataframe tbody tr th {\n        vertical-align: top;\n    }\n\n    .dataframe thead th {\n        text-align: right;\n    }\n</style>\n<table border=\"1\" class=\"dataframe\">\n  <thead>\n    <tr style=\"text-align: right;\">\n      <th></th>\n      <th>Solar</th>\n      <th>Wind Offshore</th>\n      <th>Wind Onshore</th>\n    </tr>\n  </thead>\n  <tbody>\n    <tr>\n      <th>2023-03-01 01:00:00+01:00</th>\n      <td>0.0</td>\n      <td>247.0</td>\n      <td>6297.0</td>\n    </tr>\n    <tr>\n      <th>2023-03-01 01:15:00+01:00</th>\n      <td>0.0</td>\n      <td>244.0</td>\n      <td>6238.0</td>\n    </tr>\n    <tr>\n      <th>2023-03-01 01:30:00+01:00</th>\n      <td>0.0</td>\n      <td>243.0</td>\n      <td>6165.0</td>\n    </tr>\n    <tr>\n      <th>2023-03-01 01:45:00+01:00</th>\n      <td>0.0</td>\n      <td>241.0</td>\n      <td>6090.0</td>\n    </tr>\n    <tr>\n      <th>2023-03-01 02:00:00+01:00</th>\n      <td>0.0</td>\n      <td>239.0</td>\n      <td>6016.0</td>\n    </tr>\n    <tr>\n      <th>...</th>\n      <td>...</td>\n      <td>...</td>\n      <td>...</td>\n    </tr>\n    <tr>\n      <th>2023-05-08 22:45:00+02:00</th>\n      <td>0.0</td>\n      <td>2403.0</td>\n      <td>15929.0</td>\n    </tr>\n    <tr>\n      <th>2023-05-08 23:00:00+02:00</th>\n      <td>0.0</td>\n      <td>2401.0</td>\n      <td>16114.0</td>\n    </tr>\n    <tr>\n      <th>2023-05-08 23:15:00+02:00</th>\n      <td>0.0</td>\n      <td>2399.0</td>\n      <td>16148.0</td>\n    </tr>\n    <tr>\n      <th>2023-05-08 23:30:00+02:00</th>\n      <td>0.0</td>\n      <td>2397.0</td>\n      <td>16174.0</td>\n    </tr>\n    <tr>\n      <th>2023-05-08 23:45:00+02:00</th>\n      <td>0.0</td>\n      <td>2395.0</td>\n      <td>16198.0</td>\n    </tr>\n  </tbody>\n</table>\n<p>6616 rows × 3 columns</p>\n</div>"
     },
     "execution_count": 272,
     "metadata": {},
     "output_type": "execute_result"
    }
   ],
   "source": [
    "df_vre['day available']"
   ],
   "metadata": {
    "collapsed": false,
    "ExecuteTime": {
     "end_time": "2023-05-08T15:02:29.679820Z",
     "start_time": "2023-05-08T15:02:29.664315Z"
    }
   }
  },
  {
   "cell_type": "code",
   "execution_count": 276,
   "outputs": [
    {
     "data": {
      "text/plain": "            forecasted_load_hour_0  forecasted_load_hour_1   \n2023-03-01                     NaN                202201.0  \\\n2023-03-02                210615.0                203958.0   \n2023-03-03                209231.0                202353.0   \n2023-03-04                208905.0                201157.0   \n2023-03-05                184430.0                178168.0   \n...                            ...                     ...   \n2023-05-05                187268.0                180504.0   \n2023-05-06                178686.0                170291.0   \n2023-05-07                156546.0                150069.0   \n2023-05-08                164319.0                158542.0   \n2023-05-09                173819.0                168778.0   \n\n            forecasted_load_hour_2  forecasted_load_hour_3   \n2023-03-01                199722.0                201209.0  \\\n2023-03-02                201056.0                202722.0   \n2023-03-03                200215.0                201846.0   \n2023-03-04                197389.0                196285.0   \n2023-03-05                174895.0                174166.0   \n...                            ...                     ...   \n2023-05-05                177404.0                178729.0   \n2023-05-06                165397.0                165289.0   \n2023-05-07                146385.0                145810.0   \n2023-05-08                156600.0                157929.0   \n2023-05-09                165488.0                166900.0   \n\n            forecasted_load_hour_4  forecasted_load_hour_5   \n2023-03-01                205615.0                217546.0  \\\n2023-03-02                207651.0                220122.0   \n2023-03-03                207412.0                219564.0   \n2023-03-04                196250.0                196526.0   \n2023-03-05                174403.0                175287.0   \n...                            ...                     ...   \n2023-05-05                183737.0                195244.0   \n2023-05-06                165567.0                166777.0   \n2023-05-07                146519.0                148029.0   \n2023-05-08                164306.0                179276.0   \n2023-05-09                172033.0                184683.0   \n\n            forecasted_load_hour_6  forecasted_load_hour_7   \n2023-03-01                242339.0                259557.0  \\\n2023-03-02                245990.0                263352.0   \n2023-03-03                242874.0                261214.0   \n2023-03-04                201076.0                209615.0   \n2023-03-05                175933.0                182501.0   \n...                            ...                     ...   \n2023-05-05                218627.0                239211.0   \n2023-05-06                170943.0                180339.0   \n2023-05-07                149051.0                156625.0   \n2023-05-08                208210.0                229411.0   \n2023-05-09                211058.0                232091.0   \n\n            forecasted_load_hour_8  forecasted_load_hour_9  ...   \n2023-03-01                269253.0                273495.0  ...  \\\n2023-03-02                273116.0                275667.0  ...   \n2023-03-03                271378.0                273974.0  ...   \n2023-03-04                221057.0                231850.0  ...   \n2023-03-05                194247.0                206916.0  ...   \n...                            ...                     ...  ...   \n2023-05-05                250013.0                252828.0  ...   \n2023-05-06                194227.0                205778.0  ...   \n2023-05-07                169065.0                181813.0  ...   \n2023-05-08                241925.0                245964.0  ...   \n2023-05-09                243568.0                247291.0  ...   \n\n            forecasted_load_hour_14  forecasted_load_hour_15   \n2023-03-01                 268279.0                 264267.0  \\\n2023-03-02                 266792.0                 262473.0   \n2023-03-03                 264787.0                 261004.0   \n2023-03-04                 226094.0                 222174.0   \n2023-03-05                 213832.0                 209249.0   \n...                             ...                      ...   \n2023-05-05                 244603.0                 240778.0   \n2023-05-06                 196623.0                 195302.0   \n2023-05-07                 184978.0                 180112.0   \n2023-05-08                 247787.0                 244131.0   \n2023-05-09                 248268.0                 244034.0   \n\n            forecasted_load_hour_16  forecasted_load_hour_17   \n2023-03-01                 260761.0                 264329.0  \\\n2023-03-02                 260473.0                 263796.0   \n2023-03-03                 257569.0                 261197.0   \n2023-03-04                 220486.0                 227722.0   \n2023-03-05                 210632.0                 217380.0   \n...                             ...                      ...   \n2023-05-05                 236813.0                 236402.0   \n2023-05-06                 193697.0                 195734.0   \n2023-05-07                 179674.0                 182785.0   \n2023-05-08                 239194.0                 238171.0   \n2023-05-09                 239806.0                 238966.0   \n\n            forecasted_load_hour_18  forecasted_load_hour_19   \n2023-03-01                 271424.0                 269117.0  \\\n2023-03-02                 271542.0                 270194.0   \n2023-03-03                 269995.0                 269232.0   \n2023-03-04                 235907.0                 231132.0   \n2023-03-05                 227147.0                 225722.0   \n...                             ...                      ...   \n2023-05-05                 236470.0                 235661.0   \n2023-05-06                 198464.0                 197800.0   \n2023-05-07                 187898.0                 188711.0   \n2023-05-08                 237807.0                 235555.0   \n2023-05-09                 238488.0                 235580.0   \n\n            forecasted_load_hour_20  forecasted_load_hour_21   \n2023-03-01                 256096.0                 244186.0  \\\n2023-03-02                 256781.0                 243905.0   \n2023-03-03                 255493.0                 242882.0   \n2023-03-04                 218192.0                 209541.0   \n2023-03-05                 217273.0                 211725.0   \n...                             ...                      ...   \n2023-05-05                 228457.0                 220694.0   \n2023-05-06                 192963.0                 188436.0   \n2023-05-07                 186855.0                 185278.0   \n2023-05-08                 228832.0                 220288.0   \n2023-05-09                 228424.0                 220124.0   \n\n            forecasted_load_hour_22  forecasted_load_hour_23  \n2023-03-01                 233075.0                 219587.0  \n2023-03-02                 233097.0                 219619.0  \n2023-03-03                 232205.0                 219235.0  \n2023-03-04                 204206.0                 193179.0  \n2023-03-05                 210021.0                 200525.0  \n...                             ...                      ...  \n2023-05-05                 208203.0                 194098.0  \n2023-05-06                 181031.0                 169483.0  \n2023-05-07                 180363.0                 170017.0  \n2023-05-08                 207681.0                 194075.0  \n2023-05-09                 207281.0                 193168.0  \n\n[70 rows x 24 columns]",
      "text/html": "<div>\n<style scoped>\n    .dataframe tbody tr th:only-of-type {\n        vertical-align: middle;\n    }\n\n    .dataframe tbody tr th {\n        vertical-align: top;\n    }\n\n    .dataframe thead th {\n        text-align: right;\n    }\n</style>\n<table border=\"1\" class=\"dataframe\">\n  <thead>\n    <tr style=\"text-align: right;\">\n      <th></th>\n      <th>forecasted_load_hour_0</th>\n      <th>forecasted_load_hour_1</th>\n      <th>forecasted_load_hour_2</th>\n      <th>forecasted_load_hour_3</th>\n      <th>forecasted_load_hour_4</th>\n      <th>forecasted_load_hour_5</th>\n      <th>forecasted_load_hour_6</th>\n      <th>forecasted_load_hour_7</th>\n      <th>forecasted_load_hour_8</th>\n      <th>forecasted_load_hour_9</th>\n      <th>...</th>\n      <th>forecasted_load_hour_14</th>\n      <th>forecasted_load_hour_15</th>\n      <th>forecasted_load_hour_16</th>\n      <th>forecasted_load_hour_17</th>\n      <th>forecasted_load_hour_18</th>\n      <th>forecasted_load_hour_19</th>\n      <th>forecasted_load_hour_20</th>\n      <th>forecasted_load_hour_21</th>\n      <th>forecasted_load_hour_22</th>\n      <th>forecasted_load_hour_23</th>\n    </tr>\n  </thead>\n  <tbody>\n    <tr>\n      <th>2023-03-01</th>\n      <td>NaN</td>\n      <td>202201.0</td>\n      <td>199722.0</td>\n      <td>201209.0</td>\n      <td>205615.0</td>\n      <td>217546.0</td>\n      <td>242339.0</td>\n      <td>259557.0</td>\n      <td>269253.0</td>\n      <td>273495.0</td>\n      <td>...</td>\n      <td>268279.0</td>\n      <td>264267.0</td>\n      <td>260761.0</td>\n      <td>264329.0</td>\n      <td>271424.0</td>\n      <td>269117.0</td>\n      <td>256096.0</td>\n      <td>244186.0</td>\n      <td>233075.0</td>\n      <td>219587.0</td>\n    </tr>\n    <tr>\n      <th>2023-03-02</th>\n      <td>210615.0</td>\n      <td>203958.0</td>\n      <td>201056.0</td>\n      <td>202722.0</td>\n      <td>207651.0</td>\n      <td>220122.0</td>\n      <td>245990.0</td>\n      <td>263352.0</td>\n      <td>273116.0</td>\n      <td>275667.0</td>\n      <td>...</td>\n      <td>266792.0</td>\n      <td>262473.0</td>\n      <td>260473.0</td>\n      <td>263796.0</td>\n      <td>271542.0</td>\n      <td>270194.0</td>\n      <td>256781.0</td>\n      <td>243905.0</td>\n      <td>233097.0</td>\n      <td>219619.0</td>\n    </tr>\n    <tr>\n      <th>2023-03-03</th>\n      <td>209231.0</td>\n      <td>202353.0</td>\n      <td>200215.0</td>\n      <td>201846.0</td>\n      <td>207412.0</td>\n      <td>219564.0</td>\n      <td>242874.0</td>\n      <td>261214.0</td>\n      <td>271378.0</td>\n      <td>273974.0</td>\n      <td>...</td>\n      <td>264787.0</td>\n      <td>261004.0</td>\n      <td>257569.0</td>\n      <td>261197.0</td>\n      <td>269995.0</td>\n      <td>269232.0</td>\n      <td>255493.0</td>\n      <td>242882.0</td>\n      <td>232205.0</td>\n      <td>219235.0</td>\n    </tr>\n    <tr>\n      <th>2023-03-04</th>\n      <td>208905.0</td>\n      <td>201157.0</td>\n      <td>197389.0</td>\n      <td>196285.0</td>\n      <td>196250.0</td>\n      <td>196526.0</td>\n      <td>201076.0</td>\n      <td>209615.0</td>\n      <td>221057.0</td>\n      <td>231850.0</td>\n      <td>...</td>\n      <td>226094.0</td>\n      <td>222174.0</td>\n      <td>220486.0</td>\n      <td>227722.0</td>\n      <td>235907.0</td>\n      <td>231132.0</td>\n      <td>218192.0</td>\n      <td>209541.0</td>\n      <td>204206.0</td>\n      <td>193179.0</td>\n    </tr>\n    <tr>\n      <th>2023-03-05</th>\n      <td>184430.0</td>\n      <td>178168.0</td>\n      <td>174895.0</td>\n      <td>174166.0</td>\n      <td>174403.0</td>\n      <td>175287.0</td>\n      <td>175933.0</td>\n      <td>182501.0</td>\n      <td>194247.0</td>\n      <td>206916.0</td>\n      <td>...</td>\n      <td>213832.0</td>\n      <td>209249.0</td>\n      <td>210632.0</td>\n      <td>217380.0</td>\n      <td>227147.0</td>\n      <td>225722.0</td>\n      <td>217273.0</td>\n      <td>211725.0</td>\n      <td>210021.0</td>\n      <td>200525.0</td>\n    </tr>\n    <tr>\n      <th>...</th>\n      <td>...</td>\n      <td>...</td>\n      <td>...</td>\n      <td>...</td>\n      <td>...</td>\n      <td>...</td>\n      <td>...</td>\n      <td>...</td>\n      <td>...</td>\n      <td>...</td>\n      <td>...</td>\n      <td>...</td>\n      <td>...</td>\n      <td>...</td>\n      <td>...</td>\n      <td>...</td>\n      <td>...</td>\n      <td>...</td>\n      <td>...</td>\n      <td>...</td>\n      <td>...</td>\n    </tr>\n    <tr>\n      <th>2023-05-05</th>\n      <td>187268.0</td>\n      <td>180504.0</td>\n      <td>177404.0</td>\n      <td>178729.0</td>\n      <td>183737.0</td>\n      <td>195244.0</td>\n      <td>218627.0</td>\n      <td>239211.0</td>\n      <td>250013.0</td>\n      <td>252828.0</td>\n      <td>...</td>\n      <td>244603.0</td>\n      <td>240778.0</td>\n      <td>236813.0</td>\n      <td>236402.0</td>\n      <td>236470.0</td>\n      <td>235661.0</td>\n      <td>228457.0</td>\n      <td>220694.0</td>\n      <td>208203.0</td>\n      <td>194098.0</td>\n    </tr>\n    <tr>\n      <th>2023-05-06</th>\n      <td>178686.0</td>\n      <td>170291.0</td>\n      <td>165397.0</td>\n      <td>165289.0</td>\n      <td>165567.0</td>\n      <td>166777.0</td>\n      <td>170943.0</td>\n      <td>180339.0</td>\n      <td>194227.0</td>\n      <td>205778.0</td>\n      <td>...</td>\n      <td>196623.0</td>\n      <td>195302.0</td>\n      <td>193697.0</td>\n      <td>195734.0</td>\n      <td>198464.0</td>\n      <td>197800.0</td>\n      <td>192963.0</td>\n      <td>188436.0</td>\n      <td>181031.0</td>\n      <td>169483.0</td>\n    </tr>\n    <tr>\n      <th>2023-05-07</th>\n      <td>156546.0</td>\n      <td>150069.0</td>\n      <td>146385.0</td>\n      <td>145810.0</td>\n      <td>146519.0</td>\n      <td>148029.0</td>\n      <td>149051.0</td>\n      <td>156625.0</td>\n      <td>169065.0</td>\n      <td>181813.0</td>\n      <td>...</td>\n      <td>184978.0</td>\n      <td>180112.0</td>\n      <td>179674.0</td>\n      <td>182785.0</td>\n      <td>187898.0</td>\n      <td>188711.0</td>\n      <td>186855.0</td>\n      <td>185278.0</td>\n      <td>180363.0</td>\n      <td>170017.0</td>\n    </tr>\n    <tr>\n      <th>2023-05-08</th>\n      <td>164319.0</td>\n      <td>158542.0</td>\n      <td>156600.0</td>\n      <td>157929.0</td>\n      <td>164306.0</td>\n      <td>179276.0</td>\n      <td>208210.0</td>\n      <td>229411.0</td>\n      <td>241925.0</td>\n      <td>245964.0</td>\n      <td>...</td>\n      <td>247787.0</td>\n      <td>244131.0</td>\n      <td>239194.0</td>\n      <td>238171.0</td>\n      <td>237807.0</td>\n      <td>235555.0</td>\n      <td>228832.0</td>\n      <td>220288.0</td>\n      <td>207681.0</td>\n      <td>194075.0</td>\n    </tr>\n    <tr>\n      <th>2023-05-09</th>\n      <td>173819.0</td>\n      <td>168778.0</td>\n      <td>165488.0</td>\n      <td>166900.0</td>\n      <td>172033.0</td>\n      <td>184683.0</td>\n      <td>211058.0</td>\n      <td>232091.0</td>\n      <td>243568.0</td>\n      <td>247291.0</td>\n      <td>...</td>\n      <td>248268.0</td>\n      <td>244034.0</td>\n      <td>239806.0</td>\n      <td>238966.0</td>\n      <td>238488.0</td>\n      <td>235580.0</td>\n      <td>228424.0</td>\n      <td>220124.0</td>\n      <td>207281.0</td>\n      <td>193168.0</td>\n    </tr>\n  </tbody>\n</table>\n<p>70 rows × 24 columns</p>\n</div>"
     },
     "execution_count": 276,
     "metadata": {},
     "output_type": "execute_result"
    }
   ],
   "source": [
    "df_demand_hourly"
   ],
   "metadata": {
    "collapsed": false,
    "ExecuteTime": {
     "end_time": "2023-05-08T15:08:01.880141Z",
     "start_time": "2023-05-08T15:08:01.879270Z"
    }
   }
  },
  {
   "cell_type": "code",
   "execution_count": 180,
   "outputs": [],
   "source": [
    "# get day ahead market price for each day\n",
    "df_mcp_hourly = df_mcp.pivot_table(index=df_mcp.index.date, columns=df_mcp.index.hour, values=0)\n",
    "df_mcp_hourly.index = pd.to_datetime(df_mcp_hourly.index)\n",
    "df_mcp_hourly = df_mcp_hourly.add_prefix('market_price_hour_')\n",
    "df_mcp_hourly['end_auction'] = (df_mcp_hourly.index - pd.Timedelta(hours = 12))\n",
    "#df_mcp_hourly = df_mcp_hourly.reset_index(drop=False).set_index('end_auction')\n",
    "#df_mcp_hourly = df_mcp_hourly.rename(columns={'index': 'day'})"
   ],
   "metadata": {
    "collapsed": false,
    "ExecuteTime": {
     "end_time": "2023-05-08T14:06:08.130212Z",
     "start_time": "2023-05-08T14:06:08.114278Z"
    }
   }
  },
  {
   "cell_type": "code",
   "execution_count": 181,
   "outputs": [],
   "source": [
    "# df_demand: 2023-05-08 23:45:00+02:00 gibt den Load für 23:45-00:00 Uhr an\n",
    "# 2023-05-08 12:00:00+02:00,63621.0,29065.0,2153.0,10199.0,63511.0,80.41\n",
    "# dieser Datenpunkt entspricht den Werten von 12:00 Uhr bis 12:30 Uhr"
   ],
   "metadata": {
    "collapsed": false,
    "ExecuteTime": {
     "end_time": "2023-05-08T14:06:09.797368Z",
     "start_time": "2023-05-08T14:06:09.791628Z"
    }
   }
  },
  {
   "cell_type": "code",
   "execution_count": 189,
   "outputs": [],
   "source": [
    "# get forecasted load for each hour of each day.\n",
    "df_demand_hourly = df_demand.pivot_table(index=df_demand.index.date, columns=df_demand.index.hour, values='Forecasted Load', aggfunc='sum')\n",
    "df_demand_hourly = df_demand_hourly.add_prefix('forecasted_load_hour_')"
   ],
   "metadata": {
    "collapsed": false,
    "ExecuteTime": {
     "end_time": "2023-05-08T14:08:16.821877Z",
     "start_time": "2023-05-08T14:08:16.813785Z"
    }
   }
  },
  {
   "cell_type": "code",
   "execution_count": 245,
   "outputs": [],
   "source": [
    "# aggregate hourly\n",
    "df_vre_agg = df_vre.groupby([pd.Grouper(freq='1h')]).sum()"
   ],
   "metadata": {
    "collapsed": false,
    "ExecuteTime": {
     "end_time": "2023-05-08T14:36:00.834904Z",
     "start_time": "2023-05-08T14:36:00.834354Z"
    }
   }
  },
  {
   "cell_type": "code",
   "execution_count": 248,
   "outputs": [],
   "source": [
    "df_vre_hourly = df_vre_agg.pivot_table(index=df_vre_agg.index.date, columns=df_vre_agg.index.hour, values=['Wind Onshore', 'Wind Offshore', 'Solar'], aggfunc='sum')\n",
    "# add prefix and concatenate df\n",
    "df_vre_hourly = pd.concat([df_vre_hourly[col].add_prefix(f'{col}_hour_') for col in df_vre_hourly.columns.get_level_values(level=0).unique()], axis=1)"
   ],
   "metadata": {
    "collapsed": false,
    "ExecuteTime": {
     "end_time": "2023-05-08T14:36:10.604806Z",
     "start_time": "2023-05-08T14:36:10.585897Z"
    }
   }
  },
  {
   "cell_type": "code",
   "execution_count": 257,
   "outputs": [],
   "source": [
    "df_gen_hourly = df_gen.pivot_table(index=df_gen.index.date, columns=df_gen.index.hour, values='Actual Aggregated', aggfunc='sum')\n",
    "df_gen_hourly = df_gen_hourly.add_prefix('actual_aggregated_hour_')"
   ],
   "metadata": {
    "collapsed": false,
    "ExecuteTime": {
     "end_time": "2023-05-08T14:43:08.634134Z",
     "start_time": "2023-05-08T14:43:08.617801Z"
    }
   }
  },
  {
   "cell_type": "code",
   "execution_count": 267,
   "outputs": [],
   "source": [
    "#\n",
    "l = [df_demand_hourly, df_vre_hourly, df_gen_hourly, df_mcp_hourly]"
   ],
   "metadata": {
    "collapsed": false,
    "ExecuteTime": {
     "end_time": "2023-05-08T14:53:51.018205Z",
     "start_time": "2023-05-08T14:53:51.015740Z"
    }
   }
  },
  {
   "cell_type": "code",
   "execution_count": null,
   "outputs": [],
   "source": [
    "# ab wann sind die Daten verfügbar?\n",
    "\n",
    "# um 17:15 am 8.Mai\n",
    "# df_demand_hourly bis 2023-05-09 23:00\n",
    "# df_vre_hourly bis 2023-05-08 23:00\n",
    "# df_gen_hourly bis 2023-05-08 23:00\n",
    "# df_mcp_hourly bis 2023-05-09 23:00\n"
   ],
   "metadata": {
    "collapsed": false
   }
  },
  {
   "cell_type": "code",
   "execution_count": 271,
   "outputs": [
    {
     "data": {
      "text/plain": "            market_price_hour_0  market_price_hour_1  market_price_hour_2   \n2023-03-01                  NaN               125.46               124.96  \\\n2023-03-02               125.82               128.57               130.03   \n2023-03-03               140.30               130.18               130.59   \n2023-03-04               108.27                95.86                92.18   \n2023-03-05               107.53               106.25               105.55   \n...                         ...                  ...                  ...   \n2023-05-05                91.50                81.80                78.49   \n2023-05-06               106.71                99.62                95.71   \n2023-05-07                92.65                86.17                82.66   \n2023-05-08                85.92                83.93                83.78   \n2023-05-09                95.96                87.52                84.60   \n\n            market_price_hour_3  market_price_hour_4  market_price_hour_5   \n2023-03-01               127.66               130.58               141.35  \\\n2023-03-02               131.47               130.01               135.58   \n2023-03-03               128.43               127.78               135.00   \n2023-03-04                97.96                97.69                96.98   \n2023-03-05               106.84               104.99               105.81   \n...                         ...                  ...                  ...   \n2023-05-05                79.51                78.49                87.52   \n2023-05-06                91.70                89.93                91.70   \n2023-05-07                83.51                82.94                84.07   \n2023-05-08                83.13                84.09                90.91   \n2023-05-09                84.17                85.25                92.45   \n\n            market_price_hour_6  market_price_hour_7  market_price_hour_8   \n2023-03-01               163.45               186.03               186.03  \\\n2023-03-02               164.99               181.11               177.62   \n2023-03-03               162.19               187.03               195.39   \n2023-03-04                94.10                98.82               100.69   \n2023-03-05               105.94               108.39               107.72   \n...                         ...                  ...                  ...   \n2023-05-05               101.22               113.75               110.70   \n2023-05-06                97.20                99.02                95.13   \n2023-05-07                83.14                81.87                75.87   \n2023-05-08               104.12               119.45               110.97   \n2023-05-09               111.58               121.00               117.88   \n\n            market_price_hour_9  ...  market_price_hour_15   \n2023-03-01               152.90  ...                122.81  \\\n2023-03-02               141.44  ...                128.62   \n2023-03-03               166.48  ...                114.69   \n2023-03-04                96.89  ...                101.77   \n2023-03-05               107.73  ...                115.14   \n...                         ...  ...                   ...   \n2023-05-05                97.28  ...                 81.08   \n2023-05-06                93.28  ...                 63.16   \n2023-05-07                67.60  ...                 15.44   \n2023-05-08               100.01  ...                 78.00   \n2023-05-09               104.96  ...                 80.80   \n\n            market_price_hour_16  market_price_hour_17  market_price_hour_18   \n2023-03-01                135.46                162.74                183.69  \\\n2023-03-02                152.64                166.38                184.91   \n2023-03-03                129.31                155.98                165.00   \n2023-03-04                106.90                140.00                151.66   \n2023-03-05                129.37                145.14                166.67   \n...                          ...                   ...                   ...   \n2023-05-05                 91.16                100.17                112.80   \n2023-05-06                 74.64                 90.30                102.70   \n2023-05-07                 56.62                 75.97                 94.94   \n2023-05-08                 84.01                 97.05                110.04   \n2023-05-09                 84.44                100.06                116.34   \n\n            market_price_hour_19  market_price_hour_20  market_price_hour_21   \n2023-03-01                182.48                162.74                144.85  \\\n2023-03-02                184.13                163.43                159.31   \n2023-03-03                152.94                133.31                122.20   \n2023-03-04                145.00                138.68                117.71   \n2023-03-05                172.37                160.23                152.49   \n...                          ...                   ...                   ...   \n2023-05-05                120.54                128.57                126.31   \n2023-05-06                108.05                111.81                108.71   \n2023-05-07                 99.36                106.45                105.02   \n2023-05-08                132.90                128.41                121.99   \n2023-05-09                121.93                121.05                110.97   \n\n            market_price_hour_22  market_price_hour_23         end_auction  \n2023-03-01                142.05                131.51 2023-02-28 12:00:00  \n2023-03-02                149.53                139.90 2023-03-01 12:00:00  \n2023-03-03                112.09                101.63 2023-03-02 12:00:00  \n2023-03-04                121.02                109.41 2023-03-03 12:00:00  \n2023-03-05                143.66                130.13 2023-03-04 12:00:00  \n...                          ...                   ...                 ...  \n2023-05-05                115.56                103.34 2023-05-04 12:00:00  \n2023-05-06                103.12                 92.38 2023-05-05 12:00:00  \n2023-05-07                 99.30                 96.07 2023-05-06 12:00:00  \n2023-05-08                112.56                 99.38 2023-05-07 12:00:00  \n2023-05-09                104.67                 89.93 2023-05-08 12:00:00  \n\n[70 rows x 25 columns]",
      "text/html": "<div>\n<style scoped>\n    .dataframe tbody tr th:only-of-type {\n        vertical-align: middle;\n    }\n\n    .dataframe tbody tr th {\n        vertical-align: top;\n    }\n\n    .dataframe thead th {\n        text-align: right;\n    }\n</style>\n<table border=\"1\" class=\"dataframe\">\n  <thead>\n    <tr style=\"text-align: right;\">\n      <th></th>\n      <th>market_price_hour_0</th>\n      <th>market_price_hour_1</th>\n      <th>market_price_hour_2</th>\n      <th>market_price_hour_3</th>\n      <th>market_price_hour_4</th>\n      <th>market_price_hour_5</th>\n      <th>market_price_hour_6</th>\n      <th>market_price_hour_7</th>\n      <th>market_price_hour_8</th>\n      <th>market_price_hour_9</th>\n      <th>...</th>\n      <th>market_price_hour_15</th>\n      <th>market_price_hour_16</th>\n      <th>market_price_hour_17</th>\n      <th>market_price_hour_18</th>\n      <th>market_price_hour_19</th>\n      <th>market_price_hour_20</th>\n      <th>market_price_hour_21</th>\n      <th>market_price_hour_22</th>\n      <th>market_price_hour_23</th>\n      <th>end_auction</th>\n    </tr>\n  </thead>\n  <tbody>\n    <tr>\n      <th>2023-03-01</th>\n      <td>NaN</td>\n      <td>125.46</td>\n      <td>124.96</td>\n      <td>127.66</td>\n      <td>130.58</td>\n      <td>141.35</td>\n      <td>163.45</td>\n      <td>186.03</td>\n      <td>186.03</td>\n      <td>152.90</td>\n      <td>...</td>\n      <td>122.81</td>\n      <td>135.46</td>\n      <td>162.74</td>\n      <td>183.69</td>\n      <td>182.48</td>\n      <td>162.74</td>\n      <td>144.85</td>\n      <td>142.05</td>\n      <td>131.51</td>\n      <td>2023-02-28 12:00:00</td>\n    </tr>\n    <tr>\n      <th>2023-03-02</th>\n      <td>125.82</td>\n      <td>128.57</td>\n      <td>130.03</td>\n      <td>131.47</td>\n      <td>130.01</td>\n      <td>135.58</td>\n      <td>164.99</td>\n      <td>181.11</td>\n      <td>177.62</td>\n      <td>141.44</td>\n      <td>...</td>\n      <td>128.62</td>\n      <td>152.64</td>\n      <td>166.38</td>\n      <td>184.91</td>\n      <td>184.13</td>\n      <td>163.43</td>\n      <td>159.31</td>\n      <td>149.53</td>\n      <td>139.90</td>\n      <td>2023-03-01 12:00:00</td>\n    </tr>\n    <tr>\n      <th>2023-03-03</th>\n      <td>140.30</td>\n      <td>130.18</td>\n      <td>130.59</td>\n      <td>128.43</td>\n      <td>127.78</td>\n      <td>135.00</td>\n      <td>162.19</td>\n      <td>187.03</td>\n      <td>195.39</td>\n      <td>166.48</td>\n      <td>...</td>\n      <td>114.69</td>\n      <td>129.31</td>\n      <td>155.98</td>\n      <td>165.00</td>\n      <td>152.94</td>\n      <td>133.31</td>\n      <td>122.20</td>\n      <td>112.09</td>\n      <td>101.63</td>\n      <td>2023-03-02 12:00:00</td>\n    </tr>\n    <tr>\n      <th>2023-03-04</th>\n      <td>108.27</td>\n      <td>95.86</td>\n      <td>92.18</td>\n      <td>97.96</td>\n      <td>97.69</td>\n      <td>96.98</td>\n      <td>94.10</td>\n      <td>98.82</td>\n      <td>100.69</td>\n      <td>96.89</td>\n      <td>...</td>\n      <td>101.77</td>\n      <td>106.90</td>\n      <td>140.00</td>\n      <td>151.66</td>\n      <td>145.00</td>\n      <td>138.68</td>\n      <td>117.71</td>\n      <td>121.02</td>\n      <td>109.41</td>\n      <td>2023-03-03 12:00:00</td>\n    </tr>\n    <tr>\n      <th>2023-03-05</th>\n      <td>107.53</td>\n      <td>106.25</td>\n      <td>105.55</td>\n      <td>106.84</td>\n      <td>104.99</td>\n      <td>105.81</td>\n      <td>105.94</td>\n      <td>108.39</td>\n      <td>107.72</td>\n      <td>107.73</td>\n      <td>...</td>\n      <td>115.14</td>\n      <td>129.37</td>\n      <td>145.14</td>\n      <td>166.67</td>\n      <td>172.37</td>\n      <td>160.23</td>\n      <td>152.49</td>\n      <td>143.66</td>\n      <td>130.13</td>\n      <td>2023-03-04 12:00:00</td>\n    </tr>\n    <tr>\n      <th>...</th>\n      <td>...</td>\n      <td>...</td>\n      <td>...</td>\n      <td>...</td>\n      <td>...</td>\n      <td>...</td>\n      <td>...</td>\n      <td>...</td>\n      <td>...</td>\n      <td>...</td>\n      <td>...</td>\n      <td>...</td>\n      <td>...</td>\n      <td>...</td>\n      <td>...</td>\n      <td>...</td>\n      <td>...</td>\n      <td>...</td>\n      <td>...</td>\n      <td>...</td>\n      <td>...</td>\n    </tr>\n    <tr>\n      <th>2023-05-05</th>\n      <td>91.50</td>\n      <td>81.80</td>\n      <td>78.49</td>\n      <td>79.51</td>\n      <td>78.49</td>\n      <td>87.52</td>\n      <td>101.22</td>\n      <td>113.75</td>\n      <td>110.70</td>\n      <td>97.28</td>\n      <td>...</td>\n      <td>81.08</td>\n      <td>91.16</td>\n      <td>100.17</td>\n      <td>112.80</td>\n      <td>120.54</td>\n      <td>128.57</td>\n      <td>126.31</td>\n      <td>115.56</td>\n      <td>103.34</td>\n      <td>2023-05-04 12:00:00</td>\n    </tr>\n    <tr>\n      <th>2023-05-06</th>\n      <td>106.71</td>\n      <td>99.62</td>\n      <td>95.71</td>\n      <td>91.70</td>\n      <td>89.93</td>\n      <td>91.70</td>\n      <td>97.20</td>\n      <td>99.02</td>\n      <td>95.13</td>\n      <td>93.28</td>\n      <td>...</td>\n      <td>63.16</td>\n      <td>74.64</td>\n      <td>90.30</td>\n      <td>102.70</td>\n      <td>108.05</td>\n      <td>111.81</td>\n      <td>108.71</td>\n      <td>103.12</td>\n      <td>92.38</td>\n      <td>2023-05-05 12:00:00</td>\n    </tr>\n    <tr>\n      <th>2023-05-07</th>\n      <td>92.65</td>\n      <td>86.17</td>\n      <td>82.66</td>\n      <td>83.51</td>\n      <td>82.94</td>\n      <td>84.07</td>\n      <td>83.14</td>\n      <td>81.87</td>\n      <td>75.87</td>\n      <td>67.60</td>\n      <td>...</td>\n      <td>15.44</td>\n      <td>56.62</td>\n      <td>75.97</td>\n      <td>94.94</td>\n      <td>99.36</td>\n      <td>106.45</td>\n      <td>105.02</td>\n      <td>99.30</td>\n      <td>96.07</td>\n      <td>2023-05-06 12:00:00</td>\n    </tr>\n    <tr>\n      <th>2023-05-08</th>\n      <td>85.92</td>\n      <td>83.93</td>\n      <td>83.78</td>\n      <td>83.13</td>\n      <td>84.09</td>\n      <td>90.91</td>\n      <td>104.12</td>\n      <td>119.45</td>\n      <td>110.97</td>\n      <td>100.01</td>\n      <td>...</td>\n      <td>78.00</td>\n      <td>84.01</td>\n      <td>97.05</td>\n      <td>110.04</td>\n      <td>132.90</td>\n      <td>128.41</td>\n      <td>121.99</td>\n      <td>112.56</td>\n      <td>99.38</td>\n      <td>2023-05-07 12:00:00</td>\n    </tr>\n    <tr>\n      <th>2023-05-09</th>\n      <td>95.96</td>\n      <td>87.52</td>\n      <td>84.60</td>\n      <td>84.17</td>\n      <td>85.25</td>\n      <td>92.45</td>\n      <td>111.58</td>\n      <td>121.00</td>\n      <td>117.88</td>\n      <td>104.96</td>\n      <td>...</td>\n      <td>80.80</td>\n      <td>84.44</td>\n      <td>100.06</td>\n      <td>116.34</td>\n      <td>121.93</td>\n      <td>121.05</td>\n      <td>110.97</td>\n      <td>104.67</td>\n      <td>89.93</td>\n      <td>2023-05-08 12:00:00</td>\n    </tr>\n  </tbody>\n</table>\n<p>70 rows × 25 columns</p>\n</div>"
     },
     "execution_count": 271,
     "metadata": {},
     "output_type": "execute_result"
    }
   ],
   "source": [
    "df_mcp_hourly"
   ],
   "metadata": {
    "collapsed": false,
    "ExecuteTime": {
     "end_time": "2023-05-08T14:55:22.767392Z",
     "start_time": "2023-05-08T14:55:22.761768Z"
    }
   }
  },
  {
   "cell_type": "code",
   "execution_count": 265,
   "outputs": [],
   "source": [
    "# join der Daten ist nicht korrekt\n",
    "df = pd.concat([df_demand_hourly, df_vre_hourly, df_gen_hourly, df_mcp_hourly], axis=1)"
   ],
   "metadata": {
    "collapsed": false,
    "ExecuteTime": {
     "end_time": "2023-05-08T14:52:02.316922Z",
     "start_time": "2023-05-08T14:52:02.312332Z"
    }
   }
  },
  {
   "cell_type": "code",
   "execution_count": null,
   "outputs": [],
   "source": [],
   "metadata": {
    "collapsed": false
   }
  },
  {
   "cell_type": "code",
   "execution_count": 266,
   "outputs": [
    {
     "data": {
      "text/plain": "                     forecasted_load_hour_0  forecasted_load_hour_1   \n2023-03-01                              NaN                202201.0  \\\n2023-03-02                         210615.0                203958.0   \n2023-03-03                         209231.0                202353.0   \n2023-03-04                         208905.0                201157.0   \n2023-03-05                         184430.0                178168.0   \n...                                     ...                     ...   \n2023-05-05 00:00:00                     NaN                     NaN   \n2023-05-06 00:00:00                     NaN                     NaN   \n2023-05-07 00:00:00                     NaN                     NaN   \n2023-05-08 00:00:00                     NaN                     NaN   \n2023-05-09 00:00:00                     NaN                     NaN   \n\n                     forecasted_load_hour_2  forecasted_load_hour_3   \n2023-03-01                         199722.0                201209.0  \\\n2023-03-02                         201056.0                202722.0   \n2023-03-03                         200215.0                201846.0   \n2023-03-04                         197389.0                196285.0   \n2023-03-05                         174895.0                174166.0   \n...                                     ...                     ...   \n2023-05-05 00:00:00                     NaN                     NaN   \n2023-05-06 00:00:00                     NaN                     NaN   \n2023-05-07 00:00:00                     NaN                     NaN   \n2023-05-08 00:00:00                     NaN                     NaN   \n2023-05-09 00:00:00                     NaN                     NaN   \n\n                     forecasted_load_hour_4  forecasted_load_hour_5   \n2023-03-01                         205615.0                217546.0  \\\n2023-03-02                         207651.0                220122.0   \n2023-03-03                         207412.0                219564.0   \n2023-03-04                         196250.0                196526.0   \n2023-03-05                         174403.0                175287.0   \n...                                     ...                     ...   \n2023-05-05 00:00:00                     NaN                     NaN   \n2023-05-06 00:00:00                     NaN                     NaN   \n2023-05-07 00:00:00                     NaN                     NaN   \n2023-05-08 00:00:00                     NaN                     NaN   \n2023-05-09 00:00:00                     NaN                     NaN   \n\n                     forecasted_load_hour_6  forecasted_load_hour_7   \n2023-03-01                         242339.0                259557.0  \\\n2023-03-02                         245990.0                263352.0   \n2023-03-03                         242874.0                261214.0   \n2023-03-04                         201076.0                209615.0   \n2023-03-05                         175933.0                182501.0   \n...                                     ...                     ...   \n2023-05-05 00:00:00                     NaN                     NaN   \n2023-05-06 00:00:00                     NaN                     NaN   \n2023-05-07 00:00:00                     NaN                     NaN   \n2023-05-08 00:00:00                     NaN                     NaN   \n2023-05-09 00:00:00                     NaN                     NaN   \n\n                     forecasted_load_hour_8  forecasted_load_hour_9  ...   \n2023-03-01                         269253.0                273495.0  ...  \\\n2023-03-02                         273116.0                275667.0  ...   \n2023-03-03                         271378.0                273974.0  ...   \n2023-03-04                         221057.0                231850.0  ...   \n2023-03-05                         194247.0                206916.0  ...   \n...                                     ...                     ...  ...   \n2023-05-05 00:00:00                     NaN                     NaN  ...   \n2023-05-06 00:00:00                     NaN                     NaN  ...   \n2023-05-07 00:00:00                     NaN                     NaN  ...   \n2023-05-08 00:00:00                     NaN                     NaN  ...   \n2023-05-09 00:00:00                     NaN                     NaN  ...   \n\n                     market_price_hour_15  market_price_hour_16   \n2023-03-01                         122.81                135.46  \\\n2023-03-02                         128.62                152.64   \n2023-03-03                         114.69                129.31   \n2023-03-04                         101.77                106.90   \n2023-03-05                         115.14                129.37   \n...                                   ...                   ...   \n2023-05-05 00:00:00                 81.08                 91.16   \n2023-05-06 00:00:00                 63.16                 74.64   \n2023-05-07 00:00:00                 15.44                 56.62   \n2023-05-08 00:00:00                 78.00                 84.01   \n2023-05-09 00:00:00                 80.80                 84.44   \n\n                     market_price_hour_17  market_price_hour_18   \n2023-03-01                         162.74                183.69  \\\n2023-03-02                         166.38                184.91   \n2023-03-03                         155.98                165.00   \n2023-03-04                         140.00                151.66   \n2023-03-05                         145.14                166.67   \n...                                   ...                   ...   \n2023-05-05 00:00:00                100.17                112.80   \n2023-05-06 00:00:00                 90.30                102.70   \n2023-05-07 00:00:00                 75.97                 94.94   \n2023-05-08 00:00:00                 97.05                110.04   \n2023-05-09 00:00:00                100.06                116.34   \n\n                     market_price_hour_19  market_price_hour_20   \n2023-03-01                         182.48                162.74  \\\n2023-03-02                         184.13                163.43   \n2023-03-03                         152.94                133.31   \n2023-03-04                         145.00                138.68   \n2023-03-05                         172.37                160.23   \n...                                   ...                   ...   \n2023-05-05 00:00:00                120.54                128.57   \n2023-05-06 00:00:00                108.05                111.81   \n2023-05-07 00:00:00                 99.36                106.45   \n2023-05-08 00:00:00                132.90                128.41   \n2023-05-09 00:00:00                121.93                121.05   \n\n                     market_price_hour_21  market_price_hour_22   \n2023-03-01                         144.85                142.05  \\\n2023-03-02                         159.31                149.53   \n2023-03-03                         122.20                112.09   \n2023-03-04                         117.71                121.02   \n2023-03-05                         152.49                143.66   \n...                                   ...                   ...   \n2023-05-05 00:00:00                126.31                115.56   \n2023-05-06 00:00:00                108.71                103.12   \n2023-05-07 00:00:00                105.02                 99.30   \n2023-05-08 00:00:00                121.99                112.56   \n2023-05-09 00:00:00                110.97                104.67   \n\n                     market_price_hour_23         end_auction  \n2023-03-01                         131.51 2023-02-28 12:00:00  \n2023-03-02                         139.90 2023-03-01 12:00:00  \n2023-03-03                         101.63 2023-03-02 12:00:00  \n2023-03-04                         109.41 2023-03-03 12:00:00  \n2023-03-05                         130.13 2023-03-04 12:00:00  \n...                                   ...                 ...  \n2023-05-05 00:00:00                103.34 2023-05-04 12:00:00  \n2023-05-06 00:00:00                 92.38 2023-05-05 12:00:00  \n2023-05-07 00:00:00                 96.07 2023-05-06 12:00:00  \n2023-05-08 00:00:00                 99.38 2023-05-07 12:00:00  \n2023-05-09 00:00:00                 89.93 2023-05-08 12:00:00  \n\n[140 rows x 145 columns]",
      "text/html": "<div>\n<style scoped>\n    .dataframe tbody tr th:only-of-type {\n        vertical-align: middle;\n    }\n\n    .dataframe tbody tr th {\n        vertical-align: top;\n    }\n\n    .dataframe thead th {\n        text-align: right;\n    }\n</style>\n<table border=\"1\" class=\"dataframe\">\n  <thead>\n    <tr style=\"text-align: right;\">\n      <th></th>\n      <th>forecasted_load_hour_0</th>\n      <th>forecasted_load_hour_1</th>\n      <th>forecasted_load_hour_2</th>\n      <th>forecasted_load_hour_3</th>\n      <th>forecasted_load_hour_4</th>\n      <th>forecasted_load_hour_5</th>\n      <th>forecasted_load_hour_6</th>\n      <th>forecasted_load_hour_7</th>\n      <th>forecasted_load_hour_8</th>\n      <th>forecasted_load_hour_9</th>\n      <th>...</th>\n      <th>market_price_hour_15</th>\n      <th>market_price_hour_16</th>\n      <th>market_price_hour_17</th>\n      <th>market_price_hour_18</th>\n      <th>market_price_hour_19</th>\n      <th>market_price_hour_20</th>\n      <th>market_price_hour_21</th>\n      <th>market_price_hour_22</th>\n      <th>market_price_hour_23</th>\n      <th>end_auction</th>\n    </tr>\n  </thead>\n  <tbody>\n    <tr>\n      <th>2023-03-01</th>\n      <td>NaN</td>\n      <td>202201.0</td>\n      <td>199722.0</td>\n      <td>201209.0</td>\n      <td>205615.0</td>\n      <td>217546.0</td>\n      <td>242339.0</td>\n      <td>259557.0</td>\n      <td>269253.0</td>\n      <td>273495.0</td>\n      <td>...</td>\n      <td>122.81</td>\n      <td>135.46</td>\n      <td>162.74</td>\n      <td>183.69</td>\n      <td>182.48</td>\n      <td>162.74</td>\n      <td>144.85</td>\n      <td>142.05</td>\n      <td>131.51</td>\n      <td>2023-02-28 12:00:00</td>\n    </tr>\n    <tr>\n      <th>2023-03-02</th>\n      <td>210615.0</td>\n      <td>203958.0</td>\n      <td>201056.0</td>\n      <td>202722.0</td>\n      <td>207651.0</td>\n      <td>220122.0</td>\n      <td>245990.0</td>\n      <td>263352.0</td>\n      <td>273116.0</td>\n      <td>275667.0</td>\n      <td>...</td>\n      <td>128.62</td>\n      <td>152.64</td>\n      <td>166.38</td>\n      <td>184.91</td>\n      <td>184.13</td>\n      <td>163.43</td>\n      <td>159.31</td>\n      <td>149.53</td>\n      <td>139.90</td>\n      <td>2023-03-01 12:00:00</td>\n    </tr>\n    <tr>\n      <th>2023-03-03</th>\n      <td>209231.0</td>\n      <td>202353.0</td>\n      <td>200215.0</td>\n      <td>201846.0</td>\n      <td>207412.0</td>\n      <td>219564.0</td>\n      <td>242874.0</td>\n      <td>261214.0</td>\n      <td>271378.0</td>\n      <td>273974.0</td>\n      <td>...</td>\n      <td>114.69</td>\n      <td>129.31</td>\n      <td>155.98</td>\n      <td>165.00</td>\n      <td>152.94</td>\n      <td>133.31</td>\n      <td>122.20</td>\n      <td>112.09</td>\n      <td>101.63</td>\n      <td>2023-03-02 12:00:00</td>\n    </tr>\n    <tr>\n      <th>2023-03-04</th>\n      <td>208905.0</td>\n      <td>201157.0</td>\n      <td>197389.0</td>\n      <td>196285.0</td>\n      <td>196250.0</td>\n      <td>196526.0</td>\n      <td>201076.0</td>\n      <td>209615.0</td>\n      <td>221057.0</td>\n      <td>231850.0</td>\n      <td>...</td>\n      <td>101.77</td>\n      <td>106.90</td>\n      <td>140.00</td>\n      <td>151.66</td>\n      <td>145.00</td>\n      <td>138.68</td>\n      <td>117.71</td>\n      <td>121.02</td>\n      <td>109.41</td>\n      <td>2023-03-03 12:00:00</td>\n    </tr>\n    <tr>\n      <th>2023-03-05</th>\n      <td>184430.0</td>\n      <td>178168.0</td>\n      <td>174895.0</td>\n      <td>174166.0</td>\n      <td>174403.0</td>\n      <td>175287.0</td>\n      <td>175933.0</td>\n      <td>182501.0</td>\n      <td>194247.0</td>\n      <td>206916.0</td>\n      <td>...</td>\n      <td>115.14</td>\n      <td>129.37</td>\n      <td>145.14</td>\n      <td>166.67</td>\n      <td>172.37</td>\n      <td>160.23</td>\n      <td>152.49</td>\n      <td>143.66</td>\n      <td>130.13</td>\n      <td>2023-03-04 12:00:00</td>\n    </tr>\n    <tr>\n      <th>...</th>\n      <td>...</td>\n      <td>...</td>\n      <td>...</td>\n      <td>...</td>\n      <td>...</td>\n      <td>...</td>\n      <td>...</td>\n      <td>...</td>\n      <td>...</td>\n      <td>...</td>\n      <td>...</td>\n      <td>...</td>\n      <td>...</td>\n      <td>...</td>\n      <td>...</td>\n      <td>...</td>\n      <td>...</td>\n      <td>...</td>\n      <td>...</td>\n      <td>...</td>\n      <td>...</td>\n    </tr>\n    <tr>\n      <th>2023-05-05 00:00:00</th>\n      <td>NaN</td>\n      <td>NaN</td>\n      <td>NaN</td>\n      <td>NaN</td>\n      <td>NaN</td>\n      <td>NaN</td>\n      <td>NaN</td>\n      <td>NaN</td>\n      <td>NaN</td>\n      <td>NaN</td>\n      <td>...</td>\n      <td>81.08</td>\n      <td>91.16</td>\n      <td>100.17</td>\n      <td>112.80</td>\n      <td>120.54</td>\n      <td>128.57</td>\n      <td>126.31</td>\n      <td>115.56</td>\n      <td>103.34</td>\n      <td>2023-05-04 12:00:00</td>\n    </tr>\n    <tr>\n      <th>2023-05-06 00:00:00</th>\n      <td>NaN</td>\n      <td>NaN</td>\n      <td>NaN</td>\n      <td>NaN</td>\n      <td>NaN</td>\n      <td>NaN</td>\n      <td>NaN</td>\n      <td>NaN</td>\n      <td>NaN</td>\n      <td>NaN</td>\n      <td>...</td>\n      <td>63.16</td>\n      <td>74.64</td>\n      <td>90.30</td>\n      <td>102.70</td>\n      <td>108.05</td>\n      <td>111.81</td>\n      <td>108.71</td>\n      <td>103.12</td>\n      <td>92.38</td>\n      <td>2023-05-05 12:00:00</td>\n    </tr>\n    <tr>\n      <th>2023-05-07 00:00:00</th>\n      <td>NaN</td>\n      <td>NaN</td>\n      <td>NaN</td>\n      <td>NaN</td>\n      <td>NaN</td>\n      <td>NaN</td>\n      <td>NaN</td>\n      <td>NaN</td>\n      <td>NaN</td>\n      <td>NaN</td>\n      <td>...</td>\n      <td>15.44</td>\n      <td>56.62</td>\n      <td>75.97</td>\n      <td>94.94</td>\n      <td>99.36</td>\n      <td>106.45</td>\n      <td>105.02</td>\n      <td>99.30</td>\n      <td>96.07</td>\n      <td>2023-05-06 12:00:00</td>\n    </tr>\n    <tr>\n      <th>2023-05-08 00:00:00</th>\n      <td>NaN</td>\n      <td>NaN</td>\n      <td>NaN</td>\n      <td>NaN</td>\n      <td>NaN</td>\n      <td>NaN</td>\n      <td>NaN</td>\n      <td>NaN</td>\n      <td>NaN</td>\n      <td>NaN</td>\n      <td>...</td>\n      <td>78.00</td>\n      <td>84.01</td>\n      <td>97.05</td>\n      <td>110.04</td>\n      <td>132.90</td>\n      <td>128.41</td>\n      <td>121.99</td>\n      <td>112.56</td>\n      <td>99.38</td>\n      <td>2023-05-07 12:00:00</td>\n    </tr>\n    <tr>\n      <th>2023-05-09 00:00:00</th>\n      <td>NaN</td>\n      <td>NaN</td>\n      <td>NaN</td>\n      <td>NaN</td>\n      <td>NaN</td>\n      <td>NaN</td>\n      <td>NaN</td>\n      <td>NaN</td>\n      <td>NaN</td>\n      <td>NaN</td>\n      <td>...</td>\n      <td>80.80</td>\n      <td>84.44</td>\n      <td>100.06</td>\n      <td>116.34</td>\n      <td>121.93</td>\n      <td>121.05</td>\n      <td>110.97</td>\n      <td>104.67</td>\n      <td>89.93</td>\n      <td>2023-05-08 12:00:00</td>\n    </tr>\n  </tbody>\n</table>\n<p>140 rows × 145 columns</p>\n</div>"
     },
     "execution_count": 266,
     "metadata": {},
     "output_type": "execute_result"
    }
   ],
   "source": [
    "df"
   ],
   "metadata": {
    "collapsed": false,
    "ExecuteTime": {
     "end_time": "2023-05-08T14:52:03.644356Z",
     "start_time": "2023-05-08T14:52:03.638125Z"
    }
   }
  },
  {
   "cell_type": "code",
   "execution_count": 264,
   "outputs": [
    {
     "data": {
      "text/plain": "                     forecasted_load_hour_0  forecasted_load_hour_1   \n2023-03-01                              NaN                202201.0  \\\n2023-03-02                         210615.0                203958.0   \n2023-03-03                         209231.0                202353.0   \n2023-03-04                         208905.0                201157.0   \n2023-03-05                         184430.0                178168.0   \n...                                     ...                     ...   \n2023-05-05 00:00:00                     NaN                     NaN   \n2023-05-06 00:00:00                     NaN                     NaN   \n2023-05-07 00:00:00                     NaN                     NaN   \n2023-05-08 00:00:00                     NaN                     NaN   \n2023-05-09 00:00:00                     NaN                     NaN   \n\n                     forecasted_load_hour_2  forecasted_load_hour_3   \n2023-03-01                         199722.0                201209.0  \\\n2023-03-02                         201056.0                202722.0   \n2023-03-03                         200215.0                201846.0   \n2023-03-04                         197389.0                196285.0   \n2023-03-05                         174895.0                174166.0   \n...                                     ...                     ...   \n2023-05-05 00:00:00                     NaN                     NaN   \n2023-05-06 00:00:00                     NaN                     NaN   \n2023-05-07 00:00:00                     NaN                     NaN   \n2023-05-08 00:00:00                     NaN                     NaN   \n2023-05-09 00:00:00                     NaN                     NaN   \n\n                     forecasted_load_hour_4  forecasted_load_hour_5   \n2023-03-01                         205615.0                217546.0  \\\n2023-03-02                         207651.0                220122.0   \n2023-03-03                         207412.0                219564.0   \n2023-03-04                         196250.0                196526.0   \n2023-03-05                         174403.0                175287.0   \n...                                     ...                     ...   \n2023-05-05 00:00:00                     NaN                     NaN   \n2023-05-06 00:00:00                     NaN                     NaN   \n2023-05-07 00:00:00                     NaN                     NaN   \n2023-05-08 00:00:00                     NaN                     NaN   \n2023-05-09 00:00:00                     NaN                     NaN   \n\n                     forecasted_load_hour_6  forecasted_load_hour_7   \n2023-03-01                         242339.0                259557.0  \\\n2023-03-02                         245990.0                263352.0   \n2023-03-03                         242874.0                261214.0   \n2023-03-04                         201076.0                209615.0   \n2023-03-05                         175933.0                182501.0   \n...                                     ...                     ...   \n2023-05-05 00:00:00                     NaN                     NaN   \n2023-05-06 00:00:00                     NaN                     NaN   \n2023-05-07 00:00:00                     NaN                     NaN   \n2023-05-08 00:00:00                     NaN                     NaN   \n2023-05-09 00:00:00                     NaN                     NaN   \n\n                     forecasted_load_hour_8  forecasted_load_hour_9  ...   \n2023-03-01                         269253.0                273495.0  ...  \\\n2023-03-02                         273116.0                275667.0  ...   \n2023-03-03                         271378.0                273974.0  ...   \n2023-03-04                         221057.0                231850.0  ...   \n2023-03-05                         194247.0                206916.0  ...   \n...                                     ...                     ...  ...   \n2023-05-05 00:00:00                     NaN                     NaN  ...   \n2023-05-06 00:00:00                     NaN                     NaN  ...   \n2023-05-07 00:00:00                     NaN                     NaN  ...   \n2023-05-08 00:00:00                     NaN                     NaN  ...   \n2023-05-09 00:00:00                     NaN                     NaN  ...   \n\n                     actual_aggregated_hour_14  actual_aggregated_hour_15   \n2023-03-01                             65345.0                    62459.0  \\\n2023-03-02                             64766.0                    62527.0   \n2023-03-03                             63956.0                    63140.0   \n2023-03-04                             63282.0                    59050.0   \n2023-03-05                             53158.0                    51560.0   \n...                                        ...                        ...   \n2023-05-05 00:00:00                        NaN                        NaN   \n2023-05-06 00:00:00                        NaN                        NaN   \n2023-05-07 00:00:00                        NaN                        NaN   \n2023-05-08 00:00:00                        NaN                        NaN   \n2023-05-09 00:00:00                        NaN                        NaN   \n\n                     actual_aggregated_hour_16  actual_aggregated_hour_17   \n2023-03-01                             60284.0                    59173.0  \\\n2023-03-02                             59583.0                    57823.0   \n2023-03-03                             60778.0                    61207.0   \n2023-03-04                             56785.0                    57083.0   \n2023-03-05                             51022.0                    50149.0   \n...                                        ...                        ...   \n2023-05-05 00:00:00                        NaN                        NaN   \n2023-05-06 00:00:00                        NaN                        NaN   \n2023-05-07 00:00:00                        NaN                        NaN   \n2023-05-08 00:00:00                        NaN                        NaN   \n2023-05-09 00:00:00                        NaN                        NaN   \n\n                     actual_aggregated_hour_18  actual_aggregated_hour_19   \n2023-03-01                             59953.0                    61257.0  \\\n2023-03-02                             60239.0                    60564.0   \n2023-03-03                             64438.0                    65723.0   \n2023-03-04                             58042.0                    56685.0   \n2023-03-05                             51444.0                    51724.0   \n...                                        ...                        ...   \n2023-05-05 00:00:00                        NaN                        NaN   \n2023-05-06 00:00:00                        NaN                        NaN   \n2023-05-07 00:00:00                        NaN                        NaN   \n2023-05-08 00:00:00                        NaN                        NaN   \n2023-05-09 00:00:00                        NaN                        NaN   \n\n                     actual_aggregated_hour_20  actual_aggregated_hour_21   \n2023-03-01                             60815.0                    59067.0  \\\n2023-03-02                             58558.0                    56498.0   \n2023-03-03                             63449.0                    60150.0   \n2023-03-04                             53738.0                    51005.0   \n2023-03-05                             51493.0                    49932.0   \n...                                        ...                        ...   \n2023-05-05 00:00:00                        NaN                        NaN   \n2023-05-06 00:00:00                        NaN                        NaN   \n2023-05-07 00:00:00                        NaN                        NaN   \n2023-05-08 00:00:00                        NaN                        NaN   \n2023-05-09 00:00:00                        NaN                        NaN   \n\n                     actual_aggregated_hour_22  actual_aggregated_hour_23  \n2023-03-01                             55816.0                    52488.0  \n2023-03-02                             53556.0                    50519.0  \n2023-03-03                             56615.0                    55302.0  \n2023-03-04                             49924.0                    47419.0  \n2023-03-05                             49412.0                    46521.0  \n...                                        ...                        ...  \n2023-05-05 00:00:00                        NaN                        NaN  \n2023-05-06 00:00:00                        NaN                        NaN  \n2023-05-07 00:00:00                        NaN                        NaN  \n2023-05-08 00:00:00                        NaN                        NaN  \n2023-05-09 00:00:00                        NaN                        NaN  \n\n[140 rows x 145 columns]",
      "text/html": "<div>\n<style scoped>\n    .dataframe tbody tr th:only-of-type {\n        vertical-align: middle;\n    }\n\n    .dataframe tbody tr th {\n        vertical-align: top;\n    }\n\n    .dataframe thead th {\n        text-align: right;\n    }\n</style>\n<table border=\"1\" class=\"dataframe\">\n  <thead>\n    <tr style=\"text-align: right;\">\n      <th></th>\n      <th>forecasted_load_hour_0</th>\n      <th>forecasted_load_hour_1</th>\n      <th>forecasted_load_hour_2</th>\n      <th>forecasted_load_hour_3</th>\n      <th>forecasted_load_hour_4</th>\n      <th>forecasted_load_hour_5</th>\n      <th>forecasted_load_hour_6</th>\n      <th>forecasted_load_hour_7</th>\n      <th>forecasted_load_hour_8</th>\n      <th>forecasted_load_hour_9</th>\n      <th>...</th>\n      <th>actual_aggregated_hour_14</th>\n      <th>actual_aggregated_hour_15</th>\n      <th>actual_aggregated_hour_16</th>\n      <th>actual_aggregated_hour_17</th>\n      <th>actual_aggregated_hour_18</th>\n      <th>actual_aggregated_hour_19</th>\n      <th>actual_aggregated_hour_20</th>\n      <th>actual_aggregated_hour_21</th>\n      <th>actual_aggregated_hour_22</th>\n      <th>actual_aggregated_hour_23</th>\n    </tr>\n  </thead>\n  <tbody>\n    <tr>\n      <th>2023-03-01</th>\n      <td>NaN</td>\n      <td>202201.0</td>\n      <td>199722.0</td>\n      <td>201209.0</td>\n      <td>205615.0</td>\n      <td>217546.0</td>\n      <td>242339.0</td>\n      <td>259557.0</td>\n      <td>269253.0</td>\n      <td>273495.0</td>\n      <td>...</td>\n      <td>65345.0</td>\n      <td>62459.0</td>\n      <td>60284.0</td>\n      <td>59173.0</td>\n      <td>59953.0</td>\n      <td>61257.0</td>\n      <td>60815.0</td>\n      <td>59067.0</td>\n      <td>55816.0</td>\n      <td>52488.0</td>\n    </tr>\n    <tr>\n      <th>2023-03-02</th>\n      <td>210615.0</td>\n      <td>203958.0</td>\n      <td>201056.0</td>\n      <td>202722.0</td>\n      <td>207651.0</td>\n      <td>220122.0</td>\n      <td>245990.0</td>\n      <td>263352.0</td>\n      <td>273116.0</td>\n      <td>275667.0</td>\n      <td>...</td>\n      <td>64766.0</td>\n      <td>62527.0</td>\n      <td>59583.0</td>\n      <td>57823.0</td>\n      <td>60239.0</td>\n      <td>60564.0</td>\n      <td>58558.0</td>\n      <td>56498.0</td>\n      <td>53556.0</td>\n      <td>50519.0</td>\n    </tr>\n    <tr>\n      <th>2023-03-03</th>\n      <td>209231.0</td>\n      <td>202353.0</td>\n      <td>200215.0</td>\n      <td>201846.0</td>\n      <td>207412.0</td>\n      <td>219564.0</td>\n      <td>242874.0</td>\n      <td>261214.0</td>\n      <td>271378.0</td>\n      <td>273974.0</td>\n      <td>...</td>\n      <td>63956.0</td>\n      <td>63140.0</td>\n      <td>60778.0</td>\n      <td>61207.0</td>\n      <td>64438.0</td>\n      <td>65723.0</td>\n      <td>63449.0</td>\n      <td>60150.0</td>\n      <td>56615.0</td>\n      <td>55302.0</td>\n    </tr>\n    <tr>\n      <th>2023-03-04</th>\n      <td>208905.0</td>\n      <td>201157.0</td>\n      <td>197389.0</td>\n      <td>196285.0</td>\n      <td>196250.0</td>\n      <td>196526.0</td>\n      <td>201076.0</td>\n      <td>209615.0</td>\n      <td>221057.0</td>\n      <td>231850.0</td>\n      <td>...</td>\n      <td>63282.0</td>\n      <td>59050.0</td>\n      <td>56785.0</td>\n      <td>57083.0</td>\n      <td>58042.0</td>\n      <td>56685.0</td>\n      <td>53738.0</td>\n      <td>51005.0</td>\n      <td>49924.0</td>\n      <td>47419.0</td>\n    </tr>\n    <tr>\n      <th>2023-03-05</th>\n      <td>184430.0</td>\n      <td>178168.0</td>\n      <td>174895.0</td>\n      <td>174166.0</td>\n      <td>174403.0</td>\n      <td>175287.0</td>\n      <td>175933.0</td>\n      <td>182501.0</td>\n      <td>194247.0</td>\n      <td>206916.0</td>\n      <td>...</td>\n      <td>53158.0</td>\n      <td>51560.0</td>\n      <td>51022.0</td>\n      <td>50149.0</td>\n      <td>51444.0</td>\n      <td>51724.0</td>\n      <td>51493.0</td>\n      <td>49932.0</td>\n      <td>49412.0</td>\n      <td>46521.0</td>\n    </tr>\n    <tr>\n      <th>...</th>\n      <td>...</td>\n      <td>...</td>\n      <td>...</td>\n      <td>...</td>\n      <td>...</td>\n      <td>...</td>\n      <td>...</td>\n      <td>...</td>\n      <td>...</td>\n      <td>...</td>\n      <td>...</td>\n      <td>...</td>\n      <td>...</td>\n      <td>...</td>\n      <td>...</td>\n      <td>...</td>\n      <td>...</td>\n      <td>...</td>\n      <td>...</td>\n      <td>...</td>\n      <td>...</td>\n    </tr>\n    <tr>\n      <th>2023-05-05 00:00:00</th>\n      <td>NaN</td>\n      <td>NaN</td>\n      <td>NaN</td>\n      <td>NaN</td>\n      <td>NaN</td>\n      <td>NaN</td>\n      <td>NaN</td>\n      <td>NaN</td>\n      <td>NaN</td>\n      <td>NaN</td>\n      <td>...</td>\n      <td>NaN</td>\n      <td>NaN</td>\n      <td>NaN</td>\n      <td>NaN</td>\n      <td>NaN</td>\n      <td>NaN</td>\n      <td>NaN</td>\n      <td>NaN</td>\n      <td>NaN</td>\n      <td>NaN</td>\n    </tr>\n    <tr>\n      <th>2023-05-06 00:00:00</th>\n      <td>NaN</td>\n      <td>NaN</td>\n      <td>NaN</td>\n      <td>NaN</td>\n      <td>NaN</td>\n      <td>NaN</td>\n      <td>NaN</td>\n      <td>NaN</td>\n      <td>NaN</td>\n      <td>NaN</td>\n      <td>...</td>\n      <td>NaN</td>\n      <td>NaN</td>\n      <td>NaN</td>\n      <td>NaN</td>\n      <td>NaN</td>\n      <td>NaN</td>\n      <td>NaN</td>\n      <td>NaN</td>\n      <td>NaN</td>\n      <td>NaN</td>\n    </tr>\n    <tr>\n      <th>2023-05-07 00:00:00</th>\n      <td>NaN</td>\n      <td>NaN</td>\n      <td>NaN</td>\n      <td>NaN</td>\n      <td>NaN</td>\n      <td>NaN</td>\n      <td>NaN</td>\n      <td>NaN</td>\n      <td>NaN</td>\n      <td>NaN</td>\n      <td>...</td>\n      <td>NaN</td>\n      <td>NaN</td>\n      <td>NaN</td>\n      <td>NaN</td>\n      <td>NaN</td>\n      <td>NaN</td>\n      <td>NaN</td>\n      <td>NaN</td>\n      <td>NaN</td>\n      <td>NaN</td>\n    </tr>\n    <tr>\n      <th>2023-05-08 00:00:00</th>\n      <td>NaN</td>\n      <td>NaN</td>\n      <td>NaN</td>\n      <td>NaN</td>\n      <td>NaN</td>\n      <td>NaN</td>\n      <td>NaN</td>\n      <td>NaN</td>\n      <td>NaN</td>\n      <td>NaN</td>\n      <td>...</td>\n      <td>NaN</td>\n      <td>NaN</td>\n      <td>NaN</td>\n      <td>NaN</td>\n      <td>NaN</td>\n      <td>NaN</td>\n      <td>NaN</td>\n      <td>NaN</td>\n      <td>NaN</td>\n      <td>NaN</td>\n    </tr>\n    <tr>\n      <th>2023-05-09 00:00:00</th>\n      <td>NaN</td>\n      <td>NaN</td>\n      <td>NaN</td>\n      <td>NaN</td>\n      <td>NaN</td>\n      <td>NaN</td>\n      <td>NaN</td>\n      <td>NaN</td>\n      <td>NaN</td>\n      <td>NaN</td>\n      <td>...</td>\n      <td>NaN</td>\n      <td>NaN</td>\n      <td>NaN</td>\n      <td>NaN</td>\n      <td>NaN</td>\n      <td>NaN</td>\n      <td>NaN</td>\n      <td>NaN</td>\n      <td>NaN</td>\n      <td>NaN</td>\n    </tr>\n  </tbody>\n</table>\n<p>140 rows × 145 columns</p>\n</div>"
     },
     "execution_count": 264,
     "metadata": {},
     "output_type": "execute_result"
    }
   ],
   "source": [
    "df"
   ],
   "metadata": {
    "collapsed": false,
    "ExecuteTime": {
     "end_time": "2023-05-08T14:51:42.098533Z",
     "start_time": "2023-05-08T14:51:42.094912Z"
    }
   }
  },
  {
   "cell_type": "code",
   "execution_count": null,
   "outputs": [],
   "source": [],
   "metadata": {
    "collapsed": false
   }
  },
  {
   "cell_type": "markdown",
   "source": [
    "# Bedeutung der einzelnen Variablen\n",
    "- Forecasted Load:\n",
    "- Solar\n",
    "- Wind Offshore:\n",
    "- Wind Onshore:\n",
    "- day ahead market price: EUR/MWh\n"
   ],
   "metadata": {
    "collapsed": false
   }
  },
  {
   "cell_type": "code",
   "execution_count": null,
   "outputs": [],
   "source": [],
   "metadata": {
    "collapsed": false
   }
  }
 ],
 "metadata": {
  "kernelspec": {
   "display_name": "Python 3",
   "language": "python",
   "name": "python3"
  },
  "language_info": {
   "codemirror_mode": {
    "name": "ipython",
    "version": 2
   },
   "file_extension": ".py",
   "mimetype": "text/x-python",
   "name": "python",
   "nbconvert_exporter": "python",
   "pygments_lexer": "ipython2",
   "version": "2.7.6"
  }
 },
 "nbformat": 4,
 "nbformat_minor": 0
}
